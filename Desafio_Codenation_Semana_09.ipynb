{
  "nbformat": 4,
  "nbformat_minor": 0,
  "metadata": {
    "colab": {
      "name": "Desafio_Codenation_Semana_09.ipynb",
      "provenance": [],
      "collapsed_sections": [],
      "toc_visible": true,
      "authorship_tag": "ABX9TyPgcTjo7eZehx5ASejWHvHM",
      "include_colab_link": true
    },
    "kernelspec": {
      "name": "python3",
      "display_name": "Python 3"
    }
  },
  "cells": [
    {
      "cell_type": "markdown",
      "metadata": {
        "id": "view-in-github",
        "colab_type": "text"
      },
      "source": [
        "<a href=\"https://colab.research.google.com/github/ClarisseAlvarenga/codenation_aceleradev_ds/blob/master/Desafio_Codenation_Semana_09.ipynb\" target=\"_parent\"><img src=\"https://colab.research.google.com/assets/colab-badge.svg\" alt=\"Open In Colab\"/></a>"
      ]
    },
    {
      "cell_type": "markdown",
      "metadata": {
        "id": "jlmmBLDFy75C",
        "colab_type": "text"
      },
      "source": [
        "# DESAFIO - QUEM ESTÁ FAZENDO O ENEM SÓ PARA TREINO?\n",
        "\n"
      ]
    },
    {
      "cell_type": "markdown",
      "metadata": {
        "id": "r3EK28Q3zJpu",
        "colab_type": "text"
      },
      "source": [
        "**Detalhes**\n",
        "\n",
        "O contexto do desafio gira em torno dos resultados do ENEM 2016 (disponíveis no arquivo train.csv). Este arquivo, e apenas ele, deve ser utilizado para todos os desafios. Qualquer dúvida a respeito das colunas, consulte o Dicionário dos Microdados do Enem 2016.\n",
        "\n",
        "Alguns estudantes decidem realizar prova do ENEM de forma precoce, como um teste (coluna IN_TREINEIRO). Neste desafio, você deve criar um modelo de classificação binária para inferir a mesma. Os resultados possíveis da sua resposta devem ser “0” ou “1”.\n",
        "\n",
        "Salve sua resposta em um arquivo chamado answer.csv com duas colunas: NU_INSCRICAO e IN_TREINEIRO."
      ]
    },
    {
      "cell_type": "markdown",
      "metadata": {
        "id": "0n1pCPfN0ww2",
        "colab_type": "text"
      },
      "source": [
        "## IMPORTANDO AS BIBLIOTECAS"
      ]
    },
    {
      "cell_type": "code",
      "metadata": {
        "id": "jgvjllF20z37",
        "colab_type": "code",
        "colab": {
          "base_uri": "https://localhost:8080/",
          "height": 139
        },
        "outputId": "c8ab63fa-19b0-4684-ab77-b3df6d367442"
      },
      "source": [
        "#USANDO AS BIBLIOTECAS DO NOTEBOOK DA CODENATION\n",
        "import functools\n",
        "from math import sqrt\n",
        "\n",
        "import pandas as pd\n",
        "import matplotlib.pyplot as plt\n",
        "import numpy as np\n",
        "import statsmodels.api as sm\n",
        "import scipy.stats as sct\n",
        "import seaborn as sns\n",
        "from imblearn.over_sampling import SMOTE\n",
        "from sklearn.datasets import make_blobs, make_classification\n",
        "from sklearn.decomposition import PCA\n",
        "from sklearn.ensemble import BaggingClassifier, RandomForestClassifier\n",
        "from sklearn.linear_model import LogisticRegression\n",
        "from sklearn.model_selection import train_test_split\n",
        "from sklearn.neighbors import KNeighborsClassifier\n",
        "from sklearn.tree import DecisionTreeClassifier, plot_tree"
      ],
      "execution_count": 1,
      "outputs": [
        {
          "output_type": "stream",
          "text": [
            "/usr/local/lib/python3.6/dist-packages/statsmodels/tools/_testing.py:19: FutureWarning: pandas.util.testing is deprecated. Use the functions in the public API at pandas.testing instead.\n",
            "  import pandas.util.testing as tm\n",
            "/usr/local/lib/python3.6/dist-packages/sklearn/externals/six.py:31: FutureWarning: The module is deprecated in version 0.21 and will be removed in version 0.23 since we've dropped support for Python 2.7. Please rely on the official version of six (https://pypi.org/project/six/).\n",
            "  \"(https://pypi.org/project/six/).\", FutureWarning)\n",
            "/usr/local/lib/python3.6/dist-packages/sklearn/utils/deprecation.py:144: FutureWarning: The sklearn.neighbors.base module is  deprecated in version 0.22 and will be removed in version 0.24. The corresponding classes / functions should instead be imported from sklearn.neighbors. Anything that cannot be imported from sklearn.neighbors is now part of the private API.\n",
            "  warnings.warn(message, FutureWarning)\n"
          ],
          "name": "stderr"
        }
      ]
    },
    {
      "cell_type": "markdown",
      "metadata": {
        "id": "xtfRVRaU0muC",
        "colab_type": "text"
      },
      "source": [
        "## ANÁLISE EXPLORATÓRIA"
      ]
    },
    {
      "cell_type": "code",
      "metadata": {
        "id": "hJBFrsrG_has",
        "colab_type": "code",
        "colab": {}
      },
      "source": [
        "#definindo uma seed\n",
        "np.random.seed(1000)"
      ],
      "execution_count": 2,
      "outputs": []
    },
    {
      "cell_type": "code",
      "metadata": {
        "id": "sIxthbvty1Tr",
        "colab_type": "code",
        "colab": {}
      },
      "source": [
        "#Conhecendo o DATASET de Treino\n",
        "treino = pd.read_csv('train.csv')"
      ],
      "execution_count": 3,
      "outputs": []
    },
    {
      "cell_type": "code",
      "metadata": {
        "id": "_G6eWhG01Dmh",
        "colab_type": "code",
        "colab": {
          "base_uri": "https://localhost:8080/",
          "height": 270
        },
        "outputId": "fa6f1400-d87e-4051-bb25-cd460ddfe8e6"
      },
      "source": [
        "treino.head()"
      ],
      "execution_count": 4,
      "outputs": [
        {
          "output_type": "execute_result",
          "data": {
            "text/html": [
              "<div>\n",
              "<style scoped>\n",
              "    .dataframe tbody tr th:only-of-type {\n",
              "        vertical-align: middle;\n",
              "    }\n",
              "\n",
              "    .dataframe tbody tr th {\n",
              "        vertical-align: top;\n",
              "    }\n",
              "\n",
              "    .dataframe thead th {\n",
              "        text-align: right;\n",
              "    }\n",
              "</style>\n",
              "<table border=\"1\" class=\"dataframe\">\n",
              "  <thead>\n",
              "    <tr style=\"text-align: right;\">\n",
              "      <th></th>\n",
              "      <th>Unnamed: 0</th>\n",
              "      <th>NU_INSCRICAO</th>\n",
              "      <th>NU_ANO</th>\n",
              "      <th>CO_MUNICIPIO_RESIDENCIA</th>\n",
              "      <th>NO_MUNICIPIO_RESIDENCIA</th>\n",
              "      <th>CO_UF_RESIDENCIA</th>\n",
              "      <th>SG_UF_RESIDENCIA</th>\n",
              "      <th>NU_IDADE</th>\n",
              "      <th>TP_SEXO</th>\n",
              "      <th>TP_ESTADO_CIVIL</th>\n",
              "      <th>TP_COR_RACA</th>\n",
              "      <th>TP_NACIONALIDADE</th>\n",
              "      <th>CO_MUNICIPIO_NASCIMENTO</th>\n",
              "      <th>NO_MUNICIPIO_NASCIMENTO</th>\n",
              "      <th>CO_UF_NASCIMENTO</th>\n",
              "      <th>SG_UF_NASCIMENTO</th>\n",
              "      <th>TP_ST_CONCLUSAO</th>\n",
              "      <th>TP_ANO_CONCLUIU</th>\n",
              "      <th>TP_ESCOLA</th>\n",
              "      <th>TP_ENSINO</th>\n",
              "      <th>IN_TREINEIRO</th>\n",
              "      <th>CO_ESCOLA</th>\n",
              "      <th>CO_MUNICIPIO_ESC</th>\n",
              "      <th>NO_MUNICIPIO_ESC</th>\n",
              "      <th>CO_UF_ESC</th>\n",
              "      <th>SG_UF_ESC</th>\n",
              "      <th>TP_DEPENDENCIA_ADM_ESC</th>\n",
              "      <th>TP_LOCALIZACAO_ESC</th>\n",
              "      <th>TP_SIT_FUNC_ESC</th>\n",
              "      <th>IN_BAIXA_VISAO</th>\n",
              "      <th>IN_CEGUEIRA</th>\n",
              "      <th>IN_SURDEZ</th>\n",
              "      <th>IN_DEFICIENCIA_AUDITIVA</th>\n",
              "      <th>IN_SURDO_CEGUEIRA</th>\n",
              "      <th>IN_DEFICIENCIA_FISICA</th>\n",
              "      <th>IN_DEFICIENCIA_MENTAL</th>\n",
              "      <th>IN_DEFICIT_ATENCAO</th>\n",
              "      <th>IN_DISLEXIA</th>\n",
              "      <th>IN_DISCALCULIA</th>\n",
              "      <th>IN_AUTISMO</th>\n",
              "      <th>...</th>\n",
              "      <th>Q011</th>\n",
              "      <th>Q012</th>\n",
              "      <th>Q013</th>\n",
              "      <th>Q014</th>\n",
              "      <th>Q015</th>\n",
              "      <th>Q016</th>\n",
              "      <th>Q017</th>\n",
              "      <th>Q018</th>\n",
              "      <th>Q019</th>\n",
              "      <th>Q020</th>\n",
              "      <th>Q021</th>\n",
              "      <th>Q022</th>\n",
              "      <th>Q023</th>\n",
              "      <th>Q024</th>\n",
              "      <th>Q025</th>\n",
              "      <th>Q026</th>\n",
              "      <th>Q027</th>\n",
              "      <th>Q028</th>\n",
              "      <th>Q029</th>\n",
              "      <th>Q030</th>\n",
              "      <th>Q031</th>\n",
              "      <th>Q032</th>\n",
              "      <th>Q033</th>\n",
              "      <th>Q034</th>\n",
              "      <th>Q035</th>\n",
              "      <th>Q036</th>\n",
              "      <th>Q037</th>\n",
              "      <th>Q038</th>\n",
              "      <th>Q039</th>\n",
              "      <th>Q040</th>\n",
              "      <th>Q041</th>\n",
              "      <th>Q042</th>\n",
              "      <th>Q043</th>\n",
              "      <th>Q044</th>\n",
              "      <th>Q045</th>\n",
              "      <th>Q046</th>\n",
              "      <th>Q047</th>\n",
              "      <th>Q048</th>\n",
              "      <th>Q049</th>\n",
              "      <th>Q050</th>\n",
              "    </tr>\n",
              "  </thead>\n",
              "  <tbody>\n",
              "    <tr>\n",
              "      <th>0</th>\n",
              "      <td>1</td>\n",
              "      <td>ed50e8aaa58e7a806c337585efee9ca41f1eb1ad</td>\n",
              "      <td>2016</td>\n",
              "      <td>4314902</td>\n",
              "      <td>Porto Alegre</td>\n",
              "      <td>43</td>\n",
              "      <td>RS</td>\n",
              "      <td>24</td>\n",
              "      <td>M</td>\n",
              "      <td>0.0</td>\n",
              "      <td>1</td>\n",
              "      <td>1</td>\n",
              "      <td>4314902.0</td>\n",
              "      <td>Porto Alegre</td>\n",
              "      <td>43.0</td>\n",
              "      <td>RS</td>\n",
              "      <td>1</td>\n",
              "      <td>4</td>\n",
              "      <td>1</td>\n",
              "      <td>NaN</td>\n",
              "      <td>0</td>\n",
              "      <td>NaN</td>\n",
              "      <td>NaN</td>\n",
              "      <td>NaN</td>\n",
              "      <td>NaN</td>\n",
              "      <td>NaN</td>\n",
              "      <td>NaN</td>\n",
              "      <td>NaN</td>\n",
              "      <td>NaN</td>\n",
              "      <td>0</td>\n",
              "      <td>0</td>\n",
              "      <td>0</td>\n",
              "      <td>0</td>\n",
              "      <td>0</td>\n",
              "      <td>0</td>\n",
              "      <td>0</td>\n",
              "      <td>0</td>\n",
              "      <td>0</td>\n",
              "      <td>0</td>\n",
              "      <td>0</td>\n",
              "      <td>...</td>\n",
              "      <td>A</td>\n",
              "      <td>B</td>\n",
              "      <td>A</td>\n",
              "      <td>A</td>\n",
              "      <td>A</td>\n",
              "      <td>A</td>\n",
              "      <td>A</td>\n",
              "      <td>A</td>\n",
              "      <td>B</td>\n",
              "      <td>A</td>\n",
              "      <td>A</td>\n",
              "      <td>C</td>\n",
              "      <td>A</td>\n",
              "      <td>A</td>\n",
              "      <td>A</td>\n",
              "      <td>C</td>\n",
              "      <td>H</td>\n",
              "      <td>E</td>\n",
              "      <td>5.0</td>\n",
              "      <td>5.0</td>\n",
              "      <td>1.0</td>\n",
              "      <td>0.0</td>\n",
              "      <td>0.0</td>\n",
              "      <td>5</td>\n",
              "      <td>5</td>\n",
              "      <td>0</td>\n",
              "      <td>5</td>\n",
              "      <td>5</td>\n",
              "      <td>5</td>\n",
              "      <td>5</td>\n",
              "      <td>5.0</td>\n",
              "      <td>A</td>\n",
              "      <td>A</td>\n",
              "      <td>A</td>\n",
              "      <td>A</td>\n",
              "      <td>A</td>\n",
              "      <td>A</td>\n",
              "      <td>A</td>\n",
              "      <td>B</td>\n",
              "      <td>D</td>\n",
              "    </tr>\n",
              "    <tr>\n",
              "      <th>1</th>\n",
              "      <td>2</td>\n",
              "      <td>2c3acac4b33ec2b195d77e7c04a2d75727fad723</td>\n",
              "      <td>2016</td>\n",
              "      <td>2304707</td>\n",
              "      <td>Granja</td>\n",
              "      <td>23</td>\n",
              "      <td>CE</td>\n",
              "      <td>17</td>\n",
              "      <td>F</td>\n",
              "      <td>0.0</td>\n",
              "      <td>3</td>\n",
              "      <td>1</td>\n",
              "      <td>2304707.0</td>\n",
              "      <td>Granja</td>\n",
              "      <td>23.0</td>\n",
              "      <td>CE</td>\n",
              "      <td>2</td>\n",
              "      <td>0</td>\n",
              "      <td>2</td>\n",
              "      <td>1.0</td>\n",
              "      <td>0</td>\n",
              "      <td>23005157.0</td>\n",
              "      <td>2304707.0</td>\n",
              "      <td>Granja</td>\n",
              "      <td>23.0</td>\n",
              "      <td>CE</td>\n",
              "      <td>2.0</td>\n",
              "      <td>1.0</td>\n",
              "      <td>1.0</td>\n",
              "      <td>0</td>\n",
              "      <td>0</td>\n",
              "      <td>0</td>\n",
              "      <td>0</td>\n",
              "      <td>0</td>\n",
              "      <td>0</td>\n",
              "      <td>0</td>\n",
              "      <td>0</td>\n",
              "      <td>0</td>\n",
              "      <td>0</td>\n",
              "      <td>0</td>\n",
              "      <td>...</td>\n",
              "      <td>A</td>\n",
              "      <td>B</td>\n",
              "      <td>A</td>\n",
              "      <td>A</td>\n",
              "      <td>A</td>\n",
              "      <td>A</td>\n",
              "      <td>A</td>\n",
              "      <td>A</td>\n",
              "      <td>B</td>\n",
              "      <td>A</td>\n",
              "      <td>A</td>\n",
              "      <td>A</td>\n",
              "      <td>A</td>\n",
              "      <td>A</td>\n",
              "      <td>A</td>\n",
              "      <td>A</td>\n",
              "      <td>NaN</td>\n",
              "      <td>NaN</td>\n",
              "      <td>NaN</td>\n",
              "      <td>NaN</td>\n",
              "      <td>NaN</td>\n",
              "      <td>NaN</td>\n",
              "      <td>NaN</td>\n",
              "      <td>5</td>\n",
              "      <td>5</td>\n",
              "      <td>1</td>\n",
              "      <td>1</td>\n",
              "      <td>1</td>\n",
              "      <td>1</td>\n",
              "      <td>1</td>\n",
              "      <td>NaN</td>\n",
              "      <td>A</td>\n",
              "      <td>A</td>\n",
              "      <td>C</td>\n",
              "      <td>A</td>\n",
              "      <td>B</td>\n",
              "      <td>A</td>\n",
              "      <td>A</td>\n",
              "      <td>C</td>\n",
              "      <td>A</td>\n",
              "    </tr>\n",
              "    <tr>\n",
              "      <th>2</th>\n",
              "      <td>3</td>\n",
              "      <td>f4545f8ccb9ff5c8aad7d32951b3f251a26e6568</td>\n",
              "      <td>2016</td>\n",
              "      <td>2304400</td>\n",
              "      <td>Fortaleza</td>\n",
              "      <td>23</td>\n",
              "      <td>CE</td>\n",
              "      <td>21</td>\n",
              "      <td>F</td>\n",
              "      <td>0.0</td>\n",
              "      <td>3</td>\n",
              "      <td>1</td>\n",
              "      <td>2304400.0</td>\n",
              "      <td>Fortaleza</td>\n",
              "      <td>23.0</td>\n",
              "      <td>CE</td>\n",
              "      <td>3</td>\n",
              "      <td>0</td>\n",
              "      <td>1</td>\n",
              "      <td>NaN</td>\n",
              "      <td>0</td>\n",
              "      <td>NaN</td>\n",
              "      <td>NaN</td>\n",
              "      <td>NaN</td>\n",
              "      <td>NaN</td>\n",
              "      <td>NaN</td>\n",
              "      <td>NaN</td>\n",
              "      <td>NaN</td>\n",
              "      <td>NaN</td>\n",
              "      <td>0</td>\n",
              "      <td>0</td>\n",
              "      <td>0</td>\n",
              "      <td>0</td>\n",
              "      <td>0</td>\n",
              "      <td>0</td>\n",
              "      <td>0</td>\n",
              "      <td>0</td>\n",
              "      <td>0</td>\n",
              "      <td>0</td>\n",
              "      <td>0</td>\n",
              "      <td>...</td>\n",
              "      <td>A</td>\n",
              "      <td>B</td>\n",
              "      <td>A</td>\n",
              "      <td>A</td>\n",
              "      <td>A</td>\n",
              "      <td>A</td>\n",
              "      <td>A</td>\n",
              "      <td>A</td>\n",
              "      <td>B</td>\n",
              "      <td>A</td>\n",
              "      <td>A</td>\n",
              "      <td>B</td>\n",
              "      <td>A</td>\n",
              "      <td>A</td>\n",
              "      <td>A</td>\n",
              "      <td>A</td>\n",
              "      <td>NaN</td>\n",
              "      <td>NaN</td>\n",
              "      <td>NaN</td>\n",
              "      <td>NaN</td>\n",
              "      <td>NaN</td>\n",
              "      <td>NaN</td>\n",
              "      <td>NaN</td>\n",
              "      <td>5</td>\n",
              "      <td>5</td>\n",
              "      <td>5</td>\n",
              "      <td>5</td>\n",
              "      <td>5</td>\n",
              "      <td>5</td>\n",
              "      <td>5</td>\n",
              "      <td>NaN</td>\n",
              "      <td>A</td>\n",
              "      <td>A</td>\n",
              "      <td>A</td>\n",
              "      <td>A</td>\n",
              "      <td>C</td>\n",
              "      <td>A</td>\n",
              "      <td>A</td>\n",
              "      <td>B</td>\n",
              "      <td>A</td>\n",
              "    </tr>\n",
              "    <tr>\n",
              "      <th>3</th>\n",
              "      <td>4</td>\n",
              "      <td>3d6ec248fef899c414e77f82d5c6d2bffbeaf7fe</td>\n",
              "      <td>2016</td>\n",
              "      <td>3304557</td>\n",
              "      <td>Rio de Janeiro</td>\n",
              "      <td>33</td>\n",
              "      <td>RJ</td>\n",
              "      <td>25</td>\n",
              "      <td>F</td>\n",
              "      <td>0.0</td>\n",
              "      <td>0</td>\n",
              "      <td>1</td>\n",
              "      <td>3304557.0</td>\n",
              "      <td>Rio de Janeiro</td>\n",
              "      <td>33.0</td>\n",
              "      <td>RJ</td>\n",
              "      <td>1</td>\n",
              "      <td>9</td>\n",
              "      <td>1</td>\n",
              "      <td>NaN</td>\n",
              "      <td>0</td>\n",
              "      <td>NaN</td>\n",
              "      <td>NaN</td>\n",
              "      <td>NaN</td>\n",
              "      <td>NaN</td>\n",
              "      <td>NaN</td>\n",
              "      <td>NaN</td>\n",
              "      <td>NaN</td>\n",
              "      <td>NaN</td>\n",
              "      <td>0</td>\n",
              "      <td>0</td>\n",
              "      <td>0</td>\n",
              "      <td>0</td>\n",
              "      <td>0</td>\n",
              "      <td>0</td>\n",
              "      <td>0</td>\n",
              "      <td>0</td>\n",
              "      <td>0</td>\n",
              "      <td>0</td>\n",
              "      <td>0</td>\n",
              "      <td>...</td>\n",
              "      <td>A</td>\n",
              "      <td>B</td>\n",
              "      <td>B</td>\n",
              "      <td>B</td>\n",
              "      <td>A</td>\n",
              "      <td>B</td>\n",
              "      <td>A</td>\n",
              "      <td>B</td>\n",
              "      <td>C</td>\n",
              "      <td>A</td>\n",
              "      <td>B</td>\n",
              "      <td>D</td>\n",
              "      <td>B</td>\n",
              "      <td>C</td>\n",
              "      <td>B</td>\n",
              "      <td>C</td>\n",
              "      <td>F</td>\n",
              "      <td>C</td>\n",
              "      <td>2.0</td>\n",
              "      <td>0.0</td>\n",
              "      <td>5.0</td>\n",
              "      <td>5.0</td>\n",
              "      <td>5.0</td>\n",
              "      <td>5</td>\n",
              "      <td>5</td>\n",
              "      <td>5</td>\n",
              "      <td>5</td>\n",
              "      <td>2</td>\n",
              "      <td>5</td>\n",
              "      <td>5</td>\n",
              "      <td>5.0</td>\n",
              "      <td>C</td>\n",
              "      <td>A</td>\n",
              "      <td>A</td>\n",
              "      <td>A</td>\n",
              "      <td>A</td>\n",
              "      <td>D</td>\n",
              "      <td>A</td>\n",
              "      <td>A</td>\n",
              "      <td>A</td>\n",
              "    </tr>\n",
              "    <tr>\n",
              "      <th>4</th>\n",
              "      <td>5</td>\n",
              "      <td>bf896ac8d3ecadd6dba1dfbf50110afcbf5d3268</td>\n",
              "      <td>2016</td>\n",
              "      <td>1302603</td>\n",
              "      <td>Manaus</td>\n",
              "      <td>13</td>\n",
              "      <td>AM</td>\n",
              "      <td>28</td>\n",
              "      <td>M</td>\n",
              "      <td>0.0</td>\n",
              "      <td>2</td>\n",
              "      <td>1</td>\n",
              "      <td>1505304.0</td>\n",
              "      <td>Oriximiná</td>\n",
              "      <td>15.0</td>\n",
              "      <td>PA</td>\n",
              "      <td>1</td>\n",
              "      <td>4</td>\n",
              "      <td>1</td>\n",
              "      <td>NaN</td>\n",
              "      <td>0</td>\n",
              "      <td>NaN</td>\n",
              "      <td>NaN</td>\n",
              "      <td>NaN</td>\n",
              "      <td>NaN</td>\n",
              "      <td>NaN</td>\n",
              "      <td>NaN</td>\n",
              "      <td>NaN</td>\n",
              "      <td>NaN</td>\n",
              "      <td>0</td>\n",
              "      <td>0</td>\n",
              "      <td>0</td>\n",
              "      <td>0</td>\n",
              "      <td>0</td>\n",
              "      <td>0</td>\n",
              "      <td>0</td>\n",
              "      <td>0</td>\n",
              "      <td>0</td>\n",
              "      <td>0</td>\n",
              "      <td>0</td>\n",
              "      <td>...</td>\n",
              "      <td>A</td>\n",
              "      <td>B</td>\n",
              "      <td>A</td>\n",
              "      <td>B</td>\n",
              "      <td>A</td>\n",
              "      <td>A</td>\n",
              "      <td>A</td>\n",
              "      <td>A</td>\n",
              "      <td>B</td>\n",
              "      <td>A</td>\n",
              "      <td>A</td>\n",
              "      <td>B</td>\n",
              "      <td>A</td>\n",
              "      <td>A</td>\n",
              "      <td>A</td>\n",
              "      <td>B</td>\n",
              "      <td>F</td>\n",
              "      <td>D</td>\n",
              "      <td>5.0</td>\n",
              "      <td>4.0</td>\n",
              "      <td>3.0</td>\n",
              "      <td>5.0</td>\n",
              "      <td>4.0</td>\n",
              "      <td>5</td>\n",
              "      <td>5</td>\n",
              "      <td>4</td>\n",
              "      <td>3</td>\n",
              "      <td>1</td>\n",
              "      <td>4</td>\n",
              "      <td>5</td>\n",
              "      <td>NaN</td>\n",
              "      <td>A</td>\n",
              "      <td>A</td>\n",
              "      <td>A</td>\n",
              "      <td>A</td>\n",
              "      <td>A</td>\n",
              "      <td>A</td>\n",
              "      <td>A</td>\n",
              "      <td>A</td>\n",
              "      <td>A</td>\n",
              "    </tr>\n",
              "  </tbody>\n",
              "</table>\n",
              "<p>5 rows × 167 columns</p>\n",
              "</div>"
            ],
            "text/plain": [
              "   Unnamed: 0                              NU_INSCRICAO  ...  Q049  Q050\n",
              "0           1  ed50e8aaa58e7a806c337585efee9ca41f1eb1ad  ...     B     D\n",
              "1           2  2c3acac4b33ec2b195d77e7c04a2d75727fad723  ...     C     A\n",
              "2           3  f4545f8ccb9ff5c8aad7d32951b3f251a26e6568  ...     B     A\n",
              "3           4  3d6ec248fef899c414e77f82d5c6d2bffbeaf7fe  ...     A     A\n",
              "4           5  bf896ac8d3ecadd6dba1dfbf50110afcbf5d3268  ...     A     A\n",
              "\n",
              "[5 rows x 167 columns]"
            ]
          },
          "metadata": {
            "tags": []
          },
          "execution_count": 4
        }
      ]
    },
    {
      "cell_type": "code",
      "metadata": {
        "id": "kdwPx8pN1Fby",
        "colab_type": "code",
        "colab": {
          "base_uri": "https://localhost:8080/",
          "height": 34
        },
        "outputId": "6b87bc92-5f73-4334-de81-cd11aeb18844"
      },
      "source": [
        "#tamanho do arquivo\n",
        "treino.shape"
      ],
      "execution_count": 5,
      "outputs": [
        {
          "output_type": "execute_result",
          "data": {
            "text/plain": [
              "(13730, 167)"
            ]
          },
          "metadata": {
            "tags": []
          },
          "execution_count": 5
        }
      ]
    },
    {
      "cell_type": "code",
      "metadata": {
        "id": "L_AVZyMU1JZp",
        "colab_type": "code",
        "colab": {
          "base_uri": "https://localhost:8080/",
          "height": 102
        },
        "outputId": "d8704a17-fb9b-4e9f-805f-5685537f1e19"
      },
      "source": [
        "#informações\n",
        "treino.info()"
      ],
      "execution_count": 6,
      "outputs": [
        {
          "output_type": "stream",
          "text": [
            "<class 'pandas.core.frame.DataFrame'>\n",
            "RangeIndex: 13730 entries, 0 to 13729\n",
            "Columns: 167 entries, Unnamed: 0 to Q050\n",
            "dtypes: float64(28), int64(79), object(60)\n",
            "memory usage: 17.5+ MB\n"
          ],
          "name": "stdout"
        }
      ]
    },
    {
      "cell_type": "code",
      "metadata": {
        "id": "ScOh5K1t1MxA",
        "colab_type": "code",
        "colab": {
          "base_uri": "https://localhost:8080/",
          "height": 34
        },
        "outputId": "ce58ae9e-2a42-44ff-a4da-4fe26e798a74"
      },
      "source": [
        "#nulos\n",
        "treino.isna().sum().sum()"
      ],
      "execution_count": 7,
      "outputs": [
        {
          "output_type": "execute_result",
          "data": {
            "text/plain": [
              "253786"
            ]
          },
          "metadata": {
            "tags": []
          },
          "execution_count": 7
        }
      ]
    },
    {
      "cell_type": "markdown",
      "metadata": {
        "id": "7X4hAAZy28ug",
        "colab_type": "text"
      },
      "source": [
        "![image.png](data:image/png;base64,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)"
      ]
    },
    {
      "cell_type": "code",
      "metadata": {
        "id": "1qWLPpUZ1TnA",
        "colab_type": "code",
        "colab": {
          "base_uri": "https://localhost:8080/",
          "height": 68
        },
        "outputId": "503ebd33-f114-46e2-f030-624cd83bb8ce"
      },
      "source": [
        "#conferindo a coluna de treineiros\n",
        "treino['IN_TREINEIRO'].value_counts(normalize=True)\n"
      ],
      "execution_count": 8,
      "outputs": [
        {
          "output_type": "execute_result",
          "data": {
            "text/plain": [
              "0    0.870138\n",
              "1    0.129862\n",
              "Name: IN_TREINEIRO, dtype: float64"
            ]
          },
          "metadata": {
            "tags": []
          },
          "execution_count": 8
        }
      ]
    },
    {
      "cell_type": "code",
      "metadata": {
        "id": "ufIi9K2H1ihw",
        "colab_type": "code",
        "colab": {}
      },
      "source": [
        "#conferindo a base de testes\n",
        "teste = pd.read_csv('test.csv')"
      ],
      "execution_count": 9,
      "outputs": []
    },
    {
      "cell_type": "code",
      "metadata": {
        "id": "faNFzCx33YY2",
        "colab_type": "code",
        "colab": {
          "base_uri": "https://localhost:8080/",
          "height": 224
        },
        "outputId": "db934aac-94b1-4cce-b3fe-5592b193c68f"
      },
      "source": [
        "teste.head()"
      ],
      "execution_count": 10,
      "outputs": [
        {
          "output_type": "execute_result",
          "data": {
            "text/html": [
              "<div>\n",
              "<style scoped>\n",
              "    .dataframe tbody tr th:only-of-type {\n",
              "        vertical-align: middle;\n",
              "    }\n",
              "\n",
              "    .dataframe tbody tr th {\n",
              "        vertical-align: top;\n",
              "    }\n",
              "\n",
              "    .dataframe thead th {\n",
              "        text-align: right;\n",
              "    }\n",
              "</style>\n",
              "<table border=\"1\" class=\"dataframe\">\n",
              "  <thead>\n",
              "    <tr style=\"text-align: right;\">\n",
              "      <th></th>\n",
              "      <th>NU_INSCRICAO</th>\n",
              "      <th>CO_UF_RESIDENCIA</th>\n",
              "      <th>SG_UF_RESIDENCIA</th>\n",
              "      <th>NU_IDADE</th>\n",
              "      <th>TP_SEXO</th>\n",
              "      <th>TP_COR_RACA</th>\n",
              "      <th>TP_NACIONALIDADE</th>\n",
              "      <th>TP_ST_CONCLUSAO</th>\n",
              "      <th>TP_ANO_CONCLUIU</th>\n",
              "      <th>TP_ESCOLA</th>\n",
              "      <th>TP_ENSINO</th>\n",
              "      <th>TP_DEPENDENCIA_ADM_ESC</th>\n",
              "      <th>IN_BAIXA_VISAO</th>\n",
              "      <th>IN_CEGUEIRA</th>\n",
              "      <th>IN_SURDEZ</th>\n",
              "      <th>IN_DISLEXIA</th>\n",
              "      <th>IN_DISCALCULIA</th>\n",
              "      <th>IN_SABATISTA</th>\n",
              "      <th>IN_GESTANTE</th>\n",
              "      <th>IN_IDOSO</th>\n",
              "      <th>TP_PRESENCA_CN</th>\n",
              "      <th>TP_PRESENCA_CH</th>\n",
              "      <th>TP_PRESENCA_LC</th>\n",
              "      <th>TP_PRESENCA_MT</th>\n",
              "      <th>NU_NOTA_CN</th>\n",
              "      <th>NU_NOTA_CH</th>\n",
              "      <th>NU_NOTA_LC</th>\n",
              "      <th>TP_LINGUA</th>\n",
              "      <th>TP_STATUS_REDACAO</th>\n",
              "      <th>NU_NOTA_COMP1</th>\n",
              "      <th>NU_NOTA_COMP2</th>\n",
              "      <th>NU_NOTA_COMP3</th>\n",
              "      <th>NU_NOTA_COMP4</th>\n",
              "      <th>NU_NOTA_COMP5</th>\n",
              "      <th>NU_NOTA_REDACAO</th>\n",
              "      <th>Q001</th>\n",
              "      <th>Q002</th>\n",
              "      <th>Q006</th>\n",
              "      <th>Q024</th>\n",
              "      <th>Q025</th>\n",
              "      <th>Q026</th>\n",
              "      <th>Q027</th>\n",
              "      <th>Q047</th>\n",
              "    </tr>\n",
              "  </thead>\n",
              "  <tbody>\n",
              "    <tr>\n",
              "      <th>0</th>\n",
              "      <td>ba0cc30ba34e7a46764c09dfc38ed83d15828897</td>\n",
              "      <td>43</td>\n",
              "      <td>RS</td>\n",
              "      <td>19</td>\n",
              "      <td>F</td>\n",
              "      <td>1</td>\n",
              "      <td>1</td>\n",
              "      <td>1</td>\n",
              "      <td>3</td>\n",
              "      <td>1</td>\n",
              "      <td>NaN</td>\n",
              "      <td>NaN</td>\n",
              "      <td>0</td>\n",
              "      <td>0</td>\n",
              "      <td>0</td>\n",
              "      <td>0</td>\n",
              "      <td>0</td>\n",
              "      <td>0</td>\n",
              "      <td>0</td>\n",
              "      <td>0</td>\n",
              "      <td>1</td>\n",
              "      <td>1</td>\n",
              "      <td>0</td>\n",
              "      <td>0</td>\n",
              "      <td>495.3</td>\n",
              "      <td>593.3</td>\n",
              "      <td>NaN</td>\n",
              "      <td>1</td>\n",
              "      <td>NaN</td>\n",
              "      <td>NaN</td>\n",
              "      <td>NaN</td>\n",
              "      <td>NaN</td>\n",
              "      <td>NaN</td>\n",
              "      <td>NaN</td>\n",
              "      <td>NaN</td>\n",
              "      <td>E</td>\n",
              "      <td>E</td>\n",
              "      <td>H</td>\n",
              "      <td>B</td>\n",
              "      <td>B</td>\n",
              "      <td>C</td>\n",
              "      <td>D</td>\n",
              "      <td>A</td>\n",
              "    </tr>\n",
              "    <tr>\n",
              "      <th>1</th>\n",
              "      <td>177f281c68fa032aedbd842a745da68490926cd2</td>\n",
              "      <td>15</td>\n",
              "      <td>PA</td>\n",
              "      <td>24</td>\n",
              "      <td>M</td>\n",
              "      <td>3</td>\n",
              "      <td>2</td>\n",
              "      <td>1</td>\n",
              "      <td>4</td>\n",
              "      <td>1</td>\n",
              "      <td>NaN</td>\n",
              "      <td>NaN</td>\n",
              "      <td>0</td>\n",
              "      <td>0</td>\n",
              "      <td>0</td>\n",
              "      <td>0</td>\n",
              "      <td>0</td>\n",
              "      <td>0</td>\n",
              "      <td>0</td>\n",
              "      <td>0</td>\n",
              "      <td>0</td>\n",
              "      <td>0</td>\n",
              "      <td>0</td>\n",
              "      <td>0</td>\n",
              "      <td>NaN</td>\n",
              "      <td>NaN</td>\n",
              "      <td>NaN</td>\n",
              "      <td>1</td>\n",
              "      <td>NaN</td>\n",
              "      <td>NaN</td>\n",
              "      <td>NaN</td>\n",
              "      <td>NaN</td>\n",
              "      <td>NaN</td>\n",
              "      <td>NaN</td>\n",
              "      <td>NaN</td>\n",
              "      <td>B</td>\n",
              "      <td>C</td>\n",
              "      <td>B</td>\n",
              "      <td>A</td>\n",
              "      <td>A</td>\n",
              "      <td>C</td>\n",
              "      <td>D</td>\n",
              "      <td>A</td>\n",
              "    </tr>\n",
              "    <tr>\n",
              "      <th>2</th>\n",
              "      <td>6cf0d8b97597d7625cdedc7bdb6c0f052286c334</td>\n",
              "      <td>29</td>\n",
              "      <td>BA</td>\n",
              "      <td>16</td>\n",
              "      <td>F</td>\n",
              "      <td>2</td>\n",
              "      <td>1</td>\n",
              "      <td>3</td>\n",
              "      <td>0</td>\n",
              "      <td>1</td>\n",
              "      <td>NaN</td>\n",
              "      <td>NaN</td>\n",
              "      <td>0</td>\n",
              "      <td>0</td>\n",
              "      <td>0</td>\n",
              "      <td>0</td>\n",
              "      <td>0</td>\n",
              "      <td>0</td>\n",
              "      <td>0</td>\n",
              "      <td>0</td>\n",
              "      <td>1</td>\n",
              "      <td>1</td>\n",
              "      <td>0</td>\n",
              "      <td>0</td>\n",
              "      <td>559.1</td>\n",
              "      <td>529.3</td>\n",
              "      <td>NaN</td>\n",
              "      <td>0</td>\n",
              "      <td>NaN</td>\n",
              "      <td>NaN</td>\n",
              "      <td>NaN</td>\n",
              "      <td>NaN</td>\n",
              "      <td>NaN</td>\n",
              "      <td>NaN</td>\n",
              "      <td>NaN</td>\n",
              "      <td>E</td>\n",
              "      <td>F</td>\n",
              "      <td>G</td>\n",
              "      <td>B</td>\n",
              "      <td>B</td>\n",
              "      <td>A</td>\n",
              "      <td>NaN</td>\n",
              "      <td>D</td>\n",
              "    </tr>\n",
              "    <tr>\n",
              "      <th>3</th>\n",
              "      <td>5c356d810fa57671402502cd0933e5601a2ebf1e</td>\n",
              "      <td>41</td>\n",
              "      <td>PR</td>\n",
              "      <td>17</td>\n",
              "      <td>F</td>\n",
              "      <td>1</td>\n",
              "      <td>1</td>\n",
              "      <td>2</td>\n",
              "      <td>0</td>\n",
              "      <td>2</td>\n",
              "      <td>1.0</td>\n",
              "      <td>2.0</td>\n",
              "      <td>0</td>\n",
              "      <td>0</td>\n",
              "      <td>0</td>\n",
              "      <td>0</td>\n",
              "      <td>0</td>\n",
              "      <td>0</td>\n",
              "      <td>0</td>\n",
              "      <td>0</td>\n",
              "      <td>1</td>\n",
              "      <td>1</td>\n",
              "      <td>1</td>\n",
              "      <td>1</td>\n",
              "      <td>475.0</td>\n",
              "      <td>557.8</td>\n",
              "      <td>542.0</td>\n",
              "      <td>1</td>\n",
              "      <td>1.0</td>\n",
              "      <td>120.0</td>\n",
              "      <td>120.0</td>\n",
              "      <td>80.0</td>\n",
              "      <td>120.0</td>\n",
              "      <td>40.0</td>\n",
              "      <td>480.0</td>\n",
              "      <td>E</td>\n",
              "      <td>E</td>\n",
              "      <td>E</td>\n",
              "      <td>C</td>\n",
              "      <td>B</td>\n",
              "      <td>B</td>\n",
              "      <td>C</td>\n",
              "      <td>A</td>\n",
              "    </tr>\n",
              "    <tr>\n",
              "      <th>4</th>\n",
              "      <td>df47c07bd881c2db3f38c6048bf77c132ad0ceb3</td>\n",
              "      <td>53</td>\n",
              "      <td>DF</td>\n",
              "      <td>19</td>\n",
              "      <td>F</td>\n",
              "      <td>1</td>\n",
              "      <td>1</td>\n",
              "      <td>1</td>\n",
              "      <td>1</td>\n",
              "      <td>1</td>\n",
              "      <td>NaN</td>\n",
              "      <td>NaN</td>\n",
              "      <td>0</td>\n",
              "      <td>0</td>\n",
              "      <td>0</td>\n",
              "      <td>0</td>\n",
              "      <td>0</td>\n",
              "      <td>0</td>\n",
              "      <td>0</td>\n",
              "      <td>0</td>\n",
              "      <td>1</td>\n",
              "      <td>1</td>\n",
              "      <td>1</td>\n",
              "      <td>1</td>\n",
              "      <td>440.5</td>\n",
              "      <td>596.1</td>\n",
              "      <td>594.2</td>\n",
              "      <td>1</td>\n",
              "      <td>1.0</td>\n",
              "      <td>160.0</td>\n",
              "      <td>160.0</td>\n",
              "      <td>160.0</td>\n",
              "      <td>160.0</td>\n",
              "      <td>80.0</td>\n",
              "      <td>720.0</td>\n",
              "      <td>E</td>\n",
              "      <td>E</td>\n",
              "      <td>E</td>\n",
              "      <td>B</td>\n",
              "      <td>B</td>\n",
              "      <td>B</td>\n",
              "      <td>D</td>\n",
              "      <td>A</td>\n",
              "    </tr>\n",
              "  </tbody>\n",
              "</table>\n",
              "</div>"
            ],
            "text/plain": [
              "                               NU_INSCRICAO  CO_UF_RESIDENCIA  ... Q027  Q047\n",
              "0  ba0cc30ba34e7a46764c09dfc38ed83d15828897                43  ...    D     A\n",
              "1  177f281c68fa032aedbd842a745da68490926cd2                15  ...    D     A\n",
              "2  6cf0d8b97597d7625cdedc7bdb6c0f052286c334                29  ...  NaN     D\n",
              "3  5c356d810fa57671402502cd0933e5601a2ebf1e                41  ...    C     A\n",
              "4  df47c07bd881c2db3f38c6048bf77c132ad0ceb3                53  ...    D     A\n",
              "\n",
              "[5 rows x 43 columns]"
            ]
          },
          "metadata": {
            "tags": []
          },
          "execution_count": 10
        }
      ]
    },
    {
      "cell_type": "code",
      "metadata": {
        "id": "nL502S0e3ZVF",
        "colab_type": "code",
        "colab": {
          "base_uri": "https://localhost:8080/",
          "height": 71
        },
        "outputId": "f4d5d397-f174-4b53-dc39-3beaa5abcfd7"
      },
      "source": [
        "#transformando as colunas do teste em uma lista para aplicar no df de treino\n",
        "colunas_teste = list(teste.columns)\n",
        "print(colunas_teste)\n",
        "print(len(colunas_teste))"
      ],
      "execution_count": 11,
      "outputs": [
        {
          "output_type": "stream",
          "text": [
            "['NU_INSCRICAO', 'CO_UF_RESIDENCIA', 'SG_UF_RESIDENCIA', 'NU_IDADE', 'TP_SEXO', 'TP_COR_RACA', 'TP_NACIONALIDADE', 'TP_ST_CONCLUSAO', 'TP_ANO_CONCLUIU', 'TP_ESCOLA', 'TP_ENSINO', 'TP_DEPENDENCIA_ADM_ESC', 'IN_BAIXA_VISAO', 'IN_CEGUEIRA', 'IN_SURDEZ', 'IN_DISLEXIA', 'IN_DISCALCULIA', 'IN_SABATISTA', 'IN_GESTANTE', 'IN_IDOSO', 'TP_PRESENCA_CN', 'TP_PRESENCA_CH', 'TP_PRESENCA_LC', 'TP_PRESENCA_MT', 'NU_NOTA_CN', 'NU_NOTA_CH', 'NU_NOTA_LC', 'TP_LINGUA', 'TP_STATUS_REDACAO', 'NU_NOTA_COMP1', 'NU_NOTA_COMP2', 'NU_NOTA_COMP3', 'NU_NOTA_COMP4', 'NU_NOTA_COMP5', 'NU_NOTA_REDACAO', 'Q001', 'Q002', 'Q006', 'Q024', 'Q025', 'Q026', 'Q027', 'Q047']\n",
            "43\n"
          ],
          "name": "stdout"
        }
      ]
    },
    {
      "cell_type": "code",
      "metadata": {
        "id": "RrKWn44G3gLF",
        "colab_type": "code",
        "colab": {
          "base_uri": "https://localhost:8080/",
          "height": 71
        },
        "outputId": "8cc6f984-2aaa-46b5-e779-cf5219f8444b"
      },
      "source": [
        "# incluindo a variável dependente (IN_TREINEIRO)\n",
        "colunas_teste.append('IN_TREINEIRO')\n",
        "print(colunas_teste)\n",
        "print(len(colunas_teste))"
      ],
      "execution_count": 12,
      "outputs": [
        {
          "output_type": "stream",
          "text": [
            "['NU_INSCRICAO', 'CO_UF_RESIDENCIA', 'SG_UF_RESIDENCIA', 'NU_IDADE', 'TP_SEXO', 'TP_COR_RACA', 'TP_NACIONALIDADE', 'TP_ST_CONCLUSAO', 'TP_ANO_CONCLUIU', 'TP_ESCOLA', 'TP_ENSINO', 'TP_DEPENDENCIA_ADM_ESC', 'IN_BAIXA_VISAO', 'IN_CEGUEIRA', 'IN_SURDEZ', 'IN_DISLEXIA', 'IN_DISCALCULIA', 'IN_SABATISTA', 'IN_GESTANTE', 'IN_IDOSO', 'TP_PRESENCA_CN', 'TP_PRESENCA_CH', 'TP_PRESENCA_LC', 'TP_PRESENCA_MT', 'NU_NOTA_CN', 'NU_NOTA_CH', 'NU_NOTA_LC', 'TP_LINGUA', 'TP_STATUS_REDACAO', 'NU_NOTA_COMP1', 'NU_NOTA_COMP2', 'NU_NOTA_COMP3', 'NU_NOTA_COMP4', 'NU_NOTA_COMP5', 'NU_NOTA_REDACAO', 'Q001', 'Q002', 'Q006', 'Q024', 'Q025', 'Q026', 'Q027', 'Q047', 'IN_TREINEIRO']\n",
            "44\n"
          ],
          "name": "stdout"
        }
      ]
    },
    {
      "cell_type": "code",
      "metadata": {
        "id": "DN9TL2i43vcU",
        "colab_type": "code",
        "colab": {}
      },
      "source": [
        "#atribuindo a uma nova variável a seleção das colunas disponíveis no teste no df de treino. Chamarei de dados daqui em diante\n",
        "dados = treino[colunas_teste]"
      ],
      "execution_count": 13,
      "outputs": []
    },
    {
      "cell_type": "code",
      "metadata": {
        "id": "R8aAIx-Q4LZz",
        "colab_type": "code",
        "colab": {
          "base_uri": "https://localhost:8080/",
          "height": 224
        },
        "outputId": "19b0e531-4eee-4a28-dc0e-2c965b3ff99f"
      },
      "source": [
        "dados.head()"
      ],
      "execution_count": 14,
      "outputs": [
        {
          "output_type": "execute_result",
          "data": {
            "text/html": [
              "<div>\n",
              "<style scoped>\n",
              "    .dataframe tbody tr th:only-of-type {\n",
              "        vertical-align: middle;\n",
              "    }\n",
              "\n",
              "    .dataframe tbody tr th {\n",
              "        vertical-align: top;\n",
              "    }\n",
              "\n",
              "    .dataframe thead th {\n",
              "        text-align: right;\n",
              "    }\n",
              "</style>\n",
              "<table border=\"1\" class=\"dataframe\">\n",
              "  <thead>\n",
              "    <tr style=\"text-align: right;\">\n",
              "      <th></th>\n",
              "      <th>NU_INSCRICAO</th>\n",
              "      <th>CO_UF_RESIDENCIA</th>\n",
              "      <th>SG_UF_RESIDENCIA</th>\n",
              "      <th>NU_IDADE</th>\n",
              "      <th>TP_SEXO</th>\n",
              "      <th>TP_COR_RACA</th>\n",
              "      <th>TP_NACIONALIDADE</th>\n",
              "      <th>TP_ST_CONCLUSAO</th>\n",
              "      <th>TP_ANO_CONCLUIU</th>\n",
              "      <th>TP_ESCOLA</th>\n",
              "      <th>TP_ENSINO</th>\n",
              "      <th>TP_DEPENDENCIA_ADM_ESC</th>\n",
              "      <th>IN_BAIXA_VISAO</th>\n",
              "      <th>IN_CEGUEIRA</th>\n",
              "      <th>IN_SURDEZ</th>\n",
              "      <th>IN_DISLEXIA</th>\n",
              "      <th>IN_DISCALCULIA</th>\n",
              "      <th>IN_SABATISTA</th>\n",
              "      <th>IN_GESTANTE</th>\n",
              "      <th>IN_IDOSO</th>\n",
              "      <th>TP_PRESENCA_CN</th>\n",
              "      <th>TP_PRESENCA_CH</th>\n",
              "      <th>TP_PRESENCA_LC</th>\n",
              "      <th>TP_PRESENCA_MT</th>\n",
              "      <th>NU_NOTA_CN</th>\n",
              "      <th>NU_NOTA_CH</th>\n",
              "      <th>NU_NOTA_LC</th>\n",
              "      <th>TP_LINGUA</th>\n",
              "      <th>TP_STATUS_REDACAO</th>\n",
              "      <th>NU_NOTA_COMP1</th>\n",
              "      <th>NU_NOTA_COMP2</th>\n",
              "      <th>NU_NOTA_COMP3</th>\n",
              "      <th>NU_NOTA_COMP4</th>\n",
              "      <th>NU_NOTA_COMP5</th>\n",
              "      <th>NU_NOTA_REDACAO</th>\n",
              "      <th>Q001</th>\n",
              "      <th>Q002</th>\n",
              "      <th>Q006</th>\n",
              "      <th>Q024</th>\n",
              "      <th>Q025</th>\n",
              "      <th>Q026</th>\n",
              "      <th>Q027</th>\n",
              "      <th>Q047</th>\n",
              "      <th>IN_TREINEIRO</th>\n",
              "    </tr>\n",
              "  </thead>\n",
              "  <tbody>\n",
              "    <tr>\n",
              "      <th>0</th>\n",
              "      <td>ed50e8aaa58e7a806c337585efee9ca41f1eb1ad</td>\n",
              "      <td>43</td>\n",
              "      <td>RS</td>\n",
              "      <td>24</td>\n",
              "      <td>M</td>\n",
              "      <td>1</td>\n",
              "      <td>1</td>\n",
              "      <td>1</td>\n",
              "      <td>4</td>\n",
              "      <td>1</td>\n",
              "      <td>NaN</td>\n",
              "      <td>NaN</td>\n",
              "      <td>0</td>\n",
              "      <td>0</td>\n",
              "      <td>0</td>\n",
              "      <td>0</td>\n",
              "      <td>0</td>\n",
              "      <td>0</td>\n",
              "      <td>0</td>\n",
              "      <td>0</td>\n",
              "      <td>1</td>\n",
              "      <td>1</td>\n",
              "      <td>1</td>\n",
              "      <td>1</td>\n",
              "      <td>436.3</td>\n",
              "      <td>495.4</td>\n",
              "      <td>581.2</td>\n",
              "      <td>1</td>\n",
              "      <td>1.0</td>\n",
              "      <td>120.0</td>\n",
              "      <td>120.0</td>\n",
              "      <td>120.0</td>\n",
              "      <td>80.0</td>\n",
              "      <td>80.0</td>\n",
              "      <td>520.0</td>\n",
              "      <td>D</td>\n",
              "      <td>D</td>\n",
              "      <td>C</td>\n",
              "      <td>A</td>\n",
              "      <td>A</td>\n",
              "      <td>C</td>\n",
              "      <td>H</td>\n",
              "      <td>A</td>\n",
              "      <td>0</td>\n",
              "    </tr>\n",
              "    <tr>\n",
              "      <th>1</th>\n",
              "      <td>2c3acac4b33ec2b195d77e7c04a2d75727fad723</td>\n",
              "      <td>23</td>\n",
              "      <td>CE</td>\n",
              "      <td>17</td>\n",
              "      <td>F</td>\n",
              "      <td>3</td>\n",
              "      <td>1</td>\n",
              "      <td>2</td>\n",
              "      <td>0</td>\n",
              "      <td>2</td>\n",
              "      <td>1.0</td>\n",
              "      <td>2.0</td>\n",
              "      <td>0</td>\n",
              "      <td>0</td>\n",
              "      <td>0</td>\n",
              "      <td>0</td>\n",
              "      <td>0</td>\n",
              "      <td>0</td>\n",
              "      <td>0</td>\n",
              "      <td>0</td>\n",
              "      <td>1</td>\n",
              "      <td>1</td>\n",
              "      <td>1</td>\n",
              "      <td>1</td>\n",
              "      <td>474.5</td>\n",
              "      <td>544.1</td>\n",
              "      <td>599.0</td>\n",
              "      <td>1</td>\n",
              "      <td>1.0</td>\n",
              "      <td>140.0</td>\n",
              "      <td>120.0</td>\n",
              "      <td>120.0</td>\n",
              "      <td>120.0</td>\n",
              "      <td>80.0</td>\n",
              "      <td>580.0</td>\n",
              "      <td>A</td>\n",
              "      <td>A</td>\n",
              "      <td>B</td>\n",
              "      <td>A</td>\n",
              "      <td>A</td>\n",
              "      <td>A</td>\n",
              "      <td>NaN</td>\n",
              "      <td>A</td>\n",
              "      <td>0</td>\n",
              "    </tr>\n",
              "    <tr>\n",
              "      <th>2</th>\n",
              "      <td>f4545f8ccb9ff5c8aad7d32951b3f251a26e6568</td>\n",
              "      <td>23</td>\n",
              "      <td>CE</td>\n",
              "      <td>21</td>\n",
              "      <td>F</td>\n",
              "      <td>3</td>\n",
              "      <td>1</td>\n",
              "      <td>3</td>\n",
              "      <td>0</td>\n",
              "      <td>1</td>\n",
              "      <td>NaN</td>\n",
              "      <td>NaN</td>\n",
              "      <td>0</td>\n",
              "      <td>0</td>\n",
              "      <td>0</td>\n",
              "      <td>0</td>\n",
              "      <td>0</td>\n",
              "      <td>0</td>\n",
              "      <td>0</td>\n",
              "      <td>0</td>\n",
              "      <td>0</td>\n",
              "      <td>0</td>\n",
              "      <td>0</td>\n",
              "      <td>0</td>\n",
              "      <td>NaN</td>\n",
              "      <td>NaN</td>\n",
              "      <td>NaN</td>\n",
              "      <td>1</td>\n",
              "      <td>NaN</td>\n",
              "      <td>NaN</td>\n",
              "      <td>NaN</td>\n",
              "      <td>NaN</td>\n",
              "      <td>NaN</td>\n",
              "      <td>NaN</td>\n",
              "      <td>NaN</td>\n",
              "      <td>D</td>\n",
              "      <td>D</td>\n",
              "      <td>C</td>\n",
              "      <td>A</td>\n",
              "      <td>A</td>\n",
              "      <td>A</td>\n",
              "      <td>NaN</td>\n",
              "      <td>A</td>\n",
              "      <td>0</td>\n",
              "    </tr>\n",
              "    <tr>\n",
              "      <th>3</th>\n",
              "      <td>3d6ec248fef899c414e77f82d5c6d2bffbeaf7fe</td>\n",
              "      <td>33</td>\n",
              "      <td>RJ</td>\n",
              "      <td>25</td>\n",
              "      <td>F</td>\n",
              "      <td>0</td>\n",
              "      <td>1</td>\n",
              "      <td>1</td>\n",
              "      <td>9</td>\n",
              "      <td>1</td>\n",
              "      <td>NaN</td>\n",
              "      <td>NaN</td>\n",
              "      <td>0</td>\n",
              "      <td>0</td>\n",
              "      <td>0</td>\n",
              "      <td>0</td>\n",
              "      <td>0</td>\n",
              "      <td>0</td>\n",
              "      <td>0</td>\n",
              "      <td>0</td>\n",
              "      <td>0</td>\n",
              "      <td>0</td>\n",
              "      <td>0</td>\n",
              "      <td>0</td>\n",
              "      <td>NaN</td>\n",
              "      <td>NaN</td>\n",
              "      <td>NaN</td>\n",
              "      <td>0</td>\n",
              "      <td>NaN</td>\n",
              "      <td>NaN</td>\n",
              "      <td>NaN</td>\n",
              "      <td>NaN</td>\n",
              "      <td>NaN</td>\n",
              "      <td>NaN</td>\n",
              "      <td>NaN</td>\n",
              "      <td>H</td>\n",
              "      <td>E</td>\n",
              "      <td>E</td>\n",
              "      <td>C</td>\n",
              "      <td>B</td>\n",
              "      <td>C</td>\n",
              "      <td>F</td>\n",
              "      <td>D</td>\n",
              "      <td>0</td>\n",
              "    </tr>\n",
              "    <tr>\n",
              "      <th>4</th>\n",
              "      <td>bf896ac8d3ecadd6dba1dfbf50110afcbf5d3268</td>\n",
              "      <td>13</td>\n",
              "      <td>AM</td>\n",
              "      <td>28</td>\n",
              "      <td>M</td>\n",
              "      <td>2</td>\n",
              "      <td>1</td>\n",
              "      <td>1</td>\n",
              "      <td>4</td>\n",
              "      <td>1</td>\n",
              "      <td>NaN</td>\n",
              "      <td>NaN</td>\n",
              "      <td>0</td>\n",
              "      <td>0</td>\n",
              "      <td>0</td>\n",
              "      <td>0</td>\n",
              "      <td>0</td>\n",
              "      <td>0</td>\n",
              "      <td>0</td>\n",
              "      <td>0</td>\n",
              "      <td>0</td>\n",
              "      <td>0</td>\n",
              "      <td>0</td>\n",
              "      <td>0</td>\n",
              "      <td>NaN</td>\n",
              "      <td>NaN</td>\n",
              "      <td>NaN</td>\n",
              "      <td>1</td>\n",
              "      <td>NaN</td>\n",
              "      <td>NaN</td>\n",
              "      <td>NaN</td>\n",
              "      <td>NaN</td>\n",
              "      <td>NaN</td>\n",
              "      <td>NaN</td>\n",
              "      <td>NaN</td>\n",
              "      <td>E</td>\n",
              "      <td>D</td>\n",
              "      <td>C</td>\n",
              "      <td>A</td>\n",
              "      <td>A</td>\n",
              "      <td>B</td>\n",
              "      <td>F</td>\n",
              "      <td>A</td>\n",
              "      <td>0</td>\n",
              "    </tr>\n",
              "  </tbody>\n",
              "</table>\n",
              "</div>"
            ],
            "text/plain": [
              "                               NU_INSCRICAO  ...  IN_TREINEIRO\n",
              "0  ed50e8aaa58e7a806c337585efee9ca41f1eb1ad  ...             0\n",
              "1  2c3acac4b33ec2b195d77e7c04a2d75727fad723  ...             0\n",
              "2  f4545f8ccb9ff5c8aad7d32951b3f251a26e6568  ...             0\n",
              "3  3d6ec248fef899c414e77f82d5c6d2bffbeaf7fe  ...             0\n",
              "4  bf896ac8d3ecadd6dba1dfbf50110afcbf5d3268  ...             0\n",
              "\n",
              "[5 rows x 44 columns]"
            ]
          },
          "metadata": {
            "tags": []
          },
          "execution_count": 14
        }
      ]
    },
    {
      "cell_type": "code",
      "metadata": {
        "id": "wLyC0wc74kXj",
        "colab_type": "code",
        "colab": {
          "base_uri": "https://localhost:8080/",
          "height": 34
        },
        "outputId": "137d0b9e-f701-4af7-f031-eea49d5dd1c5"
      },
      "source": [
        "dados.shape"
      ],
      "execution_count": 15,
      "outputs": [
        {
          "output_type": "execute_result",
          "data": {
            "text/plain": [
              "(13730, 44)"
            ]
          },
          "metadata": {
            "tags": []
          },
          "execution_count": 15
        }
      ]
    },
    {
      "cell_type": "code",
      "metadata": {
        "id": "2C56IWru4mWS",
        "colab_type": "code",
        "colab": {
          "base_uri": "https://localhost:8080/",
          "height": 884
        },
        "outputId": "9cb96cba-1462-40c5-e19a-a789ad3a10ff"
      },
      "source": [
        "#conferindo as informações\n",
        "dados.info()"
      ],
      "execution_count": 16,
      "outputs": [
        {
          "output_type": "stream",
          "text": [
            "<class 'pandas.core.frame.DataFrame'>\n",
            "RangeIndex: 13730 entries, 0 to 13729\n",
            "Data columns (total 44 columns):\n",
            " #   Column                  Non-Null Count  Dtype  \n",
            "---  ------                  --------------  -----  \n",
            " 0   NU_INSCRICAO            13730 non-null  object \n",
            " 1   CO_UF_RESIDENCIA        13730 non-null  int64  \n",
            " 2   SG_UF_RESIDENCIA        13730 non-null  object \n",
            " 3   NU_IDADE                13730 non-null  int64  \n",
            " 4   TP_SEXO                 13730 non-null  object \n",
            " 5   TP_COR_RACA             13730 non-null  int64  \n",
            " 6   TP_NACIONALIDADE        13730 non-null  int64  \n",
            " 7   TP_ST_CONCLUSAO         13730 non-null  int64  \n",
            " 8   TP_ANO_CONCLUIU         13730 non-null  int64  \n",
            " 9   TP_ESCOLA               13730 non-null  int64  \n",
            " 10  TP_ENSINO               4282 non-null   float64\n",
            " 11  TP_DEPENDENCIA_ADM_ESC  4282 non-null   float64\n",
            " 12  IN_BAIXA_VISAO          13730 non-null  int64  \n",
            " 13  IN_CEGUEIRA             13730 non-null  int64  \n",
            " 14  IN_SURDEZ               13730 non-null  int64  \n",
            " 15  IN_DISLEXIA             13730 non-null  int64  \n",
            " 16  IN_DISCALCULIA          13730 non-null  int64  \n",
            " 17  IN_SABATISTA            13730 non-null  int64  \n",
            " 18  IN_GESTANTE             13730 non-null  int64  \n",
            " 19  IN_IDOSO                13730 non-null  int64  \n",
            " 20  TP_PRESENCA_CN          13730 non-null  int64  \n",
            " 21  TP_PRESENCA_CH          13730 non-null  int64  \n",
            " 22  TP_PRESENCA_LC          13730 non-null  int64  \n",
            " 23  TP_PRESENCA_MT          13730 non-null  int64  \n",
            " 24  NU_NOTA_CN              10341 non-null  float64\n",
            " 25  NU_NOTA_CH              10341 non-null  float64\n",
            " 26  NU_NOTA_LC              10133 non-null  float64\n",
            " 27  TP_LINGUA               13730 non-null  int64  \n",
            " 28  TP_STATUS_REDACAO       10133 non-null  float64\n",
            " 29  NU_NOTA_COMP1           10133 non-null  float64\n",
            " 30  NU_NOTA_COMP2           10133 non-null  float64\n",
            " 31  NU_NOTA_COMP3           10133 non-null  float64\n",
            " 32  NU_NOTA_COMP4           10133 non-null  float64\n",
            " 33  NU_NOTA_COMP5           10133 non-null  float64\n",
            " 34  NU_NOTA_REDACAO         10133 non-null  float64\n",
            " 35  Q001                    13730 non-null  object \n",
            " 36  Q002                    13730 non-null  object \n",
            " 37  Q006                    13730 non-null  object \n",
            " 38  Q024                    13730 non-null  object \n",
            " 39  Q025                    13730 non-null  object \n",
            " 40  Q026                    13730 non-null  object \n",
            " 41  Q027                    6357 non-null   object \n",
            " 42  Q047                    13730 non-null  object \n",
            " 43  IN_TREINEIRO            13730 non-null  int64  \n",
            "dtypes: float64(12), int64(21), object(11)\n",
            "memory usage: 4.6+ MB\n"
          ],
          "name": "stdout"
        }
      ]
    },
    {
      "cell_type": "markdown",
      "metadata": {
        "id": "VUZGFy3x52Ji",
        "colab_type": "text"
      },
      "source": [
        "## PRIMEIRA HIPÓTESE NULA: A MÉDIA DOS TREINEIROS NA NOTA DE REDAÇÃO É A MESMA DOS QUE ESTÃO FAZENDO PARA VALER!"
      ]
    },
    {
      "cell_type": "code",
      "metadata": {
        "id": "6-bCSwmj5eIS",
        "colab_type": "code",
        "colab": {}
      },
      "source": [
        "#DIVIDINDO OS DATASETS\n",
        "dados_treineiro = dados.query('IN_TREINEIRO == 1')\n",
        "dados_oficial = dados.query('IN_TREINEIRO == 0')"
      ],
      "execution_count": 17,
      "outputs": []
    },
    {
      "cell_type": "code",
      "metadata": {
        "id": "2xkUnKy-6C9A",
        "colab_type": "code",
        "colab": {
          "base_uri": "https://localhost:8080/",
          "height": 34
        },
        "outputId": "4bed0d46-9cbf-469f-ec8d-34a2dfe70676"
      },
      "source": [
        "dados_treineiro.shape"
      ],
      "execution_count": 18,
      "outputs": [
        {
          "output_type": "execute_result",
          "data": {
            "text/plain": [
              "(1783, 44)"
            ]
          },
          "metadata": {
            "tags": []
          },
          "execution_count": 18
        }
      ]
    },
    {
      "cell_type": "code",
      "metadata": {
        "id": "-m6x9EiG6cTZ",
        "colab_type": "code",
        "colab": {
          "base_uri": "https://localhost:8080/",
          "height": 34
        },
        "outputId": "f78e4b0f-f386-4bb0-d343-dfb965a59980"
      },
      "source": [
        "dados_oficial.shape\n"
      ],
      "execution_count": 19,
      "outputs": [
        {
          "output_type": "execute_result",
          "data": {
            "text/plain": [
              "(11947, 44)"
            ]
          },
          "metadata": {
            "tags": []
          },
          "execution_count": 19
        }
      ]
    },
    {
      "cell_type": "code",
      "metadata": {
        "id": "-x9W6e-A6ekX",
        "colab_type": "code",
        "colab": {
          "base_uri": "https://localhost:8080/",
          "height": 498
        },
        "outputId": "a9ff2b8a-da1e-4b78-f9e4-134d54962c72"
      },
      "source": [
        "#visualizando a distribuição das notas de redação entre treineiros\n",
        "plt.figure(figsize = (12,8))\n",
        "ax = sns.distplot(dados_treineiro['NU_NOTA_REDACAO'])"
      ],
      "execution_count": 20,
      "outputs": [
        {
          "output_type": "display_data",
          "data": {
            "image/png": "[encoded data removed]",
            "text/plain": [
              "<Figure size 864x576 with 1 Axes>"
            ]
          },
          "metadata": {
            "tags": [],
            "needs_background": "light"
          }
        }
      ]
    },
    {
      "cell_type": "code",
      "metadata": {
        "id": "BjD0L2Kn6ym2",
        "colab_type": "code",
        "colab": {
          "base_uri": "https://localhost:8080/",
          "height": 498
        },
        "outputId": "ab05e1d1-032c-4f7f-d922-4925e46d3577"
      },
      "source": [
        "#visualizando a distribuição das notas de redação entre não treineiros\n",
        "plt.figure(figsize = (12,8))\n",
        "ax = sns.distplot(dados_oficial['NU_NOTA_REDACAO'].sample(1783))"
      ],
      "execution_count": 21,
      "outputs": [
        {
          "output_type": "display_data",
          "data": {
            "image/png": "[encoded data removed]",
            "text/plain": [
              "<Figure size 864x576 with 1 Axes>"
            ]
          },
          "metadata": {
            "tags": [],
            "needs_background": "light"
          }
        }
      ]
    },
    {
      "cell_type": "code",
      "metadata": {
        "id": "8BpI3cNt6--m",
        "colab_type": "code",
        "colab": {}
      },
      "source": [
        "#conferindo usando as estatísticas descritivas\n",
        "from scipy.stats import ttest_ind\n",
        "from statsmodels.stats.weightstats import zconfint, DescrStatsW, ztest"
      ],
      "execution_count": 22,
      "outputs": []
    },
    {
      "cell_type": "code",
      "metadata": {
        "id": "Uyp7Re9-8cCc",
        "colab_type": "code",
        "colab": {}
      },
      "source": [
        "#conferindo se a média das notas de redação dos treineiros é igual à média geral\n",
        "treineiros = DescrStatsW(dados_treineiro['NU_NOTA_REDACAO'].dropna())\n",
        "total = DescrStatsW(dados['NU_NOTA_REDACAO'].dropna())"
      ],
      "execution_count": 23,
      "outputs": []
    },
    {
      "cell_type": "code",
      "metadata": {
        "id": "Jwm8_YUi9f45",
        "colab_type": "code",
        "colab": {}
      },
      "source": [
        "comparacao = treineiros.get_compare(total)"
      ],
      "execution_count": 24,
      "outputs": []
    },
    {
      "cell_type": "code",
      "metadata": {
        "id": "iiEU8qIm9i3x",
        "colab_type": "code",
        "colab": {
          "base_uri": "https://localhost:8080/",
          "height": 119
        },
        "outputId": "ff51f062-fff5-41af-efaf-d17af6b6ae38"
      },
      "source": [
        "#podemos descartar que fazem parte da mesma distribuição\n",
        "print(comparacao.summary())"
      ],
      "execution_count": 25,
      "outputs": [
        {
          "output_type": "stream",
          "text": [
            "                          Test for equality of means                          \n",
            "==============================================================================\n",
            "                 coef    std err          t      P>|t|      [0.025      0.975]\n",
            "------------------------------------------------------------------------------\n",
            "subset #1     -9.7260      4.243     -2.292      0.022     -18.044      -1.408\n",
            "==============================================================================\n"
          ],
          "name": "stdout"
        }
      ]
    },
    {
      "cell_type": "code",
      "metadata": {
        "id": "BTrf2K879w_4",
        "colab_type": "code",
        "colab": {}
      },
      "source": [
        "#com os oficiais agora\n",
        "oficiais = total = DescrStatsW(dados_oficial['NU_NOTA_REDACAO'].dropna())"
      ],
      "execution_count": 26,
      "outputs": []
    },
    {
      "cell_type": "code",
      "metadata": {
        "id": "78xWZ6Fm-v0m",
        "colab_type": "code",
        "colab": {
          "base_uri": "https://localhost:8080/",
          "height": 119
        },
        "outputId": "f439ec11-7345-45f9-f484-f8556ee705ec"
      },
      "source": [
        "#podemos descartar a hipótese nula\n",
        "comparacao = treineiros.get_compare(oficiais)\n",
        "print(comparacao.summary())"
      ],
      "execution_count": 27,
      "outputs": [
        {
          "output_type": "stream",
          "text": [
            "                          Test for equality of means                          \n",
            "==============================================================================\n",
            "                 coef    std err          t      P>|t|      [0.025      0.975]\n",
            "------------------------------------------------------------------------------\n",
            "subset #1    -11.4225      4.309     -2.651      0.008     -19.869      -2.976\n",
            "==============================================================================\n"
          ],
          "name": "stdout"
        }
      ]
    },
    {
      "cell_type": "markdown",
      "metadata": {
        "id": "R_gJqSr2Ao06",
        "colab_type": "text"
      },
      "source": [
        "### FAZENDO TABELAS CRUZADAS - Contador único ou a média das notas de Redação"
      ]
    },
    {
      "cell_type": "code",
      "metadata": {
        "id": "UA2qF3UcJXGo",
        "colab_type": "code",
        "colab": {}
      },
      "source": [
        "#dicionário para renomear as colunas_teste\n",
        "sexo = {'M':'Masculino',\n",
        "        'F':'Feminino'}\n",
        "conclusao = {1:'concluido',\n",
        "       2:'conclui em 2016',\n",
        "       3:'conclui apos 2016',\n",
        "       4:'não cursando',\n",
        "       }\n",
        "treineiro = {0: 'Não', 1: 'Sim'}\n",
        "escola={1:'Não Respondeu', 2:'Pública', 3:'Privada',4:'Exterior'}\n",
        "presenca = {0:'Faltou',1: 'Presente', 2:'Eliminado'}"
      ],
      "execution_count": 28,
      "outputs": []
    },
    {
      "cell_type": "code",
      "metadata": {
        "id": "Zh6limOI-z2-",
        "colab_type": "code",
        "colab": {
          "base_uri": "https://localhost:8080/",
          "height": 142
        },
        "outputId": "0ce2d061-6ac5-45fb-85db-03a14efbeea1"
      },
      "source": [
        "#por situação de conclusão de curso\n",
        "pd.crosstab(dados.IN_TREINEIRO, dados.TP_ST_CONCLUSAO, aggfunc= 'mean', values=dados.NU_NOTA_REDACAO).rename(columns=conclusao, index=treineiro)"
      ],
      "execution_count": 29,
      "outputs": [
        {
          "output_type": "execute_result",
          "data": {
            "text/html": [
              "<div>\n",
              "<style scoped>\n",
              "    .dataframe tbody tr th:only-of-type {\n",
              "        vertical-align: middle;\n",
              "    }\n",
              "\n",
              "    .dataframe tbody tr th {\n",
              "        vertical-align: top;\n",
              "    }\n",
              "\n",
              "    .dataframe thead th {\n",
              "        text-align: right;\n",
              "    }\n",
              "</style>\n",
              "<table border=\"1\" class=\"dataframe\">\n",
              "  <thead>\n",
              "    <tr style=\"text-align: right;\">\n",
              "      <th>TP_ST_CONCLUSAO</th>\n",
              "      <th>concluido</th>\n",
              "      <th>conclui em 2016</th>\n",
              "      <th>conclui apos 2016</th>\n",
              "      <th>não cursando</th>\n",
              "    </tr>\n",
              "    <tr>\n",
              "      <th>IN_TREINEIRO</th>\n",
              "      <th></th>\n",
              "      <th></th>\n",
              "      <th></th>\n",
              "      <th></th>\n",
              "    </tr>\n",
              "  </thead>\n",
              "  <tbody>\n",
              "    <tr>\n",
              "      <th>Não</th>\n",
              "      <td>543.293468</td>\n",
              "      <td>531.983516</td>\n",
              "      <td>426.645714</td>\n",
              "      <td>452.689655</td>\n",
              "    </tr>\n",
              "    <tr>\n",
              "      <th>Sim</th>\n",
              "      <td>NaN</td>\n",
              "      <td>NaN</td>\n",
              "      <td>519.322259</td>\n",
              "      <td>NaN</td>\n",
              "    </tr>\n",
              "  </tbody>\n",
              "</table>\n",
              "</div>"
            ],
            "text/plain": [
              "TP_ST_CONCLUSAO   concluido  conclui em 2016  conclui apos 2016  não cursando\n",
              "IN_TREINEIRO                                                                 \n",
              "Não              543.293468       531.983516         426.645714    452.689655\n",
              "Sim                     NaN              NaN         519.322259           NaN"
            ]
          },
          "metadata": {
            "tags": []
          },
          "execution_count": 29
        }
      ]
    },
    {
      "cell_type": "code",
      "metadata": {
        "id": "wUzOvo08A_yT",
        "colab_type": "code",
        "colab": {
          "base_uri": "https://localhost:8080/",
          "height": 142
        },
        "outputId": "4d2c3724-417e-41f9-9fb6-c0734c609c73"
      },
      "source": [
        "#por sexo\n",
        "pd.crosstab(dados.IN_TREINEIRO, dados.TP_SEXO, aggfunc='mean', values=dados.NU_NOTA_REDACAO).rename(index=treineiro, columns=sexo)\n"
      ],
      "execution_count": 30,
      "outputs": [
        {
          "output_type": "execute_result",
          "data": {
            "text/html": [
              "<div>\n",
              "<style scoped>\n",
              "    .dataframe tbody tr th:only-of-type {\n",
              "        vertical-align: middle;\n",
              "    }\n",
              "\n",
              "    .dataframe tbody tr th {\n",
              "        vertical-align: top;\n",
              "    }\n",
              "\n",
              "    .dataframe thead th {\n",
              "        text-align: right;\n",
              "    }\n",
              "</style>\n",
              "<table border=\"1\" class=\"dataframe\">\n",
              "  <thead>\n",
              "    <tr style=\"text-align: right;\">\n",
              "      <th>TP_SEXO</th>\n",
              "      <th>Feminino</th>\n",
              "      <th>Masculino</th>\n",
              "    </tr>\n",
              "    <tr>\n",
              "      <th>IN_TREINEIRO</th>\n",
              "      <th></th>\n",
              "      <th></th>\n",
              "    </tr>\n",
              "  </thead>\n",
              "  <tbody>\n",
              "    <tr>\n",
              "      <th>Não</th>\n",
              "      <td>540.049336</td>\n",
              "      <td>516.142347</td>\n",
              "    </tr>\n",
              "    <tr>\n",
              "      <th>Sim</th>\n",
              "      <td>534.429869</td>\n",
              "      <td>490.194553</td>\n",
              "    </tr>\n",
              "  </tbody>\n",
              "</table>\n",
              "</div>"
            ],
            "text/plain": [
              "TP_SEXO         Feminino   Masculino\n",
              "IN_TREINEIRO                        \n",
              "Não           540.049336  516.142347\n",
              "Sim           534.429869  490.194553"
            ]
          },
          "metadata": {
            "tags": []
          },
          "execution_count": 30
        }
      ]
    },
    {
      "cell_type": "code",
      "metadata": {
        "id": "AS4zeyIBDdI3",
        "colab_type": "code",
        "colab": {
          "base_uri": "https://localhost:8080/",
          "height": 917
        },
        "outputId": "c88b92cc-6062-48c1-a0af-120a8b5a64c6"
      },
      "source": [
        "#por estado\n",
        "pd.crosstab(dados.SG_UF_RESIDENCIA, dados.IN_TREINEIRO, aggfunc='mean', values=dados.NU_NOTA_REDACAO).rename(columns=treineiro)"
      ],
      "execution_count": 31,
      "outputs": [
        {
          "output_type": "execute_result",
          "data": {
            "text/html": [
              "<div>\n",
              "<style scoped>\n",
              "    .dataframe tbody tr th:only-of-type {\n",
              "        vertical-align: middle;\n",
              "    }\n",
              "\n",
              "    .dataframe tbody tr th {\n",
              "        vertical-align: top;\n",
              "    }\n",
              "\n",
              "    .dataframe thead th {\n",
              "        text-align: right;\n",
              "    }\n",
              "</style>\n",
              "<table border=\"1\" class=\"dataframe\">\n",
              "  <thead>\n",
              "    <tr style=\"text-align: right;\">\n",
              "      <th>IN_TREINEIRO</th>\n",
              "      <th>Não</th>\n",
              "      <th>Sim</th>\n",
              "    </tr>\n",
              "    <tr>\n",
              "      <th>SG_UF_RESIDENCIA</th>\n",
              "      <th></th>\n",
              "      <th></th>\n",
              "    </tr>\n",
              "  </thead>\n",
              "  <tbody>\n",
              "    <tr>\n",
              "      <th>AC</th>\n",
              "      <td>490.212766</td>\n",
              "      <td>740.000000</td>\n",
              "    </tr>\n",
              "    <tr>\n",
              "      <th>AL</th>\n",
              "      <td>526.329114</td>\n",
              "      <td>604.000000</td>\n",
              "    </tr>\n",
              "    <tr>\n",
              "      <th>AM</th>\n",
              "      <td>508.129032</td>\n",
              "      <td>516.250000</td>\n",
              "    </tr>\n",
              "    <tr>\n",
              "      <th>AP</th>\n",
              "      <td>500.392157</td>\n",
              "      <td>400.000000</td>\n",
              "    </tr>\n",
              "    <tr>\n",
              "      <th>BA</th>\n",
              "      <td>513.807829</td>\n",
              "      <td>531.650485</td>\n",
              "    </tr>\n",
              "    <tr>\n",
              "      <th>CE</th>\n",
              "      <td>499.892009</td>\n",
              "      <td>478.878924</td>\n",
              "    </tr>\n",
              "    <tr>\n",
              "      <th>DF</th>\n",
              "      <td>554.939597</td>\n",
              "      <td>546.153846</td>\n",
              "    </tr>\n",
              "    <tr>\n",
              "      <th>ES</th>\n",
              "      <td>543.744681</td>\n",
              "      <td>569.565217</td>\n",
              "    </tr>\n",
              "    <tr>\n",
              "      <th>GO</th>\n",
              "      <td>524.852459</td>\n",
              "      <td>526.493506</td>\n",
              "    </tr>\n",
              "    <tr>\n",
              "      <th>MA</th>\n",
              "      <td>510.023753</td>\n",
              "      <td>474.883721</td>\n",
              "    </tr>\n",
              "    <tr>\n",
              "      <th>MG</th>\n",
              "      <td>558.619048</td>\n",
              "      <td>549.764706</td>\n",
              "    </tr>\n",
              "    <tr>\n",
              "      <th>MS</th>\n",
              "      <td>499.652174</td>\n",
              "      <td>477.333333</td>\n",
              "    </tr>\n",
              "    <tr>\n",
              "      <th>MT</th>\n",
              "      <td>523.513514</td>\n",
              "      <td>509.756098</td>\n",
              "    </tr>\n",
              "    <tr>\n",
              "      <th>PA</th>\n",
              "      <td>530.073350</td>\n",
              "      <td>504.814815</td>\n",
              "    </tr>\n",
              "    <tr>\n",
              "      <th>PB</th>\n",
              "      <td>535.740741</td>\n",
              "      <td>497.142857</td>\n",
              "    </tr>\n",
              "    <tr>\n",
              "      <th>PE</th>\n",
              "      <td>531.068884</td>\n",
              "      <td>503.043478</td>\n",
              "    </tr>\n",
              "    <tr>\n",
              "      <th>PI</th>\n",
              "      <td>495.000000</td>\n",
              "      <td>504.137931</td>\n",
              "    </tr>\n",
              "    <tr>\n",
              "      <th>PR</th>\n",
              "      <td>518.213400</td>\n",
              "      <td>561.702128</td>\n",
              "    </tr>\n",
              "    <tr>\n",
              "      <th>RJ</th>\n",
              "      <td>570.617284</td>\n",
              "      <td>563.272727</td>\n",
              "    </tr>\n",
              "    <tr>\n",
              "      <th>RN</th>\n",
              "      <td>543.255814</td>\n",
              "      <td>606.666667</td>\n",
              "    </tr>\n",
              "    <tr>\n",
              "      <th>RO</th>\n",
              "      <td>487.837838</td>\n",
              "      <td>548.571429</td>\n",
              "    </tr>\n",
              "    <tr>\n",
              "      <th>RR</th>\n",
              "      <td>496.190476</td>\n",
              "      <td>420.000000</td>\n",
              "    </tr>\n",
              "    <tr>\n",
              "      <th>RS</th>\n",
              "      <td>528.647230</td>\n",
              "      <td>523.428571</td>\n",
              "    </tr>\n",
              "    <tr>\n",
              "      <th>SC</th>\n",
              "      <td>547.446809</td>\n",
              "      <td>543.809524</td>\n",
              "    </tr>\n",
              "    <tr>\n",
              "      <th>SE</th>\n",
              "      <td>549.062500</td>\n",
              "      <td>529.600000</td>\n",
              "    </tr>\n",
              "    <tr>\n",
              "      <th>SP</th>\n",
              "      <td>548.574530</td>\n",
              "      <td>561.000000</td>\n",
              "    </tr>\n",
              "    <tr>\n",
              "      <th>TO</th>\n",
              "      <td>494.655172</td>\n",
              "      <td>576.250000</td>\n",
              "    </tr>\n",
              "  </tbody>\n",
              "</table>\n",
              "</div>"
            ],
            "text/plain": [
              "IN_TREINEIRO             Não         Sim\n",
              "SG_UF_RESIDENCIA                        \n",
              "AC                490.212766  740.000000\n",
              "AL                526.329114  604.000000\n",
              "AM                508.129032  516.250000\n",
              "AP                500.392157  400.000000\n",
              "BA                513.807829  531.650485\n",
              "CE                499.892009  478.878924\n",
              "DF                554.939597  546.153846\n",
              "ES                543.744681  569.565217\n",
              "GO                524.852459  526.493506\n",
              "MA                510.023753  474.883721\n",
              "MG                558.619048  549.764706\n",
              "MS                499.652174  477.333333\n",
              "MT                523.513514  509.756098\n",
              "PA                530.073350  504.814815\n",
              "PB                535.740741  497.142857\n",
              "PE                531.068884  503.043478\n",
              "PI                495.000000  504.137931\n",
              "PR                518.213400  561.702128\n",
              "RJ                570.617284  563.272727\n",
              "RN                543.255814  606.666667\n",
              "RO                487.837838  548.571429\n",
              "RR                496.190476  420.000000\n",
              "RS                528.647230  523.428571\n",
              "SC                547.446809  543.809524\n",
              "SE                549.062500  529.600000\n",
              "SP                548.574530  561.000000\n",
              "TO                494.655172  576.250000"
            ]
          },
          "metadata": {
            "tags": []
          },
          "execution_count": 31
        }
      ]
    },
    {
      "cell_type": "code",
      "metadata": {
        "id": "eLZs_Ll3EDJ8",
        "colab_type": "code",
        "colab": {
          "base_uri": "https://localhost:8080/",
          "height": 917
        },
        "outputId": "0e9d8bde-a2e7-441c-d6cd-f0a8475a9a50"
      },
      "source": [
        "#por estado só a quantidade de candidatos\n",
        "pd.crosstab(dados.SG_UF_RESIDENCIA, dados.IN_TREINEIRO).rename(columns=treineiro)\n"
      ],
      "execution_count": 32,
      "outputs": [
        {
          "output_type": "execute_result",
          "data": {
            "text/html": [
              "<div>\n",
              "<style scoped>\n",
              "    .dataframe tbody tr th:only-of-type {\n",
              "        vertical-align: middle;\n",
              "    }\n",
              "\n",
              "    .dataframe tbody tr th {\n",
              "        vertical-align: top;\n",
              "    }\n",
              "\n",
              "    .dataframe thead th {\n",
              "        text-align: right;\n",
              "    }\n",
              "</style>\n",
              "<table border=\"1\" class=\"dataframe\">\n",
              "  <thead>\n",
              "    <tr style=\"text-align: right;\">\n",
              "      <th>IN_TREINEIRO</th>\n",
              "      <th>Não</th>\n",
              "      <th>Sim</th>\n",
              "    </tr>\n",
              "    <tr>\n",
              "      <th>SG_UF_RESIDENCIA</th>\n",
              "      <th></th>\n",
              "      <th></th>\n",
              "    </tr>\n",
              "  </thead>\n",
              "  <tbody>\n",
              "    <tr>\n",
              "      <th>AC</th>\n",
              "      <td>64</td>\n",
              "      <td>3</td>\n",
              "    </tr>\n",
              "    <tr>\n",
              "      <th>AL</th>\n",
              "      <td>199</td>\n",
              "      <td>11</td>\n",
              "    </tr>\n",
              "    <tr>\n",
              "      <th>AM</th>\n",
              "      <td>250</td>\n",
              "      <td>24</td>\n",
              "    </tr>\n",
              "    <tr>\n",
              "      <th>AP</th>\n",
              "      <td>70</td>\n",
              "      <td>3</td>\n",
              "    </tr>\n",
              "    <tr>\n",
              "      <th>BA</th>\n",
              "      <td>792</td>\n",
              "      <td>120</td>\n",
              "    </tr>\n",
              "    <tr>\n",
              "      <th>CE</th>\n",
              "      <td>1266</td>\n",
              "      <td>519</td>\n",
              "    </tr>\n",
              "    <tr>\n",
              "      <th>DF</th>\n",
              "      <td>218</td>\n",
              "      <td>14</td>\n",
              "    </tr>\n",
              "    <tr>\n",
              "      <th>ES</th>\n",
              "      <td>245</td>\n",
              "      <td>27</td>\n",
              "    </tr>\n",
              "    <tr>\n",
              "      <th>GO</th>\n",
              "      <td>410</td>\n",
              "      <td>92</td>\n",
              "    </tr>\n",
              "    <tr>\n",
              "      <th>MA</th>\n",
              "      <td>538</td>\n",
              "      <td>55</td>\n",
              "    </tr>\n",
              "    <tr>\n",
              "      <th>MG</th>\n",
              "      <td>1183</td>\n",
              "      <td>191</td>\n",
              "    </tr>\n",
              "    <tr>\n",
              "      <th>MS</th>\n",
              "      <td>170</td>\n",
              "      <td>17</td>\n",
              "    </tr>\n",
              "    <tr>\n",
              "      <th>MT</th>\n",
              "      <td>221</td>\n",
              "      <td>50</td>\n",
              "    </tr>\n",
              "    <tr>\n",
              "      <th>PA</th>\n",
              "      <td>527</td>\n",
              "      <td>67</td>\n",
              "    </tr>\n",
              "    <tr>\n",
              "      <th>PB</th>\n",
              "      <td>277</td>\n",
              "      <td>39</td>\n",
              "    </tr>\n",
              "    <tr>\n",
              "      <th>PE</th>\n",
              "      <td>566</td>\n",
              "      <td>53</td>\n",
              "    </tr>\n",
              "    <tr>\n",
              "      <th>PI</th>\n",
              "      <td>260</td>\n",
              "      <td>32</td>\n",
              "    </tr>\n",
              "    <tr>\n",
              "      <th>PR</th>\n",
              "      <td>573</td>\n",
              "      <td>64</td>\n",
              "    </tr>\n",
              "    <tr>\n",
              "      <th>RJ</th>\n",
              "      <td>737</td>\n",
              "      <td>67</td>\n",
              "    </tr>\n",
              "    <tr>\n",
              "      <th>RN</th>\n",
              "      <td>241</td>\n",
              "      <td>17</td>\n",
              "    </tr>\n",
              "    <tr>\n",
              "      <th>RO</th>\n",
              "      <td>100</td>\n",
              "      <td>8</td>\n",
              "    </tr>\n",
              "    <tr>\n",
              "      <th>RR</th>\n",
              "      <td>32</td>\n",
              "      <td>1</td>\n",
              "    </tr>\n",
              "    <tr>\n",
              "      <th>RS</th>\n",
              "      <td>515</td>\n",
              "      <td>41</td>\n",
              "    </tr>\n",
              "    <tr>\n",
              "      <th>SC</th>\n",
              "      <td>248</td>\n",
              "      <td>25</td>\n",
              "    </tr>\n",
              "    <tr>\n",
              "      <th>SE</th>\n",
              "      <td>157</td>\n",
              "      <td>26</td>\n",
              "    </tr>\n",
              "    <tr>\n",
              "      <th>SP</th>\n",
              "      <td>1938</td>\n",
              "      <td>200</td>\n",
              "    </tr>\n",
              "    <tr>\n",
              "      <th>TO</th>\n",
              "      <td>150</td>\n",
              "      <td>17</td>\n",
              "    </tr>\n",
              "  </tbody>\n",
              "</table>\n",
              "</div>"
            ],
            "text/plain": [
              "IN_TREINEIRO       Não  Sim\n",
              "SG_UF_RESIDENCIA           \n",
              "AC                  64    3\n",
              "AL                 199   11\n",
              "AM                 250   24\n",
              "AP                  70    3\n",
              "BA                 792  120\n",
              "CE                1266  519\n",
              "DF                 218   14\n",
              "ES                 245   27\n",
              "GO                 410   92\n",
              "MA                 538   55\n",
              "MG                1183  191\n",
              "MS                 170   17\n",
              "MT                 221   50\n",
              "PA                 527   67\n",
              "PB                 277   39\n",
              "PE                 566   53\n",
              "PI                 260   32\n",
              "PR                 573   64\n",
              "RJ                 737   67\n",
              "RN                 241   17\n",
              "RO                 100    8\n",
              "RR                  32    1\n",
              "RS                 515   41\n",
              "SC                 248   25\n",
              "SE                 157   26\n",
              "SP                1938  200\n",
              "TO                 150   17"
            ]
          },
          "metadata": {
            "tags": []
          },
          "execution_count": 32
        }
      ]
    },
    {
      "cell_type": "code",
      "metadata": {
        "id": "uOD3f5TcmaNN",
        "colab_type": "code",
        "colab": {
          "base_uri": "https://localhost:8080/",
          "height": 386
        },
        "outputId": "795fbea4-1603-456e-e8f8-deec6aa2325a"
      },
      "source": [
        "#por idade - apenas para visualização\n",
        "plt.figure(figsize=(8,8))\n",
        "ax = sns.catplot(x='IN_TREINEIRO', y='NU_IDADE', data=treino)\n"
      ],
      "execution_count": 33,
      "outputs": [
        {
          "output_type": "display_data",
          "data": {
            "text/plain": [
              "<Figure size 576x576 with 0 Axes>"
            ]
          },
          "metadata": {
            "tags": []
          }
        },
        {
          "output_type": "display_data",
          "data": {
            "image/png": "[encoded data removed]",
            "text/plain": [
              "<Figure size 360x360 with 1 Axes>"
            ]
          },
          "metadata": {
            "tags": [],
            "needs_background": "light"
          }
        }
      ]
    },
    {
      "cell_type": "code",
      "metadata": {
        "id": "ZiV31zQpEFqc",
        "colab_type": "code",
        "colab": {
          "base_uri": "https://localhost:8080/",
          "height": 142
        },
        "outputId": "6fadf9d6-9064-4118-f7de-0c5694af1914"
      },
      "source": [
        "#por tipo de ensino\n",
        "pd.crosstab(dados.IN_TREINEIRO, dados.TP_ESCOLA).rename(index=treineiro, columns=escola)"
      ],
      "execution_count": 34,
      "outputs": [
        {
          "output_type": "execute_result",
          "data": {
            "text/html": [
              "<div>\n",
              "<style scoped>\n",
              "    .dataframe tbody tr th:only-of-type {\n",
              "        vertical-align: middle;\n",
              "    }\n",
              "\n",
              "    .dataframe tbody tr th {\n",
              "        vertical-align: top;\n",
              "    }\n",
              "\n",
              "    .dataframe thead th {\n",
              "        text-align: right;\n",
              "    }\n",
              "</style>\n",
              "<table border=\"1\" class=\"dataframe\">\n",
              "  <thead>\n",
              "    <tr style=\"text-align: right;\">\n",
              "      <th>TP_ESCOLA</th>\n",
              "      <th>Não Respondeu</th>\n",
              "      <th>Pública</th>\n",
              "      <th>Privada</th>\n",
              "      <th>Exterior</th>\n",
              "    </tr>\n",
              "    <tr>\n",
              "      <th>IN_TREINEIRO</th>\n",
              "      <th></th>\n",
              "      <th></th>\n",
              "      <th></th>\n",
              "      <th></th>\n",
              "    </tr>\n",
              "  </thead>\n",
              "  <tbody>\n",
              "    <tr>\n",
              "      <th>Não</th>\n",
              "      <td>7664</td>\n",
              "      <td>3713</td>\n",
              "      <td>569</td>\n",
              "      <td>1</td>\n",
              "    </tr>\n",
              "    <tr>\n",
              "      <th>Sim</th>\n",
              "      <td>1783</td>\n",
              "      <td>0</td>\n",
              "      <td>0</td>\n",
              "      <td>0</td>\n",
              "    </tr>\n",
              "  </tbody>\n",
              "</table>\n",
              "</div>"
            ],
            "text/plain": [
              "TP_ESCOLA     Não Respondeu  Pública  Privada  Exterior\n",
              "IN_TREINEIRO                                           \n",
              "Não                    7664     3713      569         1\n",
              "Sim                    1783        0        0         0"
            ]
          },
          "metadata": {
            "tags": []
          },
          "execution_count": 34
        }
      ]
    },
    {
      "cell_type": "code",
      "metadata": {
        "id": "fCyqiwmVHUh9",
        "colab_type": "code",
        "colab": {
          "base_uri": "https://localhost:8080/",
          "height": 142
        },
        "outputId": "89bca3b0-1ca3-4048-9e4c-d300cdb5fe06"
      },
      "source": [
        "#por presença nas provas de Ciências Naturais\n",
        "pd.crosstab(dados.IN_TREINEIRO, dados.TP_PRESENCA_CN).rename(index=treineiro, columns=presenca)\n",
        "         "
      ],
      "execution_count": 35,
      "outputs": [
        {
          "output_type": "execute_result",
          "data": {
            "text/html": [
              "<div>\n",
              "<style scoped>\n",
              "    .dataframe tbody tr th:only-of-type {\n",
              "        vertical-align: middle;\n",
              "    }\n",
              "\n",
              "    .dataframe tbody tr th {\n",
              "        vertical-align: top;\n",
              "    }\n",
              "\n",
              "    .dataframe thead th {\n",
              "        text-align: right;\n",
              "    }\n",
              "</style>\n",
              "<table border=\"1\" class=\"dataframe\">\n",
              "  <thead>\n",
              "    <tr style=\"text-align: right;\">\n",
              "      <th>TP_PRESENCA_CN</th>\n",
              "      <th>Faltou</th>\n",
              "      <th>Presente</th>\n",
              "      <th>Eliminado</th>\n",
              "    </tr>\n",
              "    <tr>\n",
              "      <th>IN_TREINEIRO</th>\n",
              "      <th></th>\n",
              "      <th></th>\n",
              "      <th></th>\n",
              "    </tr>\n",
              "  </thead>\n",
              "  <tbody>\n",
              "    <tr>\n",
              "      <th>Não</th>\n",
              "      <td>3130</td>\n",
              "      <td>8809</td>\n",
              "      <td>8</td>\n",
              "    </tr>\n",
              "    <tr>\n",
              "      <th>Sim</th>\n",
              "      <td>250</td>\n",
              "      <td>1532</td>\n",
              "      <td>1</td>\n",
              "    </tr>\n",
              "  </tbody>\n",
              "</table>\n",
              "</div>"
            ],
            "text/plain": [
              "TP_PRESENCA_CN  Faltou  Presente  Eliminado\n",
              "IN_TREINEIRO                               \n",
              "Não               3130      8809          8\n",
              "Sim                250      1532          1"
            ]
          },
          "metadata": {
            "tags": []
          },
          "execution_count": 35
        }
      ]
    },
    {
      "cell_type": "code",
      "metadata": {
        "id": "JVn-mIwjI4HF",
        "colab_type": "code",
        "colab": {
          "base_uri": "https://localhost:8080/",
          "height": 142
        },
        "outputId": "83a50f09-24fd-448d-d163-b1281f980d9e"
      },
      "source": [
        "#por presença nas provas de Linguagem e Código\n",
        "pd.crosstab(dados.IN_TREINEIRO, dados.TP_PRESENCA_LC).rename(index=treineiro, columns=presenca)\n"
      ],
      "execution_count": 36,
      "outputs": [
        {
          "output_type": "execute_result",
          "data": {
            "text/html": [
              "<div>\n",
              "<style scoped>\n",
              "    .dataframe tbody tr th:only-of-type {\n",
              "        vertical-align: middle;\n",
              "    }\n",
              "\n",
              "    .dataframe tbody tr th {\n",
              "        vertical-align: top;\n",
              "    }\n",
              "\n",
              "    .dataframe thead th {\n",
              "        text-align: right;\n",
              "    }\n",
              "</style>\n",
              "<table border=\"1\" class=\"dataframe\">\n",
              "  <thead>\n",
              "    <tr style=\"text-align: right;\">\n",
              "      <th>TP_PRESENCA_LC</th>\n",
              "      <th>Faltou</th>\n",
              "      <th>Presente</th>\n",
              "      <th>Eliminado</th>\n",
              "    </tr>\n",
              "    <tr>\n",
              "      <th>IN_TREINEIRO</th>\n",
              "      <th></th>\n",
              "      <th></th>\n",
              "      <th></th>\n",
              "    </tr>\n",
              "  </thead>\n",
              "  <tbody>\n",
              "    <tr>\n",
              "      <th>Não</th>\n",
              "      <td>3314</td>\n",
              "      <td>8628</td>\n",
              "      <td>5</td>\n",
              "    </tr>\n",
              "    <tr>\n",
              "      <th>Sim</th>\n",
              "      <td>278</td>\n",
              "      <td>1505</td>\n",
              "      <td>0</td>\n",
              "    </tr>\n",
              "  </tbody>\n",
              "</table>\n",
              "</div>"
            ],
            "text/plain": [
              "TP_PRESENCA_LC  Faltou  Presente  Eliminado\n",
              "IN_TREINEIRO                               \n",
              "Não               3314      8628          5\n",
              "Sim                278      1505          0"
            ]
          },
          "metadata": {
            "tags": []
          },
          "execution_count": 36
        }
      ]
    },
    {
      "cell_type": "code",
      "metadata": {
        "id": "ZbwaBZ1eJDQC",
        "colab_type": "code",
        "colab": {
          "base_uri": "https://localhost:8080/",
          "height": 34
        },
        "outputId": "50e67ea3-d34c-4b74-8826-ee1bcfa01d05"
      },
      "source": [
        "#visualizando o percentual de pessoas que faltaram no total\n",
        "3314/(8628+3314+5)"
      ],
      "execution_count": 37,
      "outputs": [
        {
          "output_type": "execute_result",
          "data": {
            "text/plain": [
              "0.2773918138444798"
            ]
          },
          "metadata": {
            "tags": []
          },
          "execution_count": 37
        }
      ]
    },
    {
      "cell_type": "code",
      "metadata": {
        "id": "Y6VycXSvJEe6",
        "colab_type": "code",
        "colab": {
          "base_uri": "https://localhost:8080/",
          "height": 34
        },
        "outputId": "f25cb9d7-fecf-4b40-9ba9-7cd92349867d"
      },
      "source": [
        "#visualizando o percentual de treineiros faltantes\n",
        "278/1783"
      ],
      "execution_count": 38,
      "outputs": [
        {
          "output_type": "execute_result",
          "data": {
            "text/plain": [
              "0.15591699383062255"
            ]
          },
          "metadata": {
            "tags": []
          },
          "execution_count": 38
        }
      ]
    },
    {
      "cell_type": "code",
      "metadata": {
        "id": "FkbZ7qFIMior",
        "colab_type": "code",
        "colab": {}
      },
      "source": [
        "#conferindo se a presença dos treineiros é igual à média geral\n",
        "treineiros = DescrStatsW(dados_treineiro['TP_PRESENCA_CN'].dropna())\n",
        "total = DescrStatsW(dados['TP_PRESENCA_CN'].dropna())"
      ],
      "execution_count": 39,
      "outputs": []
    },
    {
      "cell_type": "code",
      "metadata": {
        "id": "SviI21CJNIGj",
        "colab_type": "code",
        "colab": {
          "base_uri": "https://localhost:8080/",
          "height": 119
        },
        "outputId": "ff772221-51d1-46e8-a17e-f93768dda853"
      },
      "source": [
        "#podemos descartar a hipótese nula\n",
        "print(treineiros.get_compare(total).summary())"
      ],
      "execution_count": 40,
      "outputs": [
        {
          "output_type": "stream",
          "text": [
            "                          Test for equality of means                          \n",
            "==============================================================================\n",
            "                 coef    std err          t      P>|t|      [0.025      0.975]\n",
            "------------------------------------------------------------------------------\n",
            "subset #1      0.1059      0.011      9.938      0.000       0.085       0.127\n",
            "==============================================================================\n"
          ],
          "name": "stdout"
        }
      ]
    },
    {
      "cell_type": "code",
      "metadata": {
        "id": "msfsB_jhNNiT",
        "colab_type": "code",
        "colab": {}
      },
      "source": [
        "#conferindo se a presença dos treineiros é igual à aos que fazem pra valer\n",
        "oficiais = DescrStatsW(dados_oficial['TP_PRESENCA_CN'].dropna())"
      ],
      "execution_count": 41,
      "outputs": []
    },
    {
      "cell_type": "code",
      "metadata": {
        "id": "dlHYvrlZNjeS",
        "colab_type": "code",
        "colab": {
          "base_uri": "https://localhost:8080/",
          "height": 119
        },
        "outputId": "c5ae1834-2a29-42e2-eb44-5f3ced4df2ad"
      },
      "source": [
        "#podemos descartar a hipótese nula\n",
        "print(treineiros.get_compare(oficiais).summary())"
      ],
      "execution_count": 42,
      "outputs": [
        {
          "output_type": "stream",
          "text": [
            "                          Test for equality of means                          \n",
            "==============================================================================\n",
            "                 coef    std err          t      P>|t|      [0.025      0.975]\n",
            "------------------------------------------------------------------------------\n",
            "subset #1      0.1217      0.011     11.145      0.000       0.100       0.143\n",
            "==============================================================================\n"
          ],
          "name": "stdout"
        }
      ]
    },
    {
      "cell_type": "markdown",
      "metadata": {
        "id": "ub7qk0MSUEsW",
        "colab_type": "text"
      },
      "source": [
        "### MANIPULANDO OS DADOS\n"
      ]
    },
    {
      "cell_type": "code",
      "metadata": {
        "id": "1DRhJnZJNlta",
        "colab_type": "code",
        "colab": {}
      },
      "source": [
        "#COLOCANDO A INSCRIÇÃO COMO INDEX\n",
        "dados.set_index('NU_INSCRICAO', inplace=True)"
      ],
      "execution_count": 43,
      "outputs": []
    },
    {
      "cell_type": "code",
      "metadata": {
        "id": "4rH7BVmZUNhc",
        "colab_type": "code",
        "colab": {
          "base_uri": "https://localhost:8080/",
          "height": 255
        },
        "outputId": "22ff640c-9b84-412a-d41e-70502f52dda0"
      },
      "source": [
        "dados.head()"
      ],
      "execution_count": 44,
      "outputs": [
        {
          "output_type": "execute_result",
          "data": {
            "text/html": [
              "<div>\n",
              "<style scoped>\n",
              "    .dataframe tbody tr th:only-of-type {\n",
              "        vertical-align: middle;\n",
              "    }\n",
              "\n",
              "    .dataframe tbody tr th {\n",
              "        vertical-align: top;\n",
              "    }\n",
              "\n",
              "    .dataframe thead th {\n",
              "        text-align: right;\n",
              "    }\n",
              "</style>\n",
              "<table border=\"1\" class=\"dataframe\">\n",
              "  <thead>\n",
              "    <tr style=\"text-align: right;\">\n",
              "      <th></th>\n",
              "      <th>CO_UF_RESIDENCIA</th>\n",
              "      <th>SG_UF_RESIDENCIA</th>\n",
              "      <th>NU_IDADE</th>\n",
              "      <th>TP_SEXO</th>\n",
              "      <th>TP_COR_RACA</th>\n",
              "      <th>TP_NACIONALIDADE</th>\n",
              "      <th>TP_ST_CONCLUSAO</th>\n",
              "      <th>TP_ANO_CONCLUIU</th>\n",
              "      <th>TP_ESCOLA</th>\n",
              "      <th>TP_ENSINO</th>\n",
              "      <th>TP_DEPENDENCIA_ADM_ESC</th>\n",
              "      <th>IN_BAIXA_VISAO</th>\n",
              "      <th>IN_CEGUEIRA</th>\n",
              "      <th>IN_SURDEZ</th>\n",
              "      <th>IN_DISLEXIA</th>\n",
              "      <th>IN_DISCALCULIA</th>\n",
              "      <th>IN_SABATISTA</th>\n",
              "      <th>IN_GESTANTE</th>\n",
              "      <th>IN_IDOSO</th>\n",
              "      <th>TP_PRESENCA_CN</th>\n",
              "      <th>TP_PRESENCA_CH</th>\n",
              "      <th>TP_PRESENCA_LC</th>\n",
              "      <th>TP_PRESENCA_MT</th>\n",
              "      <th>NU_NOTA_CN</th>\n",
              "      <th>NU_NOTA_CH</th>\n",
              "      <th>NU_NOTA_LC</th>\n",
              "      <th>TP_LINGUA</th>\n",
              "      <th>TP_STATUS_REDACAO</th>\n",
              "      <th>NU_NOTA_COMP1</th>\n",
              "      <th>NU_NOTA_COMP2</th>\n",
              "      <th>NU_NOTA_COMP3</th>\n",
              "      <th>NU_NOTA_COMP4</th>\n",
              "      <th>NU_NOTA_COMP5</th>\n",
              "      <th>NU_NOTA_REDACAO</th>\n",
              "      <th>Q001</th>\n",
              "      <th>Q002</th>\n",
              "      <th>Q006</th>\n",
              "      <th>Q024</th>\n",
              "      <th>Q025</th>\n",
              "      <th>Q026</th>\n",
              "      <th>Q027</th>\n",
              "      <th>Q047</th>\n",
              "      <th>IN_TREINEIRO</th>\n",
              "    </tr>\n",
              "    <tr>\n",
              "      <th>NU_INSCRICAO</th>\n",
              "      <th></th>\n",
              "      <th></th>\n",
              "      <th></th>\n",
              "      <th></th>\n",
              "      <th></th>\n",
              "      <th></th>\n",
              "      <th></th>\n",
              "      <th></th>\n",
              "      <th></th>\n",
              "      <th></th>\n",
              "      <th></th>\n",
              "      <th></th>\n",
              "      <th></th>\n",
              "      <th></th>\n",
              "      <th></th>\n",
              "      <th></th>\n",
              "      <th></th>\n",
              "      <th></th>\n",
              "      <th></th>\n",
              "      <th></th>\n",
              "      <th></th>\n",
              "      <th></th>\n",
              "      <th></th>\n",
              "      <th></th>\n",
              "      <th></th>\n",
              "      <th></th>\n",
              "      <th></th>\n",
              "      <th></th>\n",
              "      <th></th>\n",
              "      <th></th>\n",
              "      <th></th>\n",
              "      <th></th>\n",
              "      <th></th>\n",
              "      <th></th>\n",
              "      <th></th>\n",
              "      <th></th>\n",
              "      <th></th>\n",
              "      <th></th>\n",
              "      <th></th>\n",
              "      <th></th>\n",
              "      <th></th>\n",
              "      <th></th>\n",
              "      <th></th>\n",
              "    </tr>\n",
              "  </thead>\n",
              "  <tbody>\n",
              "    <tr>\n",
              "      <th>ed50e8aaa58e7a806c337585efee9ca41f1eb1ad</th>\n",
              "      <td>43</td>\n",
              "      <td>RS</td>\n",
              "      <td>24</td>\n",
              "      <td>M</td>\n",
              "      <td>1</td>\n",
              "      <td>1</td>\n",
              "      <td>1</td>\n",
              "      <td>4</td>\n",
              "      <td>1</td>\n",
              "      <td>NaN</td>\n",
              "      <td>NaN</td>\n",
              "      <td>0</td>\n",
              "      <td>0</td>\n",
              "      <td>0</td>\n",
              "      <td>0</td>\n",
              "      <td>0</td>\n",
              "      <td>0</td>\n",
              "      <td>0</td>\n",
              "      <td>0</td>\n",
              "      <td>1</td>\n",
              "      <td>1</td>\n",
              "      <td>1</td>\n",
              "      <td>1</td>\n",
              "      <td>436.3</td>\n",
              "      <td>495.4</td>\n",
              "      <td>581.2</td>\n",
              "      <td>1</td>\n",
              "      <td>1.0</td>\n",
              "      <td>120.0</td>\n",
              "      <td>120.0</td>\n",
              "      <td>120.0</td>\n",
              "      <td>80.0</td>\n",
              "      <td>80.0</td>\n",
              "      <td>520.0</td>\n",
              "      <td>D</td>\n",
              "      <td>D</td>\n",
              "      <td>C</td>\n",
              "      <td>A</td>\n",
              "      <td>A</td>\n",
              "      <td>C</td>\n",
              "      <td>H</td>\n",
              "      <td>A</td>\n",
              "      <td>0</td>\n",
              "    </tr>\n",
              "    <tr>\n",
              "      <th>2c3acac4b33ec2b195d77e7c04a2d75727fad723</th>\n",
              "      <td>23</td>\n",
              "      <td>CE</td>\n",
              "      <td>17</td>\n",
              "      <td>F</td>\n",
              "      <td>3</td>\n",
              "      <td>1</td>\n",
              "      <td>2</td>\n",
              "      <td>0</td>\n",
              "      <td>2</td>\n",
              "      <td>1.0</td>\n",
              "      <td>2.0</td>\n",
              "      <td>0</td>\n",
              "      <td>0</td>\n",
              "      <td>0</td>\n",
              "      <td>0</td>\n",
              "      <td>0</td>\n",
              "      <td>0</td>\n",
              "      <td>0</td>\n",
              "      <td>0</td>\n",
              "      <td>1</td>\n",
              "      <td>1</td>\n",
              "      <td>1</td>\n",
              "      <td>1</td>\n",
              "      <td>474.5</td>\n",
              "      <td>544.1</td>\n",
              "      <td>599.0</td>\n",
              "      <td>1</td>\n",
              "      <td>1.0</td>\n",
              "      <td>140.0</td>\n",
              "      <td>120.0</td>\n",
              "      <td>120.0</td>\n",
              "      <td>120.0</td>\n",
              "      <td>80.0</td>\n",
              "      <td>580.0</td>\n",
              "      <td>A</td>\n",
              "      <td>A</td>\n",
              "      <td>B</td>\n",
              "      <td>A</td>\n",
              "      <td>A</td>\n",
              "      <td>A</td>\n",
              "      <td>NaN</td>\n",
              "      <td>A</td>\n",
              "      <td>0</td>\n",
              "    </tr>\n",
              "    <tr>\n",
              "      <th>f4545f8ccb9ff5c8aad7d32951b3f251a26e6568</th>\n",
              "      <td>23</td>\n",
              "      <td>CE</td>\n",
              "      <td>21</td>\n",
              "      <td>F</td>\n",
              "      <td>3</td>\n",
              "      <td>1</td>\n",
              "      <td>3</td>\n",
              "      <td>0</td>\n",
              "      <td>1</td>\n",
              "      <td>NaN</td>\n",
              "      <td>NaN</td>\n",
              "      <td>0</td>\n",
              "      <td>0</td>\n",
              "      <td>0</td>\n",
              "      <td>0</td>\n",
              "      <td>0</td>\n",
              "      <td>0</td>\n",
              "      <td>0</td>\n",
              "      <td>0</td>\n",
              "      <td>0</td>\n",
              "      <td>0</td>\n",
              "      <td>0</td>\n",
              "      <td>0</td>\n",
              "      <td>NaN</td>\n",
              "      <td>NaN</td>\n",
              "      <td>NaN</td>\n",
              "      <td>1</td>\n",
              "      <td>NaN</td>\n",
              "      <td>NaN</td>\n",
              "      <td>NaN</td>\n",
              "      <td>NaN</td>\n",
              "      <td>NaN</td>\n",
              "      <td>NaN</td>\n",
              "      <td>NaN</td>\n",
              "      <td>D</td>\n",
              "      <td>D</td>\n",
              "      <td>C</td>\n",
              "      <td>A</td>\n",
              "      <td>A</td>\n",
              "      <td>A</td>\n",
              "      <td>NaN</td>\n",
              "      <td>A</td>\n",
              "      <td>0</td>\n",
              "    </tr>\n",
              "    <tr>\n",
              "      <th>3d6ec248fef899c414e77f82d5c6d2bffbeaf7fe</th>\n",
              "      <td>33</td>\n",
              "      <td>RJ</td>\n",
              "      <td>25</td>\n",
              "      <td>F</td>\n",
              "      <td>0</td>\n",
              "      <td>1</td>\n",
              "      <td>1</td>\n",
              "      <td>9</td>\n",
              "      <td>1</td>\n",
              "      <td>NaN</td>\n",
              "      <td>NaN</td>\n",
              "      <td>0</td>\n",
              "      <td>0</td>\n",
              "      <td>0</td>\n",
              "      <td>0</td>\n",
              "      <td>0</td>\n",
              "      <td>0</td>\n",
              "      <td>0</td>\n",
              "      <td>0</td>\n",
              "      <td>0</td>\n",
              "      <td>0</td>\n",
              "      <td>0</td>\n",
              "      <td>0</td>\n",
              "      <td>NaN</td>\n",
              "      <td>NaN</td>\n",
              "      <td>NaN</td>\n",
              "      <td>0</td>\n",
              "      <td>NaN</td>\n",
              "      <td>NaN</td>\n",
              "      <td>NaN</td>\n",
              "      <td>NaN</td>\n",
              "      <td>NaN</td>\n",
              "      <td>NaN</td>\n",
              "      <td>NaN</td>\n",
              "      <td>H</td>\n",
              "      <td>E</td>\n",
              "      <td>E</td>\n",
              "      <td>C</td>\n",
              "      <td>B</td>\n",
              "      <td>C</td>\n",
              "      <td>F</td>\n",
              "      <td>D</td>\n",
              "      <td>0</td>\n",
              "    </tr>\n",
              "    <tr>\n",
              "      <th>bf896ac8d3ecadd6dba1dfbf50110afcbf5d3268</th>\n",
              "      <td>13</td>\n",
              "      <td>AM</td>\n",
              "      <td>28</td>\n",
              "      <td>M</td>\n",
              "      <td>2</td>\n",
              "      <td>1</td>\n",
              "      <td>1</td>\n",
              "      <td>4</td>\n",
              "      <td>1</td>\n",
              "      <td>NaN</td>\n",
              "      <td>NaN</td>\n",
              "      <td>0</td>\n",
              "      <td>0</td>\n",
              "      <td>0</td>\n",
              "      <td>0</td>\n",
              "      <td>0</td>\n",
              "      <td>0</td>\n",
              "      <td>0</td>\n",
              "      <td>0</td>\n",
              "      <td>0</td>\n",
              "      <td>0</td>\n",
              "      <td>0</td>\n",
              "      <td>0</td>\n",
              "      <td>NaN</td>\n",
              "      <td>NaN</td>\n",
              "      <td>NaN</td>\n",
              "      <td>1</td>\n",
              "      <td>NaN</td>\n",
              "      <td>NaN</td>\n",
              "      <td>NaN</td>\n",
              "      <td>NaN</td>\n",
              "      <td>NaN</td>\n",
              "      <td>NaN</td>\n",
              "      <td>NaN</td>\n",
              "      <td>E</td>\n",
              "      <td>D</td>\n",
              "      <td>C</td>\n",
              "      <td>A</td>\n",
              "      <td>A</td>\n",
              "      <td>B</td>\n",
              "      <td>F</td>\n",
              "      <td>A</td>\n",
              "      <td>0</td>\n",
              "    </tr>\n",
              "  </tbody>\n",
              "</table>\n",
              "</div>"
            ],
            "text/plain": [
              "                                          CO_UF_RESIDENCIA  ... IN_TREINEIRO\n",
              "NU_INSCRICAO                                                ...             \n",
              "ed50e8aaa58e7a806c337585efee9ca41f1eb1ad                43  ...            0\n",
              "2c3acac4b33ec2b195d77e7c04a2d75727fad723                23  ...            0\n",
              "f4545f8ccb9ff5c8aad7d32951b3f251a26e6568                23  ...            0\n",
              "3d6ec248fef899c414e77f82d5c6d2bffbeaf7fe                33  ...            0\n",
              "bf896ac8d3ecadd6dba1dfbf50110afcbf5d3268                13  ...            0\n",
              "\n",
              "[5 rows x 43 columns]"
            ]
          },
          "metadata": {
            "tags": []
          },
          "execution_count": 44
        }
      ]
    },
    {
      "cell_type": "code",
      "metadata": {
        "id": "76rJ97euUO2c",
        "colab_type": "code",
        "colab": {}
      },
      "source": [
        "#REAJUSTANDO AS COLUNAS DE TESTE PARA CONTER APENAS DADOS NUMÉRICOS\n",
        "\n",
        "dados_numericos = dados.select_dtypes(include='number')"
      ],
      "execution_count": 45,
      "outputs": []
    },
    {
      "cell_type": "code",
      "metadata": {
        "id": "uBoykfVpUtrd",
        "colab_type": "code",
        "colab": {
          "base_uri": "https://localhost:8080/",
          "height": 470
        },
        "outputId": "69142263-9a18-4edb-ba8d-3adba0a791ff"
      },
      "source": [
        "dados_numericos"
      ],
      "execution_count": 46,
      "outputs": [
        {
          "output_type": "execute_result",
          "data": {
            "text/html": [
              "<div>\n",
              "<style scoped>\n",
              "    .dataframe tbody tr th:only-of-type {\n",
              "        vertical-align: middle;\n",
              "    }\n",
              "\n",
              "    .dataframe tbody tr th {\n",
              "        vertical-align: top;\n",
              "    }\n",
              "\n",
              "    .dataframe thead th {\n",
              "        text-align: right;\n",
              "    }\n",
              "</style>\n",
              "<table border=\"1\" class=\"dataframe\">\n",
              "  <thead>\n",
              "    <tr style=\"text-align: right;\">\n",
              "      <th></th>\n",
              "      <th>CO_UF_RESIDENCIA</th>\n",
              "      <th>NU_IDADE</th>\n",
              "      <th>TP_COR_RACA</th>\n",
              "      <th>TP_NACIONALIDADE</th>\n",
              "      <th>TP_ST_CONCLUSAO</th>\n",
              "      <th>TP_ANO_CONCLUIU</th>\n",
              "      <th>TP_ESCOLA</th>\n",
              "      <th>TP_ENSINO</th>\n",
              "      <th>TP_DEPENDENCIA_ADM_ESC</th>\n",
              "      <th>IN_BAIXA_VISAO</th>\n",
              "      <th>IN_CEGUEIRA</th>\n",
              "      <th>IN_SURDEZ</th>\n",
              "      <th>IN_DISLEXIA</th>\n",
              "      <th>IN_DISCALCULIA</th>\n",
              "      <th>IN_SABATISTA</th>\n",
              "      <th>IN_GESTANTE</th>\n",
              "      <th>IN_IDOSO</th>\n",
              "      <th>TP_PRESENCA_CN</th>\n",
              "      <th>TP_PRESENCA_CH</th>\n",
              "      <th>TP_PRESENCA_LC</th>\n",
              "      <th>TP_PRESENCA_MT</th>\n",
              "      <th>NU_NOTA_CN</th>\n",
              "      <th>NU_NOTA_CH</th>\n",
              "      <th>NU_NOTA_LC</th>\n",
              "      <th>TP_LINGUA</th>\n",
              "      <th>TP_STATUS_REDACAO</th>\n",
              "      <th>NU_NOTA_COMP1</th>\n",
              "      <th>NU_NOTA_COMP2</th>\n",
              "      <th>NU_NOTA_COMP3</th>\n",
              "      <th>NU_NOTA_COMP4</th>\n",
              "      <th>NU_NOTA_COMP5</th>\n",
              "      <th>NU_NOTA_REDACAO</th>\n",
              "      <th>IN_TREINEIRO</th>\n",
              "    </tr>\n",
              "    <tr>\n",
              "      <th>NU_INSCRICAO</th>\n",
              "      <th></th>\n",
              "      <th></th>\n",
              "      <th></th>\n",
              "      <th></th>\n",
              "      <th></th>\n",
              "      <th></th>\n",
              "      <th></th>\n",
              "      <th></th>\n",
              "      <th></th>\n",
              "      <th></th>\n",
              "      <th></th>\n",
              "      <th></th>\n",
              "      <th></th>\n",
              "      <th></th>\n",
              "      <th></th>\n",
              "      <th></th>\n",
              "      <th></th>\n",
              "      <th></th>\n",
              "      <th></th>\n",
              "      <th></th>\n",
              "      <th></th>\n",
              "      <th></th>\n",
              "      <th></th>\n",
              "      <th></th>\n",
              "      <th></th>\n",
              "      <th></th>\n",
              "      <th></th>\n",
              "      <th></th>\n",
              "      <th></th>\n",
              "      <th></th>\n",
              "      <th></th>\n",
              "      <th></th>\n",
              "      <th></th>\n",
              "    </tr>\n",
              "  </thead>\n",
              "  <tbody>\n",
              "    <tr>\n",
              "      <th>ed50e8aaa58e7a806c337585efee9ca41f1eb1ad</th>\n",
              "      <td>43</td>\n",
              "      <td>24</td>\n",
              "      <td>1</td>\n",
              "      <td>1</td>\n",
              "      <td>1</td>\n",
              "      <td>4</td>\n",
              "      <td>1</td>\n",
              "      <td>NaN</td>\n",
              "      <td>NaN</td>\n",
              "      <td>0</td>\n",
              "      <td>0</td>\n",
              "      <td>0</td>\n",
              "      <td>0</td>\n",
              "      <td>0</td>\n",
              "      <td>0</td>\n",
              "      <td>0</td>\n",
              "      <td>0</td>\n",
              "      <td>1</td>\n",
              "      <td>1</td>\n",
              "      <td>1</td>\n",
              "      <td>1</td>\n",
              "      <td>436.3</td>\n",
              "      <td>495.4</td>\n",
              "      <td>581.2</td>\n",
              "      <td>1</td>\n",
              "      <td>1.0</td>\n",
              "      <td>120.0</td>\n",
              "      <td>120.0</td>\n",
              "      <td>120.0</td>\n",
              "      <td>80.0</td>\n",
              "      <td>80.0</td>\n",
              "      <td>520.0</td>\n",
              "      <td>0</td>\n",
              "    </tr>\n",
              "    <tr>\n",
              "      <th>2c3acac4b33ec2b195d77e7c04a2d75727fad723</th>\n",
              "      <td>23</td>\n",
              "      <td>17</td>\n",
              "      <td>3</td>\n",
              "      <td>1</td>\n",
              "      <td>2</td>\n",
              "      <td>0</td>\n",
              "      <td>2</td>\n",
              "      <td>1.0</td>\n",
              "      <td>2.0</td>\n",
              "      <td>0</td>\n",
              "      <td>0</td>\n",
              "      <td>0</td>\n",
              "      <td>0</td>\n",
              "      <td>0</td>\n",
              "      <td>0</td>\n",
              "      <td>0</td>\n",
              "      <td>0</td>\n",
              "      <td>1</td>\n",
              "      <td>1</td>\n",
              "      <td>1</td>\n",
              "      <td>1</td>\n",
              "      <td>474.5</td>\n",
              "      <td>544.1</td>\n",
              "      <td>599.0</td>\n",
              "      <td>1</td>\n",
              "      <td>1.0</td>\n",
              "      <td>140.0</td>\n",
              "      <td>120.0</td>\n",
              "      <td>120.0</td>\n",
              "      <td>120.0</td>\n",
              "      <td>80.0</td>\n",
              "      <td>580.0</td>\n",
              "      <td>0</td>\n",
              "    </tr>\n",
              "    <tr>\n",
              "      <th>f4545f8ccb9ff5c8aad7d32951b3f251a26e6568</th>\n",
              "      <td>23</td>\n",
              "      <td>21</td>\n",
              "      <td>3</td>\n",
              "      <td>1</td>\n",
              "      <td>3</td>\n",
              "      <td>0</td>\n",
              "      <td>1</td>\n",
              "      <td>NaN</td>\n",
              "      <td>NaN</td>\n",
              "      <td>0</td>\n",
              "      <td>0</td>\n",
              "      <td>0</td>\n",
              "      <td>0</td>\n",
              "      <td>0</td>\n",
              "      <td>0</td>\n",
              "      <td>0</td>\n",
              "      <td>0</td>\n",
              "      <td>0</td>\n",
              "      <td>0</td>\n",
              "      <td>0</td>\n",
              "      <td>0</td>\n",
              "      <td>NaN</td>\n",
              "      <td>NaN</td>\n",
              "      <td>NaN</td>\n",
              "      <td>1</td>\n",
              "      <td>NaN</td>\n",
              "      <td>NaN</td>\n",
              "      <td>NaN</td>\n",
              "      <td>NaN</td>\n",
              "      <td>NaN</td>\n",
              "      <td>NaN</td>\n",
              "      <td>NaN</td>\n",
              "      <td>0</td>\n",
              "    </tr>\n",
              "    <tr>\n",
              "      <th>3d6ec248fef899c414e77f82d5c6d2bffbeaf7fe</th>\n",
              "      <td>33</td>\n",
              "      <td>25</td>\n",
              "      <td>0</td>\n",
              "      <td>1</td>\n",
              "      <td>1</td>\n",
              "      <td>9</td>\n",
              "      <td>1</td>\n",
              "      <td>NaN</td>\n",
              "      <td>NaN</td>\n",
              "      <td>0</td>\n",
              "      <td>0</td>\n",
              "      <td>0</td>\n",
              "      <td>0</td>\n",
              "      <td>0</td>\n",
              "      <td>0</td>\n",
              "      <td>0</td>\n",
              "      <td>0</td>\n",
              "      <td>0</td>\n",
              "      <td>0</td>\n",
              "      <td>0</td>\n",
              "      <td>0</td>\n",
              "      <td>NaN</td>\n",
              "      <td>NaN</td>\n",
              "      <td>NaN</td>\n",
              "      <td>0</td>\n",
              "      <td>NaN</td>\n",
              "      <td>NaN</td>\n",
              "      <td>NaN</td>\n",
              "      <td>NaN</td>\n",
              "      <td>NaN</td>\n",
              "      <td>NaN</td>\n",
              "      <td>NaN</td>\n",
              "      <td>0</td>\n",
              "    </tr>\n",
              "    <tr>\n",
              "      <th>bf896ac8d3ecadd6dba1dfbf50110afcbf5d3268</th>\n",
              "      <td>13</td>\n",
              "      <td>28</td>\n",
              "      <td>2</td>\n",
              "      <td>1</td>\n",
              "      <td>1</td>\n",
              "      <td>4</td>\n",
              "      <td>1</td>\n",
              "      <td>NaN</td>\n",
              "      <td>NaN</td>\n",
              "      <td>0</td>\n",
              "      <td>0</td>\n",
              "      <td>0</td>\n",
              "      <td>0</td>\n",
              "      <td>0</td>\n",
              "      <td>0</td>\n",
              "      <td>0</td>\n",
              "      <td>0</td>\n",
              "      <td>0</td>\n",
              "      <td>0</td>\n",
              "      <td>0</td>\n",
              "      <td>0</td>\n",
              "      <td>NaN</td>\n",
              "      <td>NaN</td>\n",
              "      <td>NaN</td>\n",
              "      <td>1</td>\n",
              "      <td>NaN</td>\n",
              "      <td>NaN</td>\n",
              "      <td>NaN</td>\n",
              "      <td>NaN</td>\n",
              "      <td>NaN</td>\n",
              "      <td>NaN</td>\n",
              "      <td>NaN</td>\n",
              "      <td>0</td>\n",
              "    </tr>\n",
              "    <tr>\n",
              "      <th>...</th>\n",
              "      <td>...</td>\n",
              "      <td>...</td>\n",
              "      <td>...</td>\n",
              "      <td>...</td>\n",
              "      <td>...</td>\n",
              "      <td>...</td>\n",
              "      <td>...</td>\n",
              "      <td>...</td>\n",
              "      <td>...</td>\n",
              "      <td>...</td>\n",
              "      <td>...</td>\n",
              "      <td>...</td>\n",
              "      <td>...</td>\n",
              "      <td>...</td>\n",
              "      <td>...</td>\n",
              "      <td>...</td>\n",
              "      <td>...</td>\n",
              "      <td>...</td>\n",
              "      <td>...</td>\n",
              "      <td>...</td>\n",
              "      <td>...</td>\n",
              "      <td>...</td>\n",
              "      <td>...</td>\n",
              "      <td>...</td>\n",
              "      <td>...</td>\n",
              "      <td>...</td>\n",
              "      <td>...</td>\n",
              "      <td>...</td>\n",
              "      <td>...</td>\n",
              "      <td>...</td>\n",
              "      <td>...</td>\n",
              "      <td>...</td>\n",
              "      <td>...</td>\n",
              "    </tr>\n",
              "    <tr>\n",
              "      <th>aadf671ef8c1c6efa42e69432093ab83c17a52ac</th>\n",
              "      <td>35</td>\n",
              "      <td>20</td>\n",
              "      <td>1</td>\n",
              "      <td>1</td>\n",
              "      <td>1</td>\n",
              "      <td>3</td>\n",
              "      <td>1</td>\n",
              "      <td>NaN</td>\n",
              "      <td>NaN</td>\n",
              "      <td>0</td>\n",
              "      <td>0</td>\n",
              "      <td>0</td>\n",
              "      <td>0</td>\n",
              "      <td>0</td>\n",
              "      <td>0</td>\n",
              "      <td>0</td>\n",
              "      <td>0</td>\n",
              "      <td>1</td>\n",
              "      <td>1</td>\n",
              "      <td>1</td>\n",
              "      <td>1</td>\n",
              "      <td>438.2</td>\n",
              "      <td>419.7</td>\n",
              "      <td>394.5</td>\n",
              "      <td>0</td>\n",
              "      <td>1.0</td>\n",
              "      <td>120.0</td>\n",
              "      <td>120.0</td>\n",
              "      <td>80.0</td>\n",
              "      <td>80.0</td>\n",
              "      <td>40.0</td>\n",
              "      <td>440.0</td>\n",
              "      <td>0</td>\n",
              "    </tr>\n",
              "    <tr>\n",
              "      <th>461f7ef2753d9d5fa0b054930d6b0e0eec318e81</th>\n",
              "      <td>26</td>\n",
              "      <td>33</td>\n",
              "      <td>3</td>\n",
              "      <td>2</td>\n",
              "      <td>1</td>\n",
              "      <td>10</td>\n",
              "      <td>1</td>\n",
              "      <td>NaN</td>\n",
              "      <td>NaN</td>\n",
              "      <td>0</td>\n",
              "      <td>0</td>\n",
              "      <td>0</td>\n",
              "      <td>0</td>\n",
              "      <td>0</td>\n",
              "      <td>0</td>\n",
              "      <td>0</td>\n",
              "      <td>0</td>\n",
              "      <td>1</td>\n",
              "      <td>1</td>\n",
              "      <td>1</td>\n",
              "      <td>1</td>\n",
              "      <td>423.8</td>\n",
              "      <td>557.9</td>\n",
              "      <td>533.0</td>\n",
              "      <td>1</td>\n",
              "      <td>1.0</td>\n",
              "      <td>120.0</td>\n",
              "      <td>120.0</td>\n",
              "      <td>120.0</td>\n",
              "      <td>120.0</td>\n",
              "      <td>80.0</td>\n",
              "      <td>560.0</td>\n",
              "      <td>0</td>\n",
              "    </tr>\n",
              "    <tr>\n",
              "      <th>5354503700ecf2388f68990435390b6e1ad454ee</th>\n",
              "      <td>43</td>\n",
              "      <td>15</td>\n",
              "      <td>1</td>\n",
              "      <td>1</td>\n",
              "      <td>3</td>\n",
              "      <td>0</td>\n",
              "      <td>1</td>\n",
              "      <td>NaN</td>\n",
              "      <td>NaN</td>\n",
              "      <td>0</td>\n",
              "      <td>0</td>\n",
              "      <td>0</td>\n",
              "      <td>0</td>\n",
              "      <td>0</td>\n",
              "      <td>0</td>\n",
              "      <td>0</td>\n",
              "      <td>0</td>\n",
              "      <td>1</td>\n",
              "      <td>1</td>\n",
              "      <td>1</td>\n",
              "      <td>1</td>\n",
              "      <td>460.5</td>\n",
              "      <td>528.9</td>\n",
              "      <td>569.3</td>\n",
              "      <td>0</td>\n",
              "      <td>1.0</td>\n",
              "      <td>120.0</td>\n",
              "      <td>120.0</td>\n",
              "      <td>120.0</td>\n",
              "      <td>120.0</td>\n",
              "      <td>120.0</td>\n",
              "      <td>600.0</td>\n",
              "      <td>1</td>\n",
              "    </tr>\n",
              "    <tr>\n",
              "      <th>c7a9e94a42bd76b7978f13c013a61702e36cc42c</th>\n",
              "      <td>33</td>\n",
              "      <td>36</td>\n",
              "      <td>3</td>\n",
              "      <td>1</td>\n",
              "      <td>4</td>\n",
              "      <td>0</td>\n",
              "      <td>1</td>\n",
              "      <td>NaN</td>\n",
              "      <td>NaN</td>\n",
              "      <td>0</td>\n",
              "      <td>0</td>\n",
              "      <td>0</td>\n",
              "      <td>0</td>\n",
              "      <td>0</td>\n",
              "      <td>0</td>\n",
              "      <td>0</td>\n",
              "      <td>0</td>\n",
              "      <td>1</td>\n",
              "      <td>1</td>\n",
              "      <td>1</td>\n",
              "      <td>1</td>\n",
              "      <td>422.5</td>\n",
              "      <td>621.7</td>\n",
              "      <td>569.0</td>\n",
              "      <td>1</td>\n",
              "      <td>1.0</td>\n",
              "      <td>100.0</td>\n",
              "      <td>100.0</td>\n",
              "      <td>80.0</td>\n",
              "      <td>80.0</td>\n",
              "      <td>100.0</td>\n",
              "      <td>460.0</td>\n",
              "      <td>0</td>\n",
              "    </tr>\n",
              "    <tr>\n",
              "      <th>0af8939c470a600b30bdaa80375ee0db848b0e35</th>\n",
              "      <td>41</td>\n",
              "      <td>17</td>\n",
              "      <td>1</td>\n",
              "      <td>1</td>\n",
              "      <td>2</td>\n",
              "      <td>0</td>\n",
              "      <td>2</td>\n",
              "      <td>1.0</td>\n",
              "      <td>2.0</td>\n",
              "      <td>0</td>\n",
              "      <td>0</td>\n",
              "      <td>0</td>\n",
              "      <td>0</td>\n",
              "      <td>0</td>\n",
              "      <td>0</td>\n",
              "      <td>0</td>\n",
              "      <td>0</td>\n",
              "      <td>1</td>\n",
              "      <td>1</td>\n",
              "      <td>1</td>\n",
              "      <td>1</td>\n",
              "      <td>488.7</td>\n",
              "      <td>575.3</td>\n",
              "      <td>565.9</td>\n",
              "      <td>0</td>\n",
              "      <td>1.0</td>\n",
              "      <td>120.0</td>\n",
              "      <td>120.0</td>\n",
              "      <td>80.0</td>\n",
              "      <td>120.0</td>\n",
              "      <td>80.0</td>\n",
              "      <td>520.0</td>\n",
              "      <td>0</td>\n",
              "    </tr>\n",
              "  </tbody>\n",
              "</table>\n",
              "<p>13730 rows × 33 columns</p>\n",
              "</div>"
            ],
            "text/plain": [
              "                                          CO_UF_RESIDENCIA  ...  IN_TREINEIRO\n",
              "NU_INSCRICAO                                                ...              \n",
              "ed50e8aaa58e7a806c337585efee9ca41f1eb1ad                43  ...             0\n",
              "2c3acac4b33ec2b195d77e7c04a2d75727fad723                23  ...             0\n",
              "f4545f8ccb9ff5c8aad7d32951b3f251a26e6568                23  ...             0\n",
              "3d6ec248fef899c414e77f82d5c6d2bffbeaf7fe                33  ...             0\n",
              "bf896ac8d3ecadd6dba1dfbf50110afcbf5d3268                13  ...             0\n",
              "...                                                    ...  ...           ...\n",
              "aadf671ef8c1c6efa42e69432093ab83c17a52ac                35  ...             0\n",
              "461f7ef2753d9d5fa0b054930d6b0e0eec318e81                26  ...             0\n",
              "5354503700ecf2388f68990435390b6e1ad454ee                43  ...             1\n",
              "c7a9e94a42bd76b7978f13c013a61702e36cc42c                33  ...             0\n",
              "0af8939c470a600b30bdaa80375ee0db848b0e35                41  ...             0\n",
              "\n",
              "[13730 rows x 33 columns]"
            ]
          },
          "metadata": {
            "tags": []
          },
          "execution_count": 46
        }
      ]
    },
    {
      "cell_type": "code",
      "metadata": {
        "id": "-EZFDb82Uu5s",
        "colab_type": "code",
        "colab": {
          "base_uri": "https://localhost:8080/",
          "height": 255
        },
        "outputId": "a40fa988-09d6-427c-8e7b-5873b1279fae"
      },
      "source": [
        "#TRATANDOS OS NULOS IMPUTANDO UM NÚMERO NEGATIVO\n",
        "dados_tratados = dados_numericos.fillna(-1)\n",
        "dados_tratados.head()"
      ],
      "execution_count": 47,
      "outputs": [
        {
          "output_type": "execute_result",
          "data": {
            "text/html": [
              "<div>\n",
              "<style scoped>\n",
              "    .dataframe tbody tr th:only-of-type {\n",
              "        vertical-align: middle;\n",
              "    }\n",
              "\n",
              "    .dataframe tbody tr th {\n",
              "        vertical-align: top;\n",
              "    }\n",
              "\n",
              "    .dataframe thead th {\n",
              "        text-align: right;\n",
              "    }\n",
              "</style>\n",
              "<table border=\"1\" class=\"dataframe\">\n",
              "  <thead>\n",
              "    <tr style=\"text-align: right;\">\n",
              "      <th></th>\n",
              "      <th>CO_UF_RESIDENCIA</th>\n",
              "      <th>NU_IDADE</th>\n",
              "      <th>TP_COR_RACA</th>\n",
              "      <th>TP_NACIONALIDADE</th>\n",
              "      <th>TP_ST_CONCLUSAO</th>\n",
              "      <th>TP_ANO_CONCLUIU</th>\n",
              "      <th>TP_ESCOLA</th>\n",
              "      <th>TP_ENSINO</th>\n",
              "      <th>TP_DEPENDENCIA_ADM_ESC</th>\n",
              "      <th>IN_BAIXA_VISAO</th>\n",
              "      <th>IN_CEGUEIRA</th>\n",
              "      <th>IN_SURDEZ</th>\n",
              "      <th>IN_DISLEXIA</th>\n",
              "      <th>IN_DISCALCULIA</th>\n",
              "      <th>IN_SABATISTA</th>\n",
              "      <th>IN_GESTANTE</th>\n",
              "      <th>IN_IDOSO</th>\n",
              "      <th>TP_PRESENCA_CN</th>\n",
              "      <th>TP_PRESENCA_CH</th>\n",
              "      <th>TP_PRESENCA_LC</th>\n",
              "      <th>TP_PRESENCA_MT</th>\n",
              "      <th>NU_NOTA_CN</th>\n",
              "      <th>NU_NOTA_CH</th>\n",
              "      <th>NU_NOTA_LC</th>\n",
              "      <th>TP_LINGUA</th>\n",
              "      <th>TP_STATUS_REDACAO</th>\n",
              "      <th>NU_NOTA_COMP1</th>\n",
              "      <th>NU_NOTA_COMP2</th>\n",
              "      <th>NU_NOTA_COMP3</th>\n",
              "      <th>NU_NOTA_COMP4</th>\n",
              "      <th>NU_NOTA_COMP5</th>\n",
              "      <th>NU_NOTA_REDACAO</th>\n",
              "      <th>IN_TREINEIRO</th>\n",
              "    </tr>\n",
              "    <tr>\n",
              "      <th>NU_INSCRICAO</th>\n",
              "      <th></th>\n",
              "      <th></th>\n",
              "      <th></th>\n",
              "      <th></th>\n",
              "      <th></th>\n",
              "      <th></th>\n",
              "      <th></th>\n",
              "      <th></th>\n",
              "      <th></th>\n",
              "      <th></th>\n",
              "      <th></th>\n",
              "      <th></th>\n",
              "      <th></th>\n",
              "      <th></th>\n",
              "      <th></th>\n",
              "      <th></th>\n",
              "      <th></th>\n",
              "      <th></th>\n",
              "      <th></th>\n",
              "      <th></th>\n",
              "      <th></th>\n",
              "      <th></th>\n",
              "      <th></th>\n",
              "      <th></th>\n",
              "      <th></th>\n",
              "      <th></th>\n",
              "      <th></th>\n",
              "      <th></th>\n",
              "      <th></th>\n",
              "      <th></th>\n",
              "      <th></th>\n",
              "      <th></th>\n",
              "      <th></th>\n",
              "    </tr>\n",
              "  </thead>\n",
              "  <tbody>\n",
              "    <tr>\n",
              "      <th>ed50e8aaa58e7a806c337585efee9ca41f1eb1ad</th>\n",
              "      <td>43</td>\n",
              "      <td>24</td>\n",
              "      <td>1</td>\n",
              "      <td>1</td>\n",
              "      <td>1</td>\n",
              "      <td>4</td>\n",
              "      <td>1</td>\n",
              "      <td>-1.0</td>\n",
              "      <td>-1.0</td>\n",
              "      <td>0</td>\n",
              "      <td>0</td>\n",
              "      <td>0</td>\n",
              "      <td>0</td>\n",
              "      <td>0</td>\n",
              "      <td>0</td>\n",
              "      <td>0</td>\n",
              "      <td>0</td>\n",
              "      <td>1</td>\n",
              "      <td>1</td>\n",
              "      <td>1</td>\n",
              "      <td>1</td>\n",
              "      <td>436.3</td>\n",
              "      <td>495.4</td>\n",
              "      <td>581.2</td>\n",
              "      <td>1</td>\n",
              "      <td>1.0</td>\n",
              "      <td>120.0</td>\n",
              "      <td>120.0</td>\n",
              "      <td>120.0</td>\n",
              "      <td>80.0</td>\n",
              "      <td>80.0</td>\n",
              "      <td>520.0</td>\n",
              "      <td>0</td>\n",
              "    </tr>\n",
              "    <tr>\n",
              "      <th>2c3acac4b33ec2b195d77e7c04a2d75727fad723</th>\n",
              "      <td>23</td>\n",
              "      <td>17</td>\n",
              "      <td>3</td>\n",
              "      <td>1</td>\n",
              "      <td>2</td>\n",
              "      <td>0</td>\n",
              "      <td>2</td>\n",
              "      <td>1.0</td>\n",
              "      <td>2.0</td>\n",
              "      <td>0</td>\n",
              "      <td>0</td>\n",
              "      <td>0</td>\n",
              "      <td>0</td>\n",
              "      <td>0</td>\n",
              "      <td>0</td>\n",
              "      <td>0</td>\n",
              "      <td>0</td>\n",
              "      <td>1</td>\n",
              "      <td>1</td>\n",
              "      <td>1</td>\n",
              "      <td>1</td>\n",
              "      <td>474.5</td>\n",
              "      <td>544.1</td>\n",
              "      <td>599.0</td>\n",
              "      <td>1</td>\n",
              "      <td>1.0</td>\n",
              "      <td>140.0</td>\n",
              "      <td>120.0</td>\n",
              "      <td>120.0</td>\n",
              "      <td>120.0</td>\n",
              "      <td>80.0</td>\n",
              "      <td>580.0</td>\n",
              "      <td>0</td>\n",
              "    </tr>\n",
              "    <tr>\n",
              "      <th>f4545f8ccb9ff5c8aad7d32951b3f251a26e6568</th>\n",
              "      <td>23</td>\n",
              "      <td>21</td>\n",
              "      <td>3</td>\n",
              "      <td>1</td>\n",
              "      <td>3</td>\n",
              "      <td>0</td>\n",
              "      <td>1</td>\n",
              "      <td>-1.0</td>\n",
              "      <td>-1.0</td>\n",
              "      <td>0</td>\n",
              "      <td>0</td>\n",
              "      <td>0</td>\n",
              "      <td>0</td>\n",
              "      <td>0</td>\n",
              "      <td>0</td>\n",
              "      <td>0</td>\n",
              "      <td>0</td>\n",
              "      <td>0</td>\n",
              "      <td>0</td>\n",
              "      <td>0</td>\n",
              "      <td>0</td>\n",
              "      <td>-1.0</td>\n",
              "      <td>-1.0</td>\n",
              "      <td>-1.0</td>\n",
              "      <td>1</td>\n",
              "      <td>-1.0</td>\n",
              "      <td>-1.0</td>\n",
              "      <td>-1.0</td>\n",
              "      <td>-1.0</td>\n",
              "      <td>-1.0</td>\n",
              "      <td>-1.0</td>\n",
              "      <td>-1.0</td>\n",
              "      <td>0</td>\n",
              "    </tr>\n",
              "    <tr>\n",
              "      <th>3d6ec248fef899c414e77f82d5c6d2bffbeaf7fe</th>\n",
              "      <td>33</td>\n",
              "      <td>25</td>\n",
              "      <td>0</td>\n",
              "      <td>1</td>\n",
              "      <td>1</td>\n",
              "      <td>9</td>\n",
              "      <td>1</td>\n",
              "      <td>-1.0</td>\n",
              "      <td>-1.0</td>\n",
              "      <td>0</td>\n",
              "      <td>0</td>\n",
              "      <td>0</td>\n",
              "      <td>0</td>\n",
              "      <td>0</td>\n",
              "      <td>0</td>\n",
              "      <td>0</td>\n",
              "      <td>0</td>\n",
              "      <td>0</td>\n",
              "      <td>0</td>\n",
              "      <td>0</td>\n",
              "      <td>0</td>\n",
              "      <td>-1.0</td>\n",
              "      <td>-1.0</td>\n",
              "      <td>-1.0</td>\n",
              "      <td>0</td>\n",
              "      <td>-1.0</td>\n",
              "      <td>-1.0</td>\n",
              "      <td>-1.0</td>\n",
              "      <td>-1.0</td>\n",
              "      <td>-1.0</td>\n",
              "      <td>-1.0</td>\n",
              "      <td>-1.0</td>\n",
              "      <td>0</td>\n",
              "    </tr>\n",
              "    <tr>\n",
              "      <th>bf896ac8d3ecadd6dba1dfbf50110afcbf5d3268</th>\n",
              "      <td>13</td>\n",
              "      <td>28</td>\n",
              "      <td>2</td>\n",
              "      <td>1</td>\n",
              "      <td>1</td>\n",
              "      <td>4</td>\n",
              "      <td>1</td>\n",
              "      <td>-1.0</td>\n",
              "      <td>-1.0</td>\n",
              "      <td>0</td>\n",
              "      <td>0</td>\n",
              "      <td>0</td>\n",
              "      <td>0</td>\n",
              "      <td>0</td>\n",
              "      <td>0</td>\n",
              "      <td>0</td>\n",
              "      <td>0</td>\n",
              "      <td>0</td>\n",
              "      <td>0</td>\n",
              "      <td>0</td>\n",
              "      <td>0</td>\n",
              "      <td>-1.0</td>\n",
              "      <td>-1.0</td>\n",
              "      <td>-1.0</td>\n",
              "      <td>1</td>\n",
              "      <td>-1.0</td>\n",
              "      <td>-1.0</td>\n",
              "      <td>-1.0</td>\n",
              "      <td>-1.0</td>\n",
              "      <td>-1.0</td>\n",
              "      <td>-1.0</td>\n",
              "      <td>-1.0</td>\n",
              "      <td>0</td>\n",
              "    </tr>\n",
              "  </tbody>\n",
              "</table>\n",
              "</div>"
            ],
            "text/plain": [
              "                                          CO_UF_RESIDENCIA  ...  IN_TREINEIRO\n",
              "NU_INSCRICAO                                                ...              \n",
              "ed50e8aaa58e7a806c337585efee9ca41f1eb1ad                43  ...             0\n",
              "2c3acac4b33ec2b195d77e7c04a2d75727fad723                23  ...             0\n",
              "f4545f8ccb9ff5c8aad7d32951b3f251a26e6568                23  ...             0\n",
              "3d6ec248fef899c414e77f82d5c6d2bffbeaf7fe                33  ...             0\n",
              "bf896ac8d3ecadd6dba1dfbf50110afcbf5d3268                13  ...             0\n",
              "\n",
              "[5 rows x 33 columns]"
            ]
          },
          "metadata": {
            "tags": []
          },
          "execution_count": 47
        }
      ]
    },
    {
      "cell_type": "code",
      "metadata": {
        "id": "3HHrDWXEU6AE",
        "colab_type": "code",
        "colab": {}
      },
      "source": [
        "corr = dados_tratados.corr()"
      ],
      "execution_count": 48,
      "outputs": []
    },
    {
      "cell_type": "code",
      "metadata": {
        "id": "qNM7sCcSVMYj",
        "colab_type": "code",
        "colab": {}
      },
      "source": [
        "#função para criar heatmap\n",
        "def criar_heatmap(corr):\n",
        "  # Generate a mask for the upper triangle\n",
        "  mask = np.triu(np.ones_like(corr, dtype=np.bool))\n",
        "\n",
        "  # Set up the matplotlib figure\n",
        "  f, ax = plt.subplots(figsize=(11, 9))\n",
        "\n",
        "  # Generate a custom diverging colormap\n",
        "  cmap = sns.diverging_palette(220, 10, as_cmap=True)\n",
        "\n",
        "  # Draw the heatmap with the mask and correct aspect ratio\n",
        "  sns.heatmap(corr, mask=mask, cmap=cmap, vmax=.3, center=0,\n",
        "            square=True, linewidths=.5, cbar_kws={\"shrink\": .5}, annot=False)"
      ],
      "execution_count": 49,
      "outputs": []
    },
    {
      "cell_type": "code",
      "metadata": {
        "id": "IgyqMR40Vf9K",
        "colab_type": "code",
        "colab": {
          "base_uri": "https://localhost:8080/",
          "height": 669
        },
        "outputId": "6e0fc604-ef0b-469e-e9fa-8c77da7b8d8b"
      },
      "source": [
        "#criando um heatmap\n",
        "criar_heatmap(corr)"
      ],
      "execution_count": 50,
      "outputs": [
        {
          "output_type": "display_data",
          "data": {
            "image/png": "[encoded data removed]",
            "text/plain": [
              "<Figure size 792x648 with 2 Axes>"
            ]
          },
          "metadata": {
            "tags": [],
            "needs_background": "light"
          }
        }
      ]
    },
    {
      "cell_type": "markdown",
      "metadata": {
        "id": "1rvfoVxXYr0L",
        "colab_type": "text"
      },
      "source": [
        "## APLICANDO UM MODELO SEM SELEÇÃO DE FEATURES ALÉM DA LIMPEZA DAS FEATURES NÃO NUMÉRICAS"
      ]
    },
    {
      "cell_type": "code",
      "metadata": {
        "id": "Q4uy_kszWRVC",
        "colab_type": "code",
        "colab": {}
      },
      "source": [
        "X = dados_tratados.drop(['IN_TREINEIRO'], axis=1)\n",
        "Y = dados['IN_TREINEIRO']"
      ],
      "execution_count": 51,
      "outputs": []
    },
    {
      "cell_type": "code",
      "metadata": {
        "id": "BQDm81LxWV3x",
        "colab_type": "code",
        "colab": {
          "base_uri": "https://localhost:8080/",
          "height": 85
        },
        "outputId": "6a7bd5cc-15fd-4673-c375-679e37d304f3"
      },
      "source": [
        "#f(x) === y\n",
        "from sklearn.model_selection import train_test_split\n",
        "#random_state define uma matriz fixa. Neste caso foi usado um número aleatório, exemplo da aula\n",
        "#x_treino, x_teste, y_treino, y_teste = train_test_split(x,y_adivinhar, random_state = 326784)\n",
        "\n",
        "x_treino, x_teste, y_treino, y_teste = train_test_split(X,Y, random_state = 1606 )\n",
        "#devolve x_treino, x_teste, y_treino e y_teste\n",
        "print(x_treino.shape)\n",
        "print(x_teste.shape)\n",
        "print(y_treino.shape)\n",
        "print(y_teste.shape)"
      ],
      "execution_count": 52,
      "outputs": [
        {
          "output_type": "stream",
          "text": [
            "(10297, 32)\n",
            "(3433, 32)\n",
            "(10297,)\n",
            "(3433,)\n"
          ],
          "name": "stdout"
        }
      ]
    },
    {
      "cell_type": "markdown",
      "metadata": {
        "id": "W8scRFpaahFp",
        "colab_type": "text"
      },
      "source": [
        "#### Extra Tree Classifier"
      ]
    },
    {
      "cell_type": "code",
      "metadata": {
        "id": "FtLyo-dd_o7t",
        "colab_type": "code",
        "colab": {}
      },
      "source": [
        "#AVALIADORES\n",
        "from sklearn.metrics import confusion_matrix\n",
        "from sklearn.metrics import classification_report\n",
        "from sklearn.metrics import f1_score"
      ],
      "execution_count": 53,
      "outputs": []
    },
    {
      "cell_type": "code",
      "metadata": {
        "id": "X5Xtou1NYlof",
        "colab_type": "code",
        "colab": {}
      },
      "source": [
        "from sklearn.tree import ExtraTreeClassifier"
      ],
      "execution_count": 54,
      "outputs": []
    },
    {
      "cell_type": "code",
      "metadata": {
        "id": "E2EfCR49Y4_E",
        "colab_type": "code",
        "colab": {}
      },
      "source": [
        "#criando o modelo\n",
        "modelo = ExtraTreeClassifier(random_state=42)"
      ],
      "execution_count": 55,
      "outputs": []
    },
    {
      "cell_type": "code",
      "metadata": {
        "id": "OSZ_p_ceY72j",
        "colab_type": "code",
        "colab": {
          "base_uri": "https://localhost:8080/",
          "height": 119
        },
        "outputId": "01197e28-e1a6-434a-95e2-9b3ebe839659"
      },
      "source": [
        "#ajustando aos dados\n",
        "modelo.fit(x_treino, y_treino)"
      ],
      "execution_count": 56,
      "outputs": [
        {
          "output_type": "execute_result",
          "data": {
            "text/plain": [
              "ExtraTreeClassifier(ccp_alpha=0.0, class_weight=None, criterion='gini',\n",
              "                    max_depth=None, max_features='auto', max_leaf_nodes=None,\n",
              "                    min_impurity_decrease=0.0, min_impurity_split=None,\n",
              "                    min_samples_leaf=1, min_samples_split=2,\n",
              "                    min_weight_fraction_leaf=0.0, random_state=42,\n",
              "                    splitter='random')"
            ]
          },
          "metadata": {
            "tags": []
          },
          "execution_count": 56
        }
      ]
    },
    {
      "cell_type": "code",
      "metadata": {
        "id": "UFgqRiqFY-pb",
        "colab_type": "code",
        "colab": {}
      },
      "source": [
        "#fazendo a previsão\n",
        "y_previsto = modelo.predict(x_teste)"
      ],
      "execution_count": 57,
      "outputs": []
    },
    {
      "cell_type": "code",
      "metadata": {
        "id": "w7IDn5RDZLMr",
        "colab_type": "code",
        "colab": {
          "base_uri": "https://localhost:8080/",
          "height": 34
        },
        "outputId": "7634b99b-0416-4c66-b71d-031eb76dcd7d"
      },
      "source": [
        "#visualizando um score próprio para resultados binários\n",
        "f1_score(y_teste,y_previsto)"
      ],
      "execution_count": 58,
      "outputs": [
        {
          "output_type": "execute_result",
          "data": {
            "text/plain": [
              "0.9003436426116839"
            ]
          },
          "metadata": {
            "tags": []
          },
          "execution_count": 58
        }
      ]
    },
    {
      "cell_type": "code",
      "metadata": {
        "id": "5QhW3AyuAGP2",
        "colab_type": "code",
        "colab": {
          "base_uri": "https://localhost:8080/",
          "height": 51
        },
        "outputId": "8f650b42-23ed-420c-c971-44106050594b"
      },
      "source": [
        "confusion_matrix(y_teste,y_previsto)"
      ],
      "execution_count": 59,
      "outputs": [
        {
          "output_type": "execute_result",
          "data": {
            "text/plain": [
              "array([[2953,   43],\n",
              "       [  44,  393]])"
            ]
          },
          "metadata": {
            "tags": []
          },
          "execution_count": 59
        }
      ]
    },
    {
      "cell_type": "code",
      "metadata": {
        "id": "A73Oa5QCZBPb",
        "colab_type": "code",
        "colab": {
          "base_uri": "https://localhost:8080/",
          "height": 170
        },
        "outputId": "cb141258-e86b-4c0b-d1f9-39816cf48ef8"
      },
      "source": [
        "print(classification_report(y_teste, y_previsto, digits=4))"
      ],
      "execution_count": 60,
      "outputs": [
        {
          "output_type": "stream",
          "text": [
            "              precision    recall  f1-score   support\n",
            "\n",
            "           0     0.9853    0.9856    0.9855      2996\n",
            "           1     0.9014    0.8993    0.9003       437\n",
            "\n",
            "    accuracy                         0.9747      3433\n",
            "   macro avg     0.9433    0.9425    0.9429      3433\n",
            "weighted avg     0.9746    0.9747    0.9746      3433\n",
            "\n"
          ],
          "name": "stdout"
        }
      ]
    },
    {
      "cell_type": "markdown",
      "metadata": {
        "id": "r_xKDwGvakNi",
        "colab_type": "text"
      },
      "source": [
        "#### Random Forest Classifier"
      ]
    },
    {
      "cell_type": "code",
      "metadata": {
        "id": "su629AXWZSnT",
        "colab_type": "code",
        "colab": {}
      },
      "source": [
        "from sklearn.ensemble import RandomForestClassifier"
      ],
      "execution_count": 61,
      "outputs": []
    },
    {
      "cell_type": "code",
      "metadata": {
        "id": "0sY8Y06IZ7-y",
        "colab_type": "code",
        "colab": {}
      },
      "source": [
        "modelo2 = RandomForestClassifier(random_state=42)"
      ],
      "execution_count": 62,
      "outputs": []
    },
    {
      "cell_type": "code",
      "metadata": {
        "id": "WqJiRyMJZ-fR",
        "colab_type": "code",
        "colab": {
          "base_uri": "https://localhost:8080/",
          "height": 153
        },
        "outputId": "6793e442-a410-4e28-de25-2a257fec61ee"
      },
      "source": [
        "modelo2.fit(x_treino, y_treino)"
      ],
      "execution_count": 63,
      "outputs": [
        {
          "output_type": "execute_result",
          "data": {
            "text/plain": [
              "RandomForestClassifier(bootstrap=True, ccp_alpha=0.0, class_weight=None,\n",
              "                       criterion='gini', max_depth=None, max_features='auto',\n",
              "                       max_leaf_nodes=None, max_samples=None,\n",
              "                       min_impurity_decrease=0.0, min_impurity_split=None,\n",
              "                       min_samples_leaf=1, min_samples_split=2,\n",
              "                       min_weight_fraction_leaf=0.0, n_estimators=100,\n",
              "                       n_jobs=None, oob_score=False, random_state=42, verbose=0,\n",
              "                       warm_start=False)"
            ]
          },
          "metadata": {
            "tags": []
          },
          "execution_count": 63
        }
      ]
    },
    {
      "cell_type": "code",
      "metadata": {
        "id": "je2gq0-eaBsZ",
        "colab_type": "code",
        "colab": {}
      },
      "source": [
        "y_previsto_2 = modelo2.predict(x_teste)"
      ],
      "execution_count": 64,
      "outputs": []
    },
    {
      "cell_type": "code",
      "metadata": {
        "id": "s7_XcuaraHBy",
        "colab_type": "code",
        "colab": {
          "base_uri": "https://localhost:8080/",
          "height": 34
        },
        "outputId": "48406bae-675a-44c4-bc84-89651cc2313b"
      },
      "source": [
        "#avaliando o modelo\n",
        "f1_score(y_teste,y_previsto_2)"
      ],
      "execution_count": 65,
      "outputs": [
        {
          "output_type": "execute_result",
          "data": {
            "text/plain": [
              "0.9896432681242808"
            ]
          },
          "metadata": {
            "tags": []
          },
          "execution_count": 65
        }
      ]
    },
    {
      "cell_type": "code",
      "metadata": {
        "id": "VpEk0Nf3ANi4",
        "colab_type": "code",
        "colab": {
          "base_uri": "https://localhost:8080/",
          "height": 51
        },
        "outputId": "9fab64b9-a419-4aa5-fb37-6e860caeebb4"
      },
      "source": [
        "confusion_matrix(y_teste,y_previsto_2)"
      ],
      "execution_count": 66,
      "outputs": [
        {
          "output_type": "execute_result",
          "data": {
            "text/plain": [
              "array([[2994,    2],\n",
              "       [   7,  430]])"
            ]
          },
          "metadata": {
            "tags": []
          },
          "execution_count": 66
        }
      ]
    },
    {
      "cell_type": "code",
      "metadata": {
        "id": "Tb6Yoc5gBfQp",
        "colab_type": "code",
        "colab": {
          "base_uri": "https://localhost:8080/",
          "height": 170
        },
        "outputId": "cd3b69a7-b639-4d53-ba25-9a889f17c6d1"
      },
      "source": [
        "print(classification_report(y_teste, y_previsto_2, digits=4))"
      ],
      "execution_count": 67,
      "outputs": [
        {
          "output_type": "stream",
          "text": [
            "              precision    recall  f1-score   support\n",
            "\n",
            "           0     0.9977    0.9993    0.9985      2996\n",
            "           1     0.9954    0.9840    0.9896       437\n",
            "\n",
            "    accuracy                         0.9974      3433\n",
            "   macro avg     0.9965    0.9917    0.9941      3433\n",
            "weighted avg     0.9974    0.9974    0.9974      3433\n",
            "\n"
          ],
          "name": "stdout"
        }
      ]
    },
    {
      "cell_type": "markdown",
      "metadata": {
        "id": "lx46UysfaorB",
        "colab_type": "text"
      },
      "source": [
        "#### Bagging Classifier"
      ]
    },
    {
      "cell_type": "code",
      "metadata": {
        "id": "qQHcnE5eaJpp",
        "colab_type": "code",
        "colab": {}
      },
      "source": [
        "modelo3 = BaggingClassifier(random_state=42)"
      ],
      "execution_count": 68,
      "outputs": []
    },
    {
      "cell_type": "code",
      "metadata": {
        "id": "eoitt8dJayv3",
        "colab_type": "code",
        "colab": {
          "base_uri": "https://localhost:8080/",
          "height": 85
        },
        "outputId": "a0c3957b-ffc2-49cd-d62a-7a4d013237ec"
      },
      "source": [
        "modelo3.fit(x_treino, y_treino)"
      ],
      "execution_count": 69,
      "outputs": [
        {
          "output_type": "execute_result",
          "data": {
            "text/plain": [
              "BaggingClassifier(base_estimator=None, bootstrap=True, bootstrap_features=False,\n",
              "                  max_features=1.0, max_samples=1.0, n_estimators=10,\n",
              "                  n_jobs=None, oob_score=False, random_state=42, verbose=0,\n",
              "                  warm_start=False)"
            ]
          },
          "metadata": {
            "tags": []
          },
          "execution_count": 69
        }
      ]
    },
    {
      "cell_type": "code",
      "metadata": {
        "id": "zWkPSOZKay2c",
        "colab_type": "code",
        "colab": {}
      },
      "source": [
        "y_previsto_3 = modelo3.predict(x_teste)"
      ],
      "execution_count": 70,
      "outputs": []
    },
    {
      "cell_type": "code",
      "metadata": {
        "id": "jokT7aZfa-o3",
        "colab_type": "code",
        "colab": {
          "base_uri": "https://localhost:8080/",
          "height": 34
        },
        "outputId": "cc49c999-0164-4349-ccb9-e30aa4475988"
      },
      "source": [
        "#avaliando o modelo\n",
        "f1_score(y_teste,y_previsto_3)"
      ],
      "execution_count": 71,
      "outputs": [
        {
          "output_type": "execute_result",
          "data": {
            "text/plain": [
              "0.9873708381171069"
            ]
          },
          "metadata": {
            "tags": []
          },
          "execution_count": 71
        }
      ]
    },
    {
      "cell_type": "code",
      "metadata": {
        "id": "gDCMNA6wARq6",
        "colab_type": "code",
        "colab": {
          "base_uri": "https://localhost:8080/",
          "height": 51
        },
        "outputId": "f0eac05e-5712-4ee1-8878-8a6af0973222"
      },
      "source": [
        "confusion_matrix(y_teste,y_previsto_3)"
      ],
      "execution_count": 72,
      "outputs": [
        {
          "output_type": "execute_result",
          "data": {
            "text/plain": [
              "array([[2992,    4],\n",
              "       [   7,  430]])"
            ]
          },
          "metadata": {
            "tags": []
          },
          "execution_count": 72
        }
      ]
    },
    {
      "cell_type": "code",
      "metadata": {
        "id": "17SOBOUZBnWr",
        "colab_type": "code",
        "colab": {
          "base_uri": "https://localhost:8080/",
          "height": 170
        },
        "outputId": "8bb16c81-e1fa-4e02-fecd-286b8e88d321"
      },
      "source": [
        "print(classification_report(y_teste, y_previsto_3, digits=4))"
      ],
      "execution_count": 73,
      "outputs": [
        {
          "output_type": "stream",
          "text": [
            "              precision    recall  f1-score   support\n",
            "\n",
            "           0     0.9977    0.9987    0.9982      2996\n",
            "           1     0.9908    0.9840    0.9874       437\n",
            "\n",
            "    accuracy                         0.9968      3433\n",
            "   macro avg     0.9942    0.9913    0.9928      3433\n",
            "weighted avg     0.9968    0.9968    0.9968      3433\n",
            "\n"
          ],
          "name": "stdout"
        }
      ]
    },
    {
      "cell_type": "markdown",
      "metadata": {
        "id": "V65YP3OTas7L",
        "colab_type": "text"
      },
      "source": [
        "#### Regressão Logística"
      ]
    },
    {
      "cell_type": "code",
      "metadata": {
        "id": "eGJa5GzHausH",
        "colab_type": "code",
        "colab": {}
      },
      "source": [
        "modelo4 = LogisticRegression(max_iter=10000,random_state=42)"
      ],
      "execution_count": 74,
      "outputs": []
    },
    {
      "cell_type": "code",
      "metadata": {
        "id": "q9fdVfLQbDTj",
        "colab_type": "code",
        "colab": {
          "base_uri": "https://localhost:8080/",
          "height": 238
        },
        "outputId": "d68e2f01-15f3-453b-ff94-1e55cfb26d93"
      },
      "source": [
        "modelo4.fit(x_treino,y_treino)"
      ],
      "execution_count": 75,
      "outputs": [
        {
          "output_type": "stream",
          "text": [
            "/usr/local/lib/python3.6/dist-packages/sklearn/linear_model/_logistic.py:940: ConvergenceWarning: lbfgs failed to converge (status=1):\n",
            "STOP: TOTAL NO. of ITERATIONS REACHED LIMIT.\n",
            "\n",
            "Increase the number of iterations (max_iter) or scale the data as shown in:\n",
            "    https://scikit-learn.org/stable/modules/preprocessing.html\n",
            "Please also refer to the documentation for alternative solver options:\n",
            "    https://scikit-learn.org/stable/modules/linear_model.html#logistic-regression\n",
            "  extra_warning_msg=_LOGISTIC_SOLVER_CONVERGENCE_MSG)\n"
          ],
          "name": "stderr"
        },
        {
          "output_type": "execute_result",
          "data": {
            "text/plain": [
              "LogisticRegression(C=1.0, class_weight=None, dual=False, fit_intercept=True,\n",
              "                   intercept_scaling=1, l1_ratio=None, max_iter=10000,\n",
              "                   multi_class='auto', n_jobs=None, penalty='l2',\n",
              "                   random_state=42, solver='lbfgs', tol=0.0001, verbose=0,\n",
              "                   warm_start=False)"
            ]
          },
          "metadata": {
            "tags": []
          },
          "execution_count": 75
        }
      ]
    },
    {
      "cell_type": "code",
      "metadata": {
        "id": "AC73Dd7pbGvv",
        "colab_type": "code",
        "colab": {}
      },
      "source": [
        "y_previsto_4 = modelo4.predict(x_teste)"
      ],
      "execution_count": 76,
      "outputs": []
    },
    {
      "cell_type": "code",
      "metadata": {
        "id": "_XvdMZvxbYgf",
        "colab_type": "code",
        "colab": {
          "base_uri": "https://localhost:8080/",
          "height": 34
        },
        "outputId": "9c45831d-6759-4a48-cfec-b6894fdd9f20"
      },
      "source": [
        "f1_score(y_teste,y_previsto_4)"
      ],
      "execution_count": 77,
      "outputs": [
        {
          "output_type": "execute_result",
          "data": {
            "text/plain": [
              "0.9851088201603665"
            ]
          },
          "metadata": {
            "tags": []
          },
          "execution_count": 77
        }
      ]
    },
    {
      "cell_type": "code",
      "metadata": {
        "id": "pjZ1ckrA_rrz",
        "colab_type": "code",
        "colab": {
          "base_uri": "https://localhost:8080/",
          "height": 34
        },
        "outputId": "35e908f2-1660-4cc0-df3f-78d64d1f703c"
      },
      "source": [
        "tn, fp, fn, tp = confusion_matrix(y_teste,y_previsto_4).ravel() \n",
        "(tn, fp, fn, tp)"
      ],
      "execution_count": 78,
      "outputs": [
        {
          "output_type": "execute_result",
          "data": {
            "text/plain": [
              "(2990, 6, 7, 430)"
            ]
          },
          "metadata": {
            "tags": []
          },
          "execution_count": 78
        }
      ]
    },
    {
      "cell_type": "code",
      "metadata": {
        "id": "sfvA48vY68Le",
        "colab_type": "code",
        "colab": {
          "base_uri": "https://localhost:8080/",
          "height": 51
        },
        "outputId": "02366bcc-214d-4cbd-9f6e-249fc271bc3b"
      },
      "source": [
        "print(confusion_matrix(y_teste,y_previsto_4))"
      ],
      "execution_count": 79,
      "outputs": [
        {
          "output_type": "stream",
          "text": [
            "[[2990    6]\n",
            " [   7  430]]\n"
          ],
          "name": "stdout"
        }
      ]
    },
    {
      "cell_type": "code",
      "metadata": {
        "id": "NWSF0kxrBr47",
        "colab_type": "code",
        "colab": {
          "base_uri": "https://localhost:8080/",
          "height": 170
        },
        "outputId": "9799c1cb-8128-4422-a0fe-885e86c504f8"
      },
      "source": [
        "print(classification_report(y_teste,y_previsto_4, digits=4))"
      ],
      "execution_count": 80,
      "outputs": [
        {
          "output_type": "stream",
          "text": [
            "              precision    recall  f1-score   support\n",
            "\n",
            "           0     0.9977    0.9980    0.9978      2996\n",
            "           1     0.9862    0.9840    0.9851       437\n",
            "\n",
            "    accuracy                         0.9962      3433\n",
            "   macro avg     0.9920    0.9910    0.9915      3433\n",
            "weighted avg     0.9962    0.9962    0.9962      3433\n",
            "\n"
          ],
          "name": "stdout"
        }
      ]
    },
    {
      "cell_type": "markdown",
      "metadata": {
        "id": "Q-9aNqZ2cIA2",
        "colab_type": "text"
      },
      "source": [
        "### Definindo o Dummy"
      ]
    },
    {
      "cell_type": "code",
      "metadata": {
        "id": "dfoQ9LAhcHrg",
        "colab_type": "code",
        "colab": {
          "base_uri": "https://localhost:8080/",
          "height": 68
        },
        "outputId": "a574aa58-16b3-4b63-a62d-c184c6f357b3"
      },
      "source": [
        "#definindo um modelo de parâmetro para definir a acurácia do nosso modelo\n",
        "from sklearn.dummy import DummyClassifier\n",
        "\n",
        "modelo_dummy = DummyClassifier(random_state=42)\n",
        "modelo_dummy.fit(x_treino, y_treino)\n",
        "dummy_predicoes = modelo_dummy.predict(x_teste)\n",
        "\n",
        "avaliacao_dummy = f1_score(y_teste, dummy_predicoes)\n",
        "\n",
        "print(f\"Minha avaliação nos dados de teste foi de {avaliacao_dummy}\")"
      ],
      "execution_count": 81,
      "outputs": [
        {
          "output_type": "stream",
          "text": [
            "Minha avaliação nos dados de teste foi de 0.12684031710079277\n"
          ],
          "name": "stdout"
        },
        {
          "output_type": "stream",
          "text": [
            "/usr/local/lib/python3.6/dist-packages/sklearn/dummy.py:132: FutureWarning: The default value of strategy will change from stratified to prior in 0.24.\n",
            "  \"stratified to prior in 0.24.\", FutureWarning)\n"
          ],
          "name": "stderr"
        }
      ]
    },
    {
      "cell_type": "code",
      "metadata": {
        "id": "t2_zY2JKB39g",
        "colab_type": "code",
        "colab": {
          "base_uri": "https://localhost:8080/",
          "height": 170
        },
        "outputId": "fb913f42-2641-495f-dad9-086c0574b49b"
      },
      "source": [
        "print(classification_report(y_teste,dummy_predicoes, digits=4))"
      ],
      "execution_count": 82,
      "outputs": [
        {
          "output_type": "stream",
          "text": [
            "              precision    recall  f1-score   support\n",
            "\n",
            "           0     0.8724    0.8698    0.8711      2996\n",
            "           1     0.1256    0.1281    0.1268       437\n",
            "\n",
            "    accuracy                         0.7754      3433\n",
            "   macro avg     0.4990    0.4990    0.4990      3433\n",
            "weighted avg     0.7774    0.7754    0.7764      3433\n",
            "\n"
          ],
          "name": "stdout"
        }
      ]
    },
    {
      "cell_type": "markdown",
      "metadata": {
        "id": "sc2II91lbihv",
        "colab_type": "text"
      },
      "source": [
        "## FAZENDO FEATURE SELECTION COM RFE"
      ]
    },
    {
      "cell_type": "code",
      "metadata": {
        "id": "_q1tSV2rbZen",
        "colab_type": "code",
        "colab": {}
      },
      "source": [
        "from sklearn.feature_selection import RFECV"
      ],
      "execution_count": 83,
      "outputs": []
    },
    {
      "cell_type": "code",
      "metadata": {
        "id": "e9b-4bVvbq9f",
        "colab_type": "code",
        "colab": {}
      },
      "source": [
        "#usando Recursive Feature Selection com o RandomForestClassifier e Cross Validation\n",
        "rfe = RFECV(RandomForestClassifier())"
      ],
      "execution_count": 84,
      "outputs": []
    },
    {
      "cell_type": "code",
      "metadata": {
        "id": "Az_zUj6zbym2",
        "colab_type": "code",
        "colab": {
          "base_uri": "https://localhost:8080/",
          "height": 238
        },
        "outputId": "98dfb873-9b29-4702-889e-88d55532548a"
      },
      "source": [
        "#ajustando os dados ao RFE\n",
        "rfe.fit(X,Y)"
      ],
      "execution_count": 85,
      "outputs": [
        {
          "output_type": "execute_result",
          "data": {
            "text/plain": [
              "RFECV(cv=None,\n",
              "      estimator=RandomForestClassifier(bootstrap=True, ccp_alpha=0.0,\n",
              "                                       class_weight=None, criterion='gini',\n",
              "                                       max_depth=None, max_features='auto',\n",
              "                                       max_leaf_nodes=None, max_samples=None,\n",
              "                                       min_impurity_decrease=0.0,\n",
              "                                       min_impurity_split=None,\n",
              "                                       min_samples_leaf=1, min_samples_split=2,\n",
              "                                       min_weight_fraction_leaf=0.0,\n",
              "                                       n_estimators=100, n_jobs=None,\n",
              "                                       oob_score=False, random_state=None,\n",
              "                                       verbose=0, warm_start=False),\n",
              "      min_features_to_select=1, n_jobs=None, scoring=None, step=1, verbose=0)"
            ]
          },
          "metadata": {
            "tags": []
          },
          "execution_count": 85
        }
      ]
    },
    {
      "cell_type": "code",
      "metadata": {
        "id": "meqVm8bcb3ol",
        "colab_type": "code",
        "colab": {
          "base_uri": "https://localhost:8080/",
          "height": 34
        },
        "outputId": "aab63874-9be8-41b1-90d6-e4a7811a9b54"
      },
      "source": [
        "#Conferindo quantas features o modelo escolheu\n",
        "rfe.n_features_"
      ],
      "execution_count": 86,
      "outputs": [
        {
          "output_type": "execute_result",
          "data": {
            "text/plain": [
              "2"
            ]
          },
          "metadata": {
            "tags": []
          },
          "execution_count": 86
        }
      ]
    },
    {
      "cell_type": "code",
      "metadata": {
        "id": "LtkCDYejcfcg",
        "colab_type": "code",
        "colab": {}
      },
      "source": [
        "#criando um DF que junta o nome das colunas e a seleção dos features\n",
        "colunas = pd.DataFrame({'coluna':X.columns,\n",
        "              'bool': rfe.support_})"
      ],
      "execution_count": 87,
      "outputs": []
    },
    {
      "cell_type": "code",
      "metadata": {
        "id": "q7WY43sTcjME",
        "colab_type": "code",
        "colab": {}
      },
      "source": [
        "#conferindo as colunas escolhidas pelo modelo\n",
        "colunas_teste = list(colunas.loc[colunas['bool'] == True].coluna)"
      ],
      "execution_count": 88,
      "outputs": []
    },
    {
      "cell_type": "code",
      "metadata": {
        "id": "JzFALHn-c258",
        "colab_type": "code",
        "colab": {
          "base_uri": "https://localhost:8080/",
          "height": 34
        },
        "outputId": "08e97694-830e-4f36-ff7d-bf28df9098d5"
      },
      "source": [
        "colunas_teste"
      ],
      "execution_count": 89,
      "outputs": [
        {
          "output_type": "execute_result",
          "data": {
            "text/plain": [
              "['NU_IDADE', 'TP_ST_CONCLUSAO']"
            ]
          },
          "metadata": {
            "tags": []
          },
          "execution_count": 89
        }
      ]
    },
    {
      "cell_type": "code",
      "metadata": {
        "id": "blIkuefoc-mE",
        "colab_type": "code",
        "colab": {
          "base_uri": "https://localhost:8080/",
          "height": 450
        },
        "outputId": "d3b56347-d7d4-461c-c0c5-cc8a0325f302"
      },
      "source": [
        "#alterando a base de treino\n",
        "X_select = X[colunas_teste]\n",
        "X_select"
      ],
      "execution_count": 90,
      "outputs": [
        {
          "output_type": "execute_result",
          "data": {
            "text/html": [
              "<div>\n",
              "<style scoped>\n",
              "    .dataframe tbody tr th:only-of-type {\n",
              "        vertical-align: middle;\n",
              "    }\n",
              "\n",
              "    .dataframe tbody tr th {\n",
              "        vertical-align: top;\n",
              "    }\n",
              "\n",
              "    .dataframe thead th {\n",
              "        text-align: right;\n",
              "    }\n",
              "</style>\n",
              "<table border=\"1\" class=\"dataframe\">\n",
              "  <thead>\n",
              "    <tr style=\"text-align: right;\">\n",
              "      <th></th>\n",
              "      <th>NU_IDADE</th>\n",
              "      <th>TP_ST_CONCLUSAO</th>\n",
              "    </tr>\n",
              "    <tr>\n",
              "      <th>NU_INSCRICAO</th>\n",
              "      <th></th>\n",
              "      <th></th>\n",
              "    </tr>\n",
              "  </thead>\n",
              "  <tbody>\n",
              "    <tr>\n",
              "      <th>ed50e8aaa58e7a806c337585efee9ca41f1eb1ad</th>\n",
              "      <td>24</td>\n",
              "      <td>1</td>\n",
              "    </tr>\n",
              "    <tr>\n",
              "      <th>2c3acac4b33ec2b195d77e7c04a2d75727fad723</th>\n",
              "      <td>17</td>\n",
              "      <td>2</td>\n",
              "    </tr>\n",
              "    <tr>\n",
              "      <th>f4545f8ccb9ff5c8aad7d32951b3f251a26e6568</th>\n",
              "      <td>21</td>\n",
              "      <td>3</td>\n",
              "    </tr>\n",
              "    <tr>\n",
              "      <th>3d6ec248fef899c414e77f82d5c6d2bffbeaf7fe</th>\n",
              "      <td>25</td>\n",
              "      <td>1</td>\n",
              "    </tr>\n",
              "    <tr>\n",
              "      <th>bf896ac8d3ecadd6dba1dfbf50110afcbf5d3268</th>\n",
              "      <td>28</td>\n",
              "      <td>1</td>\n",
              "    </tr>\n",
              "    <tr>\n",
              "      <th>...</th>\n",
              "      <td>...</td>\n",
              "      <td>...</td>\n",
              "    </tr>\n",
              "    <tr>\n",
              "      <th>aadf671ef8c1c6efa42e69432093ab83c17a52ac</th>\n",
              "      <td>20</td>\n",
              "      <td>1</td>\n",
              "    </tr>\n",
              "    <tr>\n",
              "      <th>461f7ef2753d9d5fa0b054930d6b0e0eec318e81</th>\n",
              "      <td>33</td>\n",
              "      <td>1</td>\n",
              "    </tr>\n",
              "    <tr>\n",
              "      <th>5354503700ecf2388f68990435390b6e1ad454ee</th>\n",
              "      <td>15</td>\n",
              "      <td>3</td>\n",
              "    </tr>\n",
              "    <tr>\n",
              "      <th>c7a9e94a42bd76b7978f13c013a61702e36cc42c</th>\n",
              "      <td>36</td>\n",
              "      <td>4</td>\n",
              "    </tr>\n",
              "    <tr>\n",
              "      <th>0af8939c470a600b30bdaa80375ee0db848b0e35</th>\n",
              "      <td>17</td>\n",
              "      <td>2</td>\n",
              "    </tr>\n",
              "  </tbody>\n",
              "</table>\n",
              "<p>13730 rows × 2 columns</p>\n",
              "</div>"
            ],
            "text/plain": [
              "                                          NU_IDADE  TP_ST_CONCLUSAO\n",
              "NU_INSCRICAO                                                       \n",
              "ed50e8aaa58e7a806c337585efee9ca41f1eb1ad        24                1\n",
              "2c3acac4b33ec2b195d77e7c04a2d75727fad723        17                2\n",
              "f4545f8ccb9ff5c8aad7d32951b3f251a26e6568        21                3\n",
              "3d6ec248fef899c414e77f82d5c6d2bffbeaf7fe        25                1\n",
              "bf896ac8d3ecadd6dba1dfbf50110afcbf5d3268        28                1\n",
              "...                                            ...              ...\n",
              "aadf671ef8c1c6efa42e69432093ab83c17a52ac        20                1\n",
              "461f7ef2753d9d5fa0b054930d6b0e0eec318e81        33                1\n",
              "5354503700ecf2388f68990435390b6e1ad454ee        15                3\n",
              "c7a9e94a42bd76b7978f13c013a61702e36cc42c        36                4\n",
              "0af8939c470a600b30bdaa80375ee0db848b0e35        17                2\n",
              "\n",
              "[13730 rows x 2 columns]"
            ]
          },
          "metadata": {
            "tags": []
          },
          "execution_count": 90
        }
      ]
    },
    {
      "cell_type": "code",
      "metadata": {
        "id": "CbeSGlDudCwU",
        "colab_type": "code",
        "colab": {
          "base_uri": "https://localhost:8080/",
          "height": 85
        },
        "outputId": "15b9a1f4-f8ef-486e-cd1e-ef0bfb430d4b"
      },
      "source": [
        "#redistribuindo as variáveis\n",
        "#f(x) === y\n",
        "from sklearn.model_selection import train_test_split\n",
        "#random_state define uma matriz fixa. Neste caso foi usado um número aleatório, exemplo da aula\n",
        "#x_treino, x_teste, y_treino, y_teste = train_test_split(x,y_adivinhar, random_state = 326784)\n",
        "\n",
        "x_treino, x_teste, y_treino, y_teste = train_test_split(X_select,Y, random_state = 1606 )\n",
        "#devolve x_treino, x_teste, y_treino e y_teste\n",
        "print(x_treino.shape)\n",
        "print(x_teste.shape)\n",
        "print(y_treino.shape)\n",
        "print(y_teste.shape)"
      ],
      "execution_count": 91,
      "outputs": [
        {
          "output_type": "stream",
          "text": [
            "(10297, 2)\n",
            "(3433, 2)\n",
            "(10297,)\n",
            "(3433,)\n"
          ],
          "name": "stdout"
        }
      ]
    },
    {
      "cell_type": "markdown",
      "metadata": {
        "id": "Lpr_CTNUdXpj",
        "colab_type": "text"
      },
      "source": [
        "## APLICANDO OS MODELOS APÓS A SELEÇÃO DAS VARIÁVEIS"
      ]
    },
    {
      "cell_type": "markdown",
      "metadata": {
        "id": "oR7LCgfJddQJ",
        "colab_type": "text"
      },
      "source": [
        "### DUMMY"
      ]
    },
    {
      "cell_type": "code",
      "metadata": {
        "id": "vy6skNJ4dVaj",
        "colab_type": "code",
        "colab": {
          "base_uri": "https://localhost:8080/",
          "height": 68
        },
        "outputId": "e12439a2-05d2-4f8e-c096-a445463aab82"
      },
      "source": [
        "# VALOR A BATER = 0.12684031710079277\n",
        "modelo_dummy = DummyClassifier(random_state=42)\n",
        "modelo_dummy.fit(x_treino, y_treino)\n",
        "dummy_predicoes = modelo_dummy.predict(x_teste)\n",
        "\n",
        "avaliacao_dummy = f1_score(y_teste, dummy_predicoes)\n",
        "\n",
        "print(f\"Minha avaliação nos dados de teste foi de {avaliacao_dummy}\")"
      ],
      "execution_count": 92,
      "outputs": [
        {
          "output_type": "stream",
          "text": [
            "Minha avaliação nos dados de teste foi de 0.12684031710079277\n"
          ],
          "name": "stdout"
        },
        {
          "output_type": "stream",
          "text": [
            "/usr/local/lib/python3.6/dist-packages/sklearn/dummy.py:132: FutureWarning: The default value of strategy will change from stratified to prior in 0.24.\n",
            "  \"stratified to prior in 0.24.\", FutureWarning)\n"
          ],
          "name": "stderr"
        }
      ]
    },
    {
      "cell_type": "code",
      "metadata": {
        "id": "3UfzcT9NAyF2",
        "colab_type": "code",
        "colab": {
          "base_uri": "https://localhost:8080/",
          "height": 51
        },
        "outputId": "b882b844-eb8a-4992-e042-b2d62436f9f7"
      },
      "source": [
        "confusion_matrix(y_teste,dummy_predicoes)"
      ],
      "execution_count": 93,
      "outputs": [
        {
          "output_type": "execute_result",
          "data": {
            "text/plain": [
              "array([[2606,  390],\n",
              "       [ 381,   56]])"
            ]
          },
          "metadata": {
            "tags": []
          },
          "execution_count": 93
        }
      ]
    },
    {
      "cell_type": "code",
      "metadata": {
        "id": "0rA1Or5dBzVr",
        "colab_type": "code",
        "colab": {
          "base_uri": "https://localhost:8080/",
          "height": 255
        },
        "outputId": "899d8319-6113-4a24-ab73-9deb9bebce1e"
      },
      "source": [
        "y_teste,y_previsto_4"
      ],
      "execution_count": 94,
      "outputs": [
        {
          "output_type": "execute_result",
          "data": {
            "text/plain": [
              "(NU_INSCRICAO\n",
              " 4d90a1910ffb39e02fbf66176fe103c7cbcfa327    0\n",
              " 00e3220ed4a0f76a9076d28531cdfae81a3774b0    0\n",
              " 31daf51980849caf320172b2d9e83966d93c92e8    0\n",
              " 0352cb6307d663f5fb4f4acccd4ccef576e52c5e    0\n",
              " 458c445693310dfd5c0ccec83a70054b6b5521ed    0\n",
              "                                            ..\n",
              " c04e90a8ff3a648aad461be67e6de60708882226    0\n",
              " 51fd16f53b743a012d492f6e1659c237df45033f    0\n",
              " 132748f1b38de1a1865574cb317c6bafd9836801    0\n",
              " b2aff0dacec4fa0b71bfafad1b95179ae439f594    1\n",
              " fdd83980a22fc9d915d1ea092afb1013346b12cf    0\n",
              " Name: IN_TREINEIRO, Length: 3433, dtype: int64,\n",
              " array([0, 0, 0, ..., 0, 1, 0]))"
            ]
          },
          "metadata": {
            "tags": []
          },
          "execution_count": 94
        }
      ]
    },
    {
      "cell_type": "code",
      "metadata": {
        "id": "1GFPtSalA5Eq",
        "colab_type": "code",
        "colab": {
          "base_uri": "https://localhost:8080/",
          "height": 170
        },
        "outputId": "9b6438e7-79b9-4ba6-9d7a-6fbf9f456a30"
      },
      "source": [
        "#mais um score\n",
        "\n",
        "print(classification_report(y_teste,dummy_predicoes))"
      ],
      "execution_count": 95,
      "outputs": [
        {
          "output_type": "stream",
          "text": [
            "              precision    recall  f1-score   support\n",
            "\n",
            "           0       0.87      0.87      0.87      2996\n",
            "           1       0.13      0.13      0.13       437\n",
            "\n",
            "    accuracy                           0.78      3433\n",
            "   macro avg       0.50      0.50      0.50      3433\n",
            "weighted avg       0.78      0.78      0.78      3433\n",
            "\n"
          ],
          "name": "stdout"
        }
      ]
    },
    {
      "cell_type": "markdown",
      "metadata": {
        "id": "ODu6PZazdtuR",
        "colab_type": "text"
      },
      "source": [
        "### EXTRA TREE CLASSIFIER"
      ]
    },
    {
      "cell_type": "code",
      "metadata": {
        "id": "YsVJQTrPdkeT",
        "colab_type": "code",
        "colab": {
          "base_uri": "https://localhost:8080/",
          "height": 34
        },
        "outputId": "f7679b46-932b-4edf-f44c-ee86504bb1d7"
      },
      "source": [
        "#valor a bater = 0.9003436426116839\n",
        "modelo = ExtraTreeClassifier(random_state=42)\n",
        "modelo.fit(x_treino,y_treino)\n",
        "y_pred_1 = modelo.predict(x_teste)\n",
        "f1_score(y_teste,y_pred_1)"
      ],
      "execution_count": 96,
      "outputs": [
        {
          "output_type": "execute_result",
          "data": {
            "text/plain": [
              "0.9919261822376009"
            ]
          },
          "metadata": {
            "tags": []
          },
          "execution_count": 96
        }
      ]
    },
    {
      "cell_type": "code",
      "metadata": {
        "id": "mTEdQ5OyAa1c",
        "colab_type": "code",
        "colab": {
          "base_uri": "https://localhost:8080/",
          "height": 51
        },
        "outputId": "f8ef37ab-1a51-494e-a2e1-306734386072"
      },
      "source": [
        "print(confusion_matrix(y_teste,y_pred_1))"
      ],
      "execution_count": 97,
      "outputs": [
        {
          "output_type": "stream",
          "text": [
            "[[2996    0]\n",
            " [   7  430]]\n"
          ],
          "name": "stdout"
        }
      ]
    },
    {
      "cell_type": "code",
      "metadata": {
        "id": "Q72GJCtKCHSm",
        "colab_type": "code",
        "colab": {
          "base_uri": "https://localhost:8080/",
          "height": 170
        },
        "outputId": "41a78b79-a878-4f17-de6d-ca1496c05bc1"
      },
      "source": [
        "print(classification_report(y_teste,y_pred_1, digits=4))"
      ],
      "execution_count": 98,
      "outputs": [
        {
          "output_type": "stream",
          "text": [
            "              precision    recall  f1-score   support\n",
            "\n",
            "           0     0.9977    1.0000    0.9988      2996\n",
            "           1     1.0000    0.9840    0.9919       437\n",
            "\n",
            "    accuracy                         0.9980      3433\n",
            "   macro avg     0.9988    0.9920    0.9954      3433\n",
            "weighted avg     0.9980    0.9980    0.9980      3433\n",
            "\n"
          ],
          "name": "stdout"
        }
      ]
    },
    {
      "cell_type": "code",
      "metadata": {
        "id": "aSFka6CuJutd",
        "colab_type": "code",
        "colab": {
          "base_uri": "https://localhost:8080/",
          "height": 1000
        },
        "outputId": "5cad6764-de59-4735-d4ee-92db920740c9"
      },
      "source": [
        "import graphviz\n",
        "from sklearn.tree import export_graphviz\n",
        "dot_data = export_graphviz(modelo, filled=True, out_file=None)\n",
        "grafico = graphviz.Source(dot_data)\n",
        "grafico"
      ],
      "execution_count": 127,
      "outputs": [
        {
          "output_type": "execute_result",
          "data": {
            "text/plain": [
              "<graphviz.files.Source at 0x7fa41e554320>"
            ],
            "image/svg+xml": "<?xml version=\"1.0\" encoding=\"UTF-8\" standalone=\"no\"?>\n<!DOCTYPE svg PUBLIC \"-//W3C//DTD SVG 1.1//EN\"\n \"http://www.w3.org/Graphics/SVG/1.1/DTD/svg11.dtd\">\n<!-- Generated by graphviz version 2.40.1 (20161225.0304)\n -->\n<!-- Title: Tree Pages: 1 -->\n<svg width=\"404pt\" height=\"893pt\"\n viewBox=\"0.00 0.00 403.50 893.00\" xmlns=\"http://www.w3.org/2000/svg\" xmlns:xlink=\"http://www.w3.org/1999/xlink\">\n<g id=\"graph0\" class=\"graph\" transform=\"scale(1 1) rotate(0) translate(4 889)\">\n<title>Tree</title>\n<polygon fill=\"#ffffff\" stroke=\"transparent\" points=\"-4,4 -4,-889 399.5,-889 399.5,4 -4,4\"/>\n<!-- 0 -->\n<g id=\"node1\" class=\"node\">\n<title>0</title>\n<polygon fill=\"#e99457\" stroke=\"#000000\" points=\"333.5,-885 193.5,-885 193.5,-817 333.5,-817 333.5,-885\"/>\n<text text-anchor=\"middle\" x=\"263.5\" y=\"-869.8\" font-family=\"Times,serif\" font-size=\"14.00\" fill=\"#000000\">X[0] &lt;= 52.263</text>\n<text text-anchor=\"middle\" x=\"263.5\" y=\"-854.8\" font-family=\"Times,serif\" font-size=\"14.00\" fill=\"#000000\">gini = 0.227</text>\n<text text-anchor=\"middle\" x=\"263.5\" y=\"-839.8\" font-family=\"Times,serif\" font-size=\"14.00\" fill=\"#000000\">samples = 10297</text>\n<text text-anchor=\"middle\" x=\"263.5\" y=\"-824.8\" font-family=\"Times,serif\" font-size=\"14.00\" fill=\"#000000\">value = [8951, 1346]</text>\n</g>\n<!-- 1 -->\n<g id=\"node2\" class=\"node\">\n<title>1</title>\n<polygon fill=\"#e99457\" stroke=\"#000000\" points=\"264.5,-781 124.5,-781 124.5,-713 264.5,-713 264.5,-781\"/>\n<text text-anchor=\"middle\" x=\"194.5\" y=\"-765.8\" font-family=\"Times,serif\" font-size=\"14.00\" fill=\"#000000\">X[1] &lt;= 1.589</text>\n<text text-anchor=\"middle\" x=\"194.5\" y=\"-750.8\" font-family=\"Times,serif\" font-size=\"14.00\" fill=\"#000000\">gini = 0.228</text>\n<text text-anchor=\"middle\" x=\"194.5\" y=\"-735.8\" font-family=\"Times,serif\" font-size=\"14.00\" fill=\"#000000\">samples = 10242</text>\n<text text-anchor=\"middle\" x=\"194.5\" y=\"-720.8\" font-family=\"Times,serif\" font-size=\"14.00\" fill=\"#000000\">value = [8896, 1346]</text>\n</g>\n<!-- 0&#45;&gt;1 -->\n<g id=\"edge1\" class=\"edge\">\n<title>0&#45;&gt;1</title>\n<path fill=\"none\" stroke=\"#000000\" d=\"M240.9068,-816.9465C235.1286,-808.2373 228.8425,-798.7626 222.8166,-789.6801\"/>\n<polygon fill=\"#000000\" stroke=\"#000000\" points=\"225.589,-787.5278 217.1439,-781.13 219.756,-791.3978 225.589,-787.5278\"/>\n<text text-anchor=\"middle\" x=\"212.1866\" y=\"-801.9336\" font-family=\"Times,serif\" font-size=\"14.00\" fill=\"#000000\">True</text>\n</g>\n<!-- 16 -->\n<g id=\"node17\" class=\"node\">\n<title>16</title>\n<polygon fill=\"#e58139\" stroke=\"#000000\" points=\"384.5,-773.5 282.5,-773.5 282.5,-720.5 384.5,-720.5 384.5,-773.5\"/>\n<text text-anchor=\"middle\" x=\"333.5\" y=\"-758.3\" font-family=\"Times,serif\" font-size=\"14.00\" fill=\"#000000\">gini = 0.0</text>\n<text text-anchor=\"middle\" x=\"333.5\" y=\"-743.3\" font-family=\"Times,serif\" font-size=\"14.00\" fill=\"#000000\">samples = 55</text>\n<text text-anchor=\"middle\" x=\"333.5\" y=\"-728.3\" font-family=\"Times,serif\" font-size=\"14.00\" fill=\"#000000\">value = [55, 0]</text>\n</g>\n<!-- 0&#45;&gt;16 -->\n<g id=\"edge16\" class=\"edge\">\n<title>0&#45;&gt;16</title>\n<path fill=\"none\" stroke=\"#000000\" d=\"M286.4206,-816.9465C293.9828,-805.7113 302.4024,-793.2021 310.0067,-781.9043\"/>\n<polygon fill=\"#000000\" stroke=\"#000000\" points=\"312.9548,-783.7924 315.6351,-773.5422 307.1477,-779.8837 312.9548,-783.7924\"/>\n<text text-anchor=\"middle\" x=\"320.4295\" y=\"-794.3781\" font-family=\"Times,serif\" font-size=\"14.00\" fill=\"#000000\">False</text>\n</g>\n<!-- 2 -->\n<g id=\"node3\" class=\"node\">\n<title>2</title>\n<polygon fill=\"#e58139\" stroke=\"#000000\" points=\"180,-669.5 63,-669.5 63,-616.5 180,-616.5 180,-669.5\"/>\n<text text-anchor=\"middle\" x=\"121.5\" y=\"-654.3\" font-family=\"Times,serif\" font-size=\"14.00\" fill=\"#000000\">gini = 0.0</text>\n<text text-anchor=\"middle\" x=\"121.5\" y=\"-639.3\" font-family=\"Times,serif\" font-size=\"14.00\" fill=\"#000000\">samples = 4819</text>\n<text text-anchor=\"middle\" x=\"121.5\" y=\"-624.3\" font-family=\"Times,serif\" font-size=\"14.00\" fill=\"#000000\">value = [4819, 0]</text>\n</g>\n<!-- 1&#45;&gt;2 -->\n<g id=\"edge2\" class=\"edge\">\n<title>1&#45;&gt;2</title>\n<path fill=\"none\" stroke=\"#000000\" d=\"M170.5971,-712.9465C162.7108,-701.7113 153.9303,-689.2021 146.0002,-677.9043\"/>\n<polygon fill=\"#000000\" stroke=\"#000000\" points=\"148.7405,-675.7163 140.1306,-669.5422 143.0111,-679.7379 148.7405,-675.7163\"/>\n</g>\n<!-- 3 -->\n<g id=\"node4\" class=\"node\">\n<title>3</title>\n<polygon fill=\"#eeab7a\" stroke=\"#000000\" points=\"338.5,-677 198.5,-677 198.5,-609 338.5,-609 338.5,-677\"/>\n<text text-anchor=\"middle\" x=\"268.5\" y=\"-661.8\" font-family=\"Times,serif\" font-size=\"14.00\" fill=\"#000000\">X[1] &lt;= 3.5</text>\n<text text-anchor=\"middle\" x=\"268.5\" y=\"-646.8\" font-family=\"Times,serif\" font-size=\"14.00\" fill=\"#000000\">gini = 0.373</text>\n<text text-anchor=\"middle\" x=\"268.5\" y=\"-631.8\" font-family=\"Times,serif\" font-size=\"14.00\" fill=\"#000000\">samples = 5423</text>\n<text text-anchor=\"middle\" x=\"268.5\" y=\"-616.8\" font-family=\"Times,serif\" font-size=\"14.00\" fill=\"#000000\">value = [4077, 1346]</text>\n</g>\n<!-- 1&#45;&gt;3 -->\n<g id=\"edge3\" class=\"edge\">\n<title>1&#45;&gt;3</title>\n<path fill=\"none\" stroke=\"#000000\" d=\"M218.7304,-712.9465C224.9912,-704.1475 231.808,-694.5672 238.3313,-685.3993\"/>\n<polygon fill=\"#000000\" stroke=\"#000000\" points=\"241.2694,-687.3071 244.2152,-677.13 235.5658,-683.2488 241.2694,-687.3071\"/>\n</g>\n<!-- 4 -->\n<g id=\"node5\" class=\"node\">\n<title>4</title>\n<polygon fill=\"#efb083\" stroke=\"#000000\" points=\"267.5,-573 127.5,-573 127.5,-505 267.5,-505 267.5,-573\"/>\n<text text-anchor=\"middle\" x=\"197.5\" y=\"-557.8\" font-family=\"Times,serif\" font-size=\"14.00\" fill=\"#000000\">X[0] &lt;= 48.731</text>\n<text text-anchor=\"middle\" x=\"197.5\" y=\"-542.8\" font-family=\"Times,serif\" font-size=\"14.00\" fill=\"#000000\">gini = 0.395</text>\n<text text-anchor=\"middle\" x=\"197.5\" y=\"-527.8\" font-family=\"Times,serif\" font-size=\"14.00\" fill=\"#000000\">samples = 4968</text>\n<text text-anchor=\"middle\" x=\"197.5\" y=\"-512.8\" font-family=\"Times,serif\" font-size=\"14.00\" fill=\"#000000\">value = [3622, 1346]</text>\n</g>\n<!-- 3&#45;&gt;4 -->\n<g id=\"edge4\" class=\"edge\">\n<title>3&#45;&gt;4</title>\n<path fill=\"none\" stroke=\"#000000\" d=\"M245.2519,-608.9465C239.245,-600.1475 232.7045,-590.5672 226.4457,-581.3993\"/>\n<polygon fill=\"#000000\" stroke=\"#000000\" points=\"229.3293,-579.4155 220.8003,-573.13 223.548,-583.3623 229.3293,-579.4155\"/>\n</g>\n<!-- 15 -->\n<g id=\"node16\" class=\"node\">\n<title>15</title>\n<polygon fill=\"#e58139\" stroke=\"#000000\" points=\"395.5,-565.5 285.5,-565.5 285.5,-512.5 395.5,-512.5 395.5,-565.5\"/>\n<text text-anchor=\"middle\" x=\"340.5\" y=\"-550.3\" font-family=\"Times,serif\" font-size=\"14.00\" fill=\"#000000\">gini = 0.0</text>\n<text text-anchor=\"middle\" x=\"340.5\" y=\"-535.3\" font-family=\"Times,serif\" font-size=\"14.00\" fill=\"#000000\">samples = 455</text>\n<text text-anchor=\"middle\" x=\"340.5\" y=\"-520.3\" font-family=\"Times,serif\" font-size=\"14.00\" fill=\"#000000\">value = [455, 0]</text>\n</g>\n<!-- 3&#45;&gt;15 -->\n<g id=\"edge15\" class=\"edge\">\n<title>3&#45;&gt;15</title>\n<path fill=\"none\" stroke=\"#000000\" d=\"M292.0755,-608.9465C299.8537,-597.7113 308.5139,-585.2021 316.3355,-573.9043\"/>\n<polygon fill=\"#000000\" stroke=\"#000000\" points=\"319.3102,-575.7564 322.1247,-565.5422 313.5548,-571.7719 319.3102,-575.7564\"/>\n</g>\n<!-- 5 -->\n<g id=\"node6\" class=\"node\">\n<title>5</title>\n<polygon fill=\"#efb083\" stroke=\"#000000\" points=\"199.5,-469 59.5,-469 59.5,-401 199.5,-401 199.5,-469\"/>\n<text text-anchor=\"middle\" x=\"129.5\" y=\"-453.8\" font-family=\"Times,serif\" font-size=\"14.00\" fill=\"#000000\">X[1] &lt;= 2.728</text>\n<text text-anchor=\"middle\" x=\"129.5\" y=\"-438.8\" font-family=\"Times,serif\" font-size=\"14.00\" fill=\"#000000\">gini = 0.395</text>\n<text text-anchor=\"middle\" x=\"129.5\" y=\"-423.8\" font-family=\"Times,serif\" font-size=\"14.00\" fill=\"#000000\">samples = 4966</text>\n<text text-anchor=\"middle\" x=\"129.5\" y=\"-408.8\" font-family=\"Times,serif\" font-size=\"14.00\" fill=\"#000000\">value = [3620, 1346]</text>\n</g>\n<!-- 4&#45;&gt;5 -->\n<g id=\"edge5\" class=\"edge\">\n<title>4&#45;&gt;5</title>\n<path fill=\"none\" stroke=\"#000000\" d=\"M175.2343,-504.9465C169.5398,-496.2373 163.3448,-486.7626 157.4062,-477.6801\"/>\n<polygon fill=\"#000000\" stroke=\"#000000\" points=\"160.2177,-475.5843 151.8158,-469.13 154.3589,-479.4151 160.2177,-475.5843\"/>\n</g>\n<!-- 14 -->\n<g id=\"node15\" class=\"node\">\n<title>14</title>\n<polygon fill=\"#e58139\" stroke=\"#000000\" points=\"313,-461.5 218,-461.5 218,-408.5 313,-408.5 313,-461.5\"/>\n<text text-anchor=\"middle\" x=\"265.5\" y=\"-446.3\" font-family=\"Times,serif\" font-size=\"14.00\" fill=\"#000000\">gini = 0.0</text>\n<text text-anchor=\"middle\" x=\"265.5\" y=\"-431.3\" font-family=\"Times,serif\" font-size=\"14.00\" fill=\"#000000\">samples = 2</text>\n<text text-anchor=\"middle\" x=\"265.5\" y=\"-416.3\" font-family=\"Times,serif\" font-size=\"14.00\" fill=\"#000000\">value = [2, 0]</text>\n</g>\n<!-- 4&#45;&gt;14 -->\n<g id=\"edge14\" class=\"edge\">\n<title>4&#45;&gt;14</title>\n<path fill=\"none\" stroke=\"#000000\" d=\"M219.7657,-504.9465C227.0398,-493.8215 235.1306,-481.4473 242.4604,-470.237\"/>\n<polygon fill=\"#000000\" stroke=\"#000000\" points=\"245.6024,-471.8273 248.1455,-461.5422 239.7436,-467.9965 245.6024,-471.8273\"/>\n</g>\n<!-- 6 -->\n<g id=\"node7\" class=\"node\">\n<title>6</title>\n<polygon fill=\"#e58139\" stroke=\"#000000\" points=\"117,-357.5 0,-357.5 0,-304.5 117,-304.5 117,-357.5\"/>\n<text text-anchor=\"middle\" x=\"58.5\" y=\"-342.3\" font-family=\"Times,serif\" font-size=\"14.00\" fill=\"#000000\">gini = 0.0</text>\n<text text-anchor=\"middle\" x=\"58.5\" y=\"-327.3\" font-family=\"Times,serif\" font-size=\"14.00\" fill=\"#000000\">samples = 3207</text>\n<text text-anchor=\"middle\" x=\"58.5\" y=\"-312.3\" font-family=\"Times,serif\" font-size=\"14.00\" fill=\"#000000\">value = [3207, 0]</text>\n</g>\n<!-- 5&#45;&gt;6 -->\n<g id=\"edge6\" class=\"edge\">\n<title>5&#45;&gt;6</title>\n<path fill=\"none\" stroke=\"#000000\" d=\"M106.2519,-400.9465C98.5818,-389.7113 90.0418,-377.2021 82.3289,-365.9043\"/>\n<polygon fill=\"#000000\" stroke=\"#000000\" points=\"85.1491,-363.8277 76.6201,-357.5422 79.3678,-367.7745 85.1491,-363.8277\"/>\n</g>\n<!-- 7 -->\n<g id=\"node8\" class=\"node\">\n<title>7</title>\n<polygon fill=\"#76bbed\" stroke=\"#000000\" points=\"267.5,-365 135.5,-365 135.5,-297 267.5,-297 267.5,-365\"/>\n<text text-anchor=\"middle\" x=\"201.5\" y=\"-349.8\" font-family=\"Times,serif\" font-size=\"14.00\" fill=\"#000000\">X[0] &lt;= 18.291</text>\n<text text-anchor=\"middle\" x=\"201.5\" y=\"-334.8\" font-family=\"Times,serif\" font-size=\"14.00\" fill=\"#000000\">gini = 0.359</text>\n<text text-anchor=\"middle\" x=\"201.5\" y=\"-319.8\" font-family=\"Times,serif\" font-size=\"14.00\" fill=\"#000000\">samples = 1759</text>\n<text text-anchor=\"middle\" x=\"201.5\" y=\"-304.8\" font-family=\"Times,serif\" font-size=\"14.00\" fill=\"#000000\">value = [413, 1346]</text>\n</g>\n<!-- 5&#45;&gt;7 -->\n<g id=\"edge7\" class=\"edge\">\n<title>5&#45;&gt;7</title>\n<path fill=\"none\" stroke=\"#000000\" d=\"M153.0755,-400.9465C159.1671,-392.1475 165.7996,-382.5672 172.1466,-373.3993\"/>\n<polygon fill=\"#000000\" stroke=\"#000000\" points=\"175.0571,-375.3442 177.8715,-365.13 169.3017,-371.3597 175.0571,-375.3442\"/>\n</g>\n<!-- 8 -->\n<g id=\"node9\" class=\"node\">\n<title>8</title>\n<polygon fill=\"#50a9e8\" stroke=\"#000000\" points=\"198.5,-261 66.5,-261 66.5,-193 198.5,-193 198.5,-261\"/>\n<text text-anchor=\"middle\" x=\"132.5\" y=\"-245.8\" font-family=\"Times,serif\" font-size=\"14.00\" fill=\"#000000\">X[0] &lt;= 15.759</text>\n<text text-anchor=\"middle\" x=\"132.5\" y=\"-230.8\" font-family=\"Times,serif\" font-size=\"14.00\" fill=\"#000000\">gini = 0.188</text>\n<text text-anchor=\"middle\" x=\"132.5\" y=\"-215.8\" font-family=\"Times,serif\" font-size=\"14.00\" fill=\"#000000\">samples = 1504</text>\n<text text-anchor=\"middle\" x=\"132.5\" y=\"-200.8\" font-family=\"Times,serif\" font-size=\"14.00\" fill=\"#000000\">value = [158, 1346]</text>\n</g>\n<!-- 7&#45;&gt;8 -->\n<g id=\"edge8\" class=\"edge\">\n<title>7&#45;&gt;8</title>\n<path fill=\"none\" stroke=\"#000000\" d=\"M178.9068,-296.9465C173.1286,-288.2373 166.8425,-278.7626 160.8166,-269.6801\"/>\n<polygon fill=\"#000000\" stroke=\"#000000\" points=\"163.589,-267.5278 155.1439,-261.13 157.756,-271.3978 163.589,-267.5278\"/>\n</g>\n<!-- 13 -->\n<g id=\"node14\" class=\"node\">\n<title>13</title>\n<polygon fill=\"#e58139\" stroke=\"#000000\" points=\"326.5,-253.5 216.5,-253.5 216.5,-200.5 326.5,-200.5 326.5,-253.5\"/>\n<text text-anchor=\"middle\" x=\"271.5\" y=\"-238.3\" font-family=\"Times,serif\" font-size=\"14.00\" fill=\"#000000\">gini = 0.0</text>\n<text text-anchor=\"middle\" x=\"271.5\" y=\"-223.3\" font-family=\"Times,serif\" font-size=\"14.00\" fill=\"#000000\">samples = 255</text>\n<text text-anchor=\"middle\" x=\"271.5\" y=\"-208.3\" font-family=\"Times,serif\" font-size=\"14.00\" fill=\"#000000\">value = [255, 0]</text>\n</g>\n<!-- 7&#45;&gt;13 -->\n<g id=\"edge13\" class=\"edge\">\n<title>7&#45;&gt;13</title>\n<path fill=\"none\" stroke=\"#000000\" d=\"M224.4206,-296.9465C231.9828,-285.7113 240.4024,-273.2021 248.0067,-261.9043\"/>\n<polygon fill=\"#000000\" stroke=\"#000000\" points=\"250.9548,-263.7924 253.6351,-253.5422 245.1477,-259.8837 250.9548,-263.7924\"/>\n</g>\n<!-- 9 -->\n<g id=\"node10\" class=\"node\">\n<title>9</title>\n<polygon fill=\"#399de5\" stroke=\"#000000\" points=\"118.5,-149.5 8.5,-149.5 8.5,-96.5 118.5,-96.5 118.5,-149.5\"/>\n<text text-anchor=\"middle\" x=\"63.5\" y=\"-134.3\" font-family=\"Times,serif\" font-size=\"14.00\" fill=\"#000000\">gini = 0.0</text>\n<text text-anchor=\"middle\" x=\"63.5\" y=\"-119.3\" font-family=\"Times,serif\" font-size=\"14.00\" fill=\"#000000\">samples = 223</text>\n<text text-anchor=\"middle\" x=\"63.5\" y=\"-104.3\" font-family=\"Times,serif\" font-size=\"14.00\" fill=\"#000000\">value = [0, 223]</text>\n</g>\n<!-- 8&#45;&gt;9 -->\n<g id=\"edge9\" class=\"edge\">\n<title>8&#45;&gt;9</title>\n<path fill=\"none\" stroke=\"#000000\" d=\"M109.9068,-192.9465C102.4527,-181.7113 94.1533,-169.2021 86.6577,-157.9043\"/>\n<polygon fill=\"#000000\" stroke=\"#000000\" points=\"89.5547,-155.94 81.1097,-149.5422 83.7218,-159.81 89.5547,-155.94\"/>\n</g>\n<!-- 10 -->\n<g id=\"node11\" class=\"node\">\n<title>10</title>\n<polygon fill=\"#55abe9\" stroke=\"#000000\" points=\"268,-157 137,-157 137,-89 268,-89 268,-157\"/>\n<text text-anchor=\"middle\" x=\"202.5\" y=\"-141.8\" font-family=\"Times,serif\" font-size=\"14.00\" fill=\"#000000\">X[0] &lt;= 17.406</text>\n<text text-anchor=\"middle\" x=\"202.5\" y=\"-126.8\" font-family=\"Times,serif\" font-size=\"14.00\" fill=\"#000000\">gini = 0.216</text>\n<text text-anchor=\"middle\" x=\"202.5\" y=\"-111.8\" font-family=\"Times,serif\" font-size=\"14.00\" fill=\"#000000\">samples = 1281</text>\n<text text-anchor=\"middle\" x=\"202.5\" y=\"-96.8\" font-family=\"Times,serif\" font-size=\"14.00\" fill=\"#000000\">value = [158, 1123]</text>\n</g>\n<!-- 8&#45;&gt;10 -->\n<g id=\"edge10\" class=\"edge\">\n<title>8&#45;&gt;10</title>\n<path fill=\"none\" stroke=\"#000000\" d=\"M155.4206,-192.9465C161.2826,-184.2373 167.6598,-174.7626 173.773,-165.6801\"/>\n<polygon fill=\"#000000\" stroke=\"#000000\" points=\"176.8476,-167.3802 179.5279,-157.13 171.0405,-163.4716 176.8476,-167.3802\"/>\n</g>\n<!-- 11 -->\n<g id=\"node12\" class=\"node\">\n<title>11</title>\n<polygon fill=\"#399de5\" stroke=\"#000000\" points=\"193,-53 76,-53 76,0 193,0 193,-53\"/>\n<text text-anchor=\"middle\" x=\"134.5\" y=\"-37.8\" font-family=\"Times,serif\" font-size=\"14.00\" fill=\"#000000\">gini = 0.0</text>\n<text text-anchor=\"middle\" x=\"134.5\" y=\"-22.8\" font-family=\"Times,serif\" font-size=\"14.00\" fill=\"#000000\">samples = 1089</text>\n<text text-anchor=\"middle\" x=\"134.5\" y=\"-7.8\" font-family=\"Times,serif\" font-size=\"14.00\" fill=\"#000000\">value = [0, 1089]</text>\n</g>\n<!-- 10&#45;&gt;11 -->\n<g id=\"edge11\" class=\"edge\">\n<title>10&#45;&gt;11</title>\n<path fill=\"none\" stroke=\"#000000\" d=\"M178.5257,-88.9777C172.2667,-80.0954 165.5099,-70.5067 159.2133,-61.5711\"/>\n<polygon fill=\"#000000\" stroke=\"#000000\" points=\"161.9699,-59.4068 153.3487,-53.2485 156.2479,-63.4389 161.9699,-59.4068\"/>\n</g>\n<!-- 12 -->\n<g id=\"node13\" class=\"node\">\n<title>12</title>\n<polygon fill=\"#eb9c64\" stroke=\"#000000\" points=\"328,-53 211,-53 211,0 328,0 328,-53\"/>\n<text text-anchor=\"middle\" x=\"269.5\" y=\"-37.8\" font-family=\"Times,serif\" font-size=\"14.00\" fill=\"#000000\">gini = 0.291</text>\n<text text-anchor=\"middle\" x=\"269.5\" y=\"-22.8\" font-family=\"Times,serif\" font-size=\"14.00\" fill=\"#000000\">samples = 192</text>\n<text text-anchor=\"middle\" x=\"269.5\" y=\"-7.8\" font-family=\"Times,serif\" font-size=\"14.00\" fill=\"#000000\">value = [158, 34]</text>\n</g>\n<!-- 10&#45;&gt;12 -->\n<g id=\"edge12\" class=\"edge\">\n<title>10&#45;&gt;12</title>\n<path fill=\"none\" stroke=\"#000000\" d=\"M226.1217,-88.9777C232.2887,-80.0954 238.9461,-70.5067 245.1501,-61.5711\"/>\n<polygon fill=\"#000000\" stroke=\"#000000\" points=\"248.1003,-63.4589 250.9285,-53.2485 242.3503,-59.4666 248.1003,-63.4589\"/>\n</g>\n</g>\n</svg>\n"
          },
          "metadata": {
            "tags": []
          },
          "execution_count": 127
        }
      ]
    },
    {
      "cell_type": "markdown",
      "metadata": {
        "id": "Vk-xwcWRfyel",
        "colab_type": "text"
      },
      "source": [
        "### RANDOM FOREST CLASSIFIER"
      ]
    },
    {
      "cell_type": "code",
      "metadata": {
        "id": "7ImfE3KwfsIP",
        "colab_type": "code",
        "colab": {
          "base_uri": "https://localhost:8080/",
          "height": 34
        },
        "outputId": "06cf1201-508d-41ab-8843-cbb80ab4b3b9"
      },
      "source": [
        "#valor a bater RandomForest = 0.9896432681242808\n",
        "modelo2 = RandomForestClassifier(random_state=42)\n",
        "modelo2.fit(x_treino,y_treino)\n",
        "y_pred_2 = modelo2.predict(x_teste)\n",
        "f1_score(y_teste,y_pred_2)"
      ],
      "execution_count": 99,
      "outputs": [
        {
          "output_type": "execute_result",
          "data": {
            "text/plain": [
              "0.9919261822376009"
            ]
          },
          "metadata": {
            "tags": []
          },
          "execution_count": 99
        }
      ]
    },
    {
      "cell_type": "code",
      "metadata": {
        "id": "SWX6Qqx_AgDk",
        "colab_type": "code",
        "colab": {
          "base_uri": "https://localhost:8080/",
          "height": 51
        },
        "outputId": "1a2c15f6-5390-41a7-fe88-a4a98e3c6836"
      },
      "source": [
        "confusion_matrix(y_teste,y_pred_2)"
      ],
      "execution_count": 100,
      "outputs": [
        {
          "output_type": "execute_result",
          "data": {
            "text/plain": [
              "array([[2996,    0],\n",
              "       [   7,  430]])"
            ]
          },
          "metadata": {
            "tags": []
          },
          "execution_count": 100
        }
      ]
    },
    {
      "cell_type": "code",
      "metadata": {
        "id": "_wM0rKXiCC8U",
        "colab_type": "code",
        "colab": {
          "base_uri": "https://localhost:8080/",
          "height": 170
        },
        "outputId": "aedbc1af-1737-4033-8c9c-0b607112e90b"
      },
      "source": [
        "print(classification_report(y_teste,y_pred_2))"
      ],
      "execution_count": 101,
      "outputs": [
        {
          "output_type": "stream",
          "text": [
            "              precision    recall  f1-score   support\n",
            "\n",
            "           0       1.00      1.00      1.00      2996\n",
            "           1       1.00      0.98      0.99       437\n",
            "\n",
            "    accuracy                           1.00      3433\n",
            "   macro avg       1.00      0.99      1.00      3433\n",
            "weighted avg       1.00      1.00      1.00      3433\n",
            "\n"
          ],
          "name": "stdout"
        }
      ]
    },
    {
      "cell_type": "markdown",
      "metadata": {
        "id": "x02E-g7RC-xN",
        "colab_type": "text"
      },
      "source": [
        "A Curva Característica de Operação do Receptor, ou, do inglês, Receiver Operating Characteristic Curve, ou, simplesmente, curva ROC, é uma representação gráfica que ilustra o desempenho de um sistema classificador binário à medida que o seu limiar de discriminação varia. Vamos plotar a curva do modelo escolhido abaixo"
      ]
    },
    {
      "cell_type": "code",
      "metadata": {
        "id": "Npo1egOaCjjN",
        "colab_type": "code",
        "colab": {
          "base_uri": "https://localhost:8080/",
          "height": 513
        },
        "outputId": "8b5b1f1a-a57d-42e0-cd81-851471726ef8"
      },
      "source": [
        "#visualizando a curva \n",
        "from sklearn.metrics import roc_curve\n",
        "\n",
        "fpr, tpr, thresholds = roc_curve(y_teste, y_pred_2)\n",
        "# create plot\n",
        "plt.figure(figsize=(12,8))\n",
        "plt.plot(fpr, tpr, label='ROC curve')\n",
        "plt.plot([0, 1], [0, 1], 'k--', label='Random guess')\n",
        "_ = plt.xlabel('False Positive Rate')\n",
        "_ = plt.ylabel('True Positive Rate')\n",
        "_ = plt.title('ROC Curve')\n",
        "_ = plt.xlim([-0.02, 1])\n",
        "_ = plt.ylim([0, 1.02])\n",
        "_ = plt.legend(loc=\"lower right\")"
      ],
      "execution_count": 102,
      "outputs": [
        {
          "output_type": "display_data",
          "data": {
            "image/png": "[encoded data removed]",
            "text/plain": [
              "<Figure size 864x576 with 1 Axes>"
            ]
          },
          "metadata": {
            "tags": [],
            "needs_background": "light"
          }
        }
      ]
    },
    {
      "cell_type": "markdown",
      "metadata": {
        "id": "c-DgkTvyf4yp",
        "colab_type": "text"
      },
      "source": [
        "### BAGGING CLASSIFIER"
      ]
    },
    {
      "cell_type": "code",
      "metadata": {
        "id": "8u4uB_P-f9Ac",
        "colab_type": "code",
        "colab": {
          "base_uri": "https://localhost:8080/",
          "height": 34
        },
        "outputId": "6019a34c-c702-4616-b575-df48fd5b3711"
      },
      "source": [
        "#valor a bater Bagging Classifier = 0.9873708381171069\n",
        "modelo3 = BaggingClassifier(random_state=42)\n",
        "modelo3.fit(x_treino,y_treino)\n",
        "y_pred_3 = modelo3.predict(x_teste)\n",
        "f1_score(y_teste,y_pred_3)"
      ],
      "execution_count": 103,
      "outputs": [
        {
          "output_type": "execute_result",
          "data": {
            "text/plain": [
              "0.9919261822376009"
            ]
          },
          "metadata": {
            "tags": []
          },
          "execution_count": 103
        }
      ]
    },
    {
      "cell_type": "code",
      "metadata": {
        "id": "dywzKz4jAiUU",
        "colab_type": "code",
        "colab": {
          "base_uri": "https://localhost:8080/",
          "height": 51
        },
        "outputId": "9c394d97-38a1-444a-f8fb-146ff6ba40c7"
      },
      "source": [
        "confusion_matrix(y_teste,y_pred_3)"
      ],
      "execution_count": 104,
      "outputs": [
        {
          "output_type": "execute_result",
          "data": {
            "text/plain": [
              "array([[2996,    0],\n",
              "       [   7,  430]])"
            ]
          },
          "metadata": {
            "tags": []
          },
          "execution_count": 104
        }
      ]
    },
    {
      "cell_type": "code",
      "metadata": {
        "id": "BafBQQ4MCJsB",
        "colab_type": "code",
        "colab": {
          "base_uri": "https://localhost:8080/",
          "height": 170
        },
        "outputId": "5f37db87-eb89-4328-d8a4-d1fffd10b19a"
      },
      "source": [
        "print(classification_report(y_teste,y_pred_3))"
      ],
      "execution_count": 105,
      "outputs": [
        {
          "output_type": "stream",
          "text": [
            "              precision    recall  f1-score   support\n",
            "\n",
            "           0       1.00      1.00      1.00      2996\n",
            "           1       1.00      0.98      0.99       437\n",
            "\n",
            "    accuracy                           1.00      3433\n",
            "   macro avg       1.00      0.99      1.00      3433\n",
            "weighted avg       1.00      1.00      1.00      3433\n",
            "\n"
          ],
          "name": "stdout"
        }
      ]
    },
    {
      "cell_type": "markdown",
      "metadata": {
        "id": "jb_UyAD1f9w6",
        "colab_type": "text"
      },
      "source": [
        "### REGRESSÃO LOGISTICA"
      ]
    },
    {
      "cell_type": "code",
      "metadata": {
        "id": "woosC6UkgAGG",
        "colab_type": "code",
        "colab": {
          "base_uri": "https://localhost:8080/",
          "height": 34
        },
        "outputId": "a3beaec8-1224-4883-ee7a-d8fe052d0eb5"
      },
      "source": [
        "#valor a bater = 0.9851088201603665\n",
        "modelo4 = LogisticRegression(max_iter=10000, random_state=42)\n",
        "modelo4.fit(x_treino,y_treino)\n",
        "y_pred_4 = modelo4.predict(x_teste)\n",
        "f1_score(y_teste,y_pred_4)"
      ],
      "execution_count": 106,
      "outputs": [
        {
          "output_type": "execute_result",
          "data": {
            "text/plain": [
              "0.9662921348314607"
            ]
          },
          "metadata": {
            "tags": []
          },
          "execution_count": 106
        }
      ]
    },
    {
      "cell_type": "code",
      "metadata": {
        "id": "h-iZlUk_Ak_F",
        "colab_type": "code",
        "colab": {
          "base_uri": "https://localhost:8080/",
          "height": 51
        },
        "outputId": "bf5fc8c9-d132-47fb-9728-25f9af3c1ac0"
      },
      "source": [
        "confusion_matrix(y_teste,y_pred_4)"
      ],
      "execution_count": 107,
      "outputs": [
        {
          "output_type": "execute_result",
          "data": {
            "text/plain": [
              "array([[2973,   23],\n",
              "       [   7,  430]])"
            ]
          },
          "metadata": {
            "tags": []
          },
          "execution_count": 107
        }
      ]
    },
    {
      "cell_type": "code",
      "metadata": {
        "id": "PESKd1MmCMVF",
        "colab_type": "code",
        "colab": {
          "base_uri": "https://localhost:8080/",
          "height": 170
        },
        "outputId": "fbb66e97-1c03-4f85-baea-b19583b75c10"
      },
      "source": [
        "print(classification_report(y_teste,y_pred_4))"
      ],
      "execution_count": 108,
      "outputs": [
        {
          "output_type": "stream",
          "text": [
            "              precision    recall  f1-score   support\n",
            "\n",
            "           0       1.00      0.99      0.99      2996\n",
            "           1       0.95      0.98      0.97       437\n",
            "\n",
            "    accuracy                           0.99      3433\n",
            "   macro avg       0.97      0.99      0.98      3433\n",
            "weighted avg       0.99      0.99      0.99      3433\n",
            "\n"
          ],
          "name": "stdout"
        }
      ]
    },
    {
      "cell_type": "markdown",
      "metadata": {
        "id": "2InPerFuhZuC",
        "colab_type": "text"
      },
      "source": [
        "## GERANDO OS RESULTADOS"
      ]
    },
    {
      "cell_type": "markdown",
      "metadata": {
        "id": "kieXdmH9hk3o",
        "colab_type": "text"
      },
      "source": [
        "### TRATANDO A BASE DE TESTES"
      ]
    },
    {
      "cell_type": "code",
      "metadata": {
        "id": "6rDIVuRjh18A",
        "colab_type": "code",
        "colab": {
          "base_uri": "https://localhost:8080/",
          "height": 34
        },
        "outputId": "695a605c-5cc7-47df-beb4-7c6ea3503a07"
      },
      "source": [
        "#atribuindo a colunas_testes a outra variável\n",
        "colunas_features = colunas_teste\n",
        "colunas_features"
      ],
      "execution_count": 109,
      "outputs": [
        {
          "output_type": "execute_result",
          "data": {
            "text/plain": [
              "['NU_IDADE', 'TP_ST_CONCLUSAO']"
            ]
          },
          "metadata": {
            "tags": []
          },
          "execution_count": 109
        }
      ]
    },
    {
      "cell_type": "code",
      "metadata": {
        "id": "UpADrsRnkAP-",
        "colab_type": "code",
        "colab": {
          "base_uri": "https://localhost:8080/",
          "height": 224
        },
        "outputId": "b44ce812-4512-49ab-9659-8b2b286d8bca"
      },
      "source": [
        "teste.head()"
      ],
      "execution_count": 110,
      "outputs": [
        {
          "output_type": "execute_result",
          "data": {
            "text/html": [
              "<div>\n",
              "<style scoped>\n",
              "    .dataframe tbody tr th:only-of-type {\n",
              "        vertical-align: middle;\n",
              "    }\n",
              "\n",
              "    .dataframe tbody tr th {\n",
              "        vertical-align: top;\n",
              "    }\n",
              "\n",
              "    .dataframe thead th {\n",
              "        text-align: right;\n",
              "    }\n",
              "</style>\n",
              "<table border=\"1\" class=\"dataframe\">\n",
              "  <thead>\n",
              "    <tr style=\"text-align: right;\">\n",
              "      <th></th>\n",
              "      <th>NU_INSCRICAO</th>\n",
              "      <th>CO_UF_RESIDENCIA</th>\n",
              "      <th>SG_UF_RESIDENCIA</th>\n",
              "      <th>NU_IDADE</th>\n",
              "      <th>TP_SEXO</th>\n",
              "      <th>TP_COR_RACA</th>\n",
              "      <th>TP_NACIONALIDADE</th>\n",
              "      <th>TP_ST_CONCLUSAO</th>\n",
              "      <th>TP_ANO_CONCLUIU</th>\n",
              "      <th>TP_ESCOLA</th>\n",
              "      <th>TP_ENSINO</th>\n",
              "      <th>TP_DEPENDENCIA_ADM_ESC</th>\n",
              "      <th>IN_BAIXA_VISAO</th>\n",
              "      <th>IN_CEGUEIRA</th>\n",
              "      <th>IN_SURDEZ</th>\n",
              "      <th>IN_DISLEXIA</th>\n",
              "      <th>IN_DISCALCULIA</th>\n",
              "      <th>IN_SABATISTA</th>\n",
              "      <th>IN_GESTANTE</th>\n",
              "      <th>IN_IDOSO</th>\n",
              "      <th>TP_PRESENCA_CN</th>\n",
              "      <th>TP_PRESENCA_CH</th>\n",
              "      <th>TP_PRESENCA_LC</th>\n",
              "      <th>TP_PRESENCA_MT</th>\n",
              "      <th>NU_NOTA_CN</th>\n",
              "      <th>NU_NOTA_CH</th>\n",
              "      <th>NU_NOTA_LC</th>\n",
              "      <th>TP_LINGUA</th>\n",
              "      <th>TP_STATUS_REDACAO</th>\n",
              "      <th>NU_NOTA_COMP1</th>\n",
              "      <th>NU_NOTA_COMP2</th>\n",
              "      <th>NU_NOTA_COMP3</th>\n",
              "      <th>NU_NOTA_COMP4</th>\n",
              "      <th>NU_NOTA_COMP5</th>\n",
              "      <th>NU_NOTA_REDACAO</th>\n",
              "      <th>Q001</th>\n",
              "      <th>Q002</th>\n",
              "      <th>Q006</th>\n",
              "      <th>Q024</th>\n",
              "      <th>Q025</th>\n",
              "      <th>Q026</th>\n",
              "      <th>Q027</th>\n",
              "      <th>Q047</th>\n",
              "    </tr>\n",
              "  </thead>\n",
              "  <tbody>\n",
              "    <tr>\n",
              "      <th>0</th>\n",
              "      <td>ba0cc30ba34e7a46764c09dfc38ed83d15828897</td>\n",
              "      <td>43</td>\n",
              "      <td>RS</td>\n",
              "      <td>19</td>\n",
              "      <td>F</td>\n",
              "      <td>1</td>\n",
              "      <td>1</td>\n",
              "      <td>1</td>\n",
              "      <td>3</td>\n",
              "      <td>1</td>\n",
              "      <td>NaN</td>\n",
              "      <td>NaN</td>\n",
              "      <td>0</td>\n",
              "      <td>0</td>\n",
              "      <td>0</td>\n",
              "      <td>0</td>\n",
              "      <td>0</td>\n",
              "      <td>0</td>\n",
              "      <td>0</td>\n",
              "      <td>0</td>\n",
              "      <td>1</td>\n",
              "      <td>1</td>\n",
              "      <td>0</td>\n",
              "      <td>0</td>\n",
              "      <td>495.3</td>\n",
              "      <td>593.3</td>\n",
              "      <td>NaN</td>\n",
              "      <td>1</td>\n",
              "      <td>NaN</td>\n",
              "      <td>NaN</td>\n",
              "      <td>NaN</td>\n",
              "      <td>NaN</td>\n",
              "      <td>NaN</td>\n",
              "      <td>NaN</td>\n",
              "      <td>NaN</td>\n",
              "      <td>E</td>\n",
              "      <td>E</td>\n",
              "      <td>H</td>\n",
              "      <td>B</td>\n",
              "      <td>B</td>\n",
              "      <td>C</td>\n",
              "      <td>D</td>\n",
              "      <td>A</td>\n",
              "    </tr>\n",
              "    <tr>\n",
              "      <th>1</th>\n",
              "      <td>177f281c68fa032aedbd842a745da68490926cd2</td>\n",
              "      <td>15</td>\n",
              "      <td>PA</td>\n",
              "      <td>24</td>\n",
              "      <td>M</td>\n",
              "      <td>3</td>\n",
              "      <td>2</td>\n",
              "      <td>1</td>\n",
              "      <td>4</td>\n",
              "      <td>1</td>\n",
              "      <td>NaN</td>\n",
              "      <td>NaN</td>\n",
              "      <td>0</td>\n",
              "      <td>0</td>\n",
              "      <td>0</td>\n",
              "      <td>0</td>\n",
              "      <td>0</td>\n",
              "      <td>0</td>\n",
              "      <td>0</td>\n",
              "      <td>0</td>\n",
              "      <td>0</td>\n",
              "      <td>0</td>\n",
              "      <td>0</td>\n",
              "      <td>0</td>\n",
              "      <td>NaN</td>\n",
              "      <td>NaN</td>\n",
              "      <td>NaN</td>\n",
              "      <td>1</td>\n",
              "      <td>NaN</td>\n",
              "      <td>NaN</td>\n",
              "      <td>NaN</td>\n",
              "      <td>NaN</td>\n",
              "      <td>NaN</td>\n",
              "      <td>NaN</td>\n",
              "      <td>NaN</td>\n",
              "      <td>B</td>\n",
              "      <td>C</td>\n",
              "      <td>B</td>\n",
              "      <td>A</td>\n",
              "      <td>A</td>\n",
              "      <td>C</td>\n",
              "      <td>D</td>\n",
              "      <td>A</td>\n",
              "    </tr>\n",
              "    <tr>\n",
              "      <th>2</th>\n",
              "      <td>6cf0d8b97597d7625cdedc7bdb6c0f052286c334</td>\n",
              "      <td>29</td>\n",
              "      <td>BA</td>\n",
              "      <td>16</td>\n",
              "      <td>F</td>\n",
              "      <td>2</td>\n",
              "      <td>1</td>\n",
              "      <td>3</td>\n",
              "      <td>0</td>\n",
              "      <td>1</td>\n",
              "      <td>NaN</td>\n",
              "      <td>NaN</td>\n",
              "      <td>0</td>\n",
              "      <td>0</td>\n",
              "      <td>0</td>\n",
              "      <td>0</td>\n",
              "      <td>0</td>\n",
              "      <td>0</td>\n",
              "      <td>0</td>\n",
              "      <td>0</td>\n",
              "      <td>1</td>\n",
              "      <td>1</td>\n",
              "      <td>0</td>\n",
              "      <td>0</td>\n",
              "      <td>559.1</td>\n",
              "      <td>529.3</td>\n",
              "      <td>NaN</td>\n",
              "      <td>0</td>\n",
              "      <td>NaN</td>\n",
              "      <td>NaN</td>\n",
              "      <td>NaN</td>\n",
              "      <td>NaN</td>\n",
              "      <td>NaN</td>\n",
              "      <td>NaN</td>\n",
              "      <td>NaN</td>\n",
              "      <td>E</td>\n",
              "      <td>F</td>\n",
              "      <td>G</td>\n",
              "      <td>B</td>\n",
              "      <td>B</td>\n",
              "      <td>A</td>\n",
              "      <td>NaN</td>\n",
              "      <td>D</td>\n",
              "    </tr>\n",
              "    <tr>\n",
              "      <th>3</th>\n",
              "      <td>5c356d810fa57671402502cd0933e5601a2ebf1e</td>\n",
              "      <td>41</td>\n",
              "      <td>PR</td>\n",
              "      <td>17</td>\n",
              "      <td>F</td>\n",
              "      <td>1</td>\n",
              "      <td>1</td>\n",
              "      <td>2</td>\n",
              "      <td>0</td>\n",
              "      <td>2</td>\n",
              "      <td>1.0</td>\n",
              "      <td>2.0</td>\n",
              "      <td>0</td>\n",
              "      <td>0</td>\n",
              "      <td>0</td>\n",
              "      <td>0</td>\n",
              "      <td>0</td>\n",
              "      <td>0</td>\n",
              "      <td>0</td>\n",
              "      <td>0</td>\n",
              "      <td>1</td>\n",
              "      <td>1</td>\n",
              "      <td>1</td>\n",
              "      <td>1</td>\n",
              "      <td>475.0</td>\n",
              "      <td>557.8</td>\n",
              "      <td>542.0</td>\n",
              "      <td>1</td>\n",
              "      <td>1.0</td>\n",
              "      <td>120.0</td>\n",
              "      <td>120.0</td>\n",
              "      <td>80.0</td>\n",
              "      <td>120.0</td>\n",
              "      <td>40.0</td>\n",
              "      <td>480.0</td>\n",
              "      <td>E</td>\n",
              "      <td>E</td>\n",
              "      <td>E</td>\n",
              "      <td>C</td>\n",
              "      <td>B</td>\n",
              "      <td>B</td>\n",
              "      <td>C</td>\n",
              "      <td>A</td>\n",
              "    </tr>\n",
              "    <tr>\n",
              "      <th>4</th>\n",
              "      <td>df47c07bd881c2db3f38c6048bf77c132ad0ceb3</td>\n",
              "      <td>53</td>\n",
              "      <td>DF</td>\n",
              "      <td>19</td>\n",
              "      <td>F</td>\n",
              "      <td>1</td>\n",
              "      <td>1</td>\n",
              "      <td>1</td>\n",
              "      <td>1</td>\n",
              "      <td>1</td>\n",
              "      <td>NaN</td>\n",
              "      <td>NaN</td>\n",
              "      <td>0</td>\n",
              "      <td>0</td>\n",
              "      <td>0</td>\n",
              "      <td>0</td>\n",
              "      <td>0</td>\n",
              "      <td>0</td>\n",
              "      <td>0</td>\n",
              "      <td>0</td>\n",
              "      <td>1</td>\n",
              "      <td>1</td>\n",
              "      <td>1</td>\n",
              "      <td>1</td>\n",
              "      <td>440.5</td>\n",
              "      <td>596.1</td>\n",
              "      <td>594.2</td>\n",
              "      <td>1</td>\n",
              "      <td>1.0</td>\n",
              "      <td>160.0</td>\n",
              "      <td>160.0</td>\n",
              "      <td>160.0</td>\n",
              "      <td>160.0</td>\n",
              "      <td>80.0</td>\n",
              "      <td>720.0</td>\n",
              "      <td>E</td>\n",
              "      <td>E</td>\n",
              "      <td>E</td>\n",
              "      <td>B</td>\n",
              "      <td>B</td>\n",
              "      <td>B</td>\n",
              "      <td>D</td>\n",
              "      <td>A</td>\n",
              "    </tr>\n",
              "  </tbody>\n",
              "</table>\n",
              "</div>"
            ],
            "text/plain": [
              "                               NU_INSCRICAO  CO_UF_RESIDENCIA  ... Q027  Q047\n",
              "0  ba0cc30ba34e7a46764c09dfc38ed83d15828897                43  ...    D     A\n",
              "1  177f281c68fa032aedbd842a745da68490926cd2                15  ...    D     A\n",
              "2  6cf0d8b97597d7625cdedc7bdb6c0f052286c334                29  ...  NaN     D\n",
              "3  5c356d810fa57671402502cd0933e5601a2ebf1e                41  ...    C     A\n",
              "4  df47c07bd881c2db3f38c6048bf77c132ad0ceb3                53  ...    D     A\n",
              "\n",
              "[5 rows x 43 columns]"
            ]
          },
          "metadata": {
            "tags": []
          },
          "execution_count": 110
        }
      ]
    },
    {
      "cell_type": "code",
      "metadata": {
        "id": "R7SqT7rBkGR6",
        "colab_type": "code",
        "colab": {}
      },
      "source": [
        "#criando o index\n",
        "teste.set_index('NU_INSCRICAO', inplace=True)"
      ],
      "execution_count": 111,
      "outputs": []
    },
    {
      "cell_type": "code",
      "metadata": {
        "id": "2WY5-SWTkTEQ",
        "colab_type": "code",
        "colab": {}
      },
      "source": [
        "#substituindo os nulos por -1\n",
        "teste.fillna(-1, inplace=True)"
      ],
      "execution_count": 112,
      "outputs": []
    },
    {
      "cell_type": "markdown",
      "metadata": {
        "id": "82C82JxRhpal",
        "colab_type": "text"
      },
      "source": [
        "### APLICANDO O MODELO E GERANDO O ARQUIVO FNINAL"
      ]
    },
    {
      "cell_type": "code",
      "metadata": {
        "id": "Dzky0yfahbYx",
        "colab_type": "code",
        "colab": {}
      },
      "source": [
        "from google.colab import files\n",
        "#buscando o modelo escolhido - modelo2 - RandomForestClassifier\n",
        "MODELO = modelo2\n",
        "X_desafioqt = teste[colunas_features] #ajustando o teste às colunas escolhidas\n",
        "predicao_desafioqt = MODELO.predict(X_desafioqt)"
      ],
      "execution_count": 113,
      "outputs": []
    },
    {
      "cell_type": "code",
      "metadata": {
        "id": "9gKcNGakj0_D",
        "colab_type": "code",
        "colab": {}
      },
      "source": [
        "#criando o DF do desafio e criando a predição\n",
        "desafio_df = pd.DataFrame(teste.index)\n",
        "desafio_df['IN_TREINEIRO'] = predicao_desafioqt\n",
        "\n"
      ],
      "execution_count": 114,
      "outputs": []
    },
    {
      "cell_type": "code",
      "metadata": {
        "id": "Z1oHoDvek0Cu",
        "colab_type": "code",
        "colab": {
          "base_uri": "https://localhost:8080/",
          "height": 204
        },
        "outputId": "a9f6941b-9d24-4dbb-9a19-60d0fa0476fb"
      },
      "source": [
        "desafio_df.head()"
      ],
      "execution_count": 115,
      "outputs": [
        {
          "output_type": "execute_result",
          "data": {
            "text/html": [
              "<div>\n",
              "<style scoped>\n",
              "    .dataframe tbody tr th:only-of-type {\n",
              "        vertical-align: middle;\n",
              "    }\n",
              "\n",
              "    .dataframe tbody tr th {\n",
              "        vertical-align: top;\n",
              "    }\n",
              "\n",
              "    .dataframe thead th {\n",
              "        text-align: right;\n",
              "    }\n",
              "</style>\n",
              "<table border=\"1\" class=\"dataframe\">\n",
              "  <thead>\n",
              "    <tr style=\"text-align: right;\">\n",
              "      <th></th>\n",
              "      <th>NU_INSCRICAO</th>\n",
              "      <th>IN_TREINEIRO</th>\n",
              "    </tr>\n",
              "  </thead>\n",
              "  <tbody>\n",
              "    <tr>\n",
              "      <th>0</th>\n",
              "      <td>ba0cc30ba34e7a46764c09dfc38ed83d15828897</td>\n",
              "      <td>0</td>\n",
              "    </tr>\n",
              "    <tr>\n",
              "      <th>1</th>\n",
              "      <td>177f281c68fa032aedbd842a745da68490926cd2</td>\n",
              "      <td>0</td>\n",
              "    </tr>\n",
              "    <tr>\n",
              "      <th>2</th>\n",
              "      <td>6cf0d8b97597d7625cdedc7bdb6c0f052286c334</td>\n",
              "      <td>1</td>\n",
              "    </tr>\n",
              "    <tr>\n",
              "      <th>3</th>\n",
              "      <td>5c356d810fa57671402502cd0933e5601a2ebf1e</td>\n",
              "      <td>0</td>\n",
              "    </tr>\n",
              "    <tr>\n",
              "      <th>4</th>\n",
              "      <td>df47c07bd881c2db3f38c6048bf77c132ad0ceb3</td>\n",
              "      <td>0</td>\n",
              "    </tr>\n",
              "  </tbody>\n",
              "</table>\n",
              "</div>"
            ],
            "text/plain": [
              "                               NU_INSCRICAO  IN_TREINEIRO\n",
              "0  ba0cc30ba34e7a46764c09dfc38ed83d15828897             0\n",
              "1  177f281c68fa032aedbd842a745da68490926cd2             0\n",
              "2  6cf0d8b97597d7625cdedc7bdb6c0f052286c334             1\n",
              "3  5c356d810fa57671402502cd0933e5601a2ebf1e             0\n",
              "4  df47c07bd881c2db3f38c6048bf77c132ad0ceb3             0"
            ]
          },
          "metadata": {
            "tags": []
          },
          "execution_count": 115
        }
      ]
    },
    {
      "cell_type": "code",
      "metadata": {
        "id": "rw0zJQYdk2-M",
        "colab_type": "code",
        "colab": {
          "base_uri": "https://localhost:8080/",
          "height": 17
        },
        "outputId": "386e53a1-c956-4da1-9773-d45dbb327e94"
      },
      "source": [
        "#Criando o arquivo (answer.csv)\n",
        "desafio_df.to_csv('answer1.csv', index=False) \n",
        "files.download('answer1.csv')"
      ],
      "execution_count": 116,
      "outputs": [
        {
          "output_type": "display_data",
          "data": {
            "application/javascript": [
              "\n",
              "    async function download(id, filename, size) {\n",
              "      if (!google.colab.kernel.accessAllowed) {\n",
              "        return;\n",
              "      }\n",
              "      const div = document.createElement('div');\n",
              "      const label = document.createElement('label');\n",
              "      label.textContent = `Downloading \"${filename}\": `;\n",
              "      div.appendChild(label);\n",
              "      const progress = document.createElement('progress');\n",
              "      progress.max = size;\n",
              "      div.appendChild(progress);\n",
              "      document.body.appendChild(div);\n",
              "\n",
              "      const buffers = [];\n",
              "      let downloaded = 0;\n",
              "\n",
              "      const channel = await google.colab.kernel.comms.open(id);\n",
              "      // Send a message to notify the kernel that we're ready.\n",
              "      channel.send({})\n",
              "\n",
              "      for await (const message of channel.messages) {\n",
              "        // Send a message to notify the kernel that we're ready.\n",
              "        channel.send({})\n",
              "        if (message.buffers) {\n",
              "          for (const buffer of message.buffers) {\n",
              "            buffers.push(buffer);\n",
              "            downloaded += buffer.byteLength;\n",
              "            progress.value = downloaded;\n",
              "          }\n",
              "        }\n",
              "      }\n",
              "      const blob = new Blob(buffers, {type: 'application/binary'});\n",
              "      const a = document.createElement('a');\n",
              "      a.href = window.URL.createObjectURL(blob);\n",
              "      a.download = filename;\n",
              "      div.appendChild(a);\n",
              "      a.click();\n",
              "      div.remove();\n",
              "    }\n",
              "  "
            ],
            "text/plain": [
              "<IPython.core.display.Javascript object>"
            ]
          },
          "metadata": {
            "tags": []
          }
        },
        {
          "output_type": "display_data",
          "data": {
            "application/javascript": [
              "download(\"download_335aa935-6936-439f-850c-9885ea0ad0b5\", \"answer1.csv\", 196536)"
            ],
            "text/plain": [
              "<IPython.core.display.Javascript object>"
            ]
          },
          "metadata": {
            "tags": []
          }
        }
      ]
    },
    {
      "cell_type": "code",
      "metadata": {
        "id": "gMKX8Qwak_fE",
        "colab_type": "code",
        "colab": {
          "base_uri": "https://localhost:8080/",
          "height": 204
        },
        "outputId": "d37c94fc-610c-49c4-8fba-f776da222146"
      },
      "source": [
        "#lendo o CSV final\n",
        "dados0= pd.read_csv('answer.csv')\n",
        "dados0.head()"
      ],
      "execution_count": 117,
      "outputs": [
        {
          "output_type": "execute_result",
          "data": {
            "text/html": [
              "<div>\n",
              "<style scoped>\n",
              "    .dataframe tbody tr th:only-of-type {\n",
              "        vertical-align: middle;\n",
              "    }\n",
              "\n",
              "    .dataframe tbody tr th {\n",
              "        vertical-align: top;\n",
              "    }\n",
              "\n",
              "    .dataframe thead th {\n",
              "        text-align: right;\n",
              "    }\n",
              "</style>\n",
              "<table border=\"1\" class=\"dataframe\">\n",
              "  <thead>\n",
              "    <tr style=\"text-align: right;\">\n",
              "      <th></th>\n",
              "      <th>NU_INSCRICAO</th>\n",
              "      <th>IN_TREINEIRO</th>\n",
              "    </tr>\n",
              "  </thead>\n",
              "  <tbody>\n",
              "    <tr>\n",
              "      <th>0</th>\n",
              "      <td>ba0cc30ba34e7a46764c09dfc38ed83d15828897</td>\n",
              "      <td>0</td>\n",
              "    </tr>\n",
              "    <tr>\n",
              "      <th>1</th>\n",
              "      <td>177f281c68fa032aedbd842a745da68490926cd2</td>\n",
              "      <td>0</td>\n",
              "    </tr>\n",
              "    <tr>\n",
              "      <th>2</th>\n",
              "      <td>6cf0d8b97597d7625cdedc7bdb6c0f052286c334</td>\n",
              "      <td>1</td>\n",
              "    </tr>\n",
              "    <tr>\n",
              "      <th>3</th>\n",
              "      <td>5c356d810fa57671402502cd0933e5601a2ebf1e</td>\n",
              "      <td>0</td>\n",
              "    </tr>\n",
              "    <tr>\n",
              "      <th>4</th>\n",
              "      <td>df47c07bd881c2db3f38c6048bf77c132ad0ceb3</td>\n",
              "      <td>0</td>\n",
              "    </tr>\n",
              "  </tbody>\n",
              "</table>\n",
              "</div>"
            ],
            "text/plain": [
              "                               NU_INSCRICAO  IN_TREINEIRO\n",
              "0  ba0cc30ba34e7a46764c09dfc38ed83d15828897             0\n",
              "1  177f281c68fa032aedbd842a745da68490926cd2             0\n",
              "2  6cf0d8b97597d7625cdedc7bdb6c0f052286c334             1\n",
              "3  5c356d810fa57671402502cd0933e5601a2ebf1e             0\n",
              "4  df47c07bd881c2db3f38c6048bf77c132ad0ceb3             0"
            ]
          },
          "metadata": {
            "tags": []
          },
          "execution_count": 117
        }
      ]
    },
    {
      "cell_type": "code",
      "metadata": {
        "id": "dLJn9-aTlOTj",
        "colab_type": "code",
        "colab": {
          "base_uri": "https://localhost:8080/",
          "height": 204
        },
        "outputId": "a366bc19-3e4c-4d79-a626-1dc3e1747bb1"
      },
      "source": [
        "#lendo o CSV final\n",
        "dados1= pd.read_csv('answer1.csv')\n",
        "dados1.head()"
      ],
      "execution_count": 118,
      "outputs": [
        {
          "output_type": "execute_result",
          "data": {
            "text/html": [
              "<div>\n",
              "<style scoped>\n",
              "    .dataframe tbody tr th:only-of-type {\n",
              "        vertical-align: middle;\n",
              "    }\n",
              "\n",
              "    .dataframe tbody tr th {\n",
              "        vertical-align: top;\n",
              "    }\n",
              "\n",
              "    .dataframe thead th {\n",
              "        text-align: right;\n",
              "    }\n",
              "</style>\n",
              "<table border=\"1\" class=\"dataframe\">\n",
              "  <thead>\n",
              "    <tr style=\"text-align: right;\">\n",
              "      <th></th>\n",
              "      <th>NU_INSCRICAO</th>\n",
              "      <th>IN_TREINEIRO</th>\n",
              "    </tr>\n",
              "  </thead>\n",
              "  <tbody>\n",
              "    <tr>\n",
              "      <th>0</th>\n",
              "      <td>ba0cc30ba34e7a46764c09dfc38ed83d15828897</td>\n",
              "      <td>0</td>\n",
              "    </tr>\n",
              "    <tr>\n",
              "      <th>1</th>\n",
              "      <td>177f281c68fa032aedbd842a745da68490926cd2</td>\n",
              "      <td>0</td>\n",
              "    </tr>\n",
              "    <tr>\n",
              "      <th>2</th>\n",
              "      <td>6cf0d8b97597d7625cdedc7bdb6c0f052286c334</td>\n",
              "      <td>1</td>\n",
              "    </tr>\n",
              "    <tr>\n",
              "      <th>3</th>\n",
              "      <td>5c356d810fa57671402502cd0933e5601a2ebf1e</td>\n",
              "      <td>0</td>\n",
              "    </tr>\n",
              "    <tr>\n",
              "      <th>4</th>\n",
              "      <td>df47c07bd881c2db3f38c6048bf77c132ad0ceb3</td>\n",
              "      <td>0</td>\n",
              "    </tr>\n",
              "  </tbody>\n",
              "</table>\n",
              "</div>"
            ],
            "text/plain": [
              "                               NU_INSCRICAO  IN_TREINEIRO\n",
              "0  ba0cc30ba34e7a46764c09dfc38ed83d15828897             0\n",
              "1  177f281c68fa032aedbd842a745da68490926cd2             0\n",
              "2  6cf0d8b97597d7625cdedc7bdb6c0f052286c334             1\n",
              "3  5c356d810fa57671402502cd0933e5601a2ebf1e             0\n",
              "4  df47c07bd881c2db3f38c6048bf77c132ad0ceb3             0"
            ]
          },
          "metadata": {
            "tags": []
          },
          "execution_count": 118
        }
      ]
    },
    {
      "cell_type": "code",
      "metadata": {
        "id": "vsASGTlTwwof",
        "colab_type": "code",
        "colab": {
          "base_uri": "https://localhost:8080/",
          "height": 34
        },
        "outputId": "e312fe70-d440-452a-d5ff-b853f5115130"
      },
      "source": [
        "#conferindo se o random_state funcionou\n",
        "dados0['IN_TREINEIRO'].equals(dados1['IN_TREINEIRO'])"
      ],
      "execution_count": 119,
      "outputs": [
        {
          "output_type": "execute_result",
          "data": {
            "text/plain": [
              "True"
            ]
          },
          "metadata": {
            "tags": []
          },
          "execution_count": 119
        }
      ]
    }
  ]
}