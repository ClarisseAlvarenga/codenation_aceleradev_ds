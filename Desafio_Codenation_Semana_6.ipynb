{
  "nbformat": 4,
  "nbformat_minor": 0,
  "metadata": {
    "kernelspec": {
      "display_name": "Python 3",
      "language": "python",
      "name": "python3"
    },
    "language_info": {
      "codemirror_mode": {
        "name": "ipython",
        "version": 3
      },
      "file_extension": ".py",
      "mimetype": "text/x-python",
      "name": "python",
      "nbconvert_exporter": "python",
      "pygments_lexer": "ipython3",
      "version": "3.7.3"
    },
    "colab": {
      "name": "Desafio_Codenation_Semana_6.ipynb",
      "provenance": [],
      "toc_visible": true,
      "include_colab_link": true
    }
  },
  "cells": [
    {
      "cell_type": "markdown",
      "metadata": {
        "id": "view-in-github",
        "colab_type": "text"
      },
      "source": [
        "<a href=\"https://colab.research.google.com/github/ClarisseAlvarenga/codenation_aceleradev_ds/blob/master/Desafio_Codenation_Semana_6.ipynb\" target=\"_parent\"><img src=\"https://colab.research.google.com/assets/colab-badge.svg\" alt=\"Open In Colab\"/></a>"
      ]
    },
    {
      "cell_type": "markdown",
      "metadata": {
        "id": "HPTyiUK5HlqS",
        "colab_type": "text"
      },
      "source": [
        "# Desafio 5\n",
        "\n",
        "Neste desafio, vamos praticar sobre redução de dimensionalidade com PCA e seleção de variáveis com RFE. Utilizaremos o _data set_ [Fifa 2019](https://www.kaggle.com/karangadiya/fifa19), contendo originalmente 89 variáveis de mais de 18 mil jogadores do _game_ FIFA 2019.\n",
        "\n",
        "> Obs.: Por favor, não modifique o nome das funções de resposta."
      ]
    },
    {
      "cell_type": "markdown",
      "metadata": {
        "id": "WHfePLP7HlqT",
        "colab_type": "text"
      },
      "source": [
        "## _Setup_ geral"
      ]
    },
    {
      "cell_type": "code",
      "metadata": {
        "id": "FLMW4sN3HlqU",
        "colab_type": "code",
        "colab": {}
      },
      "source": [
        "from math import sqrt\n",
        "\n",
        "import pandas as pd\n",
        "import matplotlib.pyplot as plt\n",
        "import numpy as np\n",
        "import scipy.stats as sct\n",
        "import seaborn as sns\n",
        "import statsmodels.api as sm\n",
        "import statsmodels.stats as st\n",
        "from sklearn.decomposition import PCA\n",
        "\n",
        "from loguru import logger\n",
        "#fonte de pesquisa: https://jakevdp.github.io/PythonDataScienceHandbook/05.09-principal-component-analysis.html"
      ],
      "execution_count": 242,
      "outputs": []
    },
    {
      "cell_type": "code",
      "metadata": {
        "scrolled": false,
        "id": "x3ciDVFWHlqc",
        "colab_type": "code",
        "colab": {}
      },
      "source": [
        "fifa = pd.read_csv(\"fifa.csv\")"
      ],
      "execution_count": 243,
      "outputs": []
    },
    {
      "cell_type": "code",
      "metadata": {
        "id": "aNUy5_9AILXf",
        "colab_type": "code",
        "colab": {
          "base_uri": "https://localhost:8080/",
          "height": 389
        },
        "outputId": "0a0c3759-6961-4e93-b376-3a89b33f1e6c"
      },
      "source": [
        "fifa.head()"
      ],
      "execution_count": 244,
      "outputs": [
        {
          "output_type": "execute_result",
          "data": {
            "text/html": [
              "<div>\n",
              "<style scoped>\n",
              "    .dataframe tbody tr th:only-of-type {\n",
              "        vertical-align: middle;\n",
              "    }\n",
              "\n",
              "    .dataframe tbody tr th {\n",
              "        vertical-align: top;\n",
              "    }\n",
              "\n",
              "    .dataframe thead th {\n",
              "        text-align: right;\n",
              "    }\n",
              "</style>\n",
              "<table border=\"1\" class=\"dataframe\">\n",
              "  <thead>\n",
              "    <tr style=\"text-align: right;\">\n",
              "      <th></th>\n",
              "      <th>Unnamed: 0</th>\n",
              "      <th>ID</th>\n",
              "      <th>Name</th>\n",
              "      <th>Age</th>\n",
              "      <th>Photo</th>\n",
              "      <th>Nationality</th>\n",
              "      <th>Flag</th>\n",
              "      <th>Overall</th>\n",
              "      <th>Potential</th>\n",
              "      <th>Club</th>\n",
              "      <th>Club Logo</th>\n",
              "      <th>Value</th>\n",
              "      <th>Wage</th>\n",
              "      <th>Special</th>\n",
              "      <th>Preferred Foot</th>\n",
              "      <th>International Reputation</th>\n",
              "      <th>Weak Foot</th>\n",
              "      <th>Skill Moves</th>\n",
              "      <th>Work Rate</th>\n",
              "      <th>Body Type</th>\n",
              "      <th>Real Face</th>\n",
              "      <th>Position</th>\n",
              "      <th>Jersey Number</th>\n",
              "      <th>Joined</th>\n",
              "      <th>Loaned From</th>\n",
              "      <th>Contract Valid Until</th>\n",
              "      <th>Height</th>\n",
              "      <th>Weight</th>\n",
              "      <th>LS</th>\n",
              "      <th>ST</th>\n",
              "      <th>RS</th>\n",
              "      <th>LW</th>\n",
              "      <th>LF</th>\n",
              "      <th>CF</th>\n",
              "      <th>RF</th>\n",
              "      <th>RW</th>\n",
              "      <th>LAM</th>\n",
              "      <th>CAM</th>\n",
              "      <th>RAM</th>\n",
              "      <th>LM</th>\n",
              "      <th>...</th>\n",
              "      <th>LB</th>\n",
              "      <th>LCB</th>\n",
              "      <th>CB</th>\n",
              "      <th>RCB</th>\n",
              "      <th>RB</th>\n",
              "      <th>Crossing</th>\n",
              "      <th>Finishing</th>\n",
              "      <th>HeadingAccuracy</th>\n",
              "      <th>ShortPassing</th>\n",
              "      <th>Volleys</th>\n",
              "      <th>Dribbling</th>\n",
              "      <th>Curve</th>\n",
              "      <th>FKAccuracy</th>\n",
              "      <th>LongPassing</th>\n",
              "      <th>BallControl</th>\n",
              "      <th>Acceleration</th>\n",
              "      <th>SprintSpeed</th>\n",
              "      <th>Agility</th>\n",
              "      <th>Reactions</th>\n",
              "      <th>Balance</th>\n",
              "      <th>ShotPower</th>\n",
              "      <th>Jumping</th>\n",
              "      <th>Stamina</th>\n",
              "      <th>Strength</th>\n",
              "      <th>LongShots</th>\n",
              "      <th>Aggression</th>\n",
              "      <th>Interceptions</th>\n",
              "      <th>Positioning</th>\n",
              "      <th>Vision</th>\n",
              "      <th>Penalties</th>\n",
              "      <th>Composure</th>\n",
              "      <th>Marking</th>\n",
              "      <th>StandingTackle</th>\n",
              "      <th>SlidingTackle</th>\n",
              "      <th>GKDiving</th>\n",
              "      <th>GKHandling</th>\n",
              "      <th>GKKicking</th>\n",
              "      <th>GKPositioning</th>\n",
              "      <th>GKReflexes</th>\n",
              "      <th>Release Clause</th>\n",
              "    </tr>\n",
              "  </thead>\n",
              "  <tbody>\n",
              "    <tr>\n",
              "      <th>0</th>\n",
              "      <td>0</td>\n",
              "      <td>158023</td>\n",
              "      <td>L. Messi</td>\n",
              "      <td>31</td>\n",
              "      <td>https://cdn.sofifa.org/players/4/19/158023.png</td>\n",
              "      <td>Argentina</td>\n",
              "      <td>https://cdn.sofifa.org/flags/52.png</td>\n",
              "      <td>94</td>\n",
              "      <td>94</td>\n",
              "      <td>FC Barcelona</td>\n",
              "      <td>https://cdn.sofifa.org/teams/2/light/241.png</td>\n",
              "      <td>€110.5M</td>\n",
              "      <td>€565K</td>\n",
              "      <td>2202</td>\n",
              "      <td>Left</td>\n",
              "      <td>5.0</td>\n",
              "      <td>4.0</td>\n",
              "      <td>4.0</td>\n",
              "      <td>Medium/ Medium</td>\n",
              "      <td>Messi</td>\n",
              "      <td>Yes</td>\n",
              "      <td>RF</td>\n",
              "      <td>10.0</td>\n",
              "      <td>Jul 1, 2004</td>\n",
              "      <td>NaN</td>\n",
              "      <td>2021</td>\n",
              "      <td>5'7</td>\n",
              "      <td>159lbs</td>\n",
              "      <td>88+2</td>\n",
              "      <td>88+2</td>\n",
              "      <td>88+2</td>\n",
              "      <td>92+2</td>\n",
              "      <td>93+2</td>\n",
              "      <td>93+2</td>\n",
              "      <td>93+2</td>\n",
              "      <td>92+2</td>\n",
              "      <td>93+2</td>\n",
              "      <td>93+2</td>\n",
              "      <td>93+2</td>\n",
              "      <td>91+2</td>\n",
              "      <td>...</td>\n",
              "      <td>59+2</td>\n",
              "      <td>47+2</td>\n",
              "      <td>47+2</td>\n",
              "      <td>47+2</td>\n",
              "      <td>59+2</td>\n",
              "      <td>84.0</td>\n",
              "      <td>95.0</td>\n",
              "      <td>70.0</td>\n",
              "      <td>90.0</td>\n",
              "      <td>86.0</td>\n",
              "      <td>97.0</td>\n",
              "      <td>93.0</td>\n",
              "      <td>94.0</td>\n",
              "      <td>87.0</td>\n",
              "      <td>96.0</td>\n",
              "      <td>91.0</td>\n",
              "      <td>86.0</td>\n",
              "      <td>91.0</td>\n",
              "      <td>95.0</td>\n",
              "      <td>95.0</td>\n",
              "      <td>85.0</td>\n",
              "      <td>68.0</td>\n",
              "      <td>72.0</td>\n",
              "      <td>59.0</td>\n",
              "      <td>94.0</td>\n",
              "      <td>48.0</td>\n",
              "      <td>22.0</td>\n",
              "      <td>94.0</td>\n",
              "      <td>94.0</td>\n",
              "      <td>75.0</td>\n",
              "      <td>96.0</td>\n",
              "      <td>33.0</td>\n",
              "      <td>28.0</td>\n",
              "      <td>26.0</td>\n",
              "      <td>6.0</td>\n",
              "      <td>11.0</td>\n",
              "      <td>15.0</td>\n",
              "      <td>14.0</td>\n",
              "      <td>8.0</td>\n",
              "      <td>€226.5M</td>\n",
              "    </tr>\n",
              "    <tr>\n",
              "      <th>1</th>\n",
              "      <td>1</td>\n",
              "      <td>20801</td>\n",
              "      <td>Cristiano Ronaldo</td>\n",
              "      <td>33</td>\n",
              "      <td>https://cdn.sofifa.org/players/4/19/20801.png</td>\n",
              "      <td>Portugal</td>\n",
              "      <td>https://cdn.sofifa.org/flags/38.png</td>\n",
              "      <td>94</td>\n",
              "      <td>94</td>\n",
              "      <td>Juventus</td>\n",
              "      <td>https://cdn.sofifa.org/teams/2/light/45.png</td>\n",
              "      <td>€77M</td>\n",
              "      <td>€405K</td>\n",
              "      <td>2228</td>\n",
              "      <td>Right</td>\n",
              "      <td>5.0</td>\n",
              "      <td>4.0</td>\n",
              "      <td>5.0</td>\n",
              "      <td>High/ Low</td>\n",
              "      <td>C. Ronaldo</td>\n",
              "      <td>Yes</td>\n",
              "      <td>ST</td>\n",
              "      <td>7.0</td>\n",
              "      <td>Jul 10, 2018</td>\n",
              "      <td>NaN</td>\n",
              "      <td>2022</td>\n",
              "      <td>6'2</td>\n",
              "      <td>183lbs</td>\n",
              "      <td>91+3</td>\n",
              "      <td>91+3</td>\n",
              "      <td>91+3</td>\n",
              "      <td>89+3</td>\n",
              "      <td>90+3</td>\n",
              "      <td>90+3</td>\n",
              "      <td>90+3</td>\n",
              "      <td>89+3</td>\n",
              "      <td>88+3</td>\n",
              "      <td>88+3</td>\n",
              "      <td>88+3</td>\n",
              "      <td>88+3</td>\n",
              "      <td>...</td>\n",
              "      <td>61+3</td>\n",
              "      <td>53+3</td>\n",
              "      <td>53+3</td>\n",
              "      <td>53+3</td>\n",
              "      <td>61+3</td>\n",
              "      <td>84.0</td>\n",
              "      <td>94.0</td>\n",
              "      <td>89.0</td>\n",
              "      <td>81.0</td>\n",
              "      <td>87.0</td>\n",
              "      <td>88.0</td>\n",
              "      <td>81.0</td>\n",
              "      <td>76.0</td>\n",
              "      <td>77.0</td>\n",
              "      <td>94.0</td>\n",
              "      <td>89.0</td>\n",
              "      <td>91.0</td>\n",
              "      <td>87.0</td>\n",
              "      <td>96.0</td>\n",
              "      <td>70.0</td>\n",
              "      <td>95.0</td>\n",
              "      <td>95.0</td>\n",
              "      <td>88.0</td>\n",
              "      <td>79.0</td>\n",
              "      <td>93.0</td>\n",
              "      <td>63.0</td>\n",
              "      <td>29.0</td>\n",
              "      <td>95.0</td>\n",
              "      <td>82.0</td>\n",
              "      <td>85.0</td>\n",
              "      <td>95.0</td>\n",
              "      <td>28.0</td>\n",
              "      <td>31.0</td>\n",
              "      <td>23.0</td>\n",
              "      <td>7.0</td>\n",
              "      <td>11.0</td>\n",
              "      <td>15.0</td>\n",
              "      <td>14.0</td>\n",
              "      <td>11.0</td>\n",
              "      <td>€127.1M</td>\n",
              "    </tr>\n",
              "    <tr>\n",
              "      <th>2</th>\n",
              "      <td>2</td>\n",
              "      <td>190871</td>\n",
              "      <td>Neymar Jr</td>\n",
              "      <td>26</td>\n",
              "      <td>https://cdn.sofifa.org/players/4/19/190871.png</td>\n",
              "      <td>Brazil</td>\n",
              "      <td>https://cdn.sofifa.org/flags/54.png</td>\n",
              "      <td>92</td>\n",
              "      <td>93</td>\n",
              "      <td>Paris Saint-Germain</td>\n",
              "      <td>https://cdn.sofifa.org/teams/2/light/73.png</td>\n",
              "      <td>€118.5M</td>\n",
              "      <td>€290K</td>\n",
              "      <td>2143</td>\n",
              "      <td>Right</td>\n",
              "      <td>5.0</td>\n",
              "      <td>5.0</td>\n",
              "      <td>5.0</td>\n",
              "      <td>High/ Medium</td>\n",
              "      <td>Neymar</td>\n",
              "      <td>Yes</td>\n",
              "      <td>LW</td>\n",
              "      <td>10.0</td>\n",
              "      <td>Aug 3, 2017</td>\n",
              "      <td>NaN</td>\n",
              "      <td>2022</td>\n",
              "      <td>5'9</td>\n",
              "      <td>150lbs</td>\n",
              "      <td>84+3</td>\n",
              "      <td>84+3</td>\n",
              "      <td>84+3</td>\n",
              "      <td>89+3</td>\n",
              "      <td>89+3</td>\n",
              "      <td>89+3</td>\n",
              "      <td>89+3</td>\n",
              "      <td>89+3</td>\n",
              "      <td>89+3</td>\n",
              "      <td>89+3</td>\n",
              "      <td>89+3</td>\n",
              "      <td>88+3</td>\n",
              "      <td>...</td>\n",
              "      <td>60+3</td>\n",
              "      <td>47+3</td>\n",
              "      <td>47+3</td>\n",
              "      <td>47+3</td>\n",
              "      <td>60+3</td>\n",
              "      <td>79.0</td>\n",
              "      <td>87.0</td>\n",
              "      <td>62.0</td>\n",
              "      <td>84.0</td>\n",
              "      <td>84.0</td>\n",
              "      <td>96.0</td>\n",
              "      <td>88.0</td>\n",
              "      <td>87.0</td>\n",
              "      <td>78.0</td>\n",
              "      <td>95.0</td>\n",
              "      <td>94.0</td>\n",
              "      <td>90.0</td>\n",
              "      <td>96.0</td>\n",
              "      <td>94.0</td>\n",
              "      <td>84.0</td>\n",
              "      <td>80.0</td>\n",
              "      <td>61.0</td>\n",
              "      <td>81.0</td>\n",
              "      <td>49.0</td>\n",
              "      <td>82.0</td>\n",
              "      <td>56.0</td>\n",
              "      <td>36.0</td>\n",
              "      <td>89.0</td>\n",
              "      <td>87.0</td>\n",
              "      <td>81.0</td>\n",
              "      <td>94.0</td>\n",
              "      <td>27.0</td>\n",
              "      <td>24.0</td>\n",
              "      <td>33.0</td>\n",
              "      <td>9.0</td>\n",
              "      <td>9.0</td>\n",
              "      <td>15.0</td>\n",
              "      <td>15.0</td>\n",
              "      <td>11.0</td>\n",
              "      <td>€228.1M</td>\n",
              "    </tr>\n",
              "    <tr>\n",
              "      <th>3</th>\n",
              "      <td>3</td>\n",
              "      <td>193080</td>\n",
              "      <td>De Gea</td>\n",
              "      <td>27</td>\n",
              "      <td>https://cdn.sofifa.org/players/4/19/193080.png</td>\n",
              "      <td>Spain</td>\n",
              "      <td>https://cdn.sofifa.org/flags/45.png</td>\n",
              "      <td>91</td>\n",
              "      <td>93</td>\n",
              "      <td>Manchester United</td>\n",
              "      <td>https://cdn.sofifa.org/teams/2/light/11.png</td>\n",
              "      <td>€72M</td>\n",
              "      <td>€260K</td>\n",
              "      <td>1471</td>\n",
              "      <td>Right</td>\n",
              "      <td>4.0</td>\n",
              "      <td>3.0</td>\n",
              "      <td>1.0</td>\n",
              "      <td>Medium/ Medium</td>\n",
              "      <td>Lean</td>\n",
              "      <td>Yes</td>\n",
              "      <td>GK</td>\n",
              "      <td>1.0</td>\n",
              "      <td>Jul 1, 2011</td>\n",
              "      <td>NaN</td>\n",
              "      <td>2020</td>\n",
              "      <td>6'4</td>\n",
              "      <td>168lbs</td>\n",
              "      <td>NaN</td>\n",
              "      <td>NaN</td>\n",
              "      <td>NaN</td>\n",
              "      <td>NaN</td>\n",
              "      <td>NaN</td>\n",
              "      <td>NaN</td>\n",
              "      <td>NaN</td>\n",
              "      <td>NaN</td>\n",
              "      <td>NaN</td>\n",
              "      <td>NaN</td>\n",
              "      <td>NaN</td>\n",
              "      <td>NaN</td>\n",
              "      <td>...</td>\n",
              "      <td>NaN</td>\n",
              "      <td>NaN</td>\n",
              "      <td>NaN</td>\n",
              "      <td>NaN</td>\n",
              "      <td>NaN</td>\n",
              "      <td>17.0</td>\n",
              "      <td>13.0</td>\n",
              "      <td>21.0</td>\n",
              "      <td>50.0</td>\n",
              "      <td>13.0</td>\n",
              "      <td>18.0</td>\n",
              "      <td>21.0</td>\n",
              "      <td>19.0</td>\n",
              "      <td>51.0</td>\n",
              "      <td>42.0</td>\n",
              "      <td>57.0</td>\n",
              "      <td>58.0</td>\n",
              "      <td>60.0</td>\n",
              "      <td>90.0</td>\n",
              "      <td>43.0</td>\n",
              "      <td>31.0</td>\n",
              "      <td>67.0</td>\n",
              "      <td>43.0</td>\n",
              "      <td>64.0</td>\n",
              "      <td>12.0</td>\n",
              "      <td>38.0</td>\n",
              "      <td>30.0</td>\n",
              "      <td>12.0</td>\n",
              "      <td>68.0</td>\n",
              "      <td>40.0</td>\n",
              "      <td>68.0</td>\n",
              "      <td>15.0</td>\n",
              "      <td>21.0</td>\n",
              "      <td>13.0</td>\n",
              "      <td>90.0</td>\n",
              "      <td>85.0</td>\n",
              "      <td>87.0</td>\n",
              "      <td>88.0</td>\n",
              "      <td>94.0</td>\n",
              "      <td>€138.6M</td>\n",
              "    </tr>\n",
              "    <tr>\n",
              "      <th>4</th>\n",
              "      <td>4</td>\n",
              "      <td>192985</td>\n",
              "      <td>K. De Bruyne</td>\n",
              "      <td>27</td>\n",
              "      <td>https://cdn.sofifa.org/players/4/19/192985.png</td>\n",
              "      <td>Belgium</td>\n",
              "      <td>https://cdn.sofifa.org/flags/7.png</td>\n",
              "      <td>91</td>\n",
              "      <td>92</td>\n",
              "      <td>Manchester City</td>\n",
              "      <td>https://cdn.sofifa.org/teams/2/light/10.png</td>\n",
              "      <td>€102M</td>\n",
              "      <td>€355K</td>\n",
              "      <td>2281</td>\n",
              "      <td>Right</td>\n",
              "      <td>4.0</td>\n",
              "      <td>5.0</td>\n",
              "      <td>4.0</td>\n",
              "      <td>High/ High</td>\n",
              "      <td>Normal</td>\n",
              "      <td>Yes</td>\n",
              "      <td>RCM</td>\n",
              "      <td>7.0</td>\n",
              "      <td>Aug 30, 2015</td>\n",
              "      <td>NaN</td>\n",
              "      <td>2023</td>\n",
              "      <td>5'11</td>\n",
              "      <td>154lbs</td>\n",
              "      <td>82+3</td>\n",
              "      <td>82+3</td>\n",
              "      <td>82+3</td>\n",
              "      <td>87+3</td>\n",
              "      <td>87+3</td>\n",
              "      <td>87+3</td>\n",
              "      <td>87+3</td>\n",
              "      <td>87+3</td>\n",
              "      <td>88+3</td>\n",
              "      <td>88+3</td>\n",
              "      <td>88+3</td>\n",
              "      <td>88+3</td>\n",
              "      <td>...</td>\n",
              "      <td>73+3</td>\n",
              "      <td>66+3</td>\n",
              "      <td>66+3</td>\n",
              "      <td>66+3</td>\n",
              "      <td>73+3</td>\n",
              "      <td>93.0</td>\n",
              "      <td>82.0</td>\n",
              "      <td>55.0</td>\n",
              "      <td>92.0</td>\n",
              "      <td>82.0</td>\n",
              "      <td>86.0</td>\n",
              "      <td>85.0</td>\n",
              "      <td>83.0</td>\n",
              "      <td>91.0</td>\n",
              "      <td>91.0</td>\n",
              "      <td>78.0</td>\n",
              "      <td>76.0</td>\n",
              "      <td>79.0</td>\n",
              "      <td>91.0</td>\n",
              "      <td>77.0</td>\n",
              "      <td>91.0</td>\n",
              "      <td>63.0</td>\n",
              "      <td>90.0</td>\n",
              "      <td>75.0</td>\n",
              "      <td>91.0</td>\n",
              "      <td>76.0</td>\n",
              "      <td>61.0</td>\n",
              "      <td>87.0</td>\n",
              "      <td>94.0</td>\n",
              "      <td>79.0</td>\n",
              "      <td>88.0</td>\n",
              "      <td>68.0</td>\n",
              "      <td>58.0</td>\n",
              "      <td>51.0</td>\n",
              "      <td>15.0</td>\n",
              "      <td>13.0</td>\n",
              "      <td>5.0</td>\n",
              "      <td>10.0</td>\n",
              "      <td>13.0</td>\n",
              "      <td>€196.4M</td>\n",
              "    </tr>\n",
              "  </tbody>\n",
              "</table>\n",
              "<p>5 rows × 89 columns</p>\n",
              "</div>"
            ],
            "text/plain": [
              "   Unnamed: 0      ID  ... GKReflexes  Release Clause\n",
              "0           0  158023  ...        8.0         €226.5M\n",
              "1           1   20801  ...       11.0         €127.1M\n",
              "2           2  190871  ...       11.0         €228.1M\n",
              "3           3  193080  ...       94.0         €138.6M\n",
              "4           4  192985  ...       13.0         €196.4M\n",
              "\n",
              "[5 rows x 89 columns]"
            ]
          },
          "metadata": {
            "tags": []
          },
          "execution_count": 244
        }
      ]
    },
    {
      "cell_type": "code",
      "metadata": {
        "id": "IkXSrBstIO4c",
        "colab_type": "code",
        "colab": {
          "base_uri": "https://localhost:8080/",
          "height": 34
        },
        "outputId": "8ffb95c1-500c-4a5f-f0da-20a869fc0cbe"
      },
      "source": [
        "fifa.shape"
      ],
      "execution_count": 245,
      "outputs": [
        {
          "output_type": "execute_result",
          "data": {
            "text/plain": [
              "(18207, 89)"
            ]
          },
          "metadata": {
            "tags": []
          },
          "execution_count": 245
        }
      ]
    },
    {
      "cell_type": "code",
      "metadata": {
        "id": "pMaLAnY8Hlqf",
        "colab_type": "code",
        "colab": {}
      },
      "source": [
        "#excluindo colunas\n",
        "columns_to_drop = [\"Unnamed: 0\", \"ID\", \"Name\", \"Photo\", \"Nationality\", \"Flag\",\n",
        "                   \"Club\", \"Club Logo\", \"Value\", \"Wage\", \"Special\", \"Preferred Foot\",\n",
        "                   \"International Reputation\", \"Weak Foot\", \"Skill Moves\", \"Work Rate\",\n",
        "                   \"Body Type\", \"Real Face\", \"Position\", \"Jersey Number\", \"Joined\",\n",
        "                   \"Loaned From\", \"Contract Valid Until\", \"Height\", \"Weight\", \"LS\",\n",
        "                   \"ST\", \"RS\", \"LW\", \"LF\", \"CF\", \"RF\", \"RW\", \"LAM\", \"CAM\", \"RAM\", \"LM\",\n",
        "                   \"LCM\", \"CM\", \"RCM\", \"RM\", \"LWB\", \"LDM\", \"CDM\", \"RDM\", \"RWB\", \"LB\", \"LCB\",\n",
        "                   \"CB\", \"RCB\", \"RB\", \"Release Clause\"\n",
        "]\n",
        "\n",
        "try:\n",
        "    fifa.drop(columns_to_drop, axis=1, inplace=True)\n",
        "except KeyError:\n",
        "    logger.warning(f\"Columns already dropped\")"
      ],
      "execution_count": 246,
      "outputs": []
    },
    {
      "cell_type": "markdown",
      "metadata": {
        "id": "X-J9hj2wHlqh",
        "colab_type": "text"
      },
      "source": [
        "## Inicia sua análise a partir daqui"
      ]
    },
    {
      "cell_type": "code",
      "metadata": {
        "id": "U0u6JoN6Hlqi",
        "colab_type": "code",
        "colab": {
          "base_uri": "https://localhost:8080/",
          "height": 224
        },
        "outputId": "07987187-da0a-45c3-c15f-284c560d0e63"
      },
      "source": [
        "# Sua análise começa aqui.\n",
        "fifa.head()\n"
      ],
      "execution_count": 247,
      "outputs": [
        {
          "output_type": "execute_result",
          "data": {
            "text/html": [
              "<div>\n",
              "<style scoped>\n",
              "    .dataframe tbody tr th:only-of-type {\n",
              "        vertical-align: middle;\n",
              "    }\n",
              "\n",
              "    .dataframe tbody tr th {\n",
              "        vertical-align: top;\n",
              "    }\n",
              "\n",
              "    .dataframe thead th {\n",
              "        text-align: right;\n",
              "    }\n",
              "</style>\n",
              "<table border=\"1\" class=\"dataframe\">\n",
              "  <thead>\n",
              "    <tr style=\"text-align: right;\">\n",
              "      <th></th>\n",
              "      <th>Age</th>\n",
              "      <th>Overall</th>\n",
              "      <th>Potential</th>\n",
              "      <th>Crossing</th>\n",
              "      <th>Finishing</th>\n",
              "      <th>HeadingAccuracy</th>\n",
              "      <th>ShortPassing</th>\n",
              "      <th>Volleys</th>\n",
              "      <th>Dribbling</th>\n",
              "      <th>Curve</th>\n",
              "      <th>FKAccuracy</th>\n",
              "      <th>LongPassing</th>\n",
              "      <th>BallControl</th>\n",
              "      <th>Acceleration</th>\n",
              "      <th>SprintSpeed</th>\n",
              "      <th>Agility</th>\n",
              "      <th>Reactions</th>\n",
              "      <th>Balance</th>\n",
              "      <th>ShotPower</th>\n",
              "      <th>Jumping</th>\n",
              "      <th>Stamina</th>\n",
              "      <th>Strength</th>\n",
              "      <th>LongShots</th>\n",
              "      <th>Aggression</th>\n",
              "      <th>Interceptions</th>\n",
              "      <th>Positioning</th>\n",
              "      <th>Vision</th>\n",
              "      <th>Penalties</th>\n",
              "      <th>Composure</th>\n",
              "      <th>Marking</th>\n",
              "      <th>StandingTackle</th>\n",
              "      <th>SlidingTackle</th>\n",
              "      <th>GKDiving</th>\n",
              "      <th>GKHandling</th>\n",
              "      <th>GKKicking</th>\n",
              "      <th>GKPositioning</th>\n",
              "      <th>GKReflexes</th>\n",
              "    </tr>\n",
              "  </thead>\n",
              "  <tbody>\n",
              "    <tr>\n",
              "      <th>0</th>\n",
              "      <td>31</td>\n",
              "      <td>94</td>\n",
              "      <td>94</td>\n",
              "      <td>84.0</td>\n",
              "      <td>95.0</td>\n",
              "      <td>70.0</td>\n",
              "      <td>90.0</td>\n",
              "      <td>86.0</td>\n",
              "      <td>97.0</td>\n",
              "      <td>93.0</td>\n",
              "      <td>94.0</td>\n",
              "      <td>87.0</td>\n",
              "      <td>96.0</td>\n",
              "      <td>91.0</td>\n",
              "      <td>86.0</td>\n",
              "      <td>91.0</td>\n",
              "      <td>95.0</td>\n",
              "      <td>95.0</td>\n",
              "      <td>85.0</td>\n",
              "      <td>68.0</td>\n",
              "      <td>72.0</td>\n",
              "      <td>59.0</td>\n",
              "      <td>94.0</td>\n",
              "      <td>48.0</td>\n",
              "      <td>22.0</td>\n",
              "      <td>94.0</td>\n",
              "      <td>94.0</td>\n",
              "      <td>75.0</td>\n",
              "      <td>96.0</td>\n",
              "      <td>33.0</td>\n",
              "      <td>28.0</td>\n",
              "      <td>26.0</td>\n",
              "      <td>6.0</td>\n",
              "      <td>11.0</td>\n",
              "      <td>15.0</td>\n",
              "      <td>14.0</td>\n",
              "      <td>8.0</td>\n",
              "    </tr>\n",
              "    <tr>\n",
              "      <th>1</th>\n",
              "      <td>33</td>\n",
              "      <td>94</td>\n",
              "      <td>94</td>\n",
              "      <td>84.0</td>\n",
              "      <td>94.0</td>\n",
              "      <td>89.0</td>\n",
              "      <td>81.0</td>\n",
              "      <td>87.0</td>\n",
              "      <td>88.0</td>\n",
              "      <td>81.0</td>\n",
              "      <td>76.0</td>\n",
              "      <td>77.0</td>\n",
              "      <td>94.0</td>\n",
              "      <td>89.0</td>\n",
              "      <td>91.0</td>\n",
              "      <td>87.0</td>\n",
              "      <td>96.0</td>\n",
              "      <td>70.0</td>\n",
              "      <td>95.0</td>\n",
              "      <td>95.0</td>\n",
              "      <td>88.0</td>\n",
              "      <td>79.0</td>\n",
              "      <td>93.0</td>\n",
              "      <td>63.0</td>\n",
              "      <td>29.0</td>\n",
              "      <td>95.0</td>\n",
              "      <td>82.0</td>\n",
              "      <td>85.0</td>\n",
              "      <td>95.0</td>\n",
              "      <td>28.0</td>\n",
              "      <td>31.0</td>\n",
              "      <td>23.0</td>\n",
              "      <td>7.0</td>\n",
              "      <td>11.0</td>\n",
              "      <td>15.0</td>\n",
              "      <td>14.0</td>\n",
              "      <td>11.0</td>\n",
              "    </tr>\n",
              "    <tr>\n",
              "      <th>2</th>\n",
              "      <td>26</td>\n",
              "      <td>92</td>\n",
              "      <td>93</td>\n",
              "      <td>79.0</td>\n",
              "      <td>87.0</td>\n",
              "      <td>62.0</td>\n",
              "      <td>84.0</td>\n",
              "      <td>84.0</td>\n",
              "      <td>96.0</td>\n",
              "      <td>88.0</td>\n",
              "      <td>87.0</td>\n",
              "      <td>78.0</td>\n",
              "      <td>95.0</td>\n",
              "      <td>94.0</td>\n",
              "      <td>90.0</td>\n",
              "      <td>96.0</td>\n",
              "      <td>94.0</td>\n",
              "      <td>84.0</td>\n",
              "      <td>80.0</td>\n",
              "      <td>61.0</td>\n",
              "      <td>81.0</td>\n",
              "      <td>49.0</td>\n",
              "      <td>82.0</td>\n",
              "      <td>56.0</td>\n",
              "      <td>36.0</td>\n",
              "      <td>89.0</td>\n",
              "      <td>87.0</td>\n",
              "      <td>81.0</td>\n",
              "      <td>94.0</td>\n",
              "      <td>27.0</td>\n",
              "      <td>24.0</td>\n",
              "      <td>33.0</td>\n",
              "      <td>9.0</td>\n",
              "      <td>9.0</td>\n",
              "      <td>15.0</td>\n",
              "      <td>15.0</td>\n",
              "      <td>11.0</td>\n",
              "    </tr>\n",
              "    <tr>\n",
              "      <th>3</th>\n",
              "      <td>27</td>\n",
              "      <td>91</td>\n",
              "      <td>93</td>\n",
              "      <td>17.0</td>\n",
              "      <td>13.0</td>\n",
              "      <td>21.0</td>\n",
              "      <td>50.0</td>\n",
              "      <td>13.0</td>\n",
              "      <td>18.0</td>\n",
              "      <td>21.0</td>\n",
              "      <td>19.0</td>\n",
              "      <td>51.0</td>\n",
              "      <td>42.0</td>\n",
              "      <td>57.0</td>\n",
              "      <td>58.0</td>\n",
              "      <td>60.0</td>\n",
              "      <td>90.0</td>\n",
              "      <td>43.0</td>\n",
              "      <td>31.0</td>\n",
              "      <td>67.0</td>\n",
              "      <td>43.0</td>\n",
              "      <td>64.0</td>\n",
              "      <td>12.0</td>\n",
              "      <td>38.0</td>\n",
              "      <td>30.0</td>\n",
              "      <td>12.0</td>\n",
              "      <td>68.0</td>\n",
              "      <td>40.0</td>\n",
              "      <td>68.0</td>\n",
              "      <td>15.0</td>\n",
              "      <td>21.0</td>\n",
              "      <td>13.0</td>\n",
              "      <td>90.0</td>\n",
              "      <td>85.0</td>\n",
              "      <td>87.0</td>\n",
              "      <td>88.0</td>\n",
              "      <td>94.0</td>\n",
              "    </tr>\n",
              "    <tr>\n",
              "      <th>4</th>\n",
              "      <td>27</td>\n",
              "      <td>91</td>\n",
              "      <td>92</td>\n",
              "      <td>93.0</td>\n",
              "      <td>82.0</td>\n",
              "      <td>55.0</td>\n",
              "      <td>92.0</td>\n",
              "      <td>82.0</td>\n",
              "      <td>86.0</td>\n",
              "      <td>85.0</td>\n",
              "      <td>83.0</td>\n",
              "      <td>91.0</td>\n",
              "      <td>91.0</td>\n",
              "      <td>78.0</td>\n",
              "      <td>76.0</td>\n",
              "      <td>79.0</td>\n",
              "      <td>91.0</td>\n",
              "      <td>77.0</td>\n",
              "      <td>91.0</td>\n",
              "      <td>63.0</td>\n",
              "      <td>90.0</td>\n",
              "      <td>75.0</td>\n",
              "      <td>91.0</td>\n",
              "      <td>76.0</td>\n",
              "      <td>61.0</td>\n",
              "      <td>87.0</td>\n",
              "      <td>94.0</td>\n",
              "      <td>79.0</td>\n",
              "      <td>88.0</td>\n",
              "      <td>68.0</td>\n",
              "      <td>58.0</td>\n",
              "      <td>51.0</td>\n",
              "      <td>15.0</td>\n",
              "      <td>13.0</td>\n",
              "      <td>5.0</td>\n",
              "      <td>10.0</td>\n",
              "      <td>13.0</td>\n",
              "    </tr>\n",
              "  </tbody>\n",
              "</table>\n",
              "</div>"
            ],
            "text/plain": [
              "   Age  Overall  Potential  ...  GKKicking  GKPositioning  GKReflexes\n",
              "0   31       94         94  ...       15.0           14.0         8.0\n",
              "1   33       94         94  ...       15.0           14.0        11.0\n",
              "2   26       92         93  ...       15.0           15.0        11.0\n",
              "3   27       91         93  ...       87.0           88.0        94.0\n",
              "4   27       91         92  ...        5.0           10.0        13.0\n",
              "\n",
              "[5 rows x 37 columns]"
            ]
          },
          "metadata": {
            "tags": []
          },
          "execution_count": 247
        }
      ]
    },
    {
      "cell_type": "code",
      "metadata": {
        "id": "VYq9pAU1IeXQ",
        "colab_type": "code",
        "colab": {
          "base_uri": "https://localhost:8080/",
          "height": 34
        },
        "outputId": "85e5e310-eb55-4ce8-84c5-d8723adfe476"
      },
      "source": [
        "fifa.shape"
      ],
      "execution_count": 248,
      "outputs": [
        {
          "output_type": "execute_result",
          "data": {
            "text/plain": [
              "(18207, 37)"
            ]
          },
          "metadata": {
            "tags": []
          },
          "execution_count": 248
        }
      ]
    },
    {
      "cell_type": "code",
      "metadata": {
        "id": "5BV2F4QIIguE",
        "colab_type": "code",
        "colab": {
          "base_uri": "https://localhost:8080/",
          "height": 765
        },
        "outputId": "c8db268d-71e9-4d2f-b762-322d863b8ce8"
      },
      "source": [
        "fifa.info()"
      ],
      "execution_count": 249,
      "outputs": [
        {
          "output_type": "stream",
          "text": [
            "<class 'pandas.core.frame.DataFrame'>\n",
            "RangeIndex: 18207 entries, 0 to 18206\n",
            "Data columns (total 37 columns):\n",
            " #   Column           Non-Null Count  Dtype  \n",
            "---  ------           --------------  -----  \n",
            " 0   Age              18207 non-null  int64  \n",
            " 1   Overall          18207 non-null  int64  \n",
            " 2   Potential        18207 non-null  int64  \n",
            " 3   Crossing         18159 non-null  float64\n",
            " 4   Finishing        18159 non-null  float64\n",
            " 5   HeadingAccuracy  18159 non-null  float64\n",
            " 6   ShortPassing     18159 non-null  float64\n",
            " 7   Volleys          18159 non-null  float64\n",
            " 8   Dribbling        18159 non-null  float64\n",
            " 9   Curve            18159 non-null  float64\n",
            " 10  FKAccuracy       18159 non-null  float64\n",
            " 11  LongPassing      18159 non-null  float64\n",
            " 12  BallControl      18159 non-null  float64\n",
            " 13  Acceleration     18159 non-null  float64\n",
            " 14  SprintSpeed      18159 non-null  float64\n",
            " 15  Agility          18159 non-null  float64\n",
            " 16  Reactions        18159 non-null  float64\n",
            " 17  Balance          18159 non-null  float64\n",
            " 18  ShotPower        18159 non-null  float64\n",
            " 19  Jumping          18159 non-null  float64\n",
            " 20  Stamina          18159 non-null  float64\n",
            " 21  Strength         18159 non-null  float64\n",
            " 22  LongShots        18159 non-null  float64\n",
            " 23  Aggression       18159 non-null  float64\n",
            " 24  Interceptions    18159 non-null  float64\n",
            " 25  Positioning      18159 non-null  float64\n",
            " 26  Vision           18159 non-null  float64\n",
            " 27  Penalties        18159 non-null  float64\n",
            " 28  Composure        18159 non-null  float64\n",
            " 29  Marking          18159 non-null  float64\n",
            " 30  StandingTackle   18159 non-null  float64\n",
            " 31  SlidingTackle    18159 non-null  float64\n",
            " 32  GKDiving         18159 non-null  float64\n",
            " 33  GKHandling       18159 non-null  float64\n",
            " 34  GKKicking        18159 non-null  float64\n",
            " 35  GKPositioning    18159 non-null  float64\n",
            " 36  GKReflexes       18159 non-null  float64\n",
            "dtypes: float64(34), int64(3)\n",
            "memory usage: 5.1 MB\n"
          ],
          "name": "stdout"
        }
      ]
    },
    {
      "cell_type": "code",
      "metadata": {
        "id": "qwngiXemJ0ok",
        "colab_type": "code",
        "colab": {
          "base_uri": "https://localhost:8080/",
          "height": 782
        },
        "outputId": "3050bb1b-6983-4952-e419-20b220208734"
      },
      "source": [
        "fifa_nulos = fifa[fifa.ShotPower.isna()]\n",
        "print(fifa_nulos.shape)\n",
        "fifa_nulos.info()"
      ],
      "execution_count": 250,
      "outputs": [
        {
          "output_type": "stream",
          "text": [
            "(48, 37)\n",
            "<class 'pandas.core.frame.DataFrame'>\n",
            "Int64Index: 48 entries, 13236 to 13283\n",
            "Data columns (total 37 columns):\n",
            " #   Column           Non-Null Count  Dtype  \n",
            "---  ------           --------------  -----  \n",
            " 0   Age              48 non-null     int64  \n",
            " 1   Overall          48 non-null     int64  \n",
            " 2   Potential        48 non-null     int64  \n",
            " 3   Crossing         0 non-null      float64\n",
            " 4   Finishing        0 non-null      float64\n",
            " 5   HeadingAccuracy  0 non-null      float64\n",
            " 6   ShortPassing     0 non-null      float64\n",
            " 7   Volleys          0 non-null      float64\n",
            " 8   Dribbling        0 non-null      float64\n",
            " 9   Curve            0 non-null      float64\n",
            " 10  FKAccuracy       0 non-null      float64\n",
            " 11  LongPassing      0 non-null      float64\n",
            " 12  BallControl      0 non-null      float64\n",
            " 13  Acceleration     0 non-null      float64\n",
            " 14  SprintSpeed      0 non-null      float64\n",
            " 15  Agility          0 non-null      float64\n",
            " 16  Reactions        0 non-null      float64\n",
            " 17  Balance          0 non-null      float64\n",
            " 18  ShotPower        0 non-null      float64\n",
            " 19  Jumping          0 non-null      float64\n",
            " 20  Stamina          0 non-null      float64\n",
            " 21  Strength         0 non-null      float64\n",
            " 22  LongShots        0 non-null      float64\n",
            " 23  Aggression       0 non-null      float64\n",
            " 24  Interceptions    0 non-null      float64\n",
            " 25  Positioning      0 non-null      float64\n",
            " 26  Vision           0 non-null      float64\n",
            " 27  Penalties        0 non-null      float64\n",
            " 28  Composure        0 non-null      float64\n",
            " 29  Marking          0 non-null      float64\n",
            " 30  StandingTackle   0 non-null      float64\n",
            " 31  SlidingTackle    0 non-null      float64\n",
            " 32  GKDiving         0 non-null      float64\n",
            " 33  GKHandling       0 non-null      float64\n",
            " 34  GKKicking        0 non-null      float64\n",
            " 35  GKPositioning    0 non-null      float64\n",
            " 36  GKReflexes       0 non-null      float64\n",
            "dtypes: float64(34), int64(3)\n",
            "memory usage: 14.2 KB\n"
          ],
          "name": "stdout"
        }
      ]
    },
    {
      "cell_type": "code",
      "metadata": {
        "id": "Rngm2J5qMhpX",
        "colab_type": "code",
        "colab": {}
      },
      "source": [
        "#criando uma cópia e retirando os dados nulos. \n",
        "#Como visto, os dados nulos estão concentrados (se estão nulos em uma coluna estão em todas, exceto as de dados pessoais)\n",
        "dados_fifa = fifa.copy()"
      ],
      "execution_count": 251,
      "outputs": []
    },
    {
      "cell_type": "code",
      "metadata": {
        "id": "R2vcBxKQMr0_",
        "colab_type": "code",
        "colab": {}
      },
      "source": [
        "#Como visto, os dados nulos estão concentrados (se estão nulos em uma coluna estão em todas, exceto as de dados pessoais)\n",
        "dados_fifa = fifa[fifa.ShotPower.notna()]"
      ],
      "execution_count": 252,
      "outputs": []
    },
    {
      "cell_type": "code",
      "metadata": {
        "id": "OPbzO1EFTstG",
        "colab_type": "code",
        "colab": {
          "base_uri": "https://localhost:8080/",
          "height": 34
        },
        "outputId": "0c4ba333-7548-4128-eefe-e54d1804a9c7"
      },
      "source": [
        "#confirmando a hipótese\n",
        "dados_fifa.isna().sum().sum()"
      ],
      "execution_count": 253,
      "outputs": [
        {
          "output_type": "execute_result",
          "data": {
            "text/plain": [
              "0"
            ]
          },
          "metadata": {
            "tags": []
          },
          "execution_count": 253
        }
      ]
    },
    {
      "cell_type": "markdown",
      "metadata": {
        "id": "r1oKBdWGHlql",
        "colab_type": "text"
      },
      "source": [
        "## Questão 1\n",
        "\n",
        "Qual fração da variância consegue ser explicada pelo primeiro componente principal de `fifa`? Responda como um único float (entre 0 e 1) arredondado para três casas decimais."
      ]
    },
    {
      "cell_type": "code",
      "metadata": {
        "id": "GRJFW5acKJAd",
        "colab_type": "code",
        "colab": {}
      },
      "source": [
        "#chamando a ajuda do PCA\n",
        "#PCA?"
      ],
      "execution_count": 254,
      "outputs": []
    },
    {
      "cell_type": "code",
      "metadata": {
        "id": "NvcBLmQkJRJF",
        "colab_type": "code",
        "colab": {
          "base_uri": "https://localhost:8080/",
          "height": 51
        },
        "outputId": "2f910366-7e91-41df-b2da-ea8c2279ed9c"
      },
      "source": [
        "#aplicando o PCA usando a base com os dados não nulos\n",
        "pca = PCA()\n",
        "pca.fit(dados_fifa)"
      ],
      "execution_count": 255,
      "outputs": [
        {
          "output_type": "execute_result",
          "data": {
            "text/plain": [
              "PCA(copy=True, iterated_power='auto', n_components=None, random_state=None,\n",
              "    svd_solver='auto', tol=0.0, whiten=False)"
            ]
          },
          "metadata": {
            "tags": []
          },
          "execution_count": 255
        }
      ]
    },
    {
      "cell_type": "code",
      "metadata": {
        "id": "CEpeMgnaJROv",
        "colab_type": "code",
        "colab": {
          "base_uri": "https://localhost:8080/",
          "height": 34
        },
        "outputId": "05433f92-f5cc-45a2-fa8a-4574b9ecb848"
      },
      "source": [
        "#retorna o percentual da variancia relativo ao primeiro PCA (posição zero)\n",
        "pca.explained_variance_ratio_[0]"
      ],
      "execution_count": 256,
      "outputs": [
        {
          "output_type": "execute_result",
          "data": {
            "text/plain": [
              "0.5652805550008515"
            ]
          },
          "metadata": {
            "tags": []
          },
          "execution_count": 256
        }
      ]
    },
    {
      "cell_type": "code",
      "metadata": {
        "id": "Iwj6hiZxHlqm",
        "colab_type": "code",
        "colab": {}
      },
      "source": [
        "def q1():\n",
        "    # Retorne aqui o resultado da questão 1.\n",
        "    return round(float(pca.explained_variance_ratio_[0]), 3)"
      ],
      "execution_count": 257,
      "outputs": []
    },
    {
      "cell_type": "code",
      "metadata": {
        "id": "aFUy3qeSNu-O",
        "colab_type": "code",
        "colab": {
          "base_uri": "https://localhost:8080/",
          "height": 34
        },
        "outputId": "4d20f5d8-29b7-4ffa-c91c-fe502b4e75d8"
      },
      "source": [
        "q1()"
      ],
      "execution_count": 258,
      "outputs": [
        {
          "output_type": "execute_result",
          "data": {
            "text/plain": [
              "0.565"
            ]
          },
          "metadata": {
            "tags": []
          },
          "execution_count": 258
        }
      ]
    },
    {
      "cell_type": "markdown",
      "metadata": {
        "id": "MOsg5iQNHlqp",
        "colab_type": "text"
      },
      "source": [
        "## Questão 2\n",
        "\n",
        "Quantos componentes principais precisamos para explicar 95% da variância total? Responda como un único escalar inteiro."
      ]
    },
    {
      "cell_type": "code",
      "metadata": {
        "id": "ZxStVqOmOHgc",
        "colab_type": "code",
        "colab": {
          "base_uri": "https://localhost:8080/",
          "height": 405
        },
        "outputId": "caa2329d-32bc-4a47-d3cd-35bc278671a5"
      },
      "source": [
        "#plotando um grráfico cumulativo das com a resposta do desafio anterior, \n",
        "#para ver mais ou menos quantas features devemos retornar no n_components\n",
        "\n",
        "plt.figure(figsize=(12,6))\n",
        "plt.plot(np.cumsum(pca.explained_variance_ratio_))\n",
        "plt.title('Gráfico cumulativo de componentes usando os dados do jogo FIFA 2019')\n",
        "plt.xlabel('Número de Componentes')\n",
        "plt.ylabel('Variância explicada cumulativa');\n",
        " #cria uma linha horizontal na marca de 0.95\n",
        "plt.hlines(y=0.950, xmin=0, xmax=37, linestyles='dashed', colors='red')\n",
        "#cria linha vertical no 15\n",
        "plt.vlines(x=15, ymin=0.6, ymax = 1, linestyles='dashed', colors='red');"
      ],
      "execution_count": 259,
      "outputs": [
        {
          "output_type": "display_data",
          "data": {
            "image/png": "[encoded data removed]",
            "text/plain": [
              "<Figure size 864x432 with 1 Axes>"
            ]
          },
          "metadata": {
            "tags": [],
            "needs_background": "light"
          }
        }
      ]
    },
    {
      "cell_type": "code",
      "metadata": {
        "id": "Vb7sZwldP2r0",
        "colab_type": "code",
        "colab": {
          "base_uri": "https://localhost:8080/",
          "height": 34
        },
        "outputId": "e0a0df53-c994-46a9-d0b5-353597b5fd0d"
      },
      "source": [
        "pca = PCA(0.95).fit(dados_fifa)\n",
        "pca.n_components_"
      ],
      "execution_count": 260,
      "outputs": [
        {
          "output_type": "execute_result",
          "data": {
            "text/plain": [
              "15"
            ]
          },
          "metadata": {
            "tags": []
          },
          "execution_count": 260
        }
      ]
    },
    {
      "cell_type": "code",
      "metadata": {
        "id": "73LRmdUMHlqq",
        "colab_type": "code",
        "colab": {}
      },
      "source": [
        "def q2():\n",
        "    # Retorne aqui o resultado da questão 2.\n",
        "    return int(pca.n_components_)"
      ],
      "execution_count": 261,
      "outputs": []
    },
    {
      "cell_type": "code",
      "metadata": {
        "id": "KZJOzB8cQfSp",
        "colab_type": "code",
        "colab": {
          "base_uri": "https://localhost:8080/",
          "height": 34
        },
        "outputId": "dad3e160-baba-4d55-94ba-60f26c48d154"
      },
      "source": [
        "q2()"
      ],
      "execution_count": 262,
      "outputs": [
        {
          "output_type": "execute_result",
          "data": {
            "text/plain": [
              "15"
            ]
          },
          "metadata": {
            "tags": []
          },
          "execution_count": 262
        }
      ]
    },
    {
      "cell_type": "markdown",
      "metadata": {
        "id": "4OS7-a14Hlqt",
        "colab_type": "text"
      },
      "source": [
        "## Questão 3\n",
        "\n",
        "Qual são as coordenadas (primeiro e segundo componentes principais) do ponto `x` abaixo? O vetor abaixo já está centralizado. Cuidado para __não__ centralizar o vetor novamente (por exemplo, invocando `PCA.transform()` nele). Responda como uma tupla de float arredondados para três casas decimais."
      ]
    },
    {
      "cell_type": "code",
      "metadata": {
        "id": "-VmY-9UzT4LL",
        "colab_type": "code",
        "colab": {}
      },
      "source": [
        "#uscando a ajuda do np.dot\n",
        "#np.dot?"
      ],
      "execution_count": 263,
      "outputs": []
    },
    {
      "cell_type": "code",
      "metadata": {
        "id": "6toWa01cHlqu",
        "colab_type": "code",
        "colab": {}
      },
      "source": [
        "x = [0.87747123,  -1.24990363,  -1.3191255, -36.7341814,\n",
        "     -35.55091139, -37.29814417, -28.68671182, -30.90902583,\n",
        "     -42.37100061, -32.17082438, -28.86315326, -22.71193348,\n",
        "     -38.36945867, -20.61407566, -22.72696734, -25.50360703,\n",
        "     2.16339005, -27.96657305, -33.46004736,  -5.08943224,\n",
        "     -30.21994603,   3.68803348, -36.10997302, -30.86899058,\n",
        "     -22.69827634, -37.95847789, -22.40090313, -30.54859849,\n",
        "     -26.64827358, -19.28162344, -34.69783578, -34.6614351,\n",
        "     48.38377664,  47.60840355,  45.76793876,  44.61110193,\n",
        "     49.28911284\n",
        "]"
      ],
      "execution_count": 264,
      "outputs": []
    },
    {
      "cell_type": "code",
      "metadata": {
        "id": "BSzcMkEITjv0",
        "colab_type": "code",
        "colab": {}
      },
      "source": [
        "pca_fifa = PCA().fit(dados_fifa)"
      ],
      "execution_count": 265,
      "outputs": []
    },
    {
      "cell_type": "code",
      "metadata": {
        "id": "H7XKkIbNTqWZ",
        "colab_type": "code",
        "colab": {
          "base_uri": "https://localhost:8080/",
          "height": 34
        },
        "outputId": "273fdea7-ee9e-4b76-c505-29c4ccfbc8a2"
      },
      "source": [
        "#usando a lista para chamar a função dot do numpy e buscando as duas primeiras posições do PCA\n",
        "pca_fifa.components_.dot(x)[0:2]\n"
      ],
      "execution_count": 266,
      "outputs": [
        {
          "output_type": "execute_result",
          "data": {
            "text/plain": [
              "array([186.55588031,  -6.59243177])"
            ]
          },
          "metadata": {
            "tags": []
          },
          "execution_count": 266
        }
      ]
    },
    {
      "cell_type": "code",
      "metadata": {
        "id": "xCdlUQsfU4DV",
        "colab_type": "code",
        "colab": {
          "base_uri": "https://localhost:8080/",
          "height": 51
        },
        "outputId": "5fb97410-29de-4b00-9ab9-5e843dd7d586"
      },
      "source": [
        "#desempacotando a tupla e arredondando os dados\n",
        "comp_1, comp_2 = pca_fifa.components_.dot(x)[0:2].round(3)\n",
        "print(comp_1)\n",
        "print(comp_2)"
      ],
      "execution_count": 267,
      "outputs": [
        {
          "output_type": "stream",
          "text": [
            "186.556\n",
            "-6.592\n"
          ],
          "name": "stdout"
        }
      ]
    },
    {
      "cell_type": "code",
      "metadata": {
        "id": "P9K3UefcHlqw",
        "colab_type": "code",
        "colab": {}
      },
      "source": [
        "def q3():\n",
        "    # Retorne aqui o resultado da questão 3.\n",
        "    return tuple((comp_1,comp_2))"
      ],
      "execution_count": 268,
      "outputs": []
    },
    {
      "cell_type": "code",
      "metadata": {
        "id": "PZLxHJ69VQwV",
        "colab_type": "code",
        "colab": {
          "base_uri": "https://localhost:8080/",
          "height": 34
        },
        "outputId": "8fb26e61-e43c-4dd2-8e86-83c967534a19"
      },
      "source": [
        "q3()"
      ],
      "execution_count": 269,
      "outputs": [
        {
          "output_type": "execute_result",
          "data": {
            "text/plain": [
              "(186.556, -6.592)"
            ]
          },
          "metadata": {
            "tags": []
          },
          "execution_count": 269
        }
      ]
    },
    {
      "cell_type": "markdown",
      "metadata": {
        "id": "oq-XrBjpHlqz",
        "colab_type": "text"
      },
      "source": [
        "## Questão 4\n",
        "\n",
        "Realiza RFE com estimador de regressão linear para selecionar cinco variáveis, eliminando uma a uma. Quais são as variáveis selecionadas? Responda como uma lista de nomes de variáveis."
      ]
    },
    {
      "cell_type": "code",
      "metadata": {
        "id": "NBGe6aqtWImM",
        "colab_type": "code",
        "colab": {}
      },
      "source": [
        "#importando modelo de regressão linear\n",
        "from sklearn.linear_model import LinearRegression"
      ],
      "execution_count": 270,
      "outputs": []
    },
    {
      "cell_type": "code",
      "metadata": {
        "id": "cMZSdAziW-ZS",
        "colab_type": "code",
        "colab": {}
      },
      "source": [
        "#importando a biblioteca e buscando a ajuda do RFE\n",
        "from sklearn.feature_selection import RFE\n",
        "#RFE?"
      ],
      "execution_count": 271,
      "outputs": []
    },
    {
      "cell_type": "code",
      "metadata": {
        "id": "JS4Y84QAao_6",
        "colab_type": "code",
        "colab": {
          "base_uri": "https://localhost:8080/",
          "height": 119
        },
        "outputId": "25daf165-c893-41b5-cf34-b9779d9726ce"
      },
      "source": [
        "#dividindo o dataset entre variáveis dependentes e variáveis explicativas\n",
        "#dependente = y\n",
        "y = dados_fifa['Overall']\n",
        "y.head()"
      ],
      "execution_count": 272,
      "outputs": [
        {
          "output_type": "execute_result",
          "data": {
            "text/plain": [
              "0    94\n",
              "1    94\n",
              "2    92\n",
              "3    91\n",
              "4    91\n",
              "Name: Overall, dtype: int64"
            ]
          },
          "metadata": {
            "tags": []
          },
          "execution_count": 272
        }
      ]
    },
    {
      "cell_type": "code",
      "metadata": {
        "id": "5GtZdSZwZ00Y",
        "colab_type": "code",
        "colab": {
          "base_uri": "https://localhost:8080/",
          "height": 224
        },
        "outputId": "58580524-5b7b-4e62-d2c7-985261429cf6"
      },
      "source": [
        "#explicativas  = x\n",
        "x = dados_fifa.drop(columns='Overall')\n",
        "x.head()"
      ],
      "execution_count": 273,
      "outputs": [
        {
          "output_type": "execute_result",
          "data": {
            "text/html": [
              "<div>\n",
              "<style scoped>\n",
              "    .dataframe tbody tr th:only-of-type {\n",
              "        vertical-align: middle;\n",
              "    }\n",
              "\n",
              "    .dataframe tbody tr th {\n",
              "        vertical-align: top;\n",
              "    }\n",
              "\n",
              "    .dataframe thead th {\n",
              "        text-align: right;\n",
              "    }\n",
              "</style>\n",
              "<table border=\"1\" class=\"dataframe\">\n",
              "  <thead>\n",
              "    <tr style=\"text-align: right;\">\n",
              "      <th></th>\n",
              "      <th>Age</th>\n",
              "      <th>Potential</th>\n",
              "      <th>Crossing</th>\n",
              "      <th>Finishing</th>\n",
              "      <th>HeadingAccuracy</th>\n",
              "      <th>ShortPassing</th>\n",
              "      <th>Volleys</th>\n",
              "      <th>Dribbling</th>\n",
              "      <th>Curve</th>\n",
              "      <th>FKAccuracy</th>\n",
              "      <th>LongPassing</th>\n",
              "      <th>BallControl</th>\n",
              "      <th>Acceleration</th>\n",
              "      <th>SprintSpeed</th>\n",
              "      <th>Agility</th>\n",
              "      <th>Reactions</th>\n",
              "      <th>Balance</th>\n",
              "      <th>ShotPower</th>\n",
              "      <th>Jumping</th>\n",
              "      <th>Stamina</th>\n",
              "      <th>Strength</th>\n",
              "      <th>LongShots</th>\n",
              "      <th>Aggression</th>\n",
              "      <th>Interceptions</th>\n",
              "      <th>Positioning</th>\n",
              "      <th>Vision</th>\n",
              "      <th>Penalties</th>\n",
              "      <th>Composure</th>\n",
              "      <th>Marking</th>\n",
              "      <th>StandingTackle</th>\n",
              "      <th>SlidingTackle</th>\n",
              "      <th>GKDiving</th>\n",
              "      <th>GKHandling</th>\n",
              "      <th>GKKicking</th>\n",
              "      <th>GKPositioning</th>\n",
              "      <th>GKReflexes</th>\n",
              "    </tr>\n",
              "  </thead>\n",
              "  <tbody>\n",
              "    <tr>\n",
              "      <th>0</th>\n",
              "      <td>31</td>\n",
              "      <td>94</td>\n",
              "      <td>84.0</td>\n",
              "      <td>95.0</td>\n",
              "      <td>70.0</td>\n",
              "      <td>90.0</td>\n",
              "      <td>86.0</td>\n",
              "      <td>97.0</td>\n",
              "      <td>93.0</td>\n",
              "      <td>94.0</td>\n",
              "      <td>87.0</td>\n",
              "      <td>96.0</td>\n",
              "      <td>91.0</td>\n",
              "      <td>86.0</td>\n",
              "      <td>91.0</td>\n",
              "      <td>95.0</td>\n",
              "      <td>95.0</td>\n",
              "      <td>85.0</td>\n",
              "      <td>68.0</td>\n",
              "      <td>72.0</td>\n",
              "      <td>59.0</td>\n",
              "      <td>94.0</td>\n",
              "      <td>48.0</td>\n",
              "      <td>22.0</td>\n",
              "      <td>94.0</td>\n",
              "      <td>94.0</td>\n",
              "      <td>75.0</td>\n",
              "      <td>96.0</td>\n",
              "      <td>33.0</td>\n",
              "      <td>28.0</td>\n",
              "      <td>26.0</td>\n",
              "      <td>6.0</td>\n",
              "      <td>11.0</td>\n",
              "      <td>15.0</td>\n",
              "      <td>14.0</td>\n",
              "      <td>8.0</td>\n",
              "    </tr>\n",
              "    <tr>\n",
              "      <th>1</th>\n",
              "      <td>33</td>\n",
              "      <td>94</td>\n",
              "      <td>84.0</td>\n",
              "      <td>94.0</td>\n",
              "      <td>89.0</td>\n",
              "      <td>81.0</td>\n",
              "      <td>87.0</td>\n",
              "      <td>88.0</td>\n",
              "      <td>81.0</td>\n",
              "      <td>76.0</td>\n",
              "      <td>77.0</td>\n",
              "      <td>94.0</td>\n",
              "      <td>89.0</td>\n",
              "      <td>91.0</td>\n",
              "      <td>87.0</td>\n",
              "      <td>96.0</td>\n",
              "      <td>70.0</td>\n",
              "      <td>95.0</td>\n",
              "      <td>95.0</td>\n",
              "      <td>88.0</td>\n",
              "      <td>79.0</td>\n",
              "      <td>93.0</td>\n",
              "      <td>63.0</td>\n",
              "      <td>29.0</td>\n",
              "      <td>95.0</td>\n",
              "      <td>82.0</td>\n",
              "      <td>85.0</td>\n",
              "      <td>95.0</td>\n",
              "      <td>28.0</td>\n",
              "      <td>31.0</td>\n",
              "      <td>23.0</td>\n",
              "      <td>7.0</td>\n",
              "      <td>11.0</td>\n",
              "      <td>15.0</td>\n",
              "      <td>14.0</td>\n",
              "      <td>11.0</td>\n",
              "    </tr>\n",
              "    <tr>\n",
              "      <th>2</th>\n",
              "      <td>26</td>\n",
              "      <td>93</td>\n",
              "      <td>79.0</td>\n",
              "      <td>87.0</td>\n",
              "      <td>62.0</td>\n",
              "      <td>84.0</td>\n",
              "      <td>84.0</td>\n",
              "      <td>96.0</td>\n",
              "      <td>88.0</td>\n",
              "      <td>87.0</td>\n",
              "      <td>78.0</td>\n",
              "      <td>95.0</td>\n",
              "      <td>94.0</td>\n",
              "      <td>90.0</td>\n",
              "      <td>96.0</td>\n",
              "      <td>94.0</td>\n",
              "      <td>84.0</td>\n",
              "      <td>80.0</td>\n",
              "      <td>61.0</td>\n",
              "      <td>81.0</td>\n",
              "      <td>49.0</td>\n",
              "      <td>82.0</td>\n",
              "      <td>56.0</td>\n",
              "      <td>36.0</td>\n",
              "      <td>89.0</td>\n",
              "      <td>87.0</td>\n",
              "      <td>81.0</td>\n",
              "      <td>94.0</td>\n",
              "      <td>27.0</td>\n",
              "      <td>24.0</td>\n",
              "      <td>33.0</td>\n",
              "      <td>9.0</td>\n",
              "      <td>9.0</td>\n",
              "      <td>15.0</td>\n",
              "      <td>15.0</td>\n",
              "      <td>11.0</td>\n",
              "    </tr>\n",
              "    <tr>\n",
              "      <th>3</th>\n",
              "      <td>27</td>\n",
              "      <td>93</td>\n",
              "      <td>17.0</td>\n",
              "      <td>13.0</td>\n",
              "      <td>21.0</td>\n",
              "      <td>50.0</td>\n",
              "      <td>13.0</td>\n",
              "      <td>18.0</td>\n",
              "      <td>21.0</td>\n",
              "      <td>19.0</td>\n",
              "      <td>51.0</td>\n",
              "      <td>42.0</td>\n",
              "      <td>57.0</td>\n",
              "      <td>58.0</td>\n",
              "      <td>60.0</td>\n",
              "      <td>90.0</td>\n",
              "      <td>43.0</td>\n",
              "      <td>31.0</td>\n",
              "      <td>67.0</td>\n",
              "      <td>43.0</td>\n",
              "      <td>64.0</td>\n",
              "      <td>12.0</td>\n",
              "      <td>38.0</td>\n",
              "      <td>30.0</td>\n",
              "      <td>12.0</td>\n",
              "      <td>68.0</td>\n",
              "      <td>40.0</td>\n",
              "      <td>68.0</td>\n",
              "      <td>15.0</td>\n",
              "      <td>21.0</td>\n",
              "      <td>13.0</td>\n",
              "      <td>90.0</td>\n",
              "      <td>85.0</td>\n",
              "      <td>87.0</td>\n",
              "      <td>88.0</td>\n",
              "      <td>94.0</td>\n",
              "    </tr>\n",
              "    <tr>\n",
              "      <th>4</th>\n",
              "      <td>27</td>\n",
              "      <td>92</td>\n",
              "      <td>93.0</td>\n",
              "      <td>82.0</td>\n",
              "      <td>55.0</td>\n",
              "      <td>92.0</td>\n",
              "      <td>82.0</td>\n",
              "      <td>86.0</td>\n",
              "      <td>85.0</td>\n",
              "      <td>83.0</td>\n",
              "      <td>91.0</td>\n",
              "      <td>91.0</td>\n",
              "      <td>78.0</td>\n",
              "      <td>76.0</td>\n",
              "      <td>79.0</td>\n",
              "      <td>91.0</td>\n",
              "      <td>77.0</td>\n",
              "      <td>91.0</td>\n",
              "      <td>63.0</td>\n",
              "      <td>90.0</td>\n",
              "      <td>75.0</td>\n",
              "      <td>91.0</td>\n",
              "      <td>76.0</td>\n",
              "      <td>61.0</td>\n",
              "      <td>87.0</td>\n",
              "      <td>94.0</td>\n",
              "      <td>79.0</td>\n",
              "      <td>88.0</td>\n",
              "      <td>68.0</td>\n",
              "      <td>58.0</td>\n",
              "      <td>51.0</td>\n",
              "      <td>15.0</td>\n",
              "      <td>13.0</td>\n",
              "      <td>5.0</td>\n",
              "      <td>10.0</td>\n",
              "      <td>13.0</td>\n",
              "    </tr>\n",
              "  </tbody>\n",
              "</table>\n",
              "</div>"
            ],
            "text/plain": [
              "   Age  Potential  Crossing  ...  GKKicking  GKPositioning  GKReflexes\n",
              "0   31         94      84.0  ...       15.0           14.0         8.0\n",
              "1   33         94      84.0  ...       15.0           14.0        11.0\n",
              "2   26         93      79.0  ...       15.0           15.0        11.0\n",
              "3   27         93      17.0  ...       87.0           88.0        94.0\n",
              "4   27         92      93.0  ...        5.0           10.0        13.0\n",
              "\n",
              "[5 rows x 36 columns]"
            ]
          },
          "metadata": {
            "tags": []
          },
          "execution_count": 273
        }
      ]
    },
    {
      "cell_type": "code",
      "metadata": {
        "id": "oYT1ARZaXRYM",
        "colab_type": "code",
        "colab": {}
      },
      "source": [
        "#definindo variáveis para o solicitado pela questão, usando o mesmo nome da documentação:\n",
        "estimator = LinearRegression()\n",
        "n_features_to_select = 5\n",
        "step = 1\n"
      ],
      "execution_count": 274,
      "outputs": []
    },
    {
      "cell_type": "code",
      "metadata": {
        "id": "4jN1ISZNXrvi",
        "colab_type": "code",
        "colab": {}
      },
      "source": [
        "#Criando o objeto\n",
        "rfe = RFE(estimator, n_features_to_select, step)"
      ],
      "execution_count": 275,
      "outputs": []
    },
    {
      "cell_type": "code",
      "metadata": {
        "id": "cu6iR_r5aYAL",
        "colab_type": "code",
        "colab": {}
      },
      "source": [
        "rfe = rfe.fit(x, y)"
      ],
      "execution_count": 276,
      "outputs": []
    },
    {
      "cell_type": "code",
      "metadata": {
        "id": "V6aC5Lwcanko",
        "colab_type": "code",
        "colab": {
          "base_uri": "https://localhost:8080/",
          "height": 85
        },
        "outputId": "c6c474ba-6c3a-4cca-c335-d697005941d5"
      },
      "source": [
        "rfe.support_"
      ],
      "execution_count": 277,
      "outputs": [
        {
          "output_type": "execute_result",
          "data": {
            "text/plain": [
              "array([ True,  True, False, False, False, False, False, False, False,\n",
              "       False, False,  True, False, False, False,  True, False, False,\n",
              "       False, False, False, False, False, False, False, False, False,\n",
              "       False, False, False, False, False, False, False, False,  True])"
            ]
          },
          "metadata": {
            "tags": []
          },
          "execution_count": 277
        }
      ]
    },
    {
      "cell_type": "code",
      "metadata": {
        "id": "fNoOlbDIbjDM",
        "colab_type": "code",
        "colab": {}
      },
      "source": [
        "#criando um DF que junta o nome das colunas e a seleção dos features\n",
        "colunas = pd.DataFrame({'coluna':x.columns,\n",
        "              'bool': rfe.support_})"
      ],
      "execution_count": 278,
      "outputs": []
    },
    {
      "cell_type": "code",
      "metadata": {
        "id": "NdlJuRDBcJZJ",
        "colab_type": "code",
        "colab": {
          "base_uri": "https://localhost:8080/",
          "height": 204
        },
        "outputId": "2211b499-76e7-441d-cd71-dbc324181f38"
      },
      "source": [
        "#fazendo a query para visualizar as colunas\n",
        "colunas.query('bool == True')"
      ],
      "execution_count": 279,
      "outputs": [
        {
          "output_type": "execute_result",
          "data": {
            "text/html": [
              "<div>\n",
              "<style scoped>\n",
              "    .dataframe tbody tr th:only-of-type {\n",
              "        vertical-align: middle;\n",
              "    }\n",
              "\n",
              "    .dataframe tbody tr th {\n",
              "        vertical-align: top;\n",
              "    }\n",
              "\n",
              "    .dataframe thead th {\n",
              "        text-align: right;\n",
              "    }\n",
              "</style>\n",
              "<table border=\"1\" class=\"dataframe\">\n",
              "  <thead>\n",
              "    <tr style=\"text-align: right;\">\n",
              "      <th></th>\n",
              "      <th>coluna</th>\n",
              "      <th>bool</th>\n",
              "    </tr>\n",
              "  </thead>\n",
              "  <tbody>\n",
              "    <tr>\n",
              "      <th>0</th>\n",
              "      <td>Age</td>\n",
              "      <td>True</td>\n",
              "    </tr>\n",
              "    <tr>\n",
              "      <th>1</th>\n",
              "      <td>Potential</td>\n",
              "      <td>True</td>\n",
              "    </tr>\n",
              "    <tr>\n",
              "      <th>11</th>\n",
              "      <td>BallControl</td>\n",
              "      <td>True</td>\n",
              "    </tr>\n",
              "    <tr>\n",
              "      <th>15</th>\n",
              "      <td>Reactions</td>\n",
              "      <td>True</td>\n",
              "    </tr>\n",
              "    <tr>\n",
              "      <th>35</th>\n",
              "      <td>GKReflexes</td>\n",
              "      <td>True</td>\n",
              "    </tr>\n",
              "  </tbody>\n",
              "</table>\n",
              "</div>"
            ],
            "text/plain": [
              "         coluna  bool\n",
              "0           Age  True\n",
              "1     Potential  True\n",
              "11  BallControl  True\n",
              "15    Reactions  True\n",
              "35   GKReflexes  True"
            ]
          },
          "metadata": {
            "tags": []
          },
          "execution_count": 279
        }
      ]
    },
    {
      "cell_type": "code",
      "metadata": {
        "id": "iqIalWEXeSwC",
        "colab_type": "code",
        "colab": {
          "base_uri": "https://localhost:8080/",
          "height": 34
        },
        "outputId": "3a3d61e0-f3e8-4d69-b0a6-11d9df36c2eb"
      },
      "source": [
        "#pegando apenas os dados solicitados pelo problema\n",
        "list(colunas.query('bool == True')['coluna'])"
      ],
      "execution_count": 280,
      "outputs": [
        {
          "output_type": "execute_result",
          "data": {
            "text/plain": [
              "['Age', 'Potential', 'BallControl', 'Reactions', 'GKReflexes']"
            ]
          },
          "metadata": {
            "tags": []
          },
          "execution_count": 280
        }
      ]
    },
    {
      "cell_type": "code",
      "metadata": {
        "id": "XctkMMgpHlq1",
        "colab_type": "code",
        "colab": {}
      },
      "source": [
        "def q4():\n",
        "    # Retorne aqui o resultado da questão 4.\n",
        "    return list(colunas.query('bool == True')['coluna'])"
      ],
      "execution_count": 282,
      "outputs": []
    },
    {
      "cell_type": "code",
      "metadata": {
        "id": "_lSgg3b5rlhN",
        "colab_type": "code",
        "colab": {
          "base_uri": "https://localhost:8080/",
          "height": 34
        },
        "outputId": "99167fe7-c011-4fd2-b55a-0d1079f846aa"
      },
      "source": [
        "q4()"
      ],
      "execution_count": 283,
      "outputs": [
        {
          "output_type": "execute_result",
          "data": {
            "text/plain": [
              "['Age', 'Potential', 'BallControl', 'Reactions', 'GKReflexes']"
            ]
          },
          "metadata": {
            "tags": []
          },
          "execution_count": 283
        }
      ]
    },
    {
      "cell_type": "code",
      "metadata": {
        "id": "a2GRWwzfrm1z",
        "colab_type": "code",
        "colab": {}
      },
      "source": [
        ""
      ],
      "execution_count": null,
      "outputs": []
    }
  ]
}