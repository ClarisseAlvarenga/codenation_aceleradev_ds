{
  "nbformat": 4,
  "nbformat_minor": 0,
  "metadata": {
    "kernelspec": {
      "display_name": "Python 3",
      "language": "python",
      "name": "python3"
    },
    "language_info": {
      "codemirror_mode": {
        "name": "ipython",
        "version": 3
      },
      "file_extension": ".py",
      "mimetype": "text/x-python",
      "name": "python",
      "nbconvert_exporter": "python",
      "pygments_lexer": "ipython3",
      "version": "3.7.3"
    },
    "colab": {
      "name": "Desafio_Semana_7_Codenation.ipynb",
      "provenance": [],
      "collapsed_sections": [],
      "include_colab_link": true
    }
  },
  "cells": [
    {
      "cell_type": "markdown",
      "metadata": {
        "id": "view-in-github",
        "colab_type": "text"
      },
      "source": [
        "<a href=\"https://colab.research.google.com/github/ClarisseAlvarenga/codenation_aceleradev_ds/blob/master/Desafio_Semana_7_Codenation.ipynb\" target=\"_parent\"><img src=\"https://colab.research.google.com/assets/colab-badge.svg\" alt=\"Open In Colab\"/></a>"
      ]
    },
    {
      "cell_type": "markdown",
      "metadata": {
        "id": "mq4o75rPb15Q",
        "colab_type": "text"
      },
      "source": [
        "# Desafio 6\n",
        "\n",
        "Neste desafio, vamos praticar _feature engineering_, um dos processos mais importantes e trabalhosos de ML. Utilizaremos o _data set_ [Countries of the world](https://www.kaggle.com/fernandol/countries-of-the-world), que contém dados sobre os 227 países do mundo com informações sobre tamanho da população, área, imigração e setores de produção.\n",
        "\n",
        "> Obs.: Por favor, não modifique o nome das funções de resposta."
      ]
    },
    {
      "cell_type": "markdown",
      "metadata": {
        "id": "24biGTvfb15R",
        "colab_type": "text"
      },
      "source": [
        "## _Setup_ geral"
      ]
    },
    {
      "cell_type": "code",
      "metadata": {
        "id": "Pk_0Gh27b15S",
        "colab_type": "code",
        "colab": {}
      },
      "source": [
        "import pandas as pd\n",
        "import numpy as np\n",
        "import matplotlib.pyplot as plt\n",
        "\n",
        "import seaborn as sns\n",
        "import sklearn as sk"
      ],
      "execution_count": null,
      "outputs": []
    },
    {
      "cell_type": "code",
      "metadata": {
        "id": "FFf6uJ73b15W",
        "colab_type": "code",
        "colab": {}
      },
      "source": [
        "# Algumas configurações para o matplotlib.\n",
        "#%matplotlib inline\n",
        "#from IPython.core.pylabtools import figsize\n",
        "#figsize(12, 8)\n",
        "#sns.set()"
      ],
      "execution_count": null,
      "outputs": []
    },
    {
      "cell_type": "code",
      "metadata": {
        "scrolled": false,
        "id": "N5hbHnIRb15Z",
        "colab_type": "code",
        "colab": {}
      },
      "source": [
        "countries = pd.read_csv(\"countries.csv\")"
      ],
      "execution_count": null,
      "outputs": []
    },
    {
      "cell_type": "code",
      "metadata": {
        "id": "SJBdz0cyb15c",
        "colab_type": "code",
        "colab": {
          "base_uri": "https://localhost:8080/",
          "height": 326
        },
        "outputId": "b54e7e4b-b11a-439e-fd9a-041435fc3c69"
      },
      "source": [
        "new_column_names = [\n",
        "    \"Country\", \"Region\", \"Population\", \"Area\", \"Pop_density\", \"Coastline_ratio\",\n",
        "    \"Net_migration\", \"Infant_mortality\", \"GDP\", \"Literacy\", \"Phones_per_1000\",\n",
        "    \"Arable\", \"Crops\", \"Other\", \"Climate\", \"Birthrate\", \"Deathrate\", \"Agriculture\",\n",
        "    \"Industry\", \"Service\"\n",
        "]\n",
        "\n",
        "countries.columns = new_column_names\n",
        "\n",
        "countries.head(5)"
      ],
      "execution_count": null,
      "outputs": [
        {
          "output_type": "execute_result",
          "data": {
            "text/html": [
              "<div>\n",
              "<style scoped>\n",
              "    .dataframe tbody tr th:only-of-type {\n",
              "        vertical-align: middle;\n",
              "    }\n",
              "\n",
              "    .dataframe tbody tr th {\n",
              "        vertical-align: top;\n",
              "    }\n",
              "\n",
              "    .dataframe thead th {\n",
              "        text-align: right;\n",
              "    }\n",
              "</style>\n",
              "<table border=\"1\" class=\"dataframe\">\n",
              "  <thead>\n",
              "    <tr style=\"text-align: right;\">\n",
              "      <th></th>\n",
              "      <th>Country</th>\n",
              "      <th>Region</th>\n",
              "      <th>Population</th>\n",
              "      <th>Area</th>\n",
              "      <th>Pop_density</th>\n",
              "      <th>Coastline_ratio</th>\n",
              "      <th>Net_migration</th>\n",
              "      <th>Infant_mortality</th>\n",
              "      <th>GDP</th>\n",
              "      <th>Literacy</th>\n",
              "      <th>Phones_per_1000</th>\n",
              "      <th>Arable</th>\n",
              "      <th>Crops</th>\n",
              "      <th>Other</th>\n",
              "      <th>Climate</th>\n",
              "      <th>Birthrate</th>\n",
              "      <th>Deathrate</th>\n",
              "      <th>Agriculture</th>\n",
              "      <th>Industry</th>\n",
              "      <th>Service</th>\n",
              "    </tr>\n",
              "  </thead>\n",
              "  <tbody>\n",
              "    <tr>\n",
              "      <th>0</th>\n",
              "      <td>Afghanistan</td>\n",
              "      <td>ASIA (EX. NEAR EAST)</td>\n",
              "      <td>31056997</td>\n",
              "      <td>647500</td>\n",
              "      <td>48,0</td>\n",
              "      <td>0,00</td>\n",
              "      <td>23,06</td>\n",
              "      <td>163,07</td>\n",
              "      <td>700.0</td>\n",
              "      <td>36,0</td>\n",
              "      <td>3,2</td>\n",
              "      <td>12,13</td>\n",
              "      <td>0,22</td>\n",
              "      <td>87,65</td>\n",
              "      <td>1</td>\n",
              "      <td>46,6</td>\n",
              "      <td>20,34</td>\n",
              "      <td>0,38</td>\n",
              "      <td>0,24</td>\n",
              "      <td>0,38</td>\n",
              "    </tr>\n",
              "    <tr>\n",
              "      <th>1</th>\n",
              "      <td>Albania</td>\n",
              "      <td>EASTERN EUROPE</td>\n",
              "      <td>3581655</td>\n",
              "      <td>28748</td>\n",
              "      <td>124,6</td>\n",
              "      <td>1,26</td>\n",
              "      <td>-4,93</td>\n",
              "      <td>21,52</td>\n",
              "      <td>4500.0</td>\n",
              "      <td>86,5</td>\n",
              "      <td>71,2</td>\n",
              "      <td>21,09</td>\n",
              "      <td>4,42</td>\n",
              "      <td>74,49</td>\n",
              "      <td>3</td>\n",
              "      <td>15,11</td>\n",
              "      <td>5,22</td>\n",
              "      <td>0,232</td>\n",
              "      <td>0,188</td>\n",
              "      <td>0,579</td>\n",
              "    </tr>\n",
              "    <tr>\n",
              "      <th>2</th>\n",
              "      <td>Algeria</td>\n",
              "      <td>NORTHERN AFRICA</td>\n",
              "      <td>32930091</td>\n",
              "      <td>2381740</td>\n",
              "      <td>13,8</td>\n",
              "      <td>0,04</td>\n",
              "      <td>-0,39</td>\n",
              "      <td>31</td>\n",
              "      <td>6000.0</td>\n",
              "      <td>70,0</td>\n",
              "      <td>78,1</td>\n",
              "      <td>3,22</td>\n",
              "      <td>0,25</td>\n",
              "      <td>96,53</td>\n",
              "      <td>1</td>\n",
              "      <td>17,14</td>\n",
              "      <td>4,61</td>\n",
              "      <td>0,101</td>\n",
              "      <td>0,6</td>\n",
              "      <td>0,298</td>\n",
              "    </tr>\n",
              "    <tr>\n",
              "      <th>3</th>\n",
              "      <td>American Samoa</td>\n",
              "      <td>OCEANIA</td>\n",
              "      <td>57794</td>\n",
              "      <td>199</td>\n",
              "      <td>290,4</td>\n",
              "      <td>58,29</td>\n",
              "      <td>-20,71</td>\n",
              "      <td>9,27</td>\n",
              "      <td>8000.0</td>\n",
              "      <td>97,0</td>\n",
              "      <td>259,5</td>\n",
              "      <td>10</td>\n",
              "      <td>15</td>\n",
              "      <td>75</td>\n",
              "      <td>2</td>\n",
              "      <td>22,46</td>\n",
              "      <td>3,27</td>\n",
              "      <td>NaN</td>\n",
              "      <td>NaN</td>\n",
              "      <td>NaN</td>\n",
              "    </tr>\n",
              "    <tr>\n",
              "      <th>4</th>\n",
              "      <td>Andorra</td>\n",
              "      <td>WESTERN EUROPE</td>\n",
              "      <td>71201</td>\n",
              "      <td>468</td>\n",
              "      <td>152,1</td>\n",
              "      <td>0,00</td>\n",
              "      <td>6,6</td>\n",
              "      <td>4,05</td>\n",
              "      <td>19000.0</td>\n",
              "      <td>100,0</td>\n",
              "      <td>497,2</td>\n",
              "      <td>2,22</td>\n",
              "      <td>0</td>\n",
              "      <td>97,78</td>\n",
              "      <td>3</td>\n",
              "      <td>8,71</td>\n",
              "      <td>6,25</td>\n",
              "      <td>NaN</td>\n",
              "      <td>NaN</td>\n",
              "      <td>NaN</td>\n",
              "    </tr>\n",
              "  </tbody>\n",
              "</table>\n",
              "</div>"
            ],
            "text/plain": [
              "           Country                               Region  ...  Industry  Service\n",
              "0     Afghanistan         ASIA (EX. NEAR EAST)           ...      0,24     0,38\n",
              "1         Albania   EASTERN EUROPE                       ...     0,188    0,579\n",
              "2         Algeria   NORTHERN AFRICA                      ...       0,6    0,298\n",
              "3  American Samoa   OCEANIA                              ...       NaN      NaN\n",
              "4         Andorra   WESTERN EUROPE                       ...       NaN      NaN\n",
              "\n",
              "[5 rows x 20 columns]"
            ]
          },
          "metadata": {
            "tags": []
          },
          "execution_count": 101
        }
      ]
    },
    {
      "cell_type": "markdown",
      "metadata": {
        "id": "kxOxmFM3b15g",
        "colab_type": "text"
      },
      "source": [
        "## Observações\n",
        "\n",
        "Esse _data set_ ainda precisa de alguns ajustes iniciais. Primeiro, note que as variáveis numéricas estão usando vírgula como separador decimal e estão codificadas como strings. Corrija isso antes de continuar: transforme essas variáveis em numéricas adequadamente.\n",
        "\n",
        "Além disso, as variáveis `Country` e `Region` possuem espaços a mais no começo e no final da string. Você pode utilizar o método `str.strip()` para remover esses espaços."
      ]
    },
    {
      "cell_type": "markdown",
      "metadata": {
        "id": "HGgzp0J6b15g",
        "colab_type": "text"
      },
      "source": [
        "## Inicia sua análise a partir daqui"
      ]
    },
    {
      "cell_type": "markdown",
      "metadata": {
        "id": "xLxgvc6VpIX6",
        "colab_type": "text"
      },
      "source": [
        "# PRE TRATAMENTO DOS DADOS"
      ]
    },
    {
      "cell_type": "code",
      "metadata": {
        "id": "udPKfgR6b15h",
        "colab_type": "code",
        "colab": {}
      },
      "source": [
        "# Sua análise começa aqui.\n",
        "#Como vamos trabalhar com feature engineering, vou gerar uma cópia do DF para trabalho.\n",
        "paises = countries.copy()"
      ],
      "execution_count": null,
      "outputs": []
    },
    {
      "cell_type": "code",
      "metadata": {
        "id": "A9jMPP7YZlWA",
        "colab_type": "code",
        "colab": {}
      },
      "source": [
        "#Usando o str.strip() para remover os espaços em branco do início e do fim da coluna países\n",
        "paises['Country'] = paises.Country.str.strip()"
      ],
      "execution_count": null,
      "outputs": []
    },
    {
      "cell_type": "code",
      "metadata": {
        "id": "tBpMZMsmZliD",
        "colab_type": "code",
        "colab": {}
      },
      "source": [
        "#Usando o str.strip() para remover os espaços em branco do início e do fim da coluna Regiões\n",
        "paises['Region'] = paises.Region.str.strip()"
      ],
      "execution_count": null,
      "outputs": []
    },
    {
      "cell_type": "code",
      "metadata": {
        "id": "CIdWev9wZll6",
        "colab_type": "code",
        "colab": {
          "base_uri": "https://localhost:8080/",
          "height": 326
        },
        "outputId": "3ee3966c-91e9-40ff-93ac-d7ea31e717df"
      },
      "source": [
        "paises.head()"
      ],
      "execution_count": null,
      "outputs": [
        {
          "output_type": "execute_result",
          "data": {
            "text/html": [
              "<div>\n",
              "<style scoped>\n",
              "    .dataframe tbody tr th:only-of-type {\n",
              "        vertical-align: middle;\n",
              "    }\n",
              "\n",
              "    .dataframe tbody tr th {\n",
              "        vertical-align: top;\n",
              "    }\n",
              "\n",
              "    .dataframe thead th {\n",
              "        text-align: right;\n",
              "    }\n",
              "</style>\n",
              "<table border=\"1\" class=\"dataframe\">\n",
              "  <thead>\n",
              "    <tr style=\"text-align: right;\">\n",
              "      <th></th>\n",
              "      <th>Country</th>\n",
              "      <th>Region</th>\n",
              "      <th>Population</th>\n",
              "      <th>Area</th>\n",
              "      <th>Pop_density</th>\n",
              "      <th>Coastline_ratio</th>\n",
              "      <th>Net_migration</th>\n",
              "      <th>Infant_mortality</th>\n",
              "      <th>GDP</th>\n",
              "      <th>Literacy</th>\n",
              "      <th>Phones_per_1000</th>\n",
              "      <th>Arable</th>\n",
              "      <th>Crops</th>\n",
              "      <th>Other</th>\n",
              "      <th>Climate</th>\n",
              "      <th>Birthrate</th>\n",
              "      <th>Deathrate</th>\n",
              "      <th>Agriculture</th>\n",
              "      <th>Industry</th>\n",
              "      <th>Service</th>\n",
              "    </tr>\n",
              "  </thead>\n",
              "  <tbody>\n",
              "    <tr>\n",
              "      <th>0</th>\n",
              "      <td>Afghanistan</td>\n",
              "      <td>ASIA (EX. NEAR EAST)</td>\n",
              "      <td>31056997</td>\n",
              "      <td>647500</td>\n",
              "      <td>48,0</td>\n",
              "      <td>0,00</td>\n",
              "      <td>23,06</td>\n",
              "      <td>163,07</td>\n",
              "      <td>700.0</td>\n",
              "      <td>36,0</td>\n",
              "      <td>3,2</td>\n",
              "      <td>12,13</td>\n",
              "      <td>0,22</td>\n",
              "      <td>87,65</td>\n",
              "      <td>1</td>\n",
              "      <td>46,6</td>\n",
              "      <td>20,34</td>\n",
              "      <td>0,38</td>\n",
              "      <td>0,24</td>\n",
              "      <td>0,38</td>\n",
              "    </tr>\n",
              "    <tr>\n",
              "      <th>1</th>\n",
              "      <td>Albania</td>\n",
              "      <td>EASTERN EUROPE</td>\n",
              "      <td>3581655</td>\n",
              "      <td>28748</td>\n",
              "      <td>124,6</td>\n",
              "      <td>1,26</td>\n",
              "      <td>-4,93</td>\n",
              "      <td>21,52</td>\n",
              "      <td>4500.0</td>\n",
              "      <td>86,5</td>\n",
              "      <td>71,2</td>\n",
              "      <td>21,09</td>\n",
              "      <td>4,42</td>\n",
              "      <td>74,49</td>\n",
              "      <td>3</td>\n",
              "      <td>15,11</td>\n",
              "      <td>5,22</td>\n",
              "      <td>0,232</td>\n",
              "      <td>0,188</td>\n",
              "      <td>0,579</td>\n",
              "    </tr>\n",
              "    <tr>\n",
              "      <th>2</th>\n",
              "      <td>Algeria</td>\n",
              "      <td>NORTHERN AFRICA</td>\n",
              "      <td>32930091</td>\n",
              "      <td>2381740</td>\n",
              "      <td>13,8</td>\n",
              "      <td>0,04</td>\n",
              "      <td>-0,39</td>\n",
              "      <td>31</td>\n",
              "      <td>6000.0</td>\n",
              "      <td>70,0</td>\n",
              "      <td>78,1</td>\n",
              "      <td>3,22</td>\n",
              "      <td>0,25</td>\n",
              "      <td>96,53</td>\n",
              "      <td>1</td>\n",
              "      <td>17,14</td>\n",
              "      <td>4,61</td>\n",
              "      <td>0,101</td>\n",
              "      <td>0,6</td>\n",
              "      <td>0,298</td>\n",
              "    </tr>\n",
              "    <tr>\n",
              "      <th>3</th>\n",
              "      <td>American Samoa</td>\n",
              "      <td>OCEANIA</td>\n",
              "      <td>57794</td>\n",
              "      <td>199</td>\n",
              "      <td>290,4</td>\n",
              "      <td>58,29</td>\n",
              "      <td>-20,71</td>\n",
              "      <td>9,27</td>\n",
              "      <td>8000.0</td>\n",
              "      <td>97,0</td>\n",
              "      <td>259,5</td>\n",
              "      <td>10</td>\n",
              "      <td>15</td>\n",
              "      <td>75</td>\n",
              "      <td>2</td>\n",
              "      <td>22,46</td>\n",
              "      <td>3,27</td>\n",
              "      <td>NaN</td>\n",
              "      <td>NaN</td>\n",
              "      <td>NaN</td>\n",
              "    </tr>\n",
              "    <tr>\n",
              "      <th>4</th>\n",
              "      <td>Andorra</td>\n",
              "      <td>WESTERN EUROPE</td>\n",
              "      <td>71201</td>\n",
              "      <td>468</td>\n",
              "      <td>152,1</td>\n",
              "      <td>0,00</td>\n",
              "      <td>6,6</td>\n",
              "      <td>4,05</td>\n",
              "      <td>19000.0</td>\n",
              "      <td>100,0</td>\n",
              "      <td>497,2</td>\n",
              "      <td>2,22</td>\n",
              "      <td>0</td>\n",
              "      <td>97,78</td>\n",
              "      <td>3</td>\n",
              "      <td>8,71</td>\n",
              "      <td>6,25</td>\n",
              "      <td>NaN</td>\n",
              "      <td>NaN</td>\n",
              "      <td>NaN</td>\n",
              "    </tr>\n",
              "  </tbody>\n",
              "</table>\n",
              "</div>"
            ],
            "text/plain": [
              "          Country                Region  ...  Industry  Service\n",
              "0     Afghanistan  ASIA (EX. NEAR EAST)  ...      0,24     0,38\n",
              "1         Albania        EASTERN EUROPE  ...     0,188    0,579\n",
              "2         Algeria       NORTHERN AFRICA  ...       0,6    0,298\n",
              "3  American Samoa               OCEANIA  ...       NaN      NaN\n",
              "4         Andorra        WESTERN EUROPE  ...       NaN      NaN\n",
              "\n",
              "[5 rows x 20 columns]"
            ]
          },
          "metadata": {
            "tags": []
          },
          "execution_count": 105
        }
      ]
    },
    {
      "cell_type": "code",
      "metadata": {
        "id": "b2L09BRIaSZF",
        "colab_type": "code",
        "colab": {
          "base_uri": "https://localhost:8080/",
          "height": 221
        },
        "outputId": "9dbacaf9-c994-4e2f-a893-095bb7a5ac43"
      },
      "source": [
        "#conferindo se houve mudança após a alteração\n",
        "print(countries.Region.equals(paises.Region))\n",
        "#para comparar, vou buscar os dados únicos dos dois DFs\n",
        "print(countries.Region.sort_values().unique())\n",
        "print(paises.Region.sort_values().unique())"
      ],
      "execution_count": null,
      "outputs": [
        {
          "output_type": "stream",
          "text": [
            "False\n",
            "['ASIA (EX. NEAR EAST)         ' 'BALTICS                            '\n",
            " 'C.W. OF IND. STATES ' 'EASTERN EUROPE                     '\n",
            " 'LATIN AMER. & CARIB    ' 'NEAR EAST                          '\n",
            " 'NORTHERN AFRICA                    '\n",
            " 'NORTHERN AMERICA                   '\n",
            " 'OCEANIA                            '\n",
            " 'SUB-SAHARAN AFRICA                 '\n",
            " 'WESTERN EUROPE                     ']\n",
            "['ASIA (EX. NEAR EAST)' 'BALTICS' 'C.W. OF IND. STATES' 'EASTERN EUROPE'\n",
            " 'LATIN AMER. & CARIB' 'NEAR EAST' 'NORTHERN AFRICA' 'NORTHERN AMERICA'\n",
            " 'OCEANIA' 'SUB-SAHARAN AFRICA' 'WESTERN EUROPE']\n"
          ],
          "name": "stdout"
        }
      ]
    },
    {
      "cell_type": "code",
      "metadata": {
        "id": "oGCpwQ0Tahlt",
        "colab_type": "code",
        "colab": {
          "base_uri": "https://localhost:8080/",
          "height": 1000
        },
        "outputId": "9ecb7f4a-349d-473c-9462-5af1d498393a"
      },
      "source": [
        "#fazendo a mesma coisa com os países\n",
        "print(countries.Country.equals(paises.Region))\n",
        "#para comparar, vou buscar os dados únicos dos dois DFs\n",
        "print(countries.Country.sort_values().unique())\n",
        "print(paises.Country.sort_values().unique())"
      ],
      "execution_count": null,
      "outputs": [
        {
          "output_type": "stream",
          "text": [
            "False\n",
            "['Afghanistan ' 'Albania ' 'Algeria ' 'American Samoa ' 'Andorra '\n",
            " 'Angola ' 'Anguilla ' 'Antigua & Barbuda ' 'Argentina ' 'Armenia '\n",
            " 'Aruba ' 'Australia ' 'Austria ' 'Azerbaijan ' 'Bahamas, The ' 'Bahrain '\n",
            " 'Bangladesh ' 'Barbados ' 'Belarus ' 'Belgium ' 'Belize ' 'Benin '\n",
            " 'Bermuda ' 'Bhutan ' 'Bolivia ' 'Bosnia & Herzegovina ' 'Botswana '\n",
            " 'Brazil ' 'British Virgin Is. ' 'Brunei ' 'Bulgaria ' 'Burkina Faso '\n",
            " 'Burma ' 'Burundi ' 'Cambodia ' 'Cameroon ' 'Canada ' 'Cape Verde '\n",
            " 'Cayman Islands ' 'Central African Rep. ' 'Chad ' 'Chile ' 'China '\n",
            " 'Colombia ' 'Comoros ' 'Congo, Dem. Rep. ' 'Congo, Repub. of the '\n",
            " 'Cook Islands ' 'Costa Rica ' \"Cote d'Ivoire \" 'Croatia ' 'Cuba '\n",
            " 'Cyprus ' 'Czech Republic ' 'Denmark ' 'Djibouti ' 'Dominica '\n",
            " 'Dominican Republic ' 'East Timor ' 'Ecuador ' 'Egypt ' 'El Salvador '\n",
            " 'Equatorial Guinea ' 'Eritrea ' 'Estonia ' 'Ethiopia ' 'Faroe Islands '\n",
            " 'Fiji ' 'Finland ' 'France ' 'French Guiana ' 'French Polynesia '\n",
            " 'Gabon ' 'Gambia, The ' 'Gaza Strip ' 'Georgia ' 'Germany ' 'Ghana '\n",
            " 'Gibraltar ' 'Greece ' 'Greenland ' 'Grenada ' 'Guadeloupe ' 'Guam '\n",
            " 'Guatemala ' 'Guernsey ' 'Guinea ' 'Guinea-Bissau ' 'Guyana ' 'Haiti '\n",
            " 'Honduras ' 'Hong Kong ' 'Hungary ' 'Iceland ' 'India ' 'Indonesia '\n",
            " 'Iran ' 'Iraq ' 'Ireland ' 'Isle of Man ' 'Israel ' 'Italy ' 'Jamaica '\n",
            " 'Japan ' 'Jersey ' 'Jordan ' 'Kazakhstan ' 'Kenya ' 'Kiribati '\n",
            " 'Korea, North ' 'Korea, South ' 'Kuwait ' 'Kyrgyzstan ' 'Laos ' 'Latvia '\n",
            " 'Lebanon ' 'Lesotho ' 'Liberia ' 'Libya ' 'Liechtenstein ' 'Lithuania '\n",
            " 'Luxembourg ' 'Macau ' 'Macedonia ' 'Madagascar ' 'Malawi ' 'Malaysia '\n",
            " 'Maldives ' 'Mali ' 'Malta ' 'Marshall Islands ' 'Martinique '\n",
            " 'Mauritania ' 'Mauritius ' 'Mayotte ' 'Mexico ' 'Micronesia, Fed. St. '\n",
            " 'Moldova ' 'Monaco ' 'Mongolia ' 'Montserrat ' 'Morocco ' 'Mozambique '\n",
            " 'N. Mariana Islands ' 'Namibia ' 'Nauru ' 'Nepal ' 'Netherlands '\n",
            " 'Netherlands Antilles ' 'New Caledonia ' 'New Zealand ' 'Nicaragua '\n",
            " 'Niger ' 'Nigeria ' 'Norway ' 'Oman ' 'Pakistan ' 'Palau ' 'Panama '\n",
            " 'Papua New Guinea ' 'Paraguay ' 'Peru ' 'Philippines ' 'Poland '\n",
            " 'Portugal ' 'Puerto Rico ' 'Qatar ' 'Reunion ' 'Romania ' 'Russia '\n",
            " 'Rwanda ' 'Saint Helena ' 'Saint Kitts & Nevis ' 'Saint Lucia '\n",
            " 'Saint Vincent and the Grenadines ' 'Samoa ' 'San Marino '\n",
            " 'Sao Tome & Principe ' 'Saudi Arabia ' 'Senegal ' 'Serbia ' 'Seychelles '\n",
            " 'Sierra Leone ' 'Singapore ' 'Slovakia ' 'Slovenia ' 'Solomon Islands '\n",
            " 'Somalia ' 'South Africa ' 'Spain ' 'Sri Lanka ' 'St Pierre & Miquelon '\n",
            " 'Sudan ' 'Suriname ' 'Swaziland ' 'Sweden ' 'Switzerland ' 'Syria '\n",
            " 'Taiwan ' 'Tajikistan ' 'Tanzania ' 'Thailand ' 'Togo ' 'Tonga '\n",
            " 'Trinidad & Tobago ' 'Tunisia ' 'Turkey ' 'Turkmenistan '\n",
            " 'Turks & Caicos Is ' 'Tuvalu ' 'Uganda ' 'Ukraine '\n",
            " 'United Arab Emirates ' 'United Kingdom ' 'United States ' 'Uruguay '\n",
            " 'Uzbekistan ' 'Vanuatu ' 'Venezuela ' 'Vietnam ' 'Virgin Islands '\n",
            " 'Wallis and Futuna ' 'West Bank ' 'Western Sahara ' 'Yemen ' 'Zambia '\n",
            " 'Zimbabwe ']\n",
            "['Afghanistan' 'Albania' 'Algeria' 'American Samoa' 'Andorra' 'Angola'\n",
            " 'Anguilla' 'Antigua & Barbuda' 'Argentina' 'Armenia' 'Aruba' 'Australia'\n",
            " 'Austria' 'Azerbaijan' 'Bahamas, The' 'Bahrain' 'Bangladesh' 'Barbados'\n",
            " 'Belarus' 'Belgium' 'Belize' 'Benin' 'Bermuda' 'Bhutan' 'Bolivia'\n",
            " 'Bosnia & Herzegovina' 'Botswana' 'Brazil' 'British Virgin Is.' 'Brunei'\n",
            " 'Bulgaria' 'Burkina Faso' 'Burma' 'Burundi' 'Cambodia' 'Cameroon'\n",
            " 'Canada' 'Cape Verde' 'Cayman Islands' 'Central African Rep.' 'Chad'\n",
            " 'Chile' 'China' 'Colombia' 'Comoros' 'Congo, Dem. Rep.'\n",
            " 'Congo, Repub. of the' 'Cook Islands' 'Costa Rica' \"Cote d'Ivoire\"\n",
            " 'Croatia' 'Cuba' 'Cyprus' 'Czech Republic' 'Denmark' 'Djibouti'\n",
            " 'Dominica' 'Dominican Republic' 'East Timor' 'Ecuador' 'Egypt'\n",
            " 'El Salvador' 'Equatorial Guinea' 'Eritrea' 'Estonia' 'Ethiopia'\n",
            " 'Faroe Islands' 'Fiji' 'Finland' 'France' 'French Guiana'\n",
            " 'French Polynesia' 'Gabon' 'Gambia, The' 'Gaza Strip' 'Georgia' 'Germany'\n",
            " 'Ghana' 'Gibraltar' 'Greece' 'Greenland' 'Grenada' 'Guadeloupe' 'Guam'\n",
            " 'Guatemala' 'Guernsey' 'Guinea' 'Guinea-Bissau' 'Guyana' 'Haiti'\n",
            " 'Honduras' 'Hong Kong' 'Hungary' 'Iceland' 'India' 'Indonesia' 'Iran'\n",
            " 'Iraq' 'Ireland' 'Isle of Man' 'Israel' 'Italy' 'Jamaica' 'Japan'\n",
            " 'Jersey' 'Jordan' 'Kazakhstan' 'Kenya' 'Kiribati' 'Korea, North'\n",
            " 'Korea, South' 'Kuwait' 'Kyrgyzstan' 'Laos' 'Latvia' 'Lebanon' 'Lesotho'\n",
            " 'Liberia' 'Libya' 'Liechtenstein' 'Lithuania' 'Luxembourg' 'Macau'\n",
            " 'Macedonia' 'Madagascar' 'Malawi' 'Malaysia' 'Maldives' 'Mali' 'Malta'\n",
            " 'Marshall Islands' 'Martinique' 'Mauritania' 'Mauritius' 'Mayotte'\n",
            " 'Mexico' 'Micronesia, Fed. St.' 'Moldova' 'Monaco' 'Mongolia'\n",
            " 'Montserrat' 'Morocco' 'Mozambique' 'N. Mariana Islands' 'Namibia'\n",
            " 'Nauru' 'Nepal' 'Netherlands' 'Netherlands Antilles' 'New Caledonia'\n",
            " 'New Zealand' 'Nicaragua' 'Niger' 'Nigeria' 'Norway' 'Oman' 'Pakistan'\n",
            " 'Palau' 'Panama' 'Papua New Guinea' 'Paraguay' 'Peru' 'Philippines'\n",
            " 'Poland' 'Portugal' 'Puerto Rico' 'Qatar' 'Reunion' 'Romania' 'Russia'\n",
            " 'Rwanda' 'Saint Helena' 'Saint Kitts & Nevis' 'Saint Lucia'\n",
            " 'Saint Vincent and the Grenadines' 'Samoa' 'San Marino'\n",
            " 'Sao Tome & Principe' 'Saudi Arabia' 'Senegal' 'Serbia' 'Seychelles'\n",
            " 'Sierra Leone' 'Singapore' 'Slovakia' 'Slovenia' 'Solomon Islands'\n",
            " 'Somalia' 'South Africa' 'Spain' 'Sri Lanka' 'St Pierre & Miquelon'\n",
            " 'Sudan' 'Suriname' 'Swaziland' 'Sweden' 'Switzerland' 'Syria' 'Taiwan'\n",
            " 'Tajikistan' 'Tanzania' 'Thailand' 'Togo' 'Tonga' 'Trinidad & Tobago'\n",
            " 'Tunisia' 'Turkey' 'Turkmenistan' 'Turks & Caicos Is' 'Tuvalu' 'Uganda'\n",
            " 'Ukraine' 'United Arab Emirates' 'United Kingdom' 'United States'\n",
            " 'Uruguay' 'Uzbekistan' 'Vanuatu' 'Venezuela' 'Vietnam' 'Virgin Islands'\n",
            " 'Wallis and Futuna' 'West Bank' 'Western Sahara' 'Yemen' 'Zambia'\n",
            " 'Zimbabwe']\n"
          ],
          "name": "stdout"
        }
      ]
    },
    {
      "cell_type": "code",
      "metadata": {
        "id": "3YdvyJjwanBe",
        "colab_type": "code",
        "colab": {
          "base_uri": "https://localhost:8080/",
          "height": 476
        },
        "outputId": "158bd6cc-bda5-4c2f-e4b9-af65e94c654b"
      },
      "source": [
        "#conferindo os tipos de dados do dataset\n",
        "paises.info()"
      ],
      "execution_count": null,
      "outputs": [
        {
          "output_type": "stream",
          "text": [
            "<class 'pandas.core.frame.DataFrame'>\n",
            "RangeIndex: 227 entries, 0 to 226\n",
            "Data columns (total 20 columns):\n",
            " #   Column            Non-Null Count  Dtype  \n",
            "---  ------            --------------  -----  \n",
            " 0   Country           227 non-null    object \n",
            " 1   Region            227 non-null    object \n",
            " 2   Population        227 non-null    int64  \n",
            " 3   Area              227 non-null    int64  \n",
            " 4   Pop_density       227 non-null    object \n",
            " 5   Coastline_ratio   227 non-null    object \n",
            " 6   Net_migration     224 non-null    object \n",
            " 7   Infant_mortality  224 non-null    object \n",
            " 8   GDP               226 non-null    float64\n",
            " 9   Literacy          209 non-null    object \n",
            " 10  Phones_per_1000   223 non-null    object \n",
            " 11  Arable            225 non-null    object \n",
            " 12  Crops             225 non-null    object \n",
            " 13  Other             225 non-null    object \n",
            " 14  Climate           205 non-null    object \n",
            " 15  Birthrate         224 non-null    object \n",
            " 16  Deathrate         223 non-null    object \n",
            " 17  Agriculture       212 non-null    object \n",
            " 18  Industry          211 non-null    object \n",
            " 19  Service           212 non-null    object \n",
            "dtypes: float64(1), int64(2), object(17)\n",
            "memory usage: 35.6+ KB\n"
          ],
          "name": "stdout"
        }
      ]
    },
    {
      "cell_type": "code",
      "metadata": {
        "id": "LWDZngcdcUkl",
        "colab_type": "code",
        "colab": {}
      },
      "source": [
        "#primeira conversão: para String e trocando a vírgula por ponto, e convertendo para float\n",
        "paises.Pop_density = paises.Pop_density.convert_dtypes().str.replace(',','.').astype(float)"
      ],
      "execution_count": null,
      "outputs": []
    },
    {
      "cell_type": "code",
      "metadata": {
        "id": "UWFUENgsjUV-",
        "colab_type": "code",
        "colab": {
          "base_uri": "https://localhost:8080/",
          "height": 102
        },
        "outputId": "b19f5226-41a4-424c-d3dd-8fa5033a917a"
      },
      "source": [
        "#visualizando as colunas\n",
        "paises.columns"
      ],
      "execution_count": null,
      "outputs": [
        {
          "output_type": "execute_result",
          "data": {
            "text/plain": [
              "Index(['Country', 'Region', 'Population', 'Area', 'Pop_density',\n",
              "       'Coastline_ratio', 'Net_migration', 'Infant_mortality', 'GDP',\n",
              "       'Literacy', 'Phones_per_1000', 'Arable', 'Crops', 'Other', 'Climate',\n",
              "       'Birthrate', 'Deathrate', 'Agriculture', 'Industry', 'Service'],\n",
              "      dtype='object')"
            ]
          },
          "metadata": {
            "tags": []
          },
          "execution_count": 110
        }
      ]
    },
    {
      "cell_type": "code",
      "metadata": {
        "id": "oqDzULsrgDZ-",
        "colab_type": "code",
        "colab": {}
      },
      "source": [
        "#criando as colunas que precisam ser transformadas em float\n",
        "colunas_a_transformar = ['Coastline_ratio', 'Net_migration', 'Infant_mortality',\n",
        "                         'Literacy', 'Phones_per_1000', 'Arable', 'Crops',\n",
        "                         'Other','Birthrate', 'Climate', 'Deathrate', 'Agriculture',\n",
        "                         'Industry', 'Service']"
      ],
      "execution_count": null,
      "outputs": []
    },
    {
      "cell_type": "code",
      "metadata": {
        "id": "Kj3SNAnLiM1o",
        "colab_type": "code",
        "colab": {}
      },
      "source": [
        "#criando a função\n",
        "def alterar_coluna(df, colunas):\n",
        "  for coluna in colunas:\n",
        "    df[coluna] = df[coluna].astype(str).str.replace(',','.').astype(float, errors='ignore')\n",
        "  return df.head()"
      ],
      "execution_count": null,
      "outputs": []
    },
    {
      "cell_type": "code",
      "metadata": {
        "id": "MzYSA86qmtny",
        "colab_type": "code",
        "colab": {
          "base_uri": "https://localhost:8080/",
          "height": 326
        },
        "outputId": "a27669c9-d289-48ea-8487-1dd1f24592fd"
      },
      "source": [
        "alterar_coluna(paises,colunas_a_transformar)"
      ],
      "execution_count": null,
      "outputs": [
        {
          "output_type": "execute_result",
          "data": {
            "text/html": [
              "<div>\n",
              "<style scoped>\n",
              "    .dataframe tbody tr th:only-of-type {\n",
              "        vertical-align: middle;\n",
              "    }\n",
              "\n",
              "    .dataframe tbody tr th {\n",
              "        vertical-align: top;\n",
              "    }\n",
              "\n",
              "    .dataframe thead th {\n",
              "        text-align: right;\n",
              "    }\n",
              "</style>\n",
              "<table border=\"1\" class=\"dataframe\">\n",
              "  <thead>\n",
              "    <tr style=\"text-align: right;\">\n",
              "      <th></th>\n",
              "      <th>Country</th>\n",
              "      <th>Region</th>\n",
              "      <th>Population</th>\n",
              "      <th>Area</th>\n",
              "      <th>Pop_density</th>\n",
              "      <th>Coastline_ratio</th>\n",
              "      <th>Net_migration</th>\n",
              "      <th>Infant_mortality</th>\n",
              "      <th>GDP</th>\n",
              "      <th>Literacy</th>\n",
              "      <th>Phones_per_1000</th>\n",
              "      <th>Arable</th>\n",
              "      <th>Crops</th>\n",
              "      <th>Other</th>\n",
              "      <th>Climate</th>\n",
              "      <th>Birthrate</th>\n",
              "      <th>Deathrate</th>\n",
              "      <th>Agriculture</th>\n",
              "      <th>Industry</th>\n",
              "      <th>Service</th>\n",
              "    </tr>\n",
              "  </thead>\n",
              "  <tbody>\n",
              "    <tr>\n",
              "      <th>0</th>\n",
              "      <td>Afghanistan</td>\n",
              "      <td>ASIA (EX. NEAR EAST)</td>\n",
              "      <td>31056997</td>\n",
              "      <td>647500</td>\n",
              "      <td>48.0</td>\n",
              "      <td>0.00</td>\n",
              "      <td>23.06</td>\n",
              "      <td>163.07</td>\n",
              "      <td>700.0</td>\n",
              "      <td>36.0</td>\n",
              "      <td>3.2</td>\n",
              "      <td>12.13</td>\n",
              "      <td>0.22</td>\n",
              "      <td>87.65</td>\n",
              "      <td>1.0</td>\n",
              "      <td>46.60</td>\n",
              "      <td>20.34</td>\n",
              "      <td>0.380</td>\n",
              "      <td>0.240</td>\n",
              "      <td>0.380</td>\n",
              "    </tr>\n",
              "    <tr>\n",
              "      <th>1</th>\n",
              "      <td>Albania</td>\n",
              "      <td>EASTERN EUROPE</td>\n",
              "      <td>3581655</td>\n",
              "      <td>28748</td>\n",
              "      <td>124.6</td>\n",
              "      <td>1.26</td>\n",
              "      <td>-4.93</td>\n",
              "      <td>21.52</td>\n",
              "      <td>4500.0</td>\n",
              "      <td>86.5</td>\n",
              "      <td>71.2</td>\n",
              "      <td>21.09</td>\n",
              "      <td>4.42</td>\n",
              "      <td>74.49</td>\n",
              "      <td>3.0</td>\n",
              "      <td>15.11</td>\n",
              "      <td>5.22</td>\n",
              "      <td>0.232</td>\n",
              "      <td>0.188</td>\n",
              "      <td>0.579</td>\n",
              "    </tr>\n",
              "    <tr>\n",
              "      <th>2</th>\n",
              "      <td>Algeria</td>\n",
              "      <td>NORTHERN AFRICA</td>\n",
              "      <td>32930091</td>\n",
              "      <td>2381740</td>\n",
              "      <td>13.8</td>\n",
              "      <td>0.04</td>\n",
              "      <td>-0.39</td>\n",
              "      <td>31.00</td>\n",
              "      <td>6000.0</td>\n",
              "      <td>70.0</td>\n",
              "      <td>78.1</td>\n",
              "      <td>3.22</td>\n",
              "      <td>0.25</td>\n",
              "      <td>96.53</td>\n",
              "      <td>1.0</td>\n",
              "      <td>17.14</td>\n",
              "      <td>4.61</td>\n",
              "      <td>0.101</td>\n",
              "      <td>0.600</td>\n",
              "      <td>0.298</td>\n",
              "    </tr>\n",
              "    <tr>\n",
              "      <th>3</th>\n",
              "      <td>American Samoa</td>\n",
              "      <td>OCEANIA</td>\n",
              "      <td>57794</td>\n",
              "      <td>199</td>\n",
              "      <td>290.4</td>\n",
              "      <td>58.29</td>\n",
              "      <td>-20.71</td>\n",
              "      <td>9.27</td>\n",
              "      <td>8000.0</td>\n",
              "      <td>97.0</td>\n",
              "      <td>259.5</td>\n",
              "      <td>10.00</td>\n",
              "      <td>15.00</td>\n",
              "      <td>75.00</td>\n",
              "      <td>2.0</td>\n",
              "      <td>22.46</td>\n",
              "      <td>3.27</td>\n",
              "      <td>NaN</td>\n",
              "      <td>NaN</td>\n",
              "      <td>NaN</td>\n",
              "    </tr>\n",
              "    <tr>\n",
              "      <th>4</th>\n",
              "      <td>Andorra</td>\n",
              "      <td>WESTERN EUROPE</td>\n",
              "      <td>71201</td>\n",
              "      <td>468</td>\n",
              "      <td>152.1</td>\n",
              "      <td>0.00</td>\n",
              "      <td>6.60</td>\n",
              "      <td>4.05</td>\n",
              "      <td>19000.0</td>\n",
              "      <td>100.0</td>\n",
              "      <td>497.2</td>\n",
              "      <td>2.22</td>\n",
              "      <td>0.00</td>\n",
              "      <td>97.78</td>\n",
              "      <td>3.0</td>\n",
              "      <td>8.71</td>\n",
              "      <td>6.25</td>\n",
              "      <td>NaN</td>\n",
              "      <td>NaN</td>\n",
              "      <td>NaN</td>\n",
              "    </tr>\n",
              "  </tbody>\n",
              "</table>\n",
              "</div>"
            ],
            "text/plain": [
              "          Country                Region  ...  Industry  Service\n",
              "0     Afghanistan  ASIA (EX. NEAR EAST)  ...     0.240    0.380\n",
              "1         Albania        EASTERN EUROPE  ...     0.188    0.579\n",
              "2         Algeria       NORTHERN AFRICA  ...     0.600    0.298\n",
              "3  American Samoa               OCEANIA  ...       NaN      NaN\n",
              "4         Andorra        WESTERN EUROPE  ...       NaN      NaN\n",
              "\n",
              "[5 rows x 20 columns]"
            ]
          },
          "metadata": {
            "tags": []
          },
          "execution_count": 113
        }
      ]
    },
    {
      "cell_type": "code",
      "metadata": {
        "id": "fvr1sP5NpATu",
        "colab_type": "code",
        "colab": {
          "base_uri": "https://localhost:8080/",
          "height": 476
        },
        "outputId": "d75e5474-6632-4539-d9ca-5e7c09e1a2fb"
      },
      "source": [
        "paises.info()"
      ],
      "execution_count": null,
      "outputs": [
        {
          "output_type": "stream",
          "text": [
            "<class 'pandas.core.frame.DataFrame'>\n",
            "RangeIndex: 227 entries, 0 to 226\n",
            "Data columns (total 20 columns):\n",
            " #   Column            Non-Null Count  Dtype  \n",
            "---  ------            --------------  -----  \n",
            " 0   Country           227 non-null    object \n",
            " 1   Region            227 non-null    object \n",
            " 2   Population        227 non-null    int64  \n",
            " 3   Area              227 non-null    int64  \n",
            " 4   Pop_density       227 non-null    float64\n",
            " 5   Coastline_ratio   227 non-null    float64\n",
            " 6   Net_migration     224 non-null    float64\n",
            " 7   Infant_mortality  224 non-null    float64\n",
            " 8   GDP               226 non-null    float64\n",
            " 9   Literacy          209 non-null    float64\n",
            " 10  Phones_per_1000   223 non-null    float64\n",
            " 11  Arable            225 non-null    float64\n",
            " 12  Crops             225 non-null    float64\n",
            " 13  Other             225 non-null    float64\n",
            " 14  Climate           205 non-null    float64\n",
            " 15  Birthrate         224 non-null    float64\n",
            " 16  Deathrate         223 non-null    float64\n",
            " 17  Agriculture       212 non-null    float64\n",
            " 18  Industry          211 non-null    float64\n",
            " 19  Service           212 non-null    float64\n",
            "dtypes: float64(16), int64(2), object(2)\n",
            "memory usage: 35.6+ KB\n"
          ],
          "name": "stdout"
        }
      ]
    },
    {
      "cell_type": "code",
      "metadata": {
        "id": "FGjIOIqSpead",
        "colab_type": "code",
        "colab": {
          "base_uri": "https://localhost:8080/",
          "height": 374
        },
        "outputId": "cf12e946-ecda-4339-d346-45615579a67b"
      },
      "source": [
        "#conferindo dados nulos\n",
        "paises.isna().sum()"
      ],
      "execution_count": null,
      "outputs": [
        {
          "output_type": "execute_result",
          "data": {
            "text/plain": [
              "Country              0\n",
              "Region               0\n",
              "Population           0\n",
              "Area                 0\n",
              "Pop_density          0\n",
              "Coastline_ratio      0\n",
              "Net_migration        3\n",
              "Infant_mortality     3\n",
              "GDP                  1\n",
              "Literacy            18\n",
              "Phones_per_1000      4\n",
              "Arable               2\n",
              "Crops                2\n",
              "Other                2\n",
              "Climate             22\n",
              "Birthrate            3\n",
              "Deathrate            4\n",
              "Agriculture         15\n",
              "Industry            16\n",
              "Service             15\n",
              "dtype: int64"
            ]
          },
          "metadata": {
            "tags": []
          },
          "execution_count": 116
        }
      ]
    },
    {
      "cell_type": "markdown",
      "metadata": {
        "id": "0fXAJotHo9U3",
        "colab_type": "text"
      },
      "source": [
        "# INÍCIO DO DESAFIO"
      ]
    },
    {
      "cell_type": "markdown",
      "metadata": {
        "id": "M95evawPb15k",
        "colab_type": "text"
      },
      "source": [
        "## Questão 1\n",
        "\n",
        "Quais são as regiões (variável `Region`) presentes no _data set_? Retorne uma lista com as regiões únicas do _data set_ com os espaços à frente e atrás da string removidos (mas mantenha pontuação: ponto, hífen etc) e ordenadas em ordem alfabética."
      ]
    },
    {
      "cell_type": "code",
      "metadata": {
        "id": "79StKQzSZkm8",
        "colab_type": "code",
        "colab": {
          "base_uri": "https://localhost:8080/",
          "height": 85
        },
        "outputId": "3401175b-2e56-4722-8659-6f2876d96e88"
      },
      "source": [
        "#visualizando a Series\n",
        "paises.Region.sort_values().unique()"
      ],
      "execution_count": null,
      "outputs": [
        {
          "output_type": "execute_result",
          "data": {
            "text/plain": [
              "array(['ASIA (EX. NEAR EAST)', 'BALTICS', 'C.W. OF IND. STATES',\n",
              "       'EASTERN EUROPE', 'LATIN AMER. & CARIB', 'NEAR EAST',\n",
              "       'NORTHERN AFRICA', 'NORTHERN AMERICA', 'OCEANIA',\n",
              "       'SUB-SAHARAN AFRICA', 'WESTERN EUROPE'], dtype=object)"
            ]
          },
          "metadata": {
            "tags": []
          },
          "execution_count": 121
        }
      ]
    },
    {
      "cell_type": "code",
      "metadata": {
        "id": "H0YSO7Q8b15k",
        "colab_type": "code",
        "colab": {}
      },
      "source": [
        "def q1():\n",
        "  return list(paises.Region.sort_values().unique())\n"
      ],
      "execution_count": null,
      "outputs": []
    },
    {
      "cell_type": "code",
      "metadata": {
        "id": "P-HwuQ-x08Ck",
        "colab_type": "code",
        "colab": {
          "base_uri": "https://localhost:8080/",
          "height": 204
        },
        "outputId": "0a158536-2938-438f-e7aa-e50f774dc8ce"
      },
      "source": [
        "q1()"
      ],
      "execution_count": null,
      "outputs": [
        {
          "output_type": "execute_result",
          "data": {
            "text/plain": [
              "['ASIA (EX. NEAR EAST)',\n",
              " 'BALTICS',\n",
              " 'C.W. OF IND. STATES',\n",
              " 'EASTERN EUROPE',\n",
              " 'LATIN AMER. & CARIB',\n",
              " 'NEAR EAST',\n",
              " 'NORTHERN AFRICA',\n",
              " 'NORTHERN AMERICA',\n",
              " 'OCEANIA',\n",
              " 'SUB-SAHARAN AFRICA',\n",
              " 'WESTERN EUROPE']"
            ]
          },
          "metadata": {
            "tags": []
          },
          "execution_count": 123
        }
      ]
    },
    {
      "cell_type": "markdown",
      "metadata": {
        "id": "4be04FZTb15n",
        "colab_type": "text"
      },
      "source": [
        "## Questão 2\n",
        "\n",
        "Discretizando a variável `Pop_density` em 10 intervalos com `KBinsDiscretizer`, seguindo o encode `ordinal` e estratégia `quantile`, quantos países se encontram acima do 90º percentil? Responda como um único escalar inteiro."
      ]
    },
    {
      "cell_type": "code",
      "metadata": {
        "id": "cc2QMT6X12Ia",
        "colab_type": "code",
        "colab": {}
      },
      "source": [
        "#colocando o KBinsDiscretizer numa variável e ajustando os dados\n",
        "from sklearn.preprocessing import KBinsDiscretizer\n",
        "discret = KBinsDiscretizer(n_bins=10, encode= 'ordinal', strategy='quantile')\n",
        "#criando uma coluna com os dados transformados\n",
        "paises['Categoric_Pop_Density'] = discret.fit_transform(paises[['Pop_density']])"
      ],
      "execution_count": null,
      "outputs": []
    },
    {
      "cell_type": "code",
      "metadata": {
        "id": "GweWRqpKNVmw",
        "colab_type": "code",
        "colab": {
          "base_uri": "https://localhost:8080/",
          "height": 221
        },
        "outputId": "09a3b2f1-4822-40dd-9c6f-79914a70e443"
      },
      "source": [
        "paises['Categoric_Pop_Density']"
      ],
      "execution_count": null,
      "outputs": [
        {
          "output_type": "execute_result",
          "data": {
            "text/plain": [
              "0      3.0\n",
              "1      6.0\n",
              "2      1.0\n",
              "3      8.0\n",
              "4      7.0\n",
              "      ... \n",
              "222    9.0\n",
              "223    0.0\n",
              "224    3.0\n",
              "225    1.0\n",
              "226    2.0\n",
              "Name: Categoric_Pop_Density, Length: 227, dtype: float64"
            ]
          },
          "metadata": {
            "tags": []
          },
          "execution_count": 220
        }
      ]
    },
    {
      "cell_type": "code",
      "metadata": {
        "id": "qJT6p0kH8Q3d",
        "colab_type": "code",
        "colab": {
          "base_uri": "https://localhost:8080/",
          "height": 309
        },
        "outputId": "5ddaefb5-9fb5-461c-a851-496783a1e4bb"
      },
      "source": [
        "#conferindo o percentil 90\n",
        "percentil = np.percentile(paises['Categoric_Pop_Density'], 90)\n",
        "#visualizando países que possuem dados acima do percentil\n",
        "query = paises[paises['Categoric_Pop_Density'] > percentil]\n",
        "#visualizando o resultado da query\n",
        "query.head()"
      ],
      "execution_count": null,
      "outputs": [
        {
          "output_type": "execute_result",
          "data": {
            "text/html": [
              "<div>\n",
              "<style scoped>\n",
              "    .dataframe tbody tr th:only-of-type {\n",
              "        vertical-align: middle;\n",
              "    }\n",
              "\n",
              "    .dataframe tbody tr th {\n",
              "        vertical-align: top;\n",
              "    }\n",
              "\n",
              "    .dataframe thead th {\n",
              "        text-align: right;\n",
              "    }\n",
              "</style>\n",
              "<table border=\"1\" class=\"dataframe\">\n",
              "  <thead>\n",
              "    <tr style=\"text-align: right;\">\n",
              "      <th></th>\n",
              "      <th>Country</th>\n",
              "      <th>Region</th>\n",
              "      <th>Population</th>\n",
              "      <th>Area</th>\n",
              "      <th>Pop_density</th>\n",
              "      <th>Coastline_ratio</th>\n",
              "      <th>Net_migration</th>\n",
              "      <th>Infant_mortality</th>\n",
              "      <th>GDP</th>\n",
              "      <th>Literacy</th>\n",
              "      <th>Phones_per_1000</th>\n",
              "      <th>Arable</th>\n",
              "      <th>Crops</th>\n",
              "      <th>Other</th>\n",
              "      <th>Climate</th>\n",
              "      <th>Birthrate</th>\n",
              "      <th>Deathrate</th>\n",
              "      <th>Agriculture</th>\n",
              "      <th>Industry</th>\n",
              "      <th>Service</th>\n",
              "      <th>Categoric_Pop_Density</th>\n",
              "    </tr>\n",
              "  </thead>\n",
              "  <tbody>\n",
              "    <tr>\n",
              "      <th>15</th>\n",
              "      <td>Bahrain</td>\n",
              "      <td>NEAR EAST</td>\n",
              "      <td>698585</td>\n",
              "      <td>665</td>\n",
              "      <td>1050.5</td>\n",
              "      <td>24.21</td>\n",
              "      <td>1.05</td>\n",
              "      <td>17.27</td>\n",
              "      <td>16900.0</td>\n",
              "      <td>89.1</td>\n",
              "      <td>281.3</td>\n",
              "      <td>2.82</td>\n",
              "      <td>5.63</td>\n",
              "      <td>91.55</td>\n",
              "      <td>1.0</td>\n",
              "      <td>17.80</td>\n",
              "      <td>4.14</td>\n",
              "      <td>0.005</td>\n",
              "      <td>0.387</td>\n",
              "      <td>0.608</td>\n",
              "      <td>9.0</td>\n",
              "    </tr>\n",
              "    <tr>\n",
              "      <th>16</th>\n",
              "      <td>Bangladesh</td>\n",
              "      <td>ASIA (EX. NEAR EAST)</td>\n",
              "      <td>147365352</td>\n",
              "      <td>144000</td>\n",
              "      <td>1023.4</td>\n",
              "      <td>0.40</td>\n",
              "      <td>-0.71</td>\n",
              "      <td>62.60</td>\n",
              "      <td>1900.0</td>\n",
              "      <td>43.1</td>\n",
              "      <td>7.3</td>\n",
              "      <td>62.11</td>\n",
              "      <td>3.07</td>\n",
              "      <td>34.82</td>\n",
              "      <td>2.0</td>\n",
              "      <td>29.80</td>\n",
              "      <td>8.27</td>\n",
              "      <td>0.199</td>\n",
              "      <td>0.198</td>\n",
              "      <td>0.603</td>\n",
              "      <td>9.0</td>\n",
              "    </tr>\n",
              "    <tr>\n",
              "      <th>17</th>\n",
              "      <td>Barbados</td>\n",
              "      <td>LATIN AMER. &amp; CARIB</td>\n",
              "      <td>279912</td>\n",
              "      <td>431</td>\n",
              "      <td>649.5</td>\n",
              "      <td>22.51</td>\n",
              "      <td>-0.31</td>\n",
              "      <td>12.50</td>\n",
              "      <td>15700.0</td>\n",
              "      <td>97.4</td>\n",
              "      <td>481.9</td>\n",
              "      <td>37.21</td>\n",
              "      <td>2.33</td>\n",
              "      <td>60.46</td>\n",
              "      <td>2.0</td>\n",
              "      <td>12.71</td>\n",
              "      <td>8.67</td>\n",
              "      <td>0.060</td>\n",
              "      <td>0.160</td>\n",
              "      <td>0.780</td>\n",
              "      <td>9.0</td>\n",
              "    </tr>\n",
              "    <tr>\n",
              "      <th>22</th>\n",
              "      <td>Bermuda</td>\n",
              "      <td>NORTHERN AMERICA</td>\n",
              "      <td>65773</td>\n",
              "      <td>53</td>\n",
              "      <td>1241.0</td>\n",
              "      <td>194.34</td>\n",
              "      <td>2.49</td>\n",
              "      <td>8.53</td>\n",
              "      <td>36000.0</td>\n",
              "      <td>98.0</td>\n",
              "      <td>851.4</td>\n",
              "      <td>20.00</td>\n",
              "      <td>0.00</td>\n",
              "      <td>80.00</td>\n",
              "      <td>2.0</td>\n",
              "      <td>11.40</td>\n",
              "      <td>7.74</td>\n",
              "      <td>0.010</td>\n",
              "      <td>0.100</td>\n",
              "      <td>0.890</td>\n",
              "      <td>9.0</td>\n",
              "    </tr>\n",
              "    <tr>\n",
              "      <th>74</th>\n",
              "      <td>Gaza Strip</td>\n",
              "      <td>NEAR EAST</td>\n",
              "      <td>1428757</td>\n",
              "      <td>360</td>\n",
              "      <td>3968.8</td>\n",
              "      <td>11.11</td>\n",
              "      <td>1.60</td>\n",
              "      <td>22.93</td>\n",
              "      <td>600.0</td>\n",
              "      <td>NaN</td>\n",
              "      <td>244.3</td>\n",
              "      <td>28.95</td>\n",
              "      <td>21.05</td>\n",
              "      <td>50.00</td>\n",
              "      <td>3.0</td>\n",
              "      <td>39.45</td>\n",
              "      <td>3.80</td>\n",
              "      <td>0.030</td>\n",
              "      <td>0.283</td>\n",
              "      <td>0.687</td>\n",
              "      <td>9.0</td>\n",
              "    </tr>\n",
              "  </tbody>\n",
              "</table>\n",
              "</div>"
            ],
            "text/plain": [
              "       Country                Region  ...  Service  Categoric_Pop_Density\n",
              "15     Bahrain             NEAR EAST  ...    0.608                    9.0\n",
              "16  Bangladesh  ASIA (EX. NEAR EAST)  ...    0.603                    9.0\n",
              "17    Barbados   LATIN AMER. & CARIB  ...    0.780                    9.0\n",
              "22     Bermuda      NORTHERN AMERICA  ...    0.890                    9.0\n",
              "74  Gaza Strip             NEAR EAST  ...    0.687                    9.0\n",
              "\n",
              "[5 rows x 21 columns]"
            ]
          },
          "metadata": {
            "tags": []
          },
          "execution_count": 240
        }
      ]
    },
    {
      "cell_type": "code",
      "metadata": {
        "id": "E-pJtrerOh3D",
        "colab_type": "code",
        "colab": {
          "base_uri": "https://localhost:8080/",
          "height": 34
        },
        "outputId": "083399f8-c003-4c56-d315-ec28fb86de1b"
      },
      "source": [
        "#somando os países únicos\n",
        "query.Country.nunique()"
      ],
      "execution_count": null,
      "outputs": [
        {
          "output_type": "execute_result",
          "data": {
            "text/plain": [
              "23"
            ]
          },
          "metadata": {
            "tags": []
          },
          "execution_count": 243
        }
      ]
    },
    {
      "cell_type": "code",
      "metadata": {
        "id": "Kr9Ehe8ob15o",
        "colab_type": "code",
        "colab": {}
      },
      "source": [
        "def q2():\n",
        "    return int(query.Country.nunique())"
      ],
      "execution_count": null,
      "outputs": []
    },
    {
      "cell_type": "code",
      "metadata": {
        "id": "9ji0QqS0AM18",
        "colab_type": "code",
        "colab": {
          "base_uri": "https://localhost:8080/",
          "height": 34
        },
        "outputId": "692025c9-d8e5-4238-b4f6-e49dd8f9cd49"
      },
      "source": [
        "q2()"
      ],
      "execution_count": null,
      "outputs": [
        {
          "output_type": "execute_result",
          "data": {
            "text/plain": [
              "23"
            ]
          },
          "metadata": {
            "tags": []
          },
          "execution_count": 245
        }
      ]
    },
    {
      "cell_type": "markdown",
      "metadata": {
        "id": "R6NhnwNNb15r",
        "colab_type": "text"
      },
      "source": [
        "# Questão 3\n",
        "\n",
        "Se codificarmos as variáveis `Region` e `Climate` usando _one-hot encoding_, quantos novos atributos seriam criados? Responda como um único escalar."
      ]
    },
    {
      "cell_type": "code",
      "metadata": {
        "id": "WvZHo_T3CWm9",
        "colab_type": "code",
        "colab": {
          "base_uri": "https://localhost:8080/",
          "height": 102
        },
        "outputId": "3252ac22-5a9e-4870-b797-97629e103cf4"
      },
      "source": [
        "#vendo os valores únicos nas colunas de Region e Climate\n",
        "print(paises.Region.unique())\n",
        "print(paises.Climate.unique())\n",
        "print(len(paises.Climate.unique()))"
      ],
      "execution_count": null,
      "outputs": [
        {
          "output_type": "stream",
          "text": [
            "['ASIA (EX. NEAR EAST)' 'EASTERN EUROPE' 'NORTHERN AFRICA' 'OCEANIA'\n",
            " 'WESTERN EUROPE' 'SUB-SAHARAN AFRICA' 'LATIN AMER. & CARIB'\n",
            " 'C.W. OF IND. STATES' 'NEAR EAST' 'NORTHERN AMERICA' 'BALTICS']\n",
            "[1.  3.  2.  nan 4.  1.5 2.5]\n",
            "7\n"
          ],
          "name": "stdout"
        }
      ]
    },
    {
      "cell_type": "code",
      "metadata": {
        "id": "JeVWkF6avVY-",
        "colab_type": "code",
        "colab": {}
      },
      "source": [
        "from sklearn.preprocessing import OneHotEncoder"
      ],
      "execution_count": null,
      "outputs": []
    },
    {
      "cell_type": "code",
      "metadata": {
        "id": "PoK-Am5c_7nK",
        "colab_type": "code",
        "colab": {
          "base_uri": "https://localhost:8080/",
          "height": 34
        },
        "outputId": "fdc209b6-b2e0-4199-9d35-ca5d23032a31"
      },
      "source": [
        "#ajustando nos dados de Region\n",
        "encoder = OneHotEncoder(sparse=False, dtype=np.int)\n",
        "region = encoder.fit_transform(paises[[\"Region\"]])\n",
        "_,cat_region = region.shape\n",
        "cat_region"
      ],
      "execution_count": null,
      "outputs": [
        {
          "output_type": "execute_result",
          "data": {
            "text/plain": [
              "11"
            ]
          },
          "metadata": {
            "tags": []
          },
          "execution_count": 196
        }
      ]
    },
    {
      "cell_type": "code",
      "metadata": {
        "id": "tFrjA3viD-Q0",
        "colab_type": "code",
        "colab": {
          "base_uri": "https://localhost:8080/",
          "height": 34
        },
        "outputId": "b29f35d0-85bd-4d92-9e3f-4fd78f8da46d"
      },
      "source": [
        "#conferindo com o nunique()\n",
        "cat_paises = paises.Region.nunique()\n",
        "cat_paises"
      ],
      "execution_count": null,
      "outputs": [
        {
          "output_type": "execute_result",
          "data": {
            "text/plain": [
              "11"
            ]
          },
          "metadata": {
            "tags": []
          },
          "execution_count": 199
        }
      ]
    },
    {
      "cell_type": "code",
      "metadata": {
        "id": "WQY1yhnaFAzB",
        "colab_type": "code",
        "colab": {
          "base_uri": "https://localhost:8080/",
          "height": 34
        },
        "outputId": "a43ad05c-2621-431c-c283-c034f7702e7e"
      },
      "source": [
        "#usando o len para pegar o missing\n",
        "cat_clima= len(paises.Climate.unique())\n",
        "cat_clima"
      ],
      "execution_count": null,
      "outputs": [
        {
          "output_type": "execute_result",
          "data": {
            "text/plain": [
              "7"
            ]
          },
          "metadata": {
            "tags": []
          },
          "execution_count": 203
        }
      ]
    },
    {
      "cell_type": "code",
      "metadata": {
        "id": "mD5fWsk5b15r",
        "colab_type": "code",
        "colab": {}
      },
      "source": [
        "#como ele vai criar um atributo para cada valor único, podemos usar o tamanho do array de valores únicos para somar as categorias que seriam criadas\n",
        "def q3():\n",
        "  return int(cat_paises + cat_clima)\n"
      ],
      "execution_count": null,
      "outputs": []
    },
    {
      "cell_type": "code",
      "metadata": {
        "id": "oq6DE6psFzZP",
        "colab_type": "code",
        "colab": {
          "base_uri": "https://localhost:8080/",
          "height": 34
        },
        "outputId": "cd667623-c770-46de-fdbb-1586d6ac1c24"
      },
      "source": [
        "q3()"
      ],
      "execution_count": null,
      "outputs": [
        {
          "output_type": "execute_result",
          "data": {
            "text/plain": [
              "18"
            ]
          },
          "metadata": {
            "tags": []
          },
          "execution_count": 207
        }
      ]
    },
    {
      "cell_type": "markdown",
      "metadata": {
        "id": "f1Y-b2dkb15u",
        "colab_type": "text"
      },
      "source": [
        "## Questão 4\n",
        "\n",
        "Aplique o seguinte _pipeline_:\n",
        "\n",
        "1. Preencha as variáveis do tipo `int64` e `float64` com suas respectivas medianas.\n",
        "2. Padronize essas variáveis.\n",
        "\n",
        "Após aplicado o _pipeline_ descrito acima aos dados (somente nas variáveis dos tipos especificados), aplique o mesmo _pipeline_ (ou `ColumnTransformer`) ao dado abaixo. Qual o valor da variável `Arable` após o _pipeline_? Responda como um único float arredondado para três casas decimais."
      ]
    },
    {
      "cell_type": "code",
      "metadata": {
        "id": "u16Lfaqab15u",
        "colab_type": "code",
        "colab": {}
      },
      "source": [
        "test_country = [\n",
        "    'Test Country', 'NEAR EAST', -0.19032480757326514,\n",
        "    -0.3232636124824411, -0.04421734470810142, -0.27528113360605316,\n",
        "    0.13255850810281325, -0.8054845935643491, 1.0119784924248225,\n",
        "    0.6189182532646624, 1.0074863283776458, 0.20239896852403538,\n",
        "    -0.043678728558593366, -0.13929748680369286, 1.3163604645710438,\n",
        "    -0.3699637766938669, -0.6149300604558857, -0.854369594993175,\n",
        "    0.263445277972641, 0.5712416961268142\n",
        "]"
      ],
      "execution_count": null,
      "outputs": []
    },
    {
      "cell_type": "code",
      "metadata": {
        "id": "Sbcibm-QGirm",
        "colab_type": "code",
        "colab": {
          "base_uri": "https://localhost:8080/",
          "height": 326
        },
        "outputId": "8d950606-5e46-4056-c0c3-8618f38d2fc0"
      },
      "source": [
        "#gerando um df só com as variáveis originais\n",
        "dados = paises[countries.columns]\n",
        "dados.head()"
      ],
      "execution_count": null,
      "outputs": [
        {
          "output_type": "execute_result",
          "data": {
            "text/html": [
              "<div>\n",
              "<style scoped>\n",
              "    .dataframe tbody tr th:only-of-type {\n",
              "        vertical-align: middle;\n",
              "    }\n",
              "\n",
              "    .dataframe tbody tr th {\n",
              "        vertical-align: top;\n",
              "    }\n",
              "\n",
              "    .dataframe thead th {\n",
              "        text-align: right;\n",
              "    }\n",
              "</style>\n",
              "<table border=\"1\" class=\"dataframe\">\n",
              "  <thead>\n",
              "    <tr style=\"text-align: right;\">\n",
              "      <th></th>\n",
              "      <th>Country</th>\n",
              "      <th>Region</th>\n",
              "      <th>Population</th>\n",
              "      <th>Area</th>\n",
              "      <th>Pop_density</th>\n",
              "      <th>Coastline_ratio</th>\n",
              "      <th>Net_migration</th>\n",
              "      <th>Infant_mortality</th>\n",
              "      <th>GDP</th>\n",
              "      <th>Literacy</th>\n",
              "      <th>Phones_per_1000</th>\n",
              "      <th>Arable</th>\n",
              "      <th>Crops</th>\n",
              "      <th>Other</th>\n",
              "      <th>Climate</th>\n",
              "      <th>Birthrate</th>\n",
              "      <th>Deathrate</th>\n",
              "      <th>Agriculture</th>\n",
              "      <th>Industry</th>\n",
              "      <th>Service</th>\n",
              "    </tr>\n",
              "  </thead>\n",
              "  <tbody>\n",
              "    <tr>\n",
              "      <th>0</th>\n",
              "      <td>Afghanistan</td>\n",
              "      <td>ASIA (EX. NEAR EAST)</td>\n",
              "      <td>31056997</td>\n",
              "      <td>647500</td>\n",
              "      <td>48.0</td>\n",
              "      <td>0.00</td>\n",
              "      <td>23.06</td>\n",
              "      <td>163.07</td>\n",
              "      <td>700.0</td>\n",
              "      <td>36.0</td>\n",
              "      <td>3.2</td>\n",
              "      <td>12.13</td>\n",
              "      <td>0.22</td>\n",
              "      <td>87.65</td>\n",
              "      <td>1.0</td>\n",
              "      <td>46.60</td>\n",
              "      <td>20.34</td>\n",
              "      <td>0.380</td>\n",
              "      <td>0.240</td>\n",
              "      <td>0.380</td>\n",
              "    </tr>\n",
              "    <tr>\n",
              "      <th>1</th>\n",
              "      <td>Albania</td>\n",
              "      <td>EASTERN EUROPE</td>\n",
              "      <td>3581655</td>\n",
              "      <td>28748</td>\n",
              "      <td>124.6</td>\n",
              "      <td>1.26</td>\n",
              "      <td>-4.93</td>\n",
              "      <td>21.52</td>\n",
              "      <td>4500.0</td>\n",
              "      <td>86.5</td>\n",
              "      <td>71.2</td>\n",
              "      <td>21.09</td>\n",
              "      <td>4.42</td>\n",
              "      <td>74.49</td>\n",
              "      <td>3.0</td>\n",
              "      <td>15.11</td>\n",
              "      <td>5.22</td>\n",
              "      <td>0.232</td>\n",
              "      <td>0.188</td>\n",
              "      <td>0.579</td>\n",
              "    </tr>\n",
              "    <tr>\n",
              "      <th>2</th>\n",
              "      <td>Algeria</td>\n",
              "      <td>NORTHERN AFRICA</td>\n",
              "      <td>32930091</td>\n",
              "      <td>2381740</td>\n",
              "      <td>13.8</td>\n",
              "      <td>0.04</td>\n",
              "      <td>-0.39</td>\n",
              "      <td>31.00</td>\n",
              "      <td>6000.0</td>\n",
              "      <td>70.0</td>\n",
              "      <td>78.1</td>\n",
              "      <td>3.22</td>\n",
              "      <td>0.25</td>\n",
              "      <td>96.53</td>\n",
              "      <td>1.0</td>\n",
              "      <td>17.14</td>\n",
              "      <td>4.61</td>\n",
              "      <td>0.101</td>\n",
              "      <td>0.600</td>\n",
              "      <td>0.298</td>\n",
              "    </tr>\n",
              "    <tr>\n",
              "      <th>3</th>\n",
              "      <td>American Samoa</td>\n",
              "      <td>OCEANIA</td>\n",
              "      <td>57794</td>\n",
              "      <td>199</td>\n",
              "      <td>290.4</td>\n",
              "      <td>58.29</td>\n",
              "      <td>-20.71</td>\n",
              "      <td>9.27</td>\n",
              "      <td>8000.0</td>\n",
              "      <td>97.0</td>\n",
              "      <td>259.5</td>\n",
              "      <td>10.00</td>\n",
              "      <td>15.00</td>\n",
              "      <td>75.00</td>\n",
              "      <td>2.0</td>\n",
              "      <td>22.46</td>\n",
              "      <td>3.27</td>\n",
              "      <td>NaN</td>\n",
              "      <td>NaN</td>\n",
              "      <td>NaN</td>\n",
              "    </tr>\n",
              "    <tr>\n",
              "      <th>4</th>\n",
              "      <td>Andorra</td>\n",
              "      <td>WESTERN EUROPE</td>\n",
              "      <td>71201</td>\n",
              "      <td>468</td>\n",
              "      <td>152.1</td>\n",
              "      <td>0.00</td>\n",
              "      <td>6.60</td>\n",
              "      <td>4.05</td>\n",
              "      <td>19000.0</td>\n",
              "      <td>100.0</td>\n",
              "      <td>497.2</td>\n",
              "      <td>2.22</td>\n",
              "      <td>0.00</td>\n",
              "      <td>97.78</td>\n",
              "      <td>3.0</td>\n",
              "      <td>8.71</td>\n",
              "      <td>6.25</td>\n",
              "      <td>NaN</td>\n",
              "      <td>NaN</td>\n",
              "      <td>NaN</td>\n",
              "    </tr>\n",
              "  </tbody>\n",
              "</table>\n",
              "</div>"
            ],
            "text/plain": [
              "          Country                Region  ...  Industry  Service\n",
              "0     Afghanistan  ASIA (EX. NEAR EAST)  ...     0.240    0.380\n",
              "1         Albania        EASTERN EUROPE  ...     0.188    0.579\n",
              "2         Algeria       NORTHERN AFRICA  ...     0.600    0.298\n",
              "3  American Samoa               OCEANIA  ...       NaN      NaN\n",
              "4         Andorra        WESTERN EUROPE  ...       NaN      NaN\n",
              "\n",
              "[5 rows x 20 columns]"
            ]
          },
          "metadata": {
            "tags": []
          },
          "execution_count": 287
        }
      ]
    },
    {
      "cell_type": "code",
      "metadata": {
        "id": "nDWNnXjeIgkY",
        "colab_type": "code",
        "colab": {}
      },
      "source": [
        "#importando a biblioteca\n",
        "from sklearn.pipeline import Pipeline\n",
        "from sklearn.impute import SimpleImputer\n",
        "from sklearn.preprocessing import StandardScaler"
      ],
      "execution_count": null,
      "outputs": []
    },
    {
      "cell_type": "code",
      "metadata": {
        "id": "YYqWiToRItcD",
        "colab_type": "code",
        "colab": {}
      },
      "source": [
        "#criando o pipeline\n",
        "pipeline = Pipeline(steps=[\n",
        "    (\"imputa\", SimpleImputer(strategy=\"median\")), #substituir os dados faltantes pela mediana\n",
        "    (\"padroniza\", StandardScaler()), #padronizando os dados com o StandardScaler\n",
        "])"
      ],
      "execution_count": null,
      "outputs": []
    },
    {
      "cell_type": "code",
      "metadata": {
        "id": "UkSk_DuRKNmR",
        "colab_type": "code",
        "colab": {
          "base_uri": "https://localhost:8080/",
          "height": 224
        },
        "outputId": "8429da17-4ab1-430a-befe-e7293bafdb04"
      },
      "source": [
        "#separando o dataframe em dois por tipo de dados, usando o select_dtypes\n",
        "paises_numerico = dados.select_dtypes(include=['float64','int64']) #incluindo os dados numéricos\n",
        "paises_categorico = dados.select_dtypes(exclude=['float64','int64']) #excluindo os dados numéricos\n",
        "paises_numerico.head()"
      ],
      "execution_count": null,
      "outputs": [
        {
          "output_type": "execute_result",
          "data": {
            "text/html": [
              "<div>\n",
              "<style scoped>\n",
              "    .dataframe tbody tr th:only-of-type {\n",
              "        vertical-align: middle;\n",
              "    }\n",
              "\n",
              "    .dataframe tbody tr th {\n",
              "        vertical-align: top;\n",
              "    }\n",
              "\n",
              "    .dataframe thead th {\n",
              "        text-align: right;\n",
              "    }\n",
              "</style>\n",
              "<table border=\"1\" class=\"dataframe\">\n",
              "  <thead>\n",
              "    <tr style=\"text-align: right;\">\n",
              "      <th></th>\n",
              "      <th>Population</th>\n",
              "      <th>Area</th>\n",
              "      <th>Pop_density</th>\n",
              "      <th>Coastline_ratio</th>\n",
              "      <th>Net_migration</th>\n",
              "      <th>Infant_mortality</th>\n",
              "      <th>GDP</th>\n",
              "      <th>Literacy</th>\n",
              "      <th>Phones_per_1000</th>\n",
              "      <th>Arable</th>\n",
              "      <th>Crops</th>\n",
              "      <th>Other</th>\n",
              "      <th>Climate</th>\n",
              "      <th>Birthrate</th>\n",
              "      <th>Deathrate</th>\n",
              "      <th>Agriculture</th>\n",
              "      <th>Industry</th>\n",
              "      <th>Service</th>\n",
              "    </tr>\n",
              "  </thead>\n",
              "  <tbody>\n",
              "    <tr>\n",
              "      <th>0</th>\n",
              "      <td>31056997</td>\n",
              "      <td>647500</td>\n",
              "      <td>48.0</td>\n",
              "      <td>0.00</td>\n",
              "      <td>23.06</td>\n",
              "      <td>163.07</td>\n",
              "      <td>700.0</td>\n",
              "      <td>36.0</td>\n",
              "      <td>3.2</td>\n",
              "      <td>12.13</td>\n",
              "      <td>0.22</td>\n",
              "      <td>87.65</td>\n",
              "      <td>1.0</td>\n",
              "      <td>46.60</td>\n",
              "      <td>20.34</td>\n",
              "      <td>0.380</td>\n",
              "      <td>0.240</td>\n",
              "      <td>0.380</td>\n",
              "    </tr>\n",
              "    <tr>\n",
              "      <th>1</th>\n",
              "      <td>3581655</td>\n",
              "      <td>28748</td>\n",
              "      <td>124.6</td>\n",
              "      <td>1.26</td>\n",
              "      <td>-4.93</td>\n",
              "      <td>21.52</td>\n",
              "      <td>4500.0</td>\n",
              "      <td>86.5</td>\n",
              "      <td>71.2</td>\n",
              "      <td>21.09</td>\n",
              "      <td>4.42</td>\n",
              "      <td>74.49</td>\n",
              "      <td>3.0</td>\n",
              "      <td>15.11</td>\n",
              "      <td>5.22</td>\n",
              "      <td>0.232</td>\n",
              "      <td>0.188</td>\n",
              "      <td>0.579</td>\n",
              "    </tr>\n",
              "    <tr>\n",
              "      <th>2</th>\n",
              "      <td>32930091</td>\n",
              "      <td>2381740</td>\n",
              "      <td>13.8</td>\n",
              "      <td>0.04</td>\n",
              "      <td>-0.39</td>\n",
              "      <td>31.00</td>\n",
              "      <td>6000.0</td>\n",
              "      <td>70.0</td>\n",
              "      <td>78.1</td>\n",
              "      <td>3.22</td>\n",
              "      <td>0.25</td>\n",
              "      <td>96.53</td>\n",
              "      <td>1.0</td>\n",
              "      <td>17.14</td>\n",
              "      <td>4.61</td>\n",
              "      <td>0.101</td>\n",
              "      <td>0.600</td>\n",
              "      <td>0.298</td>\n",
              "    </tr>\n",
              "    <tr>\n",
              "      <th>3</th>\n",
              "      <td>57794</td>\n",
              "      <td>199</td>\n",
              "      <td>290.4</td>\n",
              "      <td>58.29</td>\n",
              "      <td>-20.71</td>\n",
              "      <td>9.27</td>\n",
              "      <td>8000.0</td>\n",
              "      <td>97.0</td>\n",
              "      <td>259.5</td>\n",
              "      <td>10.00</td>\n",
              "      <td>15.00</td>\n",
              "      <td>75.00</td>\n",
              "      <td>2.0</td>\n",
              "      <td>22.46</td>\n",
              "      <td>3.27</td>\n",
              "      <td>NaN</td>\n",
              "      <td>NaN</td>\n",
              "      <td>NaN</td>\n",
              "    </tr>\n",
              "    <tr>\n",
              "      <th>4</th>\n",
              "      <td>71201</td>\n",
              "      <td>468</td>\n",
              "      <td>152.1</td>\n",
              "      <td>0.00</td>\n",
              "      <td>6.60</td>\n",
              "      <td>4.05</td>\n",
              "      <td>19000.0</td>\n",
              "      <td>100.0</td>\n",
              "      <td>497.2</td>\n",
              "      <td>2.22</td>\n",
              "      <td>0.00</td>\n",
              "      <td>97.78</td>\n",
              "      <td>3.0</td>\n",
              "      <td>8.71</td>\n",
              "      <td>6.25</td>\n",
              "      <td>NaN</td>\n",
              "      <td>NaN</td>\n",
              "      <td>NaN</td>\n",
              "    </tr>\n",
              "  </tbody>\n",
              "</table>\n",
              "</div>"
            ],
            "text/plain": [
              "   Population     Area  Pop_density  ...  Agriculture  Industry  Service\n",
              "0    31056997   647500         48.0  ...        0.380     0.240    0.380\n",
              "1     3581655    28748        124.6  ...        0.232     0.188    0.579\n",
              "2    32930091  2381740         13.8  ...        0.101     0.600    0.298\n",
              "3       57794      199        290.4  ...          NaN       NaN      NaN\n",
              "4       71201      468        152.1  ...          NaN       NaN      NaN\n",
              "\n",
              "[5 rows x 18 columns]"
            ]
          },
          "metadata": {
            "tags": []
          },
          "execution_count": 294
        }
      ]
    },
    {
      "cell_type": "code",
      "metadata": {
        "id": "Is9rHfuGVqkp",
        "colab_type": "code",
        "colab": {
          "base_uri": "https://localhost:8080/",
          "height": 238
        },
        "outputId": "1dfd9f6c-2850-46ba-f904-999e50465c68"
      },
      "source": [
        "#fazendo o ajuste dos dados no pipeline\n",
        "pipeline.fit_transform(paises_numerico)"
      ],
      "execution_count": null,
      "outputs": [
        {
          "output_type": "execute_result",
          "data": {
            "text/plain": [
              "array([[ 0.01969468,  0.02758332, -0.19984434, ...,  1.63657562,\n",
              "        -0.31540576, -1.1611354 ],\n",
              "       [-0.21387688, -0.31879748, -0.15360296, ...,  0.59516349,\n",
              "        -0.70631815,  0.08342432],\n",
              "       [ 0.03561811,  0.99842051, -0.22048996, ..., -0.32662697,\n",
              "         2.39091078, -1.67396905],\n",
              "       ...,\n",
              "       [-0.06192308, -0.03933023, -0.20431152, ..., -0.08738364,\n",
              "         1.4286649 , -1.0798325 ],\n",
              "       [-0.14654488,  0.08642673, -0.21958445, ...,  0.51072467,\n",
              "         0.06047154, -0.47944188],\n",
              "       [-0.14029829, -0.11624192, -0.20992568, ...,  0.22222537,\n",
              "        -0.29285312,  0.08342432]])"
            ]
          },
          "metadata": {
            "tags": []
          },
          "execution_count": 305
        }
      ]
    },
    {
      "cell_type": "code",
      "metadata": {
        "id": "P64LVGTOWe57",
        "colab_type": "code",
        "colab": {}
      },
      "source": [
        "#aplicando os dados ao teste (a lista test-country)\n",
        "teste = np.array(test_country[2:]).reshape(1,-1)\n",
        "resultado = pipeline.transform(teste)\n"
      ],
      "execution_count": null,
      "outputs": []
    },
    {
      "cell_type": "code",
      "metadata": {
        "id": "fX-KxLCHZE5t",
        "colab_type": "code",
        "colab": {
          "base_uri": "https://localhost:8080/",
          "height": 100
        },
        "outputId": "7503b726-0634-4239-c7a4-ecf1056e410e"
      },
      "source": [
        "#criando um df com as colunas e os resultados\n",
        "teste_DF = pd.DataFrame(resultado, columns=paises_numerico.columns)\n",
        "teste_DF"
      ],
      "execution_count": null,
      "outputs": [
        {
          "output_type": "execute_result",
          "data": {
            "text/html": [
              "<div>\n",
              "<style scoped>\n",
              "    .dataframe tbody tr th:only-of-type {\n",
              "        vertical-align: middle;\n",
              "    }\n",
              "\n",
              "    .dataframe tbody tr th {\n",
              "        vertical-align: top;\n",
              "    }\n",
              "\n",
              "    .dataframe thead th {\n",
              "        text-align: right;\n",
              "    }\n",
              "</style>\n",
              "<table border=\"1\" class=\"dataframe\">\n",
              "  <thead>\n",
              "    <tr style=\"text-align: right;\">\n",
              "      <th></th>\n",
              "      <th>Population</th>\n",
              "      <th>Area</th>\n",
              "      <th>Pop_density</th>\n",
              "      <th>Coastline_ratio</th>\n",
              "      <th>Net_migration</th>\n",
              "      <th>Infant_mortality</th>\n",
              "      <th>GDP</th>\n",
              "      <th>Literacy</th>\n",
              "      <th>Phones_per_1000</th>\n",
              "      <th>Arable</th>\n",
              "      <th>Crops</th>\n",
              "      <th>Other</th>\n",
              "      <th>Climate</th>\n",
              "      <th>Birthrate</th>\n",
              "      <th>Deathrate</th>\n",
              "      <th>Agriculture</th>\n",
              "      <th>Industry</th>\n",
              "      <th>Service</th>\n",
              "    </tr>\n",
              "  </thead>\n",
              "  <tbody>\n",
              "    <tr>\n",
              "      <th>0</th>\n",
              "      <td>-0.244325</td>\n",
              "      <td>-0.334891</td>\n",
              "      <td>-0.228847</td>\n",
              "      <td>-0.29726</td>\n",
              "      <td>0.019591</td>\n",
              "      <td>-1.028617</td>\n",
              "      <td>-0.966233</td>\n",
              "      <td>-4.354272</td>\n",
              "      <td>-1.03721</td>\n",
              "      <td>-1.046857</td>\n",
              "      <td>-0.550581</td>\n",
              "      <td>-5.101122</td>\n",
              "      <td>-1.218122</td>\n",
              "      <td>-2.024552</td>\n",
              "      <td>-1.990921</td>\n",
              "      <td>-7.04915</td>\n",
              "      <td>-0.139155</td>\n",
              "      <td>0.034903</td>\n",
              "    </tr>\n",
              "  </tbody>\n",
              "</table>\n",
              "</div>"
            ],
            "text/plain": [
              "   Population      Area  Pop_density  ...  Agriculture  Industry   Service\n",
              "0   -0.244325 -0.334891    -0.228847  ...     -7.04915 -0.139155  0.034903\n",
              "\n",
              "[1 rows x 18 columns]"
            ]
          },
          "metadata": {
            "tags": []
          },
          "execution_count": 319
        }
      ]
    },
    {
      "cell_type": "code",
      "metadata": {
        "id": "5dVxKTHxZuxd",
        "colab_type": "code",
        "colab": {
          "base_uri": "https://localhost:8080/",
          "height": 34
        },
        "outputId": "88221c0a-11c9-4612-d08a-33d9a4709970"
      },
      "source": [
        "#buscando o dado solicitado\n",
        "teste_DF.Arable.values[0].round(3)"
      ],
      "execution_count": null,
      "outputs": [
        {
          "output_type": "execute_result",
          "data": {
            "text/plain": [
              "-1.047"
            ]
          },
          "metadata": {
            "tags": []
          },
          "execution_count": 320
        }
      ]
    },
    {
      "cell_type": "code",
      "metadata": {
        "id": "dS8C01Nvb15x",
        "colab_type": "code",
        "colab": {}
      },
      "source": [
        "def q4():\n",
        "    return float(teste_DF.Arable.values[0].round(3))"
      ],
      "execution_count": null,
      "outputs": []
    },
    {
      "cell_type": "code",
      "metadata": {
        "id": "tk6XoQhjVmJ5",
        "colab_type": "code",
        "colab": {
          "base_uri": "https://localhost:8080/",
          "height": 34
        },
        "outputId": "feb04b33-2c7b-403f-bf0b-9e52b37dd1ed"
      },
      "source": [
        "q4()"
      ],
      "execution_count": null,
      "outputs": [
        {
          "output_type": "execute_result",
          "data": {
            "text/plain": [
              "-1.047"
            ]
          },
          "metadata": {
            "tags": []
          },
          "execution_count": 324
        }
      ]
    },
    {
      "cell_type": "markdown",
      "metadata": {
        "id": "S0bMcTKKb150",
        "colab_type": "text"
      },
      "source": [
        "## Questão 5\n",
        "\n",
        "Descubra o número de _outliers_ da variável `Net_migration` segundo o método do _boxplot_, ou seja, usando a lógica:\n",
        "\n",
        "$$x \\notin [Q1 - 1.5 \\times \\text{IQR}, Q3 + 1.5 \\times \\text{IQR}] \\Rightarrow x \\text{ é outlier}$$\n",
        "\n",
        "que se encontram no grupo inferior e no grupo superior.\n",
        "\n",
        "Você deveria remover da análise as observações consideradas _outliers_ segundo esse método? Responda como uma tupla de três elementos `(outliers_abaixo, outliers_acima, removeria?)` ((int, int, bool))."
      ]
    },
    {
      "cell_type": "code",
      "metadata": {
        "id": "fDz99W8EZ_S-",
        "colab_type": "code",
        "colab": {
          "base_uri": "https://localhost:8080/",
          "height": 170
        },
        "outputId": "e265cf67-80d5-432b-d9a3-0ec223ec4757"
      },
      "source": [
        "#visualizando os dados via describe\n",
        "net = paises.Net_migration\n",
        "net.describe()"
      ],
      "execution_count": null,
      "outputs": [
        {
          "output_type": "execute_result",
          "data": {
            "text/plain": [
              "count    224.000000\n",
              "mean       0.038125\n",
              "std        4.889269\n",
              "min      -20.990000\n",
              "25%       -0.927500\n",
              "50%        0.000000\n",
              "75%        0.997500\n",
              "max       23.060000\n",
              "Name: Net_migration, dtype: float64"
            ]
          },
          "metadata": {
            "tags": []
          },
          "execution_count": 326
        }
      ]
    },
    {
      "cell_type": "code",
      "metadata": {
        "id": "r8T2rhN3Z_Wb",
        "colab_type": "code",
        "colab": {
          "base_uri": "https://localhost:8080/",
          "height": 498
        },
        "outputId": "d466d338-4871-4a38-dc14-1e8176aad747"
      },
      "source": [
        "#visualizando os dados num boxplot\n",
        "plt.figure(figsize=(12,8))\n",
        "ax = sns.boxplot(net)\n"
      ],
      "execution_count": null,
      "outputs": [
        {
          "output_type": "display_data",
          "data": {
            "image/png": "[encoded data removed]",
            "text/plain": [
              "<Figure size 864x576 with 1 Axes>"
            ]
          },
          "metadata": {
            "tags": [],
            "needs_background": "light"
          }
        }
      ]
    },
    {
      "cell_type": "code",
      "metadata": {
        "id": "-ruq2Oo3Z_au",
        "colab_type": "code",
        "colab": {}
      },
      "source": [
        "#criando as variáveis\n",
        "quartil_1 = net.quantile(0.25)\n",
        "quartil_3 = net.quantile(0.75)\n",
        "IQR = quartil_3 - quartil_1 #também conhecido como intervalo inter quartil\n",
        "#calculando o intervalo inter whiskers\n",
        "int_inf = (quartil_1 - (1.5*IQR))\n",
        "int_sup = (quartil_3 + (1.5*IQR))\n",
        "intervalo = [int_inf, int_sup]\n"
      ],
      "execution_count": null,
      "outputs": []
    },
    {
      "cell_type": "code",
      "metadata": {
        "id": "QK4ORxhacIHg",
        "colab_type": "code",
        "colab": {
          "base_uri": "https://localhost:8080/",
          "height": 34
        },
        "outputId": "fbcf0ca8-45c4-477a-efc0-3a22446cd807"
      },
      "source": [
        "#visualizando o intervalo\n",
        "intervalo"
      ],
      "execution_count": null,
      "outputs": [
        {
          "output_type": "execute_result",
          "data": {
            "text/plain": [
              "[-3.8149999999999995, 3.885]"
            ]
          },
          "metadata": {
            "tags": []
          },
          "execution_count": 332
        }
      ]
    },
    {
      "cell_type": "code",
      "metadata": {
        "id": "GI7XlX62cQtx",
        "colab_type": "code",
        "colab": {
          "base_uri": "https://localhost:8080/",
          "height": 34
        },
        "outputId": "a84b7c62-171b-49e7-8327-9c60bddd1447"
      },
      "source": [
        "#calculando outliers\n",
        "outliers= net[(net < intervalo[0]) | (net > intervalo[1])]\n",
        "len(outliers)\n"
      ],
      "execution_count": null,
      "outputs": [
        {
          "output_type": "execute_result",
          "data": {
            "text/plain": [
              "50"
            ]
          },
          "metadata": {
            "tags": []
          },
          "execution_count": 346
        }
      ]
    },
    {
      "cell_type": "code",
      "metadata": {
        "id": "ujHVrD61iYKL",
        "colab_type": "code",
        "colab": {
          "base_uri": "https://localhost:8080/",
          "height": 34
        },
        "outputId": "811f96d1-c4be-4691-b93b-18e599a290a2"
      },
      "source": [
        "#vendo quantidade de outliers abaixo e acima\n",
        "outliers_abaixo = net[(net < intervalo[0])]\n",
        "outliers_acima = net[(net > intervalo[1])]\n",
        "len(outliers_abaixo), len(outliers_acima)"
      ],
      "execution_count": null,
      "outputs": [
        {
          "output_type": "execute_result",
          "data": {
            "text/plain": [
              "(24, 26)"
            ]
          },
          "metadata": {
            "tags": []
          },
          "execution_count": 365
        }
      ]
    },
    {
      "cell_type": "code",
      "metadata": {
        "id": "HK1HwPlti8LN",
        "colab_type": "code",
        "colab": {
          "base_uri": "https://localhost:8080/",
          "height": 34
        },
        "outputId": "3b8ae479-f744-4088-aadf-e6cbafdfa3e0"
      },
      "source": [
        "#percentual de outliers\n",
        "dados_perdidos = (len(outliers)/paises.shape[0])\n",
        "dados_perdidos"
      ],
      "execution_count": null,
      "outputs": [
        {
          "output_type": "execute_result",
          "data": {
            "text/plain": [
              "0.22026431718061673"
            ]
          },
          "metadata": {
            "tags": []
          },
          "execution_count": 368
        }
      ]
    },
    {
      "cell_type": "code",
      "metadata": {
        "id": "id7wZzRTfdYe",
        "colab_type": "code",
        "colab": {
          "base_uri": "https://localhost:8080/",
          "height": 515
        },
        "outputId": "4a0dd1b1-9c8c-406f-99ba-92d25f6747c0"
      },
      "source": [
        "#visualizando todos os dados da variável num distplot, para ver se o intervalo dado pelo cálculo faz sentido\n",
        "plt.figure(figsize=(12,8))\n",
        "sns.distplot(paises.Net_migration)"
      ],
      "execution_count": null,
      "outputs": [
        {
          "output_type": "execute_result",
          "data": {
            "text/plain": [
              "<matplotlib.axes._subplots.AxesSubplot at 0x7f155d0828d0>"
            ]
          },
          "metadata": {
            "tags": []
          },
          "execution_count": 357
        },
        {
          "output_type": "display_data",
          "data": {
            "image/png": "[encoded data removed]",
            "text/plain": [
              "<Figure size 864x576 with 1 Axes>"
            ]
          },
          "metadata": {
            "tags": [],
            "needs_background": "light"
          }
        }
      ]
    },
    {
      "cell_type": "code",
      "metadata": {
        "id": "cxz7Kmr3eUCV",
        "colab_type": "code",
        "colab": {
          "base_uri": "https://localhost:8080/",
          "height": 34
        },
        "outputId": "aa72b915-77dc-4b5d-9159-cde91a3467d7"
      },
      "source": [
        "#conferindo o percentual dos países que perderíamos se retirassemos os \"outliers\"\n",
        "print (f'Se retirássemos os outliers perderíamos {round(dados_perdidos*100,2)}% dos dados')"
      ],
      "execution_count": null,
      "outputs": [
        {
          "output_type": "stream",
          "text": [
            "Se retirássemos os outliers perderíamos 22.03% dos dados\n"
          ],
          "name": "stdout"
        }
      ]
    },
    {
      "cell_type": "markdown",
      "metadata": {
        "id": "IRUv4anqg37B",
        "colab_type": "text"
      },
      "source": [
        "Um outro jeito de procurar por _outliers_ é ver quem se encontra fora do intervalo $[\\bar{x} - k * \\sigma, \\bar{x} + k * \\sigma]$, onde o $k$ é a quantidade de desvios padrão (geralmente usamos 1.5, 2.0, 2.5 ou até 3.0), o $\\bar{x}$ é a média dos dados e o $\\sigma$ é o desvio padrão. \n",
        "\n",
        "Usaremos o $k= 2$ pq fica próximo dos 95% dos dados numa distribuição normal"
      ]
    },
    {
      "cell_type": "code",
      "metadata": {
        "id": "an2AR7m6hPsZ",
        "colab_type": "code",
        "colab": {
          "base_uri": "https://localhost:8080/",
          "height": 34
        },
        "outputId": "db36b62f-90b4-4f6b-b9f3-5f1c326dc5dc"
      },
      "source": [
        "#usando uma outra métrica para conferir se os dados são efetivamente outliers, incluindo 2 desvios padrão\n",
        "net_media = net.mean()\n",
        "net_std = net.std()\n",
        "net_media,net_std"
      ],
      "execution_count": null,
      "outputs": [
        {
          "output_type": "execute_result",
          "data": {
            "text/plain": [
              "(0.038125, 4.889269211168734)"
            ]
          },
          "metadata": {
            "tags": []
          },
          "execution_count": 378
        }
      ]
    },
    {
      "cell_type": "code",
      "metadata": {
        "id": "IugSpjK6gis8",
        "colab_type": "code",
        "colab": {
          "base_uri": "https://localhost:8080/",
          "height": 34
        },
        "outputId": "0255fd26-60f8-4116-b2ad-ae76f638234e"
      },
      "source": [
        "intervalo_2 = [net_media - 2 * net_std, net_media+ 2 * net_std]\n",
        "#visualizando os dois intervalos\n",
        "intervalo, intervalo_2"
      ],
      "execution_count": null,
      "outputs": [
        {
          "output_type": "execute_result",
          "data": {
            "text/plain": [
              "([-3.8149999999999995, 3.885], [-9.740413422337467, 9.816663422337468])"
            ]
          },
          "metadata": {
            "tags": []
          },
          "execution_count": 379
        }
      ]
    },
    {
      "cell_type": "markdown",
      "metadata": {
        "id": "HiyLkw7ZePJH",
        "colab_type": "text"
      },
      "source": [
        "**CONCLUSÃO: Se excluirmos os outliers pelo método do boxplot perdemos uma quantidade considerável de dados, prejudicando a análise**"
      ]
    },
    {
      "cell_type": "code",
      "metadata": {
        "id": "uHJs2i6cb151",
        "colab_type": "code",
        "colab": {}
      },
      "source": [
        "#defini o limite de dados perdidos em 5% para retornar o booleano\n",
        "def q5():\n",
        "  return tuple((len(outliers_abaixo), len(outliers_acima), dados_perdidos <= 0.05))\n"
      ],
      "execution_count": null,
      "outputs": []
    },
    {
      "cell_type": "code",
      "metadata": {
        "id": "TVhdJI7fjh9r",
        "colab_type": "code",
        "colab": {
          "base_uri": "https://localhost:8080/",
          "height": 34
        },
        "outputId": "4f0afb77-57d3-40b7-f50a-2cef14364dc4"
      },
      "source": [
        "q5()"
      ],
      "execution_count": null,
      "outputs": [
        {
          "output_type": "execute_result",
          "data": {
            "text/plain": [
              "(24, 26, False)"
            ]
          },
          "metadata": {
            "tags": []
          },
          "execution_count": 377
        }
      ]
    },
    {
      "cell_type": "markdown",
      "metadata": {
        "id": "jZ2k1eRSb155",
        "colab_type": "text"
      },
      "source": [
        "## Questão 6\n",
        "Para as questões 6 e 7 utilize a biblioteca `fetch_20newsgroups` de datasets de test do `sklearn`\n",
        "\n",
        "Considere carregar as seguintes categorias e o dataset `newsgroups`:\n",
        "\n",
        "```\n",
        "categories = ['sci.electronics', 'comp.graphics', 'rec.motorcycles']\n",
        "newsgroup = fetch_20newsgroups(subset=\"train\", categories=categories, shuffle=True, random_state=42)\n",
        "```\n",
        "\n",
        "\n",
        "Aplique `CountVectorizer` ao _data set_ `newsgroups` e descubra o número de vezes que a palavra _phone_ aparece no corpus. Responda como um único escalar."
      ]
    },
    {
      "cell_type": "code",
      "metadata": {
        "id": "rJitsN84j6Cs",
        "colab_type": "code",
        "colab": {}
      },
      "source": [
        "#importando as bibliotecas\n",
        "from sklearn.datasets import fetch_20newsgroups\n",
        "from sklearn.feature_extraction.text import CountVectorizer"
      ],
      "execution_count": null,
      "outputs": []
    },
    {
      "cell_type": "code",
      "metadata": {
        "id": "eh7j344aj6GE",
        "colab_type": "code",
        "colab": {
          "base_uri": "https://localhost:8080/",
          "height": 51
        },
        "outputId": "cec47b64-1e0f-4d44-ad90-8fdbc3402543"
      },
      "source": [
        "#carregando as categorias e o dataset (que não é um df padrão do Pandas)\n",
        "categories = ['sci.electronics', 'comp.graphics', 'rec.motorcycles']\n",
        "newsgroup = fetch_20newsgroups(subset=\"train\", categories=categories, shuffle=True, random_state=42)"
      ],
      "execution_count": null,
      "outputs": [
        {
          "output_type": "stream",
          "text": [
            "Downloading 20news dataset. This may take a few minutes.\n",
            "Downloading dataset from https://ndownloader.figshare.com/files/5975967 (14 MB)\n"
          ],
          "name": "stderr"
        }
      ]
    },
    {
      "cell_type": "code",
      "metadata": {
        "id": "rwmprZXbj6Jo",
        "colab_type": "code",
        "colab": {
          "base_uri": "https://localhost:8080/",
          "height": 34
        },
        "outputId": "492b0c1a-be4a-4144-c624-7bcc59255580"
      },
      "source": [
        "#conferindo o tipo da variável newsgroup\n",
        "type(newsgroup)"
      ],
      "execution_count": null,
      "outputs": [
        {
          "output_type": "execute_result",
          "data": {
            "text/plain": [
              "sklearn.utils.Bunch"
            ]
          },
          "metadata": {
            "tags": []
          },
          "execution_count": 388
        }
      ]
    },
    {
      "cell_type": "code",
      "metadata": {
        "id": "iqH5288Dj6NV",
        "colab_type": "code",
        "colab": {}
      },
      "source": [
        "#criando o contador, ajustando e transformando os dados\n",
        "contador = CountVectorizer()\n",
        "contador_news = contador.fit_transform(newsgroup.data)\n",
        "#criando a palavra alvo\n",
        "alvo = u'phone' #o u indica que a string está em unicode"
      ],
      "execution_count": null,
      "outputs": []
    },
    {
      "cell_type": "code",
      "metadata": {
        "id": "dblJhry4myHP",
        "colab_type": "code",
        "colab": {
          "base_uri": "https://localhost:8080/",
          "height": 34
        },
        "outputId": "b0c3db93-35f9-4ec2-adc6-73a221c2a890"
      },
      "source": [
        "#visualizando o tipo de variável que o fit devolve\n",
        "type(contador_news)"
      ],
      "execution_count": null,
      "outputs": [
        {
          "output_type": "execute_result",
          "data": {
            "text/plain": [
              "scipy.sparse.csr.csr_matrix"
            ]
          },
          "metadata": {
            "tags": []
          },
          "execution_count": 407
        }
      ]
    },
    {
      "cell_type": "code",
      "metadata": {
        "id": "eYnqn4B8m6AV",
        "colab_type": "code",
        "colab": {}
      },
      "source": [
        "#buscando no vocabulário do CountVectorizer a palavra phone em lowercase a partir da palavra alvo em unicode \n",
        "phone = contador.vocabulary_.get(f\"{alvo.lower()}\")"
      ],
      "execution_count": null,
      "outputs": []
    },
    {
      "cell_type": "code",
      "metadata": {
        "id": "-XUXb0asnamp",
        "colab_type": "code",
        "colab": {
          "base_uri": "https://localhost:8080/",
          "height": 34
        },
        "outputId": "8caef852-b712-4366-a3d4-61344c151151"
      },
      "source": [
        "#somando as ocorrências\n",
        "contador_news[:,phone].sum()"
      ],
      "execution_count": null,
      "outputs": [
        {
          "output_type": "execute_result",
          "data": {
            "text/plain": [
              "213"
            ]
          },
          "metadata": {
            "tags": []
          },
          "execution_count": 409
        }
      ]
    },
    {
      "cell_type": "code",
      "metadata": {
        "id": "wtTkmSUKb156",
        "colab_type": "code",
        "colab": {}
      },
      "source": [
        "def q6():\n",
        "    return int(contador_news[:,phone].sum())"
      ],
      "execution_count": null,
      "outputs": []
    },
    {
      "cell_type": "code",
      "metadata": {
        "id": "EjzjtZLwo-hi",
        "colab_type": "code",
        "colab": {
          "base_uri": "https://localhost:8080/",
          "height": 34
        },
        "outputId": "e28a8192-fbdd-47dc-c28c-6c0176fd0120"
      },
      "source": [
        "q6()"
      ],
      "execution_count": null,
      "outputs": [
        {
          "output_type": "execute_result",
          "data": {
            "text/plain": [
              "213"
            ]
          },
          "metadata": {
            "tags": []
          },
          "execution_count": 411
        }
      ]
    },
    {
      "cell_type": "markdown",
      "metadata": {
        "id": "hgPdaODLb158",
        "colab_type": "text"
      },
      "source": [
        "## Questão 7\n",
        "\n",
        "Aplique `TfidfVectorizer` ao _data set_ `newsgroups` e descubra o TF-IDF da palavra _phone_. Responda como um único escalar arredondado para três casas decimais."
      ]
    },
    {
      "cell_type": "code",
      "metadata": {
        "id": "D9er8oHnpJ75",
        "colab_type": "code",
        "colab": {}
      },
      "source": [
        "#Obtendo a matriz de dados usando o TfidfVectorizer\n",
        "from sklearn.feature_extraction.text import TfidfVectorizer"
      ],
      "execution_count": null,
      "outputs": []
    },
    {
      "cell_type": "code",
      "metadata": {
        "id": "3DnrsjiRpJ_h",
        "colab_type": "code",
        "colab": {
          "base_uri": "https://localhost:8080/",
          "height": 34
        },
        "outputId": "07bb4ba2-bcca-4bce-9b26-b68a5676fccb"
      },
      "source": [
        "#aplicando  e ajustando aos dados\n",
        "tfidf = TfidfVectorizer()\n",
        "newsgroup_tfidf = tfidf.fit_transform(newsgroup.data)\n",
        "type(newsgroup_tfidf)"
      ],
      "execution_count": null,
      "outputs": [
        {
          "output_type": "execute_result",
          "data": {
            "text/plain": [
              "scipy.sparse.csr.csr_matrix"
            ]
          },
          "metadata": {
            "tags": []
          },
          "execution_count": 425
        }
      ]
    },
    {
      "cell_type": "code",
      "metadata": {
        "id": "k2_afWG0qZ7Q",
        "colab_type": "code",
        "colab": {
          "base_uri": "https://localhost:8080/",
          "height": 34
        },
        "outputId": "f29637ff-a4ec-4c1d-ffa4-e63d1f2f63c7"
      },
      "source": [
        "#buscando por phone (meu alvo criado na questão anterior) usando o método get_feature_names() do vetorizador\n",
        "palavra = tfidf.get_feature_names().index(alvo)\n",
        "palavra"
      ],
      "execution_count": null,
      "outputs": [
        {
          "output_type": "execute_result",
          "data": {
            "text/plain": [
              "19211"
            ]
          },
          "metadata": {
            "tags": []
          },
          "execution_count": 441
        }
      ]
    },
    {
      "cell_type": "code",
      "metadata": {
        "id": "OERt4WQXs-jK",
        "colab_type": "code",
        "colab": {
          "base_uri": "https://localhost:8080/",
          "height": 34
        },
        "outputId": "bec86381-d899-4749-d563-5df0207a2340"
      },
      "source": [
        "#aplicando o mesmo método do CountVectorizer para buscar a relevância da palavra phone\n",
        "tf_idf_phone = round(newsgroup_tfidf[:,palavra].sum(), 3)\n",
        "tf_idf_phone"
      ],
      "execution_count": null,
      "outputs": [
        {
          "output_type": "execute_result",
          "data": {
            "text/plain": [
              "8.888"
            ]
          },
          "metadata": {
            "tags": []
          },
          "execution_count": 438
        }
      ]
    },
    {
      "cell_type": "code",
      "metadata": {
        "id": "VFNxwQ0-b159",
        "colab_type": "code",
        "colab": {}
      },
      "source": [
        "def q7():\n",
        "  return float(tf_idf_phone)\n"
      ],
      "execution_count": null,
      "outputs": []
    }
  ]
}