{
  "nbformat": 4,
  "nbformat_minor": 0,
  "metadata": {
    "kernelspec": {
      "display_name": "Python 3",
      "language": "python",
      "name": "python3"
    },
    "language_info": {
      "codemirror_mode": {
        "name": "ipython",
        "version": 3
      },
      "file_extension": ".py",
      "mimetype": "text/x-python",
      "name": "python",
      "nbconvert_exporter": "python",
      "pygments_lexer": "ipython3",
      "version": "3.7.7"
    },
    "colab": {
      "name": "main.ipynb",
      "provenance": [],
      "include_colab_link": true
    }
  },
  "cells": [
    {
      "cell_type": "markdown",
      "metadata": {
        "id": "view-in-github",
        "colab_type": "text"
      },
      "source": [
        "<a href=\"https://colab.research.google.com/github/ClarisseAlvarenga/codenation_aceleradev_ds/blob/master/main.ipynb\" target=\"_parent\"><img src=\"https://colab.research.google.com/assets/colab-badge.svg\" alt=\"Open In Colab\"/></a>"
      ]
    },
    {
      "cell_type": "markdown",
      "metadata": {
        "id": "iEmJOhANsEIH",
        "colab_type": "text"
      },
      "source": [
        "# Desafio 1\n",
        "\n",
        "Para esse desafio, vamos trabalhar com o data set [Black Friday](https://www.kaggle.com/mehdidag/black-friday), que reúne dados sobre transações de compras em uma loja de varejo.\n",
        "\n",
        "Vamos utilizá-lo para praticar a exploração de data sets utilizando pandas. Você pode fazer toda análise neste mesmo notebook, mas as resposta devem estar nos locais indicados.\n",
        "\n",
        "> Obs.: Por favor, não modifique o nome das funções de resposta."
      ]
    },
    {
      "cell_type": "markdown",
      "metadata": {
        "id": "VrgdTB4AsEIJ",
        "colab_type": "text"
      },
      "source": [
        "## _Set up_ da análise"
      ]
    },
    {
      "cell_type": "code",
      "metadata": {
        "id": "BLtU-aSxsEIK",
        "colab_type": "code",
        "colab": {}
      },
      "source": [
        "import pandas as pd\n",
        "import numpy as np"
      ],
      "execution_count": 1,
      "outputs": []
    },
    {
      "cell_type": "code",
      "metadata": {
        "id": "HLipyZFEsEIO",
        "colab_type": "code",
        "colab": {}
      },
      "source": [
        "black_friday = pd.read_csv(\"black_friday.csv\")"
      ],
      "execution_count": 2,
      "outputs": []
    },
    {
      "cell_type": "markdown",
      "metadata": {
        "id": "4oXlBvfSsEIR",
        "colab_type": "text"
      },
      "source": [
        "## Inicie sua análise a partir daqui"
      ]
    },
    {
      "cell_type": "code",
      "metadata": {
        "id": "NdgVx0JfsEIS",
        "colab_type": "code",
        "colab": {
          "base_uri": "https://localhost:8080/",
          "height": 204
        },
        "outputId": "6c9f3d1f-8d8f-491f-fdb3-b79d9d320d57"
      },
      "source": [
        "black_friday.head()"
      ],
      "execution_count": 3,
      "outputs": [
        {
          "output_type": "execute_result",
          "data": {
            "text/html": [
              "<div>\n",
              "<style scoped>\n",
              "    .dataframe tbody tr th:only-of-type {\n",
              "        vertical-align: middle;\n",
              "    }\n",
              "\n",
              "    .dataframe tbody tr th {\n",
              "        vertical-align: top;\n",
              "    }\n",
              "\n",
              "    .dataframe thead th {\n",
              "        text-align: right;\n",
              "    }\n",
              "</style>\n",
              "<table border=\"1\" class=\"dataframe\">\n",
              "  <thead>\n",
              "    <tr style=\"text-align: right;\">\n",
              "      <th></th>\n",
              "      <th>User_ID</th>\n",
              "      <th>Product_ID</th>\n",
              "      <th>Gender</th>\n",
              "      <th>Age</th>\n",
              "      <th>Occupation</th>\n",
              "      <th>City_Category</th>\n",
              "      <th>Stay_In_Current_City_Years</th>\n",
              "      <th>Marital_Status</th>\n",
              "      <th>Product_Category_1</th>\n",
              "      <th>Product_Category_2</th>\n",
              "      <th>Product_Category_3</th>\n",
              "      <th>Purchase</th>\n",
              "    </tr>\n",
              "  </thead>\n",
              "  <tbody>\n",
              "    <tr>\n",
              "      <th>0</th>\n",
              "      <td>1000001</td>\n",
              "      <td>P00069042</td>\n",
              "      <td>F</td>\n",
              "      <td>0-17</td>\n",
              "      <td>10</td>\n",
              "      <td>A</td>\n",
              "      <td>2</td>\n",
              "      <td>0</td>\n",
              "      <td>3</td>\n",
              "      <td>NaN</td>\n",
              "      <td>NaN</td>\n",
              "      <td>8370</td>\n",
              "    </tr>\n",
              "    <tr>\n",
              "      <th>1</th>\n",
              "      <td>1000001</td>\n",
              "      <td>P00248942</td>\n",
              "      <td>F</td>\n",
              "      <td>0-17</td>\n",
              "      <td>10</td>\n",
              "      <td>A</td>\n",
              "      <td>2</td>\n",
              "      <td>0</td>\n",
              "      <td>1</td>\n",
              "      <td>6.0</td>\n",
              "      <td>14.0</td>\n",
              "      <td>15200</td>\n",
              "    </tr>\n",
              "    <tr>\n",
              "      <th>2</th>\n",
              "      <td>1000001</td>\n",
              "      <td>P00087842</td>\n",
              "      <td>F</td>\n",
              "      <td>0-17</td>\n",
              "      <td>10</td>\n",
              "      <td>A</td>\n",
              "      <td>2</td>\n",
              "      <td>0</td>\n",
              "      <td>12</td>\n",
              "      <td>NaN</td>\n",
              "      <td>NaN</td>\n",
              "      <td>1422</td>\n",
              "    </tr>\n",
              "    <tr>\n",
              "      <th>3</th>\n",
              "      <td>1000001</td>\n",
              "      <td>P00085442</td>\n",
              "      <td>F</td>\n",
              "      <td>0-17</td>\n",
              "      <td>10</td>\n",
              "      <td>A</td>\n",
              "      <td>2</td>\n",
              "      <td>0</td>\n",
              "      <td>12</td>\n",
              "      <td>14.0</td>\n",
              "      <td>NaN</td>\n",
              "      <td>1057</td>\n",
              "    </tr>\n",
              "    <tr>\n",
              "      <th>4</th>\n",
              "      <td>1000002</td>\n",
              "      <td>P00285442</td>\n",
              "      <td>M</td>\n",
              "      <td>55+</td>\n",
              "      <td>16</td>\n",
              "      <td>C</td>\n",
              "      <td>4+</td>\n",
              "      <td>0</td>\n",
              "      <td>8</td>\n",
              "      <td>NaN</td>\n",
              "      <td>NaN</td>\n",
              "      <td>7969</td>\n",
              "    </tr>\n",
              "  </tbody>\n",
              "</table>\n",
              "</div>"
            ],
            "text/plain": [
              "   User_ID Product_ID Gender  ... Product_Category_2  Product_Category_3 Purchase\n",
              "0  1000001  P00069042      F  ...                NaN                 NaN     8370\n",
              "1  1000001  P00248942      F  ...                6.0                14.0    15200\n",
              "2  1000001  P00087842      F  ...                NaN                 NaN     1422\n",
              "3  1000001  P00085442      F  ...               14.0                 NaN     1057\n",
              "4  1000002  P00285442      M  ...                NaN                 NaN     7969\n",
              "\n",
              "[5 rows x 12 columns]"
            ]
          },
          "metadata": {
            "tags": []
          },
          "execution_count": 3
        }
      ]
    },
    {
      "cell_type": "code",
      "metadata": {
        "id": "zhcdSo9SsEIV",
        "colab_type": "code",
        "colab": {
          "base_uri": "https://localhost:8080/",
          "height": 34
        },
        "outputId": "5dce9b41-b216-4501-8a3f-77c5a2c40493"
      },
      "source": [
        "black_friday.shape"
      ],
      "execution_count": 4,
      "outputs": [
        {
          "output_type": "execute_result",
          "data": {
            "text/plain": [
              "(361391, 12)"
            ]
          },
          "metadata": {
            "tags": []
          },
          "execution_count": 4
        }
      ]
    },
    {
      "cell_type": "code",
      "metadata": {
        "id": "D-ovxQmUsEIY",
        "colab_type": "code",
        "colab": {
          "base_uri": "https://localhost:8080/",
          "height": 85
        },
        "outputId": "7429b48d-351b-487c-ecee-132044e0bf4b"
      },
      "source": [
        "#conferindo as colunas\n",
        "black_friday.columns"
      ],
      "execution_count": 5,
      "outputs": [
        {
          "output_type": "execute_result",
          "data": {
            "text/plain": [
              "Index(['User_ID', 'Product_ID', 'Gender', 'Age', 'Occupation', 'City_Category',\n",
              "       'Stay_In_Current_City_Years', 'Marital_Status', 'Product_Category_1',\n",
              "       'Product_Category_2', 'Product_Category_3', 'Purchase'],\n",
              "      dtype='object')"
            ]
          },
          "metadata": {
            "tags": []
          },
          "execution_count": 5
        }
      ]
    },
    {
      "cell_type": "code",
      "metadata": {
        "id": "JnPim4znsEIa",
        "colab_type": "code",
        "colab": {
          "base_uri": "https://localhost:8080/",
          "height": 238
        },
        "outputId": "679d20dd-61a4-42f6-8ee6-ad9914f3ca95"
      },
      "source": [
        "#conferindo os tipos de variável nas colunas\n",
        "black_friday.dtypes"
      ],
      "execution_count": 6,
      "outputs": [
        {
          "output_type": "execute_result",
          "data": {
            "text/plain": [
              "User_ID                         int64\n",
              "Product_ID                     object\n",
              "Gender                         object\n",
              "Age                            object\n",
              "Occupation                      int64\n",
              "City_Category                  object\n",
              "Stay_In_Current_City_Years     object\n",
              "Marital_Status                  int64\n",
              "Product_Category_1              int64\n",
              "Product_Category_2            float64\n",
              "Product_Category_3            float64\n",
              "Purchase                        int64\n",
              "dtype: object"
            ]
          },
          "metadata": {
            "tags": []
          },
          "execution_count": 6
        }
      ]
    },
    {
      "cell_type": "code",
      "metadata": {
        "id": "3kpDjLR4sEId",
        "colab_type": "code",
        "colab": {
          "base_uri": "https://localhost:8080/",
          "height": 340
        },
        "outputId": "fffc301b-bce2-4a11-cc8d-ab8c89f1c4c5"
      },
      "source": [
        "#conferindo os dados gerais do DF\n",
        "black_friday.info()"
      ],
      "execution_count": 7,
      "outputs": [
        {
          "output_type": "stream",
          "text": [
            "<class 'pandas.core.frame.DataFrame'>\n",
            "RangeIndex: 361391 entries, 0 to 361390\n",
            "Data columns (total 12 columns):\n",
            " #   Column                      Non-Null Count   Dtype  \n",
            "---  ------                      --------------   -----  \n",
            " 0   User_ID                     361391 non-null  int64  \n",
            " 1   Product_ID                  361391 non-null  object \n",
            " 2   Gender                      361391 non-null  object \n",
            " 3   Age                         361391 non-null  object \n",
            " 4   Occupation                  361391 non-null  int64  \n",
            " 5   City_Category               361391 non-null  object \n",
            " 6   Stay_In_Current_City_Years  361391 non-null  object \n",
            " 7   Marital_Status              361391 non-null  int64  \n",
            " 8   Product_Category_1          361391 non-null  int64  \n",
            " 9   Product_Category_2          249424 non-null  float64\n",
            " 10  Product_Category_3          110750 non-null  float64\n",
            " 11  Purchase                    361391 non-null  int64  \n",
            "dtypes: float64(2), int64(5), object(5)\n",
            "memory usage: 33.1+ MB\n"
          ],
          "name": "stdout"
        }
      ]
    },
    {
      "cell_type": "code",
      "metadata": {
        "id": "_21NaQ0EsEIh",
        "colab_type": "code",
        "colab": {
          "base_uri": "https://localhost:8080/",
          "height": 204
        },
        "outputId": "a9379809-1140-4598-f145-1b80b3db75a4"
      },
      "source": [
        "#criando um novo DF para mexer sem estragar\n",
        "dados = black_friday.copy()\n",
        "dados.head()"
      ],
      "execution_count": 60,
      "outputs": [
        {
          "output_type": "execute_result",
          "data": {
            "text/html": [
              "<div>\n",
              "<style scoped>\n",
              "    .dataframe tbody tr th:only-of-type {\n",
              "        vertical-align: middle;\n",
              "    }\n",
              "\n",
              "    .dataframe tbody tr th {\n",
              "        vertical-align: top;\n",
              "    }\n",
              "\n",
              "    .dataframe thead th {\n",
              "        text-align: right;\n",
              "    }\n",
              "</style>\n",
              "<table border=\"1\" class=\"dataframe\">\n",
              "  <thead>\n",
              "    <tr style=\"text-align: right;\">\n",
              "      <th></th>\n",
              "      <th>User_ID</th>\n",
              "      <th>Product_ID</th>\n",
              "      <th>Gender</th>\n",
              "      <th>Age</th>\n",
              "      <th>Occupation</th>\n",
              "      <th>City_Category</th>\n",
              "      <th>Stay_In_Current_City_Years</th>\n",
              "      <th>Marital_Status</th>\n",
              "      <th>Product_Category_1</th>\n",
              "      <th>Product_Category_2</th>\n",
              "      <th>Product_Category_3</th>\n",
              "      <th>Purchase</th>\n",
              "    </tr>\n",
              "  </thead>\n",
              "  <tbody>\n",
              "    <tr>\n",
              "      <th>0</th>\n",
              "      <td>1000001</td>\n",
              "      <td>P00069042</td>\n",
              "      <td>F</td>\n",
              "      <td>0-17</td>\n",
              "      <td>10</td>\n",
              "      <td>A</td>\n",
              "      <td>2</td>\n",
              "      <td>0</td>\n",
              "      <td>3</td>\n",
              "      <td>NaN</td>\n",
              "      <td>NaN</td>\n",
              "      <td>8370</td>\n",
              "    </tr>\n",
              "    <tr>\n",
              "      <th>1</th>\n",
              "      <td>1000001</td>\n",
              "      <td>P00248942</td>\n",
              "      <td>F</td>\n",
              "      <td>0-17</td>\n",
              "      <td>10</td>\n",
              "      <td>A</td>\n",
              "      <td>2</td>\n",
              "      <td>0</td>\n",
              "      <td>1</td>\n",
              "      <td>6.0</td>\n",
              "      <td>14.0</td>\n",
              "      <td>15200</td>\n",
              "    </tr>\n",
              "    <tr>\n",
              "      <th>2</th>\n",
              "      <td>1000001</td>\n",
              "      <td>P00087842</td>\n",
              "      <td>F</td>\n",
              "      <td>0-17</td>\n",
              "      <td>10</td>\n",
              "      <td>A</td>\n",
              "      <td>2</td>\n",
              "      <td>0</td>\n",
              "      <td>12</td>\n",
              "      <td>NaN</td>\n",
              "      <td>NaN</td>\n",
              "      <td>1422</td>\n",
              "    </tr>\n",
              "    <tr>\n",
              "      <th>3</th>\n",
              "      <td>1000001</td>\n",
              "      <td>P00085442</td>\n",
              "      <td>F</td>\n",
              "      <td>0-17</td>\n",
              "      <td>10</td>\n",
              "      <td>A</td>\n",
              "      <td>2</td>\n",
              "      <td>0</td>\n",
              "      <td>12</td>\n",
              "      <td>14.0</td>\n",
              "      <td>NaN</td>\n",
              "      <td>1057</td>\n",
              "    </tr>\n",
              "    <tr>\n",
              "      <th>4</th>\n",
              "      <td>1000002</td>\n",
              "      <td>P00285442</td>\n",
              "      <td>M</td>\n",
              "      <td>55+</td>\n",
              "      <td>16</td>\n",
              "      <td>C</td>\n",
              "      <td>4+</td>\n",
              "      <td>0</td>\n",
              "      <td>8</td>\n",
              "      <td>NaN</td>\n",
              "      <td>NaN</td>\n",
              "      <td>7969</td>\n",
              "    </tr>\n",
              "  </tbody>\n",
              "</table>\n",
              "</div>"
            ],
            "text/plain": [
              "   User_ID Product_ID Gender  ... Product_Category_2  Product_Category_3 Purchase\n",
              "0  1000001  P00069042      F  ...                NaN                 NaN     8370\n",
              "1  1000001  P00248942      F  ...                6.0                14.0    15200\n",
              "2  1000001  P00087842      F  ...                NaN                 NaN     1422\n",
              "3  1000001  P00085442      F  ...               14.0                 NaN     1057\n",
              "4  1000002  P00285442      M  ...                NaN                 NaN     7969\n",
              "\n",
              "[5 rows x 12 columns]"
            ]
          },
          "metadata": {
            "tags": []
          },
          "execution_count": 60
        }
      ]
    },
    {
      "cell_type": "markdown",
      "metadata": {
        "id": "Jp6xrGqWsEIk",
        "colab_type": "text"
      },
      "source": [
        "### Questão 1: Quantas observações e quantas colunas há no dataset? Responda no formato de uma tuple (n_observacoes, n_colunas)."
      ]
    },
    {
      "cell_type": "code",
      "metadata": {
        "id": "5bpARzcMsEIk",
        "colab_type": "code",
        "colab": {
          "base_uri": "https://localhost:8080/",
          "height": 34
        },
        "outputId": "e922f9f7-5e5e-4588-902f-77f38ab99b64"
      },
      "source": [
        "#usando o shape do pandas\n",
        "dados.shape"
      ],
      "execution_count": 9,
      "outputs": [
        {
          "output_type": "execute_result",
          "data": {
            "text/plain": [
              "(361391, 12)"
            ]
          },
          "metadata": {
            "tags": []
          },
          "execution_count": 9
        }
      ]
    },
    {
      "cell_type": "markdown",
      "metadata": {
        "id": "W3_2pIsYsEIn",
        "colab_type": "text"
      },
      "source": [
        "### Questão 2: Há quantas mulheres com idade entre 26 e 35 anos no dataset? Responda como um único escalar."
      ]
    },
    {
      "cell_type": "code",
      "metadata": {
        "id": "sZQ_rSYxsEIn",
        "colab_type": "code",
        "colab": {
          "base_uri": "https://localhost:8080/",
          "height": 68
        },
        "outputId": "16d04f08-45b2-446a-e28b-2e54285ffd09"
      },
      "source": [
        "#verificando qual a porcentagem de mulheres e homens, just because\n",
        "#o dataset tem aproximadamente 75% de homens e 25% de mulheres\n",
        "dados['Gender'].value_counts(normalize=True)"
      ],
      "execution_count": 10,
      "outputs": [
        {
          "output_type": "execute_result",
          "data": {
            "text/plain": [
              "M    0.753716\n",
              "F    0.246284\n",
              "Name: Gender, dtype: float64"
            ]
          },
          "metadata": {
            "tags": []
          },
          "execution_count": 10
        }
      ]
    },
    {
      "cell_type": "code",
      "metadata": {
        "id": "KFbI_PCXsEIq",
        "colab_type": "code",
        "colab": {
          "base_uri": "https://localhost:8080/",
          "height": 51
        },
        "outputId": "aa7313d7-c3ea-48a1-d4b5-b1c614c0bb81"
      },
      "source": [
        "#conferindo os tipos de Age\n",
        "dados['Age'].unique()"
      ],
      "execution_count": 11,
      "outputs": [
        {
          "output_type": "execute_result",
          "data": {
            "text/plain": [
              "array(['0-17', '55+', '26-35', '46-50', '51-55', '36-45', '18-25'],\n",
              "      dtype=object)"
            ]
          },
          "metadata": {
            "tags": []
          },
          "execution_count": 11
        }
      ]
    },
    {
      "cell_type": "code",
      "metadata": {
        "id": "e5ZnWImLsEIt",
        "colab_type": "code",
        "colab": {
          "base_uri": "https://localhost:8080/",
          "height": 34
        },
        "outputId": "a0ded822-611c-419d-9313-808c140449fa"
      },
      "source": [
        "#fazendo uma query do Pandas\n",
        "mulheres_jovens = dados.query(\"Gender == 'F' and Age == '26-35'\")\n",
        "mulheres_jovens.shape[0]"
      ],
      "execution_count": 12,
      "outputs": [
        {
          "output_type": "execute_result",
          "data": {
            "text/plain": [
              "33249"
            ]
          },
          "metadata": {
            "tags": []
          },
          "execution_count": 12
        }
      ]
    },
    {
      "cell_type": "code",
      "metadata": {
        "id": "BwFFjzWSsEIv",
        "colab_type": "code",
        "colab": {
          "base_uri": "https://localhost:8080/",
          "height": 34
        },
        "outputId": "2b20fd09-1bfd-496d-9050-aa6048088695"
      },
      "source": [
        "#incluindo a resposta numa variável\n",
        "r2 = int(mulheres_jovens.shape[0])\n",
        "r2"
      ],
      "execution_count": 61,
      "outputs": [
        {
          "output_type": "execute_result",
          "data": {
            "text/plain": [
              "33249"
            ]
          },
          "metadata": {
            "tags": []
          },
          "execution_count": 61
        }
      ]
    },
    {
      "cell_type": "markdown",
      "metadata": {
        "id": "59r8E3hqsEIy",
        "colab_type": "text"
      },
      "source": [
        "### Questão 3: Quantos usuários únicos há no dataset? Responda como um único escalar."
      ]
    },
    {
      "cell_type": "code",
      "metadata": {
        "id": "9kAVau2ZsEIy",
        "colab_type": "code",
        "colab": {
          "base_uri": "https://localhost:8080/",
          "height": 34
        },
        "outputId": "4c55dd1b-800c-4bf9-d412-1f430ad1bc6f"
      },
      "source": [
        "#somando os usuários únicos usando a função nunique do pandas na coluna User_ID\n",
        "#dados['User_ID'].nunique()\n",
        "#colocando a resposta numa variável\n",
        "r3 = int(dados['User_ID'].nunique())\n",
        "r3"
      ],
      "execution_count": 62,
      "outputs": [
        {
          "output_type": "execute_result",
          "data": {
            "text/plain": [
              "5891"
            ]
          },
          "metadata": {
            "tags": []
          },
          "execution_count": 62
        }
      ]
    },
    {
      "cell_type": "markdown",
      "metadata": {
        "id": "yVzvezjnsEI1",
        "colab_type": "text"
      },
      "source": [
        "### Questão 4: Quantos tipos de dados diferentes existem no dataset? Responda como um único escalar."
      ]
    },
    {
      "cell_type": "code",
      "metadata": {
        "id": "-q_lLB6AsEI1",
        "colab_type": "code",
        "colab": {
          "base_uri": "https://localhost:8080/",
          "height": 34
        },
        "outputId": "67976559-5b8a-4a54-ab4c-9dda1db528da"
      },
      "source": [
        "#tentando usar o nunique com o dtypes\n",
        "dados.dtypes.nunique()"
      ],
      "execution_count": 15,
      "outputs": [
        {
          "output_type": "execute_result",
          "data": {
            "text/plain": [
              "3"
            ]
          },
          "metadata": {
            "tags": []
          },
          "execution_count": 15
        }
      ]
    },
    {
      "cell_type": "code",
      "metadata": {
        "id": "d5vlBk5xsEI4",
        "colab_type": "code",
        "colab": {
          "base_uri": "https://localhost:8080/",
          "height": 34
        },
        "outputId": "125f1fef-0cd6-430f-e494-ff87f3b5e4eb"
      },
      "source": [
        "#incluindo numa variável\n",
        "r4 = int(dados.dtypes.nunique())\n",
        "r4"
      ],
      "execution_count": 63,
      "outputs": [
        {
          "output_type": "execute_result",
          "data": {
            "text/plain": [
              "3"
            ]
          },
          "metadata": {
            "tags": []
          },
          "execution_count": 63
        }
      ]
    },
    {
      "cell_type": "markdown",
      "metadata": {
        "id": "qBr0MPQosEI6",
        "colab_type": "text"
      },
      "source": [
        "### Questão 5: Qual porcentagem dos registros possui ao menos um valor null (None, ǸaN etc)? Responda como um único escalar entre 0 e 1."
      ]
    },
    {
      "cell_type": "code",
      "metadata": {
        "id": "uGMq0xTNsEI7",
        "colab_type": "code",
        "colab": {
          "base_uri": "https://localhost:8080/",
          "height": 419
        },
        "outputId": "f4e7aeda-1819-423a-b746-4dec6cee0e38"
      },
      "source": [
        "#vamos ver um trem aqui\n",
        "dados.isna()"
      ],
      "execution_count": 17,
      "outputs": [
        {
          "output_type": "execute_result",
          "data": {
            "text/html": [
              "<div>\n",
              "<style scoped>\n",
              "    .dataframe tbody tr th:only-of-type {\n",
              "        vertical-align: middle;\n",
              "    }\n",
              "\n",
              "    .dataframe tbody tr th {\n",
              "        vertical-align: top;\n",
              "    }\n",
              "\n",
              "    .dataframe thead th {\n",
              "        text-align: right;\n",
              "    }\n",
              "</style>\n",
              "<table border=\"1\" class=\"dataframe\">\n",
              "  <thead>\n",
              "    <tr style=\"text-align: right;\">\n",
              "      <th></th>\n",
              "      <th>User_ID</th>\n",
              "      <th>Product_ID</th>\n",
              "      <th>Gender</th>\n",
              "      <th>Age</th>\n",
              "      <th>Occupation</th>\n",
              "      <th>City_Category</th>\n",
              "      <th>Stay_In_Current_City_Years</th>\n",
              "      <th>Marital_Status</th>\n",
              "      <th>Product_Category_1</th>\n",
              "      <th>Product_Category_2</th>\n",
              "      <th>Product_Category_3</th>\n",
              "      <th>Purchase</th>\n",
              "    </tr>\n",
              "  </thead>\n",
              "  <tbody>\n",
              "    <tr>\n",
              "      <th>0</th>\n",
              "      <td>False</td>\n",
              "      <td>False</td>\n",
              "      <td>False</td>\n",
              "      <td>False</td>\n",
              "      <td>False</td>\n",
              "      <td>False</td>\n",
              "      <td>False</td>\n",
              "      <td>False</td>\n",
              "      <td>False</td>\n",
              "      <td>True</td>\n",
              "      <td>True</td>\n",
              "      <td>False</td>\n",
              "    </tr>\n",
              "    <tr>\n",
              "      <th>1</th>\n",
              "      <td>False</td>\n",
              "      <td>False</td>\n",
              "      <td>False</td>\n",
              "      <td>False</td>\n",
              "      <td>False</td>\n",
              "      <td>False</td>\n",
              "      <td>False</td>\n",
              "      <td>False</td>\n",
              "      <td>False</td>\n",
              "      <td>False</td>\n",
              "      <td>False</td>\n",
              "      <td>False</td>\n",
              "    </tr>\n",
              "    <tr>\n",
              "      <th>2</th>\n",
              "      <td>False</td>\n",
              "      <td>False</td>\n",
              "      <td>False</td>\n",
              "      <td>False</td>\n",
              "      <td>False</td>\n",
              "      <td>False</td>\n",
              "      <td>False</td>\n",
              "      <td>False</td>\n",
              "      <td>False</td>\n",
              "      <td>True</td>\n",
              "      <td>True</td>\n",
              "      <td>False</td>\n",
              "    </tr>\n",
              "    <tr>\n",
              "      <th>3</th>\n",
              "      <td>False</td>\n",
              "      <td>False</td>\n",
              "      <td>False</td>\n",
              "      <td>False</td>\n",
              "      <td>False</td>\n",
              "      <td>False</td>\n",
              "      <td>False</td>\n",
              "      <td>False</td>\n",
              "      <td>False</td>\n",
              "      <td>False</td>\n",
              "      <td>True</td>\n",
              "      <td>False</td>\n",
              "    </tr>\n",
              "    <tr>\n",
              "      <th>4</th>\n",
              "      <td>False</td>\n",
              "      <td>False</td>\n",
              "      <td>False</td>\n",
              "      <td>False</td>\n",
              "      <td>False</td>\n",
              "      <td>False</td>\n",
              "      <td>False</td>\n",
              "      <td>False</td>\n",
              "      <td>False</td>\n",
              "      <td>True</td>\n",
              "      <td>True</td>\n",
              "      <td>False</td>\n",
              "    </tr>\n",
              "    <tr>\n",
              "      <th>...</th>\n",
              "      <td>...</td>\n",
              "      <td>...</td>\n",
              "      <td>...</td>\n",
              "      <td>...</td>\n",
              "      <td>...</td>\n",
              "      <td>...</td>\n",
              "      <td>...</td>\n",
              "      <td>...</td>\n",
              "      <td>...</td>\n",
              "      <td>...</td>\n",
              "      <td>...</td>\n",
              "      <td>...</td>\n",
              "    </tr>\n",
              "    <tr>\n",
              "      <th>361386</th>\n",
              "      <td>False</td>\n",
              "      <td>False</td>\n",
              "      <td>False</td>\n",
              "      <td>False</td>\n",
              "      <td>False</td>\n",
              "      <td>False</td>\n",
              "      <td>False</td>\n",
              "      <td>False</td>\n",
              "      <td>False</td>\n",
              "      <td>False</td>\n",
              "      <td>False</td>\n",
              "      <td>False</td>\n",
              "    </tr>\n",
              "    <tr>\n",
              "      <th>361387</th>\n",
              "      <td>False</td>\n",
              "      <td>False</td>\n",
              "      <td>False</td>\n",
              "      <td>False</td>\n",
              "      <td>False</td>\n",
              "      <td>False</td>\n",
              "      <td>False</td>\n",
              "      <td>False</td>\n",
              "      <td>False</td>\n",
              "      <td>True</td>\n",
              "      <td>True</td>\n",
              "      <td>False</td>\n",
              "    </tr>\n",
              "    <tr>\n",
              "      <th>361388</th>\n",
              "      <td>False</td>\n",
              "      <td>False</td>\n",
              "      <td>False</td>\n",
              "      <td>False</td>\n",
              "      <td>False</td>\n",
              "      <td>False</td>\n",
              "      <td>False</td>\n",
              "      <td>False</td>\n",
              "      <td>False</td>\n",
              "      <td>False</td>\n",
              "      <td>True</td>\n",
              "      <td>False</td>\n",
              "    </tr>\n",
              "    <tr>\n",
              "      <th>361389</th>\n",
              "      <td>False</td>\n",
              "      <td>False</td>\n",
              "      <td>False</td>\n",
              "      <td>False</td>\n",
              "      <td>False</td>\n",
              "      <td>False</td>\n",
              "      <td>False</td>\n",
              "      <td>False</td>\n",
              "      <td>False</td>\n",
              "      <td>True</td>\n",
              "      <td>True</td>\n",
              "      <td>False</td>\n",
              "    </tr>\n",
              "    <tr>\n",
              "      <th>361390</th>\n",
              "      <td>False</td>\n",
              "      <td>False</td>\n",
              "      <td>False</td>\n",
              "      <td>False</td>\n",
              "      <td>False</td>\n",
              "      <td>False</td>\n",
              "      <td>False</td>\n",
              "      <td>False</td>\n",
              "      <td>False</td>\n",
              "      <td>False</td>\n",
              "      <td>False</td>\n",
              "      <td>False</td>\n",
              "    </tr>\n",
              "  </tbody>\n",
              "</table>\n",
              "<p>361391 rows × 12 columns</p>\n",
              "</div>"
            ],
            "text/plain": [
              "        User_ID  Product_ID  ...  Product_Category_3  Purchase\n",
              "0         False       False  ...                True     False\n",
              "1         False       False  ...               False     False\n",
              "2         False       False  ...                True     False\n",
              "3         False       False  ...                True     False\n",
              "4         False       False  ...                True     False\n",
              "...         ...         ...  ...                 ...       ...\n",
              "361386    False       False  ...               False     False\n",
              "361387    False       False  ...                True     False\n",
              "361388    False       False  ...                True     False\n",
              "361389    False       False  ...                True     False\n",
              "361390    False       False  ...               False     False\n",
              "\n",
              "[361391 rows x 12 columns]"
            ]
          },
          "metadata": {
            "tags": []
          },
          "execution_count": 17
        }
      ]
    },
    {
      "cell_type": "code",
      "metadata": {
        "id": "ZNzEzNC_sEI9",
        "colab_type": "code",
        "colab": {
          "base_uri": "https://localhost:8080/",
          "height": 34
        },
        "outputId": "6ae4c405-0fe4-4c80-e4e5-059a8a8745e8"
      },
      "source": [
        "#contando os dados não nulos usando o count\n",
        "nao_nulos = dados.count().sum()\n",
        "nao_nulos"
      ],
      "execution_count": 18,
      "outputs": [
        {
          "output_type": "execute_result",
          "data": {
            "text/plain": [
              "3974084"
            ]
          },
          "metadata": {
            "tags": []
          },
          "execution_count": 18
        }
      ]
    },
    {
      "cell_type": "code",
      "metadata": {
        "id": "_CGLtCgssEJA",
        "colab_type": "code",
        "colab": {
          "base_uri": "https://localhost:8080/",
          "height": 34
        },
        "outputId": "be6fad99-f01d-482f-fff1-a0463c41835a"
      },
      "source": [
        "#somando os dados nulos - o primeiro sum soma por coluna, o segundo soma tudo\n",
        "nulos = dados.isna().sum().sum()\n",
        "nulos"
      ],
      "execution_count": 19,
      "outputs": [
        {
          "output_type": "execute_result",
          "data": {
            "text/plain": [
              "362608"
            ]
          },
          "metadata": {
            "tags": []
          },
          "execution_count": 19
        }
      ]
    },
    {
      "cell_type": "code",
      "metadata": {
        "id": "W4oUyeUqsEJD",
        "colab_type": "code",
        "colab": {
          "base_uri": "https://localhost:8080/",
          "height": 34
        },
        "outputId": "ae4e5f5d-da9d-4ad1-dbcf-23f7e18c5f91"
      },
      "source": [
        "#compilando\n",
        "total_de_dados = nulos + nao_nulos \n",
        "total_de_dados"
      ],
      "execution_count": 20,
      "outputs": [
        {
          "output_type": "execute_result",
          "data": {
            "text/plain": [
              "4336692"
            ]
          },
          "metadata": {
            "tags": []
          },
          "execution_count": 20
        }
      ]
    },
    {
      "cell_type": "code",
      "metadata": {
        "id": "rHpOun2esEJF",
        "colab_type": "code",
        "colab": {
          "base_uri": "https://localhost:8080/",
          "height": 34
        },
        "outputId": "112d3757-dcd3-4bc2-d6f7-ff687bf95af3"
      },
      "source": [
        "#dividindo os nulos pelo total devo ter uma resposta em float - RESPOSTA INCORRETA\n",
        "r5 = float(nulos/total_de_dados)\n",
        "r5"
      ],
      "execution_count": 64,
      "outputs": [
        {
          "output_type": "execute_result",
          "data": {
            "text/plain": [
              "0.08361396197839274"
            ]
          },
          "metadata": {
            "tags": []
          },
          "execution_count": 64
        }
      ]
    },
    {
      "cell_type": "code",
      "metadata": {
        "id": "lGJ_EYmIcKyJ",
        "colab_type": "code",
        "colab": {
          "base_uri": "https://localhost:8080/",
          "height": 34
        },
        "outputId": "12fe5c89-7809-49f5-b016-5a50ab47f5b2"
      },
      "source": [
        "#INCLUINDO A RESPOSTA SUGERIDA NO CODE REVIEW\n",
        "(dados.isnull().sum()/len(dados)).max()"
      ],
      "execution_count": 57,
      "outputs": [
        {
          "output_type": "execute_result",
          "data": {
            "text/plain": [
              "0.693545218336926"
            ]
          },
          "metadata": {
            "tags": []
          },
          "execution_count": 57
        }
      ]
    },
    {
      "cell_type": "markdown",
      "metadata": {
        "id": "VxS4vrsgsEJH",
        "colab_type": "text"
      },
      "source": [
        "### Questão 6: Quantos valores null existem na variável (coluna) com o maior número de null? Responda como um único escalar."
      ]
    },
    {
      "cell_type": "code",
      "metadata": {
        "id": "bgPOKwSGsEJI",
        "colab_type": "code",
        "colab": {
          "base_uri": "https://localhost:8080/",
          "height": 238
        },
        "outputId": "189554f2-ce5b-437f-9fa3-b72d0d8a1d87"
      },
      "source": [
        "#contando dados não nulos novamente\n",
        "dados.count()\n"
      ],
      "execution_count": 23,
      "outputs": [
        {
          "output_type": "execute_result",
          "data": {
            "text/plain": [
              "User_ID                       361391\n",
              "Product_ID                    361391\n",
              "Gender                        361391\n",
              "Age                           361391\n",
              "Occupation                    361391\n",
              "City_Category                 361391\n",
              "Stay_In_Current_City_Years    361391\n",
              "Marital_Status                361391\n",
              "Product_Category_1            361391\n",
              "Product_Category_2            249424\n",
              "Product_Category_3            110750\n",
              "Purchase                      361391\n",
              "dtype: int64"
            ]
          },
          "metadata": {
            "tags": []
          },
          "execution_count": 23
        }
      ]
    },
    {
      "cell_type": "code",
      "metadata": {
        "id": "BEe1_fCssEJL",
        "colab_type": "code",
        "colab": {
          "base_uri": "https://localhost:8080/",
          "height": 34
        },
        "outputId": "aa124b35-c19f-4a3c-aac3-3307a3366c66"
      },
      "source": [
        "#conferindo o valor mínimo de dados não nulos\n",
        "dados.count().min()"
      ],
      "execution_count": 24,
      "outputs": [
        {
          "output_type": "execute_result",
          "data": {
            "text/plain": [
              "110750"
            ]
          },
          "metadata": {
            "tags": []
          },
          "execution_count": 24
        }
      ]
    },
    {
      "cell_type": "code",
      "metadata": {
        "id": "jbvNUTT8sEJN",
        "colab_type": "code",
        "colab": {
          "base_uri": "https://localhost:8080/",
          "height": 34
        },
        "outputId": "9b792c83-5d1f-4048-f26f-7cb28c5200e7"
      },
      "source": [
        "#contando nulos na coluna \"Product_Category_3\"\n",
        "dados['Product_Category_3'].isna().sum()"
      ],
      "execution_count": 25,
      "outputs": [
        {
          "output_type": "execute_result",
          "data": {
            "text/plain": [
              "250641"
            ]
          },
          "metadata": {
            "tags": []
          },
          "execution_count": 25
        }
      ]
    },
    {
      "cell_type": "code",
      "metadata": {
        "id": "g5MAfFRDsEJQ",
        "colab_type": "code",
        "colab": {
          "base_uri": "https://localhost:8080/",
          "height": 34
        },
        "outputId": "ef2a9168-ebf0-4f8e-e543-4288ee2dfdd5"
      },
      "source": [
        "#colocando na variável\n",
        "r6 = int(dados['Product_Category_3'].isna().sum())\n",
        "r6"
      ],
      "execution_count": 65,
      "outputs": [
        {
          "output_type": "execute_result",
          "data": {
            "text/plain": [
              "250641"
            ]
          },
          "metadata": {
            "tags": []
          },
          "execution_count": 65
        }
      ]
    },
    {
      "cell_type": "code",
      "metadata": {
        "id": "kOA9E5LFcJux",
        "colab_type": "code",
        "colab": {}
      },
      "source": [
        ""
      ],
      "execution_count": 26,
      "outputs": []
    },
    {
      "cell_type": "markdown",
      "metadata": {
        "id": "DmvmBUe_sEJS",
        "colab_type": "text"
      },
      "source": [
        "### Questão 7: Qual o valor mais frequente (sem contar nulls) em Product_Category_3? Responda como um único escalar."
      ]
    },
    {
      "cell_type": "code",
      "metadata": {
        "id": "okBUz1QnsEJS",
        "colab_type": "code",
        "colab": {
          "base_uri": "https://localhost:8080/",
          "height": 34
        },
        "outputId": "08bbb354-32e3-44ec-e761-a7abba190787"
      },
      "source": [
        "#usando a moda\n",
        "dados['Product_Category_3'].mode()[0]"
      ],
      "execution_count": 27,
      "outputs": [
        {
          "output_type": "execute_result",
          "data": {
            "text/plain": [
              "16.0"
            ]
          },
          "metadata": {
            "tags": []
          },
          "execution_count": 27
        }
      ]
    },
    {
      "cell_type": "code",
      "metadata": {
        "id": "xShl_CRTsEJU",
        "colab_type": "code",
        "colab": {
          "base_uri": "https://localhost:8080/",
          "height": 34
        },
        "outputId": "f47da058-7bec-48e3-ca8e-398debc914b5"
      },
      "source": [
        "r7 = dados['Product_Category_3'].mode()[0]\n",
        "r7"
      ],
      "execution_count": 66,
      "outputs": [
        {
          "output_type": "execute_result",
          "data": {
            "text/plain": [
              "16.0"
            ]
          },
          "metadata": {
            "tags": []
          },
          "execution_count": 66
        }
      ]
    },
    {
      "cell_type": "markdown",
      "metadata": {
        "id": "kHDVQ1M0sEJX",
        "colab_type": "text"
      },
      "source": [
        "### Questão 8: Qual a nova média da variável (coluna) Purchase após sua normalização? Responda como um único escalar."
      ]
    },
    {
      "cell_type": "code",
      "metadata": {
        "id": "bltWokbfsEJX",
        "colab_type": "code",
        "colab": {
          "base_uri": "https://localhost:8080/",
          "height": 221
        },
        "outputId": "cdce44bc-7a7e-49ef-b819-ecdcaa56f344"
      },
      "source": [
        "#visualizando a coluna\n",
        "dados['Purchase']"
      ],
      "execution_count": 29,
      "outputs": [
        {
          "output_type": "execute_result",
          "data": {
            "text/plain": [
              "0          8370\n",
              "1         15200\n",
              "2          1422\n",
              "3          1057\n",
              "4          7969\n",
              "          ...  \n",
              "361386    15905\n",
              "361387    15773\n",
              "361388     5295\n",
              "361389     7102\n",
              "361390    19561\n",
              "Name: Purchase, Length: 361391, dtype: int64"
            ]
          },
          "metadata": {
            "tags": []
          },
          "execution_count": 29
        }
      ]
    },
    {
      "cell_type": "code",
      "metadata": {
        "id": "PgAUVyJasEJZ",
        "colab_type": "code",
        "colab": {
          "base_uri": "https://localhost:8080/",
          "height": 34
        },
        "outputId": "f3f34d3c-b183-45ee-b790-66d37ff59b90"
      },
      "source": [
        "#contando os nulos\n",
        "dados['Purchase'].isna().sum()\n"
      ],
      "execution_count": 30,
      "outputs": [
        {
          "output_type": "execute_result",
          "data": {
            "text/plain": [
              "0"
            ]
          },
          "metadata": {
            "tags": []
          },
          "execution_count": 30
        }
      ]
    },
    {
      "cell_type": "code",
      "metadata": {
        "id": "C9GajK0nsEJc",
        "colab_type": "code",
        "colab": {
          "base_uri": "https://localhost:8080/",
          "height": 282
        },
        "outputId": "8c173a17-c8e8-464f-f5b4-2ce90fda809b"
      },
      "source": [
        "#plotar a distribuição da variável\n",
        "dados['Purchase'].hist()"
      ],
      "execution_count": 31,
      "outputs": [
        {
          "output_type": "execute_result",
          "data": {
            "text/plain": [
              "<matplotlib.axes._subplots.AxesSubplot at 0x7f646c7ff5f8>"
            ]
          },
          "metadata": {
            "tags": []
          },
          "execution_count": 31
        },
        {
          "output_type": "display_data",
          "data": {
            "image/png": "[encoded data removed]",
            "text/plain": [
              "<Figure size 432x288 with 1 Axes>"
            ]
          },
          "metadata": {
            "tags": [],
            "needs_background": "light"
          }
        }
      ]
    },
    {
      "cell_type": "code",
      "metadata": {
        "id": "3EyHy4PRsEJe",
        "colab_type": "code",
        "colab": {
          "base_uri": "https://localhost:8080/",
          "height": 34
        },
        "outputId": "c7b8c5ad-49ca-414a-f341-055e5c64c7d3"
      },
      "source": [
        "#conferindo a média antes\n",
        "media = dados['Purchase'].mean()\n",
        "media"
      ],
      "execution_count": 32,
      "outputs": [
        {
          "output_type": "execute_result",
          "data": {
            "text/plain": [
              "9325.319509893716"
            ]
          },
          "metadata": {
            "tags": []
          },
          "execution_count": 32
        }
      ]
    },
    {
      "cell_type": "code",
      "metadata": {
        "id": "v89yYGTisEJg",
        "colab_type": "code",
        "colab": {}
      },
      "source": [
        "desvio_padrao = dados['Purchase'].std()"
      ],
      "execution_count": 33,
      "outputs": []
    },
    {
      "cell_type": "code",
      "metadata": {
        "id": "8nfUPQwqsEJi",
        "colab_type": "code",
        "colab": {
          "base_uri": "https://localhost:8080/",
          "height": 221
        },
        "outputId": "2dc4d203-9474-4f02-e61a-70cc13f37aa1"
      },
      "source": [
        "#normalizando pela média \n",
        "novos_dados = dados['Purchase']-media/desvio_padrao\n",
        "novos_dados"
      ],
      "execution_count": 34,
      "outputs": [
        {
          "output_type": "execute_result",
          "data": {
            "text/plain": [
              "0          8368.126312\n",
              "1         15198.126312\n",
              "2          1420.126312\n",
              "3          1055.126312\n",
              "4          7967.126312\n",
              "              ...     \n",
              "361386    15903.126312\n",
              "361387    15771.126312\n",
              "361388     5293.126312\n",
              "361389     7100.126312\n",
              "361390    19559.126312\n",
              "Name: Purchase, Length: 361391, dtype: float64"
            ]
          },
          "metadata": {
            "tags": []
          },
          "execution_count": 34
        }
      ]
    },
    {
      "cell_type": "code",
      "metadata": {
        "id": "NCFuJjoFsEJk",
        "colab_type": "code",
        "colab": {
          "base_uri": "https://localhost:8080/",
          "height": 34
        },
        "outputId": "ca4bad1e-35bf-408d-d22c-4431c6e4b893"
      },
      "source": [
        "#nova média - normalizando pela média\n",
        "novos_dados.mean()"
      ],
      "execution_count": 35,
      "outputs": [
        {
          "output_type": "execute_result",
          "data": {
            "text/plain": [
              "9323.44582203544"
            ]
          },
          "metadata": {
            "tags": []
          },
          "execution_count": 35
        }
      ]
    },
    {
      "cell_type": "code",
      "metadata": {
        "id": "q69etmhxsEJp",
        "colab_type": "code",
        "colab": {
          "base_uri": "https://localhost:8080/",
          "height": 221
        },
        "outputId": "d5f01b2d-4757-4250-d05f-271a2e2e0f81"
      },
      "source": [
        "#normalizando com min max direto com o Pandas = normalized_df=(df-df.min())/(df.max()-df.min()) -optei por não usar o Sklearn para focar no conceito\n",
        "#criando variável para ficar mais legível\n",
        "compras = dados['Purchase']\n",
        "minimo = compras.min()\n",
        "maximo = compras.max()\n",
        "\n",
        "compras_normalizado = (compras - minimo)/(maximo - minimo)\n",
        "compras_normalizado\n",
        "\n"
      ],
      "execution_count": 36,
      "outputs": [
        {
          "output_type": "execute_result",
          "data": {
            "text/plain": [
              "0         0.344255\n",
              "1         0.631519\n",
              "2         0.052027\n",
              "3         0.036676\n",
              "4         0.327389\n",
              "            ...   \n",
              "361386    0.661171\n",
              "361387    0.655619\n",
              "361388    0.214923\n",
              "361389    0.290924\n",
              "361390    0.814939\n",
              "Name: Purchase, Length: 361391, dtype: float64"
            ]
          },
          "metadata": {
            "tags": []
          },
          "execution_count": 36
        }
      ]
    },
    {
      "cell_type": "code",
      "metadata": {
        "id": "3Ck8eB_HsEJr",
        "colab_type": "code",
        "colab": {
          "base_uri": "https://localhost:8080/",
          "height": 34
        },
        "outputId": "e20ff463-6a3f-4bab-abae-b7f5ac46ab17"
      },
      "source": [
        "#média normalizada por mínimo e máximo\n",
        "compras_normalizado.mean()"
      ],
      "execution_count": 37,
      "outputs": [
        {
          "output_type": "execute_result",
          "data": {
            "text/plain": [
              "0.3844347034780221"
            ]
          },
          "metadata": {
            "tags": []
          },
          "execution_count": 37
        }
      ]
    },
    {
      "cell_type": "code",
      "metadata": {
        "id": "JCDRuV5WsEJt",
        "colab_type": "code",
        "colab": {
          "base_uri": "https://localhost:8080/",
          "height": 34
        },
        "outputId": "93a3cb01-698a-456c-ef42-9e47de3ff203"
      },
      "source": [
        "#considerando a questão 9, vamos colocar esta resposta como a oficial\n",
        "r8 = float(compras_normalizado.mean())\n",
        "r8\n"
      ],
      "execution_count": 67,
      "outputs": [
        {
          "output_type": "execute_result",
          "data": {
            "text/plain": [
              "0.3844347034780221"
            ]
          },
          "metadata": {
            "tags": []
          },
          "execution_count": 67
        }
      ]
    },
    {
      "cell_type": "markdown",
      "metadata": {
        "id": "s9-FbHOwsEJv",
        "colab_type": "text"
      },
      "source": [
        "### Questão 9: Quantas ocorrências entre -1 e 1 inclusive existem da variáel Purchase após sua padronização? Responda como um único escalar."
      ]
    },
    {
      "cell_type": "markdown",
      "metadata": {
        "id": "PKvnYc3Kd2rT",
        "colab_type": "text"
      },
      "source": [
        "#### Resposta incorreta - Não efetuei a padronização dos dados"
      ]
    },
    {
      "cell_type": "code",
      "metadata": {
        "id": "0f704Ad5sEJw",
        "colab_type": "code",
        "colab": {
          "base_uri": "https://localhost:8080/",
          "height": 419
        },
        "outputId": "0ec30c60-2087-40e2-feac-90c12716e50a"
      },
      "source": [
        "compras = pd.DataFrame(compras_normalizado)\n",
        "compras"
      ],
      "execution_count": 39,
      "outputs": [
        {
          "output_type": "execute_result",
          "data": {
            "text/html": [
              "<div>\n",
              "<style scoped>\n",
              "    .dataframe tbody tr th:only-of-type {\n",
              "        vertical-align: middle;\n",
              "    }\n",
              "\n",
              "    .dataframe tbody tr th {\n",
              "        vertical-align: top;\n",
              "    }\n",
              "\n",
              "    .dataframe thead th {\n",
              "        text-align: right;\n",
              "    }\n",
              "</style>\n",
              "<table border=\"1\" class=\"dataframe\">\n",
              "  <thead>\n",
              "    <tr style=\"text-align: right;\">\n",
              "      <th></th>\n",
              "      <th>Purchase</th>\n",
              "    </tr>\n",
              "  </thead>\n",
              "  <tbody>\n",
              "    <tr>\n",
              "      <th>0</th>\n",
              "      <td>0.344255</td>\n",
              "    </tr>\n",
              "    <tr>\n",
              "      <th>1</th>\n",
              "      <td>0.631519</td>\n",
              "    </tr>\n",
              "    <tr>\n",
              "      <th>2</th>\n",
              "      <td>0.052027</td>\n",
              "    </tr>\n",
              "    <tr>\n",
              "      <th>3</th>\n",
              "      <td>0.036676</td>\n",
              "    </tr>\n",
              "    <tr>\n",
              "      <th>4</th>\n",
              "      <td>0.327389</td>\n",
              "    </tr>\n",
              "    <tr>\n",
              "      <th>...</th>\n",
              "      <td>...</td>\n",
              "    </tr>\n",
              "    <tr>\n",
              "      <th>361386</th>\n",
              "      <td>0.661171</td>\n",
              "    </tr>\n",
              "    <tr>\n",
              "      <th>361387</th>\n",
              "      <td>0.655619</td>\n",
              "    </tr>\n",
              "    <tr>\n",
              "      <th>361388</th>\n",
              "      <td>0.214923</td>\n",
              "    </tr>\n",
              "    <tr>\n",
              "      <th>361389</th>\n",
              "      <td>0.290924</td>\n",
              "    </tr>\n",
              "    <tr>\n",
              "      <th>361390</th>\n",
              "      <td>0.814939</td>\n",
              "    </tr>\n",
              "  </tbody>\n",
              "</table>\n",
              "<p>361391 rows × 1 columns</p>\n",
              "</div>"
            ],
            "text/plain": [
              "        Purchase\n",
              "0       0.344255\n",
              "1       0.631519\n",
              "2       0.052027\n",
              "3       0.036676\n",
              "4       0.327389\n",
              "...          ...\n",
              "361386  0.661171\n",
              "361387  0.655619\n",
              "361388  0.214923\n",
              "361389  0.290924\n",
              "361390  0.814939\n",
              "\n",
              "[361391 rows x 1 columns]"
            ]
          },
          "metadata": {
            "tags": []
          },
          "execution_count": 39
        }
      ]
    },
    {
      "cell_type": "code",
      "metadata": {
        "id": "cTEdkZ0wsEJz",
        "colab_type": "code",
        "colab": {
          "base_uri": "https://localhost:8080/",
          "height": 297
        },
        "outputId": "885473a9-e802-42ca-de21-c1b23055e688"
      },
      "source": [
        "compras.describe()"
      ],
      "execution_count": 40,
      "outputs": [
        {
          "output_type": "execute_result",
          "data": {
            "text/html": [
              "<div>\n",
              "<style scoped>\n",
              "    .dataframe tbody tr th:only-of-type {\n",
              "        vertical-align: middle;\n",
              "    }\n",
              "\n",
              "    .dataframe tbody tr th {\n",
              "        vertical-align: top;\n",
              "    }\n",
              "\n",
              "    .dataframe thead th {\n",
              "        text-align: right;\n",
              "    }\n",
              "</style>\n",
              "<table border=\"1\" class=\"dataframe\">\n",
              "  <thead>\n",
              "    <tr style=\"text-align: right;\">\n",
              "      <th></th>\n",
              "      <th>Purchase</th>\n",
              "    </tr>\n",
              "  </thead>\n",
              "  <tbody>\n",
              "    <tr>\n",
              "      <th>count</th>\n",
              "      <td>361391.000000</td>\n",
              "    </tr>\n",
              "    <tr>\n",
              "      <th>mean</th>\n",
              "      <td>0.384435</td>\n",
              "    </tr>\n",
              "    <tr>\n",
              "      <th>std</th>\n",
              "      <td>0.209328</td>\n",
              "    </tr>\n",
              "    <tr>\n",
              "      <th>min</th>\n",
              "      <td>0.000000</td>\n",
              "    </tr>\n",
              "    <tr>\n",
              "      <th>25%</th>\n",
              "      <td>0.238938</td>\n",
              "    </tr>\n",
              "    <tr>\n",
              "      <th>50%</th>\n",
              "      <td>0.331216</td>\n",
              "    </tr>\n",
              "    <tr>\n",
              "      <th>75%</th>\n",
              "      <td>0.499706</td>\n",
              "    </tr>\n",
              "    <tr>\n",
              "      <th>max</th>\n",
              "      <td>1.000000</td>\n",
              "    </tr>\n",
              "  </tbody>\n",
              "</table>\n",
              "</div>"
            ],
            "text/plain": [
              "            Purchase\n",
              "count  361391.000000\n",
              "mean        0.384435\n",
              "std         0.209328\n",
              "min         0.000000\n",
              "25%         0.238938\n",
              "50%         0.331216\n",
              "75%         0.499706\n",
              "max         1.000000"
            ]
          },
          "metadata": {
            "tags": []
          },
          "execution_count": 40
        }
      ]
    },
    {
      "cell_type": "code",
      "metadata": {
        "id": "0x-RnxA1sEJ2",
        "colab_type": "code",
        "colab": {
          "base_uri": "https://localhost:8080/",
          "height": 51
        },
        "outputId": "57cb8e3b-d786-461c-aac6-04754b51db9d"
      },
      "source": [
        "compras.isna().sum()"
      ],
      "execution_count": 41,
      "outputs": [
        {
          "output_type": "execute_result",
          "data": {
            "text/plain": [
              "Purchase    0\n",
              "dtype: int64"
            ]
          },
          "metadata": {
            "tags": []
          },
          "execution_count": 41
        }
      ]
    },
    {
      "cell_type": "code",
      "metadata": {
        "id": "cWSFMfs8sEJ4",
        "colab_type": "code",
        "colab": {
          "base_uri": "https://localhost:8080/",
          "height": 34
        },
        "outputId": "bb7bc7c0-e748-4584-d2f8-99a64c1311e3"
      },
      "source": [
        "#se o valor mínimo é 0 e o valor máximo é 1, então todos os valores estão entre -1 e 1 - ##RESPOSTA INCORRETA\n",
        "r9 = int(compras.count()[0])\n",
        "r9"
      ],
      "execution_count": 42,
      "outputs": [
        {
          "output_type": "execute_result",
          "data": {
            "text/plain": [
              "361391"
            ]
          },
          "metadata": {
            "tags": []
          },
          "execution_count": 42
        }
      ]
    },
    {
      "cell_type": "markdown",
      "metadata": {
        "id": "xGQ7rswSd-Pg",
        "colab_type": "text"
      },
      "source": [
        "#### Nova tentativa"
      ]
    },
    {
      "cell_type": "code",
      "metadata": {
        "id": "a5GVYCzfe6ZT",
        "colab_type": "code",
        "colab": {}
      },
      "source": [
        "#usando a sugestão do CodeReview: fórmula (Padronização = Valor atual - média/desvio_padrão)"
      ],
      "execution_count": null,
      "outputs": []
    },
    {
      "cell_type": "code",
      "metadata": {
        "id": "UvNnHn37e6cz",
        "colab_type": "code",
        "colab": {
          "base_uri": "https://localhost:8080/",
          "height": 419
        },
        "outputId": "ec122e44-6203-4cfa-b96a-556885873387"
      },
      "source": [
        "padronizacao = (compras - compras.mean())/compras.std()\n",
        "padronizacao"
      ],
      "execution_count": 69,
      "outputs": [
        {
          "output_type": "execute_result",
          "data": {
            "text/html": [
              "<div>\n",
              "<style scoped>\n",
              "    .dataframe tbody tr th:only-of-type {\n",
              "        vertical-align: middle;\n",
              "    }\n",
              "\n",
              "    .dataframe tbody tr th {\n",
              "        vertical-align: top;\n",
              "    }\n",
              "\n",
              "    .dataframe thead th {\n",
              "        text-align: right;\n",
              "    }\n",
              "</style>\n",
              "<table border=\"1\" class=\"dataframe\">\n",
              "  <thead>\n",
              "    <tr style=\"text-align: right;\">\n",
              "      <th></th>\n",
              "      <th>Purchase</th>\n",
              "    </tr>\n",
              "  </thead>\n",
              "  <tbody>\n",
              "    <tr>\n",
              "      <th>0</th>\n",
              "      <td>-0.191947</td>\n",
              "    </tr>\n",
              "    <tr>\n",
              "      <th>1</th>\n",
              "      <td>1.180369</td>\n",
              "    </tr>\n",
              "    <tr>\n",
              "      <th>2</th>\n",
              "      <td>-1.587973</td>\n",
              "    </tr>\n",
              "    <tr>\n",
              "      <th>3</th>\n",
              "      <td>-1.661310</td>\n",
              "    </tr>\n",
              "    <tr>\n",
              "      <th>4</th>\n",
              "      <td>-0.272518</td>\n",
              "    </tr>\n",
              "    <tr>\n",
              "      <th>...</th>\n",
              "      <td>...</td>\n",
              "    </tr>\n",
              "    <tr>\n",
              "      <th>361386</th>\n",
              "      <td>1.322021</td>\n",
              "    </tr>\n",
              "    <tr>\n",
              "      <th>361387</th>\n",
              "      <td>1.295499</td>\n",
              "    </tr>\n",
              "    <tr>\n",
              "      <th>361388</th>\n",
              "      <td>-0.809791</td>\n",
              "    </tr>\n",
              "    <tr>\n",
              "      <th>361389</th>\n",
              "      <td>-0.446720</td>\n",
              "    </tr>\n",
              "    <tr>\n",
              "      <th>361390</th>\n",
              "      <td>2.056602</td>\n",
              "    </tr>\n",
              "  </tbody>\n",
              "</table>\n",
              "<p>361391 rows × 1 columns</p>\n",
              "</div>"
            ],
            "text/plain": [
              "        Purchase\n",
              "0      -0.191947\n",
              "1       1.180369\n",
              "2      -1.587973\n",
              "3      -1.661310\n",
              "4      -0.272518\n",
              "...          ...\n",
              "361386  1.322021\n",
              "361387  1.295499\n",
              "361388 -0.809791\n",
              "361389 -0.446720\n",
              "361390  2.056602\n",
              "\n",
              "[361391 rows x 1 columns]"
            ]
          },
          "metadata": {
            "tags": []
          },
          "execution_count": 69
        }
      ]
    },
    {
      "cell_type": "code",
      "metadata": {
        "id": "hjLPmsj7e6gV",
        "colab_type": "code",
        "colab": {
          "base_uri": "https://localhost:8080/",
          "height": 297
        },
        "outputId": "2465dbd6-69bb-4df3-9405-4d7f4f0d6446"
      },
      "source": [
        "padronizacao.describe()"
      ],
      "execution_count": 71,
      "outputs": [
        {
          "output_type": "execute_result",
          "data": {
            "text/html": [
              "<div>\n",
              "<style scoped>\n",
              "    .dataframe tbody tr th:only-of-type {\n",
              "        vertical-align: middle;\n",
              "    }\n",
              "\n",
              "    .dataframe tbody tr th {\n",
              "        vertical-align: top;\n",
              "    }\n",
              "\n",
              "    .dataframe thead th {\n",
              "        text-align: right;\n",
              "    }\n",
              "</style>\n",
              "<table border=\"1\" class=\"dataframe\">\n",
              "  <thead>\n",
              "    <tr style=\"text-align: right;\">\n",
              "      <th></th>\n",
              "      <th>Purchase</th>\n",
              "    </tr>\n",
              "  </thead>\n",
              "  <tbody>\n",
              "    <tr>\n",
              "      <th>count</th>\n",
              "      <td>3.613910e+05</td>\n",
              "    </tr>\n",
              "    <tr>\n",
              "      <th>mean</th>\n",
              "      <td>5.279552e-14</td>\n",
              "    </tr>\n",
              "    <tr>\n",
              "      <th>std</th>\n",
              "      <td>1.000000e+00</td>\n",
              "    </tr>\n",
              "    <tr>\n",
              "      <th>min</th>\n",
              "      <td>-1.836517e+00</td>\n",
              "    </tr>\n",
              "    <tr>\n",
              "      <th>25%</th>\n",
              "      <td>-6.950630e-01</td>\n",
              "    </tr>\n",
              "    <tr>\n",
              "      <th>50%</th>\n",
              "      <td>-2.542341e-01</td>\n",
              "    </tr>\n",
              "    <tr>\n",
              "      <th>75%</th>\n",
              "      <td>5.506707e-01</td>\n",
              "    </tr>\n",
              "    <tr>\n",
              "      <th>max</th>\n",
              "      <td>2.940671e+00</td>\n",
              "    </tr>\n",
              "  </tbody>\n",
              "</table>\n",
              "</div>"
            ],
            "text/plain": [
              "           Purchase\n",
              "count  3.613910e+05\n",
              "mean   5.279552e-14\n",
              "std    1.000000e+00\n",
              "min   -1.836517e+00\n",
              "25%   -6.950630e-01\n",
              "50%   -2.542341e-01\n",
              "75%    5.506707e-01\n",
              "max    2.940671e+00"
            ]
          },
          "metadata": {
            "tags": []
          },
          "execution_count": 71
        }
      ]
    },
    {
      "cell_type": "code",
      "metadata": {
        "id": "SI2hf7XdfjQ3",
        "colab_type": "code",
        "colab": {
          "base_uri": "https://localhost:8080/",
          "height": 204
        },
        "outputId": "66ad14f2-a069-4670-8e53-56cbd4bbcc1d"
      },
      "source": [
        "#criando a query\n",
        "pesquisa = padronizacao.query(\"Purchase >= -1 and Purchase <=1\")\n",
        "pesquisa.head()\n"
      ],
      "execution_count": 75,
      "outputs": [
        {
          "output_type": "execute_result",
          "data": {
            "text/html": [
              "<div>\n",
              "<style scoped>\n",
              "    .dataframe tbody tr th:only-of-type {\n",
              "        vertical-align: middle;\n",
              "    }\n",
              "\n",
              "    .dataframe tbody tr th {\n",
              "        vertical-align: top;\n",
              "    }\n",
              "\n",
              "    .dataframe thead th {\n",
              "        text-align: right;\n",
              "    }\n",
              "</style>\n",
              "<table border=\"1\" class=\"dataframe\">\n",
              "  <thead>\n",
              "    <tr style=\"text-align: right;\">\n",
              "      <th></th>\n",
              "      <th>Purchase</th>\n",
              "    </tr>\n",
              "  </thead>\n",
              "  <tbody>\n",
              "    <tr>\n",
              "      <th>0</th>\n",
              "      <td>-0.191947</td>\n",
              "    </tr>\n",
              "    <tr>\n",
              "      <th>4</th>\n",
              "      <td>-0.272518</td>\n",
              "    </tr>\n",
              "    <tr>\n",
              "      <th>9</th>\n",
              "      <td>-0.292209</td>\n",
              "    </tr>\n",
              "    <tr>\n",
              "      <th>10</th>\n",
              "      <td>-0.818029</td>\n",
              "    </tr>\n",
              "    <tr>\n",
              "      <th>12</th>\n",
              "      <td>-0.653472</td>\n",
              "    </tr>\n",
              "  </tbody>\n",
              "</table>\n",
              "</div>"
            ],
            "text/plain": [
              "    Purchase\n",
              "0  -0.191947\n",
              "4  -0.272518\n",
              "9  -0.292209\n",
              "10 -0.818029\n",
              "12 -0.653472"
            ]
          },
          "metadata": {
            "tags": []
          },
          "execution_count": 75
        }
      ]
    },
    {
      "cell_type": "code",
      "metadata": {
        "id": "Oq717tSMf6KI",
        "colab_type": "code",
        "colab": {
          "base_uri": "https://localhost:8080/",
          "height": 51
        },
        "outputId": "4135400b-ed13-4e0c-a191-4cc474c4e368"
      },
      "source": [
        "#conferindo nulos\n",
        "pesquisa.isna().sum()"
      ],
      "execution_count": 76,
      "outputs": [
        {
          "output_type": "execute_result",
          "data": {
            "text/plain": [
              "Purchase    0\n",
              "dtype: int64"
            ]
          },
          "metadata": {
            "tags": []
          },
          "execution_count": 76
        }
      ]
    },
    {
      "cell_type": "code",
      "metadata": {
        "id": "ZWAQsJr5gHTt",
        "colab_type": "code",
        "colab": {
          "base_uri": "https://localhost:8080/",
          "height": 51
        },
        "outputId": "1f0f30b8-2f1c-4c1d-80c6-e4bc650184a7"
      },
      "source": [
        "#contando os registros\n",
        "pesquisa.count()"
      ],
      "execution_count": 77,
      "outputs": [
        {
          "output_type": "execute_result",
          "data": {
            "text/plain": [
              "Purchase    234553\n",
              "dtype: int64"
            ]
          },
          "metadata": {
            "tags": []
          },
          "execution_count": 77
        }
      ]
    },
    {
      "cell_type": "markdown",
      "metadata": {
        "id": "ANeNHCnisEJ7",
        "colab_type": "text"
      },
      "source": [
        "### Questão 10: Podemos afirmar que se uma observação é null em Product_Category_2 ela também o é em Product_Category_3? Responda com um bool (True, False)."
      ]
    },
    {
      "cell_type": "code",
      "metadata": {
        "id": "ThiUJJ6BsEJ8",
        "colab_type": "code",
        "colab": {
          "base_uri": "https://localhost:8080/",
          "height": 0
        },
        "outputId": "3b42f527-b296-43e8-e1a6-87803d278df0"
      },
      "source": [
        "#solução roubartilhada\n",
        "dados_comparacao = dados[dados['Product_Category_2'].isna()]\n",
        "dados_comparacao\n",
        "   "
      ],
      "execution_count": 43,
      "outputs": [
        {
          "output_type": "execute_result",
          "data": {
            "text/html": [
              "<div>\n",
              "<style scoped>\n",
              "    .dataframe tbody tr th:only-of-type {\n",
              "        vertical-align: middle;\n",
              "    }\n",
              "\n",
              "    .dataframe tbody tr th {\n",
              "        vertical-align: top;\n",
              "    }\n",
              "\n",
              "    .dataframe thead th {\n",
              "        text-align: right;\n",
              "    }\n",
              "</style>\n",
              "<table border=\"1\" class=\"dataframe\">\n",
              "  <thead>\n",
              "    <tr style=\"text-align: right;\">\n",
              "      <th></th>\n",
              "      <th>User_ID</th>\n",
              "      <th>Product_ID</th>\n",
              "      <th>Gender</th>\n",
              "      <th>Age</th>\n",
              "      <th>Occupation</th>\n",
              "      <th>City_Category</th>\n",
              "      <th>Stay_In_Current_City_Years</th>\n",
              "      <th>Marital_Status</th>\n",
              "      <th>Product_Category_1</th>\n",
              "      <th>Product_Category_2</th>\n",
              "      <th>Product_Category_3</th>\n",
              "      <th>Purchase</th>\n",
              "    </tr>\n",
              "  </thead>\n",
              "  <tbody>\n",
              "    <tr>\n",
              "      <th>0</th>\n",
              "      <td>1000001</td>\n",
              "      <td>P00069042</td>\n",
              "      <td>F</td>\n",
              "      <td>0-17</td>\n",
              "      <td>10</td>\n",
              "      <td>A</td>\n",
              "      <td>2</td>\n",
              "      <td>0</td>\n",
              "      <td>3</td>\n",
              "      <td>NaN</td>\n",
              "      <td>NaN</td>\n",
              "      <td>8370</td>\n",
              "    </tr>\n",
              "    <tr>\n",
              "      <th>2</th>\n",
              "      <td>1000001</td>\n",
              "      <td>P00087842</td>\n",
              "      <td>F</td>\n",
              "      <td>0-17</td>\n",
              "      <td>10</td>\n",
              "      <td>A</td>\n",
              "      <td>2</td>\n",
              "      <td>0</td>\n",
              "      <td>12</td>\n",
              "      <td>NaN</td>\n",
              "      <td>NaN</td>\n",
              "      <td>1422</td>\n",
              "    </tr>\n",
              "    <tr>\n",
              "      <th>4</th>\n",
              "      <td>1000002</td>\n",
              "      <td>P00285442</td>\n",
              "      <td>M</td>\n",
              "      <td>55+</td>\n",
              "      <td>16</td>\n",
              "      <td>C</td>\n",
              "      <td>4+</td>\n",
              "      <td>0</td>\n",
              "      <td>8</td>\n",
              "      <td>NaN</td>\n",
              "      <td>NaN</td>\n",
              "      <td>7969</td>\n",
              "    </tr>\n",
              "    <tr>\n",
              "      <th>9</th>\n",
              "      <td>1000005</td>\n",
              "      <td>P00274942</td>\n",
              "      <td>M</td>\n",
              "      <td>26-35</td>\n",
              "      <td>20</td>\n",
              "      <td>A</td>\n",
              "      <td>1</td>\n",
              "      <td>1</td>\n",
              "      <td>8</td>\n",
              "      <td>NaN</td>\n",
              "      <td>NaN</td>\n",
              "      <td>7871</td>\n",
              "    </tr>\n",
              "    <tr>\n",
              "      <th>11</th>\n",
              "      <td>1000005</td>\n",
              "      <td>P00014542</td>\n",
              "      <td>M</td>\n",
              "      <td>26-35</td>\n",
              "      <td>20</td>\n",
              "      <td>A</td>\n",
              "      <td>1</td>\n",
              "      <td>1</td>\n",
              "      <td>8</td>\n",
              "      <td>NaN</td>\n",
              "      <td>NaN</td>\n",
              "      <td>3957</td>\n",
              "    </tr>\n",
              "    <tr>\n",
              "      <th>...</th>\n",
              "      <td>...</td>\n",
              "      <td>...</td>\n",
              "      <td>...</td>\n",
              "      <td>...</td>\n",
              "      <td>...</td>\n",
              "      <td>...</td>\n",
              "      <td>...</td>\n",
              "      <td>...</td>\n",
              "      <td>...</td>\n",
              "      <td>...</td>\n",
              "      <td>...</td>\n",
              "      <td>...</td>\n",
              "    </tr>\n",
              "    <tr>\n",
              "      <th>361379</th>\n",
              "      <td>1001639</td>\n",
              "      <td>P00303042</td>\n",
              "      <td>M</td>\n",
              "      <td>26-35</td>\n",
              "      <td>17</td>\n",
              "      <td>B</td>\n",
              "      <td>1</td>\n",
              "      <td>0</td>\n",
              "      <td>5</td>\n",
              "      <td>NaN</td>\n",
              "      <td>NaN</td>\n",
              "      <td>7110</td>\n",
              "    </tr>\n",
              "    <tr>\n",
              "      <th>361383</th>\n",
              "      <td>1001639</td>\n",
              "      <td>P00128742</td>\n",
              "      <td>M</td>\n",
              "      <td>26-35</td>\n",
              "      <td>17</td>\n",
              "      <td>B</td>\n",
              "      <td>1</td>\n",
              "      <td>0</td>\n",
              "      <td>1</td>\n",
              "      <td>NaN</td>\n",
              "      <td>NaN</td>\n",
              "      <td>12042</td>\n",
              "    </tr>\n",
              "    <tr>\n",
              "      <th>361385</th>\n",
              "      <td>1001639</td>\n",
              "      <td>P00179142</td>\n",
              "      <td>M</td>\n",
              "      <td>26-35</td>\n",
              "      <td>17</td>\n",
              "      <td>B</td>\n",
              "      <td>1</td>\n",
              "      <td>0</td>\n",
              "      <td>11</td>\n",
              "      <td>NaN</td>\n",
              "      <td>NaN</td>\n",
              "      <td>6142</td>\n",
              "    </tr>\n",
              "    <tr>\n",
              "      <th>361387</th>\n",
              "      <td>1001639</td>\n",
              "      <td>P00046642</td>\n",
              "      <td>M</td>\n",
              "      <td>26-35</td>\n",
              "      <td>17</td>\n",
              "      <td>B</td>\n",
              "      <td>1</td>\n",
              "      <td>0</td>\n",
              "      <td>1</td>\n",
              "      <td>NaN</td>\n",
              "      <td>NaN</td>\n",
              "      <td>15773</td>\n",
              "    </tr>\n",
              "    <tr>\n",
              "      <th>361389</th>\n",
              "      <td>1001639</td>\n",
              "      <td>P00232442</td>\n",
              "      <td>M</td>\n",
              "      <td>26-35</td>\n",
              "      <td>17</td>\n",
              "      <td>B</td>\n",
              "      <td>1</td>\n",
              "      <td>0</td>\n",
              "      <td>5</td>\n",
              "      <td>NaN</td>\n",
              "      <td>NaN</td>\n",
              "      <td>7102</td>\n",
              "    </tr>\n",
              "  </tbody>\n",
              "</table>\n",
              "<p>111967 rows × 12 columns</p>\n",
              "</div>"
            ],
            "text/plain": [
              "        User_ID Product_ID  ... Product_Category_3 Purchase\n",
              "0       1000001  P00069042  ...                NaN     8370\n",
              "2       1000001  P00087842  ...                NaN     1422\n",
              "4       1000002  P00285442  ...                NaN     7969\n",
              "9       1000005  P00274942  ...                NaN     7871\n",
              "11      1000005  P00014542  ...                NaN     3957\n",
              "...         ...        ...  ...                ...      ...\n",
              "361379  1001639  P00303042  ...                NaN     7110\n",
              "361383  1001639  P00128742  ...                NaN    12042\n",
              "361385  1001639  P00179142  ...                NaN     6142\n",
              "361387  1001639  P00046642  ...                NaN    15773\n",
              "361389  1001639  P00232442  ...                NaN     7102\n",
              "\n",
              "[111967 rows x 12 columns]"
            ]
          },
          "metadata": {
            "tags": []
          },
          "execution_count": 43
        }
      ]
    },
    {
      "cell_type": "code",
      "metadata": {
        "id": "zLsCAtjZsEJ-",
        "colab_type": "code",
        "colab": {
          "base_uri": "https://localhost:8080/",
          "height": 0
        },
        "outputId": "56592665-0ef7-47dc-e2b0-8be936de0c4c"
      },
      "source": [
        "dados_comparacao['Product_Category_2'].equals(dados_comparacao['Product_Category_3'])"
      ],
      "execution_count": 44,
      "outputs": [
        {
          "output_type": "execute_result",
          "data": {
            "text/plain": [
              "True"
            ]
          },
          "metadata": {
            "tags": []
          },
          "execution_count": 44
        }
      ]
    },
    {
      "cell_type": "code",
      "metadata": {
        "id": "epdKFPxSsEKB",
        "colab_type": "code",
        "colab": {
          "base_uri": "https://localhost:8080/",
          "height": 0
        },
        "outputId": "23737af0-a187-4a81-d7bb-597fddebbc29"
      },
      "source": [
        "q10 = bool(dados_comparacao['Product_Category_2'].equals(dados_comparacao['Product_Category_3']))\n",
        "q10"
      ],
      "execution_count": 45,
      "outputs": [
        {
          "output_type": "execute_result",
          "data": {
            "text/plain": [
              "True"
            ]
          },
          "metadata": {
            "tags": []
          },
          "execution_count": 45
        }
      ]
    },
    {
      "cell_type": "markdown",
      "metadata": {
        "id": "IprYy9PLsEKD",
        "colab_type": "text"
      },
      "source": [
        "## Questão 1\n",
        "\n",
        "Quantas observações e quantas colunas há no dataset? Responda no formato de uma tuple `(n_observacoes, n_colunas)`."
      ]
    },
    {
      "cell_type": "code",
      "metadata": {
        "id": "Akc4GT-vsEKE",
        "colab_type": "code",
        "colab": {}
      },
      "source": [
        "def q1():\n",
        "    # Retorne aqui o resultado da questão 1.\n",
        "    return black_friday.shape"
      ],
      "execution_count": 46,
      "outputs": []
    },
    {
      "cell_type": "markdown",
      "metadata": {
        "id": "pJZEYd-RsEKG",
        "colab_type": "text"
      },
      "source": [
        "## Questão 2\n",
        "\n",
        "Há quantas mulheres com idade entre 26 e 35 anos no dataset? Responda como um único escalar."
      ]
    },
    {
      "cell_type": "code",
      "metadata": {
        "id": "-TifAkxmsEKG",
        "colab_type": "code",
        "colab": {}
      },
      "source": [
        "def q2():\n",
        "    # Retorne aqui o resultado da questão 2.\n",
        "    return int(mulheres_jovens.shape[0])"
      ],
      "execution_count": 47,
      "outputs": []
    },
    {
      "cell_type": "markdown",
      "metadata": {
        "id": "VBC2Szn_sEKI",
        "colab_type": "text"
      },
      "source": [
        "## Questão 3\n",
        "\n",
        "Quantos usuários únicos há no dataset? Responda como um único escalar."
      ]
    },
    {
      "cell_type": "code",
      "metadata": {
        "id": "IKj7HnLhsEKJ",
        "colab_type": "code",
        "colab": {}
      },
      "source": [
        "def q3():\n",
        "    # Retorne aqui o resultado da questão 3.\n",
        "    return int(dados['User_ID'].nunique())"
      ],
      "execution_count": 48,
      "outputs": []
    },
    {
      "cell_type": "markdown",
      "metadata": {
        "id": "WxvHbwsGsEKL",
        "colab_type": "text"
      },
      "source": [
        "## Questão 4\n",
        "\n",
        "Quantos tipos de dados diferentes existem no dataset? Responda como um único escalar."
      ]
    },
    {
      "cell_type": "code",
      "metadata": {
        "id": "msZU9c0NsEKM",
        "colab_type": "code",
        "colab": {}
      },
      "source": [
        "def q4():\n",
        "    # Retorne aqui o resultado da questão 4.\n",
        "    return int(dados.dtypes.nunique())"
      ],
      "execution_count": 49,
      "outputs": []
    },
    {
      "cell_type": "markdown",
      "metadata": {
        "id": "WmZBF2DBsEKR",
        "colab_type": "text"
      },
      "source": [
        "## Questão 5\n",
        "\n",
        "Qual porcentagem dos registros possui ao menos um valor null (`None`, `ǸaN` etc)? Responda como um único escalar entre 0 e 1."
      ]
    },
    {
      "cell_type": "code",
      "metadata": {
        "id": "ACv-nAXLsEKR",
        "colab_type": "code",
        "colab": {}
      },
      "source": [
        "def q5():\n",
        "    # Retorne aqui o resultado da questão 5.\n",
        "    return float((dados.isnull().sum()/len(dados)).max())"
      ],
      "execution_count": 58,
      "outputs": []
    },
    {
      "cell_type": "markdown",
      "metadata": {
        "id": "LwJZoQYLsEKT",
        "colab_type": "text"
      },
      "source": [
        "## Questão 6\n",
        "\n",
        "Quantos valores null existem na variável (coluna) com o maior número de null? Responda como um único escalar."
      ]
    },
    {
      "cell_type": "code",
      "metadata": {
        "id": "qbGyreflsEKV",
        "colab_type": "code",
        "colab": {}
      },
      "source": [
        "def q6():\n",
        "    # Retorne aqui o resultado da questão 6.\n",
        "    return int(dados['Product_Category_3'].isna().sum())"
      ],
      "execution_count": 51,
      "outputs": []
    },
    {
      "cell_type": "markdown",
      "metadata": {
        "id": "0YjFzmzcsEKY",
        "colab_type": "text"
      },
      "source": [
        "## Questão 7\n",
        "\n",
        "Qual o valor mais frequente (sem contar nulls) em `Product_Category_3`? Responda como um único escalar."
      ]
    },
    {
      "cell_type": "code",
      "metadata": {
        "id": "nRKuuu8VsEKY",
        "colab_type": "code",
        "colab": {}
      },
      "source": [
        "def q7():\n",
        "    # Retorne aqui o resultado da questão 7.\n",
        "    return dados['Product_Category_3'].mode()[0]"
      ],
      "execution_count": 52,
      "outputs": []
    },
    {
      "cell_type": "markdown",
      "metadata": {
        "id": "KMA0cYcBsEKb",
        "colab_type": "text"
      },
      "source": [
        "## Questão 8\n",
        "\n",
        "Qual a nova média da variável (coluna) `Purchase` após sua normalização? Responda como um único escalar."
      ]
    },
    {
      "cell_type": "code",
      "metadata": {
        "id": "HAJYrtnysEKc",
        "colab_type": "code",
        "colab": {}
      },
      "source": [
        "def q8():\n",
        "    # Retorne aqui o resultado da questão 8.\n",
        "    return float(compras_normalizado.mean())"
      ],
      "execution_count": 53,
      "outputs": []
    },
    {
      "cell_type": "markdown",
      "metadata": {
        "id": "57ArFvBNsEKi",
        "colab_type": "text"
      },
      "source": [
        "## Questão 9\n",
        "\n",
        "Quantas ocorrências entre -1 e 1 inclusive existem da variáel `Purchase` após sua padronização? Responda como um único escalar."
      ]
    },
    {
      "cell_type": "code",
      "metadata": {
        "id": "76JydXv0sEKj",
        "colab_type": "code",
        "colab": {}
      },
      "source": [
        "def q9():\n",
        "    # Retorne aqui o resultado da questão 9.\n",
        "    return int(pesquisa.count()[0])"
      ],
      "execution_count": 78,
      "outputs": []
    },
    {
      "cell_type": "markdown",
      "metadata": {
        "id": "dVccv4xesEKk",
        "colab_type": "text"
      },
      "source": [
        "## Questão 10\n",
        "\n",
        "Podemos afirmar que se uma observação é null em `Product_Category_2` ela também o é em `Product_Category_3`? Responda com um bool (`True`, `False`)."
      ]
    },
    {
      "cell_type": "code",
      "metadata": {
        "id": "X-d0b46psEKl",
        "colab_type": "code",
        "colab": {}
      },
      "source": [
        "def q10():\n",
        "    # Retorne aqui o resultado da questão 10.\n",
        "    return bool(dados_comparacao['Product_Category_2'].equals(dados_comparacao['Product_Category_3']))"
      ],
      "execution_count": 55,
      "outputs": []
    },
    {
      "cell_type": "code",
      "metadata": {
        "id": "nmYVSe8HuTje",
        "colab_type": "code",
        "colab": {}
      },
      "source": [
        ""
      ],
      "execution_count": 55,
      "outputs": []
    }
  ]
}