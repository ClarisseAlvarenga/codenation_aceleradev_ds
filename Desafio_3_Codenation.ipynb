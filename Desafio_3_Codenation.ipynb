{
  "nbformat": 4,
  "nbformat_minor": 0,
  "metadata": {
    "colab": {
      "name": "Desafio_3_Codenation.ipynb",
      "provenance": [],
      "toc_visible": true,
      "authorship_tag": "ABX9TyPR2HjtQJrl5ZM20rUNlJJ5",
      "include_colab_link": true
    },
    "kernelspec": {
      "name": "python3",
      "display_name": "Python 3"
    }
  },
  "cells": [
    {
      "cell_type": "markdown",
      "metadata": {
        "id": "view-in-github",
        "colab_type": "text"
      },
      "source": [
        "<a href=\"https://colab.research.google.com/github/ClarisseAlvarenga/codenation_aceleradev_ds/blob/master/Desafio_3_Codenation.ipynb\" target=\"_parent\"><img src=\"https://colab.research.google.com/assets/colab-badge.svg\" alt=\"Open In Colab\"/></a>"
      ]
    },
    {
      "cell_type": "code",
      "metadata": {
        "id": "hz5dCRyyT0Fg",
        "colab_type": "code",
        "colab": {}
      },
      "source": [
        "import pandas as pd\n",
        "import numpy as np"
      ],
      "execution_count": 76,
      "outputs": []
    },
    {
      "cell_type": "markdown",
      "metadata": {
        "id": "CLwNea-sUADT",
        "colab_type": "text"
      },
      "source": [
        "# DESAFIO\n",
        "\n",
        "**Detalhes**\n",
        "\n",
        "A resposta deve conter os valores da média, mediana, moda e desvio padrão da pontuação de crédito para cada estado do dataset. O arquivo para submissão deve estar em formato json, conforme o arquivo exemplo “submission.json”.\n",
        "\n",
        "**OBSERVAÇÃO:** É recomendado utilizar Python e pandas para esse desafio, mas também é possível utilizar outras ferramentas e linguagens de programação.\n",
        "\n",
        "**Descrição dos dados:** ‘id’: Identificador do cliente ‘sobrenome’: Sobrenome do cliente ‘pontuacao_credito’: Pontuação de crédito do cliente (quanto maior, melhor o cliente geralmente) ‘estado_residencia’: Estado de residência do cliente ‘genero’: Gênero do cliente ‘nivel_estabilidade’: Nível de estabilidade do cliente ‘saldo_conta’: Saldo disponível na conta do cliente ‘numero_produtos’: Número de produtos que o cliente consome ‘possui_cartao_de_credito’: Possui um cartão de crédito cadastrado ‘membro_ativo’: Membro acessa e consome frequentemente\n",
        "\n",
        "Obs: Os dados são fictícios, mas tentam representar a realidade de uma base de clientes de um produto SaaS."
      ]
    },
    {
      "cell_type": "code",
      "metadata": {
        "id": "VSLN33bGT9Mm",
        "colab_type": "code",
        "colab": {
          "base_uri": "https://localhost:8080/",
          "height": 224
        },
        "outputId": "6fdcf938-8c7a-46a4-f47b-94e6a1ef9115"
      },
      "source": [
        "#visualizando os dados\n",
        "dados = pd.read_csv('desafio1.csv')\n",
        "dados.head()"
      ],
      "execution_count": 77,
      "outputs": [
        {
          "output_type": "execute_result",
          "data": {
            "text/html": [
              "<div>\n",
              "<style scoped>\n",
              "    .dataframe tbody tr th:only-of-type {\n",
              "        vertical-align: middle;\n",
              "    }\n",
              "\n",
              "    .dataframe tbody tr th {\n",
              "        vertical-align: top;\n",
              "    }\n",
              "\n",
              "    .dataframe thead th {\n",
              "        text-align: right;\n",
              "    }\n",
              "</style>\n",
              "<table border=\"1\" class=\"dataframe\">\n",
              "  <thead>\n",
              "    <tr style=\"text-align: right;\">\n",
              "      <th></th>\n",
              "      <th>RowNumber</th>\n",
              "      <th>id</th>\n",
              "      <th>sobrenome</th>\n",
              "      <th>pontuacao_credito</th>\n",
              "      <th>estado_residencia</th>\n",
              "      <th>genero</th>\n",
              "      <th>idade</th>\n",
              "      <th>nivel_estabilidade</th>\n",
              "      <th>saldo_conta</th>\n",
              "      <th>numero_produtos</th>\n",
              "      <th>possui_cartao_de_credito</th>\n",
              "      <th>membro_ativo</th>\n",
              "    </tr>\n",
              "  </thead>\n",
              "  <tbody>\n",
              "    <tr>\n",
              "      <th>0</th>\n",
              "      <td>1</td>\n",
              "      <td>e7f44fcbd380d4cef7e6c232cc7e37895c3fd197</td>\n",
              "      <td>6d6e0aa1b9b413e442e2fb68df14b4fc3f91de50</td>\n",
              "      <td>619</td>\n",
              "      <td>SC</td>\n",
              "      <td>F</td>\n",
              "      <td>42</td>\n",
              "      <td>2</td>\n",
              "      <td>0.00</td>\n",
              "      <td>1</td>\n",
              "      <td>1</td>\n",
              "      <td>1</td>\n",
              "    </tr>\n",
              "    <tr>\n",
              "      <th>1</th>\n",
              "      <td>2</td>\n",
              "      <td>28dcb083ad90512da16b9430085c2cddb8ca5e12</td>\n",
              "      <td>48e1ad846796fa314f1b4a6702b83343eb5482c5</td>\n",
              "      <td>608</td>\n",
              "      <td>RS</td>\n",
              "      <td>F</td>\n",
              "      <td>41</td>\n",
              "      <td>1</td>\n",
              "      <td>83807.86</td>\n",
              "      <td>1</td>\n",
              "      <td>0</td>\n",
              "      <td>1</td>\n",
              "    </tr>\n",
              "    <tr>\n",
              "      <th>2</th>\n",
              "      <td>3</td>\n",
              "      <td>774bc378f787438c9c7594e536787d07a097a54b</td>\n",
              "      <td>f2b29d5d934de615812b697132e767dea0f1e9e2</td>\n",
              "      <td>502</td>\n",
              "      <td>SC</td>\n",
              "      <td>F</td>\n",
              "      <td>42</td>\n",
              "      <td>8</td>\n",
              "      <td>159660.80</td>\n",
              "      <td>3</td>\n",
              "      <td>1</td>\n",
              "      <td>0</td>\n",
              "    </tr>\n",
              "    <tr>\n",
              "      <th>3</th>\n",
              "      <td>4</td>\n",
              "      <td>043a71326f7096de155e7f0c559dc62b5e4b7239</td>\n",
              "      <td>85d5c9da7cddd8109ad32a6c348fe2bb10bf99f2</td>\n",
              "      <td>699</td>\n",
              "      <td>SC</td>\n",
              "      <td>F</td>\n",
              "      <td>39</td>\n",
              "      <td>1</td>\n",
              "      <td>0.00</td>\n",
              "      <td>2</td>\n",
              "      <td>0</td>\n",
              "      <td>0</td>\n",
              "    </tr>\n",
              "    <tr>\n",
              "      <th>4</th>\n",
              "      <td>5</td>\n",
              "      <td>37b3bb8ca243955fb3605ec7e1c2a4607cdb3b22</td>\n",
              "      <td>ddc89c837a6933639de75f28171057060bd322df</td>\n",
              "      <td>850</td>\n",
              "      <td>RS</td>\n",
              "      <td>F</td>\n",
              "      <td>43</td>\n",
              "      <td>2</td>\n",
              "      <td>125510.82</td>\n",
              "      <td>1</td>\n",
              "      <td>1</td>\n",
              "      <td>1</td>\n",
              "    </tr>\n",
              "  </tbody>\n",
              "</table>\n",
              "</div>"
            ],
            "text/plain": [
              "   RowNumber  ... membro_ativo\n",
              "0          1  ...            1\n",
              "1          2  ...            1\n",
              "2          3  ...            0\n",
              "3          4  ...            0\n",
              "4          5  ...            1\n",
              "\n",
              "[5 rows x 12 columns]"
            ]
          },
          "metadata": {
            "tags": []
          },
          "execution_count": 77
        }
      ]
    },
    {
      "cell_type": "code",
      "metadata": {
        "id": "zXPznKEcU3BA",
        "colab_type": "code",
        "colab": {
          "base_uri": "https://localhost:8080/",
          "height": 142
        },
        "outputId": "0b4b3af6-4851-4e0a-8156-aff19a94b963"
      },
      "source": [
        "#calculando a média, mediana a moda (usando função lambda pq o groupby não permitiu mode) e desvio padrão\n",
        "#https://pandas.pydata.org/pandas-docs/version/0.23.1/generated/pandas.core.groupby.DataFrameGroupBy.agg.html\n",
        "submission= pd.DataFrame(dados.groupby('estado_residencia')['pontuacao_credito'].agg(['mean', 'median', lambda x: x.mode(),'std'])).reset_index()\n",
        "submission"
      ],
      "execution_count": 78,
      "outputs": [
        {
          "output_type": "execute_result",
          "data": {
            "text/html": [
              "<div>\n",
              "<style scoped>\n",
              "    .dataframe tbody tr th:only-of-type {\n",
              "        vertical-align: middle;\n",
              "    }\n",
              "\n",
              "    .dataframe tbody tr th {\n",
              "        vertical-align: top;\n",
              "    }\n",
              "\n",
              "    .dataframe thead th {\n",
              "        text-align: right;\n",
              "    }\n",
              "</style>\n",
              "<table border=\"1\" class=\"dataframe\">\n",
              "  <thead>\n",
              "    <tr style=\"text-align: right;\">\n",
              "      <th></th>\n",
              "      <th>estado_residencia</th>\n",
              "      <th>mean</th>\n",
              "      <th>median</th>\n",
              "      <th>&lt;lambda_0&gt;</th>\n",
              "      <th>std</th>\n",
              "    </tr>\n",
              "  </thead>\n",
              "  <tbody>\n",
              "    <tr>\n",
              "      <th>0</th>\n",
              "      <td>PR</td>\n",
              "      <td>648.961294</td>\n",
              "      <td>650</td>\n",
              "      <td>850</td>\n",
              "      <td>98.607186</td>\n",
              "    </tr>\n",
              "    <tr>\n",
              "      <th>1</th>\n",
              "      <td>RS</td>\n",
              "      <td>651.105143</td>\n",
              "      <td>650</td>\n",
              "      <td>850</td>\n",
              "      <td>95.136598</td>\n",
              "    </tr>\n",
              "    <tr>\n",
              "      <th>2</th>\n",
              "      <td>SC</td>\n",
              "      <td>649.537653</td>\n",
              "      <td>653</td>\n",
              "      <td>850</td>\n",
              "      <td>97.233493</td>\n",
              "    </tr>\n",
              "  </tbody>\n",
              "</table>\n",
              "</div>"
            ],
            "text/plain": [
              "  estado_residencia        mean  median  <lambda_0>        std\n",
              "0                PR  648.961294     650         850  98.607186\n",
              "1                RS  651.105143     650         850  95.136598\n",
              "2                SC  649.537653     653         850  97.233493"
            ]
          },
          "metadata": {
            "tags": []
          },
          "execution_count": 78
        }
      ]
    },
    {
      "cell_type": "code",
      "metadata": {
        "id": "n1vkUdHHaHWV",
        "colab_type": "code",
        "colab": {}
      },
      "source": [
        "#mudando o nome das colunas\n",
        "submission.columns = ['estado_residencia', 'media', 'mediana', 'moda', 'desvio_padrao']\n"
      ],
      "execution_count": 79,
      "outputs": []
    },
    {
      "cell_type": "code",
      "metadata": {
        "id": "RlVTE_iQax7V",
        "colab_type": "code",
        "colab": {
          "base_uri": "https://localhost:8080/",
          "height": 142
        },
        "outputId": "d31ef49d-42fe-4b53-cbbb-d07a110d5f88"
      },
      "source": [
        "submission "
      ],
      "execution_count": 80,
      "outputs": [
        {
          "output_type": "execute_result",
          "data": {
            "text/html": [
              "<div>\n",
              "<style scoped>\n",
              "    .dataframe tbody tr th:only-of-type {\n",
              "        vertical-align: middle;\n",
              "    }\n",
              "\n",
              "    .dataframe tbody tr th {\n",
              "        vertical-align: top;\n",
              "    }\n",
              "\n",
              "    .dataframe thead th {\n",
              "        text-align: right;\n",
              "    }\n",
              "</style>\n",
              "<table border=\"1\" class=\"dataframe\">\n",
              "  <thead>\n",
              "    <tr style=\"text-align: right;\">\n",
              "      <th></th>\n",
              "      <th>estado_residencia</th>\n",
              "      <th>media</th>\n",
              "      <th>mediana</th>\n",
              "      <th>moda</th>\n",
              "      <th>desvio_padrao</th>\n",
              "    </tr>\n",
              "  </thead>\n",
              "  <tbody>\n",
              "    <tr>\n",
              "      <th>0</th>\n",
              "      <td>PR</td>\n",
              "      <td>648.961294</td>\n",
              "      <td>650</td>\n",
              "      <td>850</td>\n",
              "      <td>98.607186</td>\n",
              "    </tr>\n",
              "    <tr>\n",
              "      <th>1</th>\n",
              "      <td>RS</td>\n",
              "      <td>651.105143</td>\n",
              "      <td>650</td>\n",
              "      <td>850</td>\n",
              "      <td>95.136598</td>\n",
              "    </tr>\n",
              "    <tr>\n",
              "      <th>2</th>\n",
              "      <td>SC</td>\n",
              "      <td>649.537653</td>\n",
              "      <td>653</td>\n",
              "      <td>850</td>\n",
              "      <td>97.233493</td>\n",
              "    </tr>\n",
              "  </tbody>\n",
              "</table>\n",
              "</div>"
            ],
            "text/plain": [
              "  estado_residencia       media  mediana  moda  desvio_padrao\n",
              "0                PR  648.961294      650   850      98.607186\n",
              "1                RS  651.105143      650   850      95.136598\n",
              "2                SC  649.537653      653   850      97.233493"
            ]
          },
          "metadata": {
            "tags": []
          },
          "execution_count": 80
        }
      ]
    },
    {
      "cell_type": "code",
      "metadata": {
        "id": "M5tlKBjjlE-a",
        "colab_type": "code",
        "colab": {}
      },
      "source": [
        "#formatando o DF para o formato desejado\n",
        "submission = submission.transpose()"
      ],
      "execution_count": 81,
      "outputs": []
    },
    {
      "cell_type": "code",
      "metadata": {
        "id": "QjVUYXVWlZdg",
        "colab_type": "code",
        "colab": {
          "base_uri": "https://localhost:8080/",
          "height": 204
        },
        "outputId": "2313d638-7b49-46e4-c607-7a9ed389c192"
      },
      "source": [
        "submission.columns = ['PR', 'RS', 'SC']\n",
        "submission"
      ],
      "execution_count": 82,
      "outputs": [
        {
          "output_type": "execute_result",
          "data": {
            "text/html": [
              "<div>\n",
              "<style scoped>\n",
              "    .dataframe tbody tr th:only-of-type {\n",
              "        vertical-align: middle;\n",
              "    }\n",
              "\n",
              "    .dataframe tbody tr th {\n",
              "        vertical-align: top;\n",
              "    }\n",
              "\n",
              "    .dataframe thead th {\n",
              "        text-align: right;\n",
              "    }\n",
              "</style>\n",
              "<table border=\"1\" class=\"dataframe\">\n",
              "  <thead>\n",
              "    <tr style=\"text-align: right;\">\n",
              "      <th></th>\n",
              "      <th>PR</th>\n",
              "      <th>RS</th>\n",
              "      <th>SC</th>\n",
              "    </tr>\n",
              "  </thead>\n",
              "  <tbody>\n",
              "    <tr>\n",
              "      <th>estado_residencia</th>\n",
              "      <td>PR</td>\n",
              "      <td>RS</td>\n",
              "      <td>SC</td>\n",
              "    </tr>\n",
              "    <tr>\n",
              "      <th>media</th>\n",
              "      <td>648.961</td>\n",
              "      <td>651.105</td>\n",
              "      <td>649.538</td>\n",
              "    </tr>\n",
              "    <tr>\n",
              "      <th>mediana</th>\n",
              "      <td>650</td>\n",
              "      <td>650</td>\n",
              "      <td>653</td>\n",
              "    </tr>\n",
              "    <tr>\n",
              "      <th>moda</th>\n",
              "      <td>850</td>\n",
              "      <td>850</td>\n",
              "      <td>850</td>\n",
              "    </tr>\n",
              "    <tr>\n",
              "      <th>desvio_padrao</th>\n",
              "      <td>98.6072</td>\n",
              "      <td>95.1366</td>\n",
              "      <td>97.2335</td>\n",
              "    </tr>\n",
              "  </tbody>\n",
              "</table>\n",
              "</div>"
            ],
            "text/plain": [
              "                        PR       RS       SC\n",
              "estado_residencia       PR       RS       SC\n",
              "media              648.961  651.105  649.538\n",
              "mediana                650      650      653\n",
              "moda                   850      850      850\n",
              "desvio_padrao      98.6072  95.1366  97.2335"
            ]
          },
          "metadata": {
            "tags": []
          },
          "execution_count": 82
        }
      ]
    },
    {
      "cell_type": "code",
      "metadata": {
        "id": "5qJb5O8AoH_x",
        "colab_type": "code",
        "colab": {}
      },
      "source": [
        "submission.drop('estado_residencia', inplace=True)"
      ],
      "execution_count": 83,
      "outputs": []
    },
    {
      "cell_type": "code",
      "metadata": {
        "id": "Os-aPKsuo_yw",
        "colab_type": "code",
        "colab": {
          "base_uri": "https://localhost:8080/",
          "height": 173
        },
        "outputId": "46278aca-4781-4f38-f3b5-03bc757fa88e"
      },
      "source": [
        "#mudando a ordem das colunas\n",
        "df = submission.reindex((submission.columns.sort_values(ascending=False)), axis=1)\n",
        "df"
      ],
      "execution_count": 84,
      "outputs": [
        {
          "output_type": "execute_result",
          "data": {
            "text/html": [
              "<div>\n",
              "<style scoped>\n",
              "    .dataframe tbody tr th:only-of-type {\n",
              "        vertical-align: middle;\n",
              "    }\n",
              "\n",
              "    .dataframe tbody tr th {\n",
              "        vertical-align: top;\n",
              "    }\n",
              "\n",
              "    .dataframe thead th {\n",
              "        text-align: right;\n",
              "    }\n",
              "</style>\n",
              "<table border=\"1\" class=\"dataframe\">\n",
              "  <thead>\n",
              "    <tr style=\"text-align: right;\">\n",
              "      <th></th>\n",
              "      <th>SC</th>\n",
              "      <th>RS</th>\n",
              "      <th>PR</th>\n",
              "    </tr>\n",
              "  </thead>\n",
              "  <tbody>\n",
              "    <tr>\n",
              "      <th>media</th>\n",
              "      <td>649.538</td>\n",
              "      <td>651.105</td>\n",
              "      <td>648.961</td>\n",
              "    </tr>\n",
              "    <tr>\n",
              "      <th>mediana</th>\n",
              "      <td>653</td>\n",
              "      <td>650</td>\n",
              "      <td>650</td>\n",
              "    </tr>\n",
              "    <tr>\n",
              "      <th>moda</th>\n",
              "      <td>850</td>\n",
              "      <td>850</td>\n",
              "      <td>850</td>\n",
              "    </tr>\n",
              "    <tr>\n",
              "      <th>desvio_padrao</th>\n",
              "      <td>97.2335</td>\n",
              "      <td>95.1366</td>\n",
              "      <td>98.6072</td>\n",
              "    </tr>\n",
              "  </tbody>\n",
              "</table>\n",
              "</div>"
            ],
            "text/plain": [
              "                    SC       RS       PR\n",
              "media          649.538  651.105  648.961\n",
              "mediana            653      650      650\n",
              "moda               850      850      850\n",
              "desvio_padrao  97.2335  95.1366  98.6072"
            ]
          },
          "metadata": {
            "tags": []
          },
          "execution_count": 84
        }
      ]
    },
    {
      "cell_type": "markdown",
      "metadata": {
        "id": "DhHiLR2HUtr5",
        "colab_type": "text"
      },
      "source": [
        "### CRIANDO O ARQUIVO DO DESAFIO"
      ]
    },
    {
      "cell_type": "code",
      "metadata": {
        "id": "vGo26HPQpxjn",
        "colab_type": "code",
        "colab": {}
      },
      "source": [
        "#transformando em JSON\n",
        "\n",
        "submission.to_json('submission_Clarisse1.json', orient='columns')"
      ],
      "execution_count": 85,
      "outputs": []
    },
    {
      "cell_type": "code",
      "metadata": {
        "id": "-hvfv15q1unO",
        "colab_type": "code",
        "colab": {
          "base_uri": "https://localhost:8080/",
          "height": 54
        },
        "outputId": "b8efbc29-ba69-4de7-9b04-33b44645f730"
      },
      "source": [
        "submission.to_json(orient='columns')"
      ],
      "execution_count": 86,
      "outputs": [
        {
          "output_type": "execute_result",
          "data": {
            "text/plain": [
              "'{\"PR\":{\"media\":648.9612940497,\"mediana\":650,\"moda\":850,\"desvio_padrao\":98.6071859131},\"RS\":{\"media\":651.1051428571,\"mediana\":650,\"moda\":850,\"desvio_padrao\":95.1365984138},\"SC\":{\"media\":649.5376527423,\"mediana\":653,\"moda\":850,\"desvio_padrao\":97.2334927934}}'"
            ]
          },
          "metadata": {
            "tags": []
          },
          "execution_count": 86
        }
      ]
    },
    {
      "cell_type": "code",
      "metadata": {
        "id": "B4_LBANFU12E",
        "colab_type": "code",
        "colab": {
          "base_uri": "https://localhost:8080/",
          "height": 54
        },
        "outputId": "3031728f-ea3d-42b2-c79f-130f46e3fe05"
      },
      "source": [
        "df.to_json()"
      ],
      "execution_count": 108,
      "outputs": [
        {
          "output_type": "execute_result",
          "data": {
            "text/plain": [
              "'{\"SC\":{\"media\":649.5376527423,\"mediana\":653,\"moda\":850,\"desvio_padrao\":97.2334927934},\"RS\":{\"media\":651.1051428571,\"mediana\":650,\"moda\":850,\"desvio_padrao\":95.1365984138},\"PR\":{\"media\":648.9612940497,\"mediana\":650,\"moda\":850,\"desvio_padrao\":98.6071859131}}'"
            ]
          },
          "metadata": {
            "tags": []
          },
          "execution_count": 108
        }
      ]
    },
    {
      "cell_type": "markdown",
      "metadata": {
        "id": "4Ahn0lq6VF0H",
        "colab_type": "text"
      },
      "source": [
        "# CONFERINDO OS VALORES DE MANEIRA MAIS DETALHADA - dividindo em 3 DataFrames"
      ]
    },
    {
      "cell_type": "markdown",
      "metadata": {
        "id": "Ldyzw9CHVksb",
        "colab_type": "text"
      },
      "source": [
        "## PARANÁ"
      ]
    },
    {
      "cell_type": "code",
      "metadata": {
        "id": "MTXC7TpYTqef",
        "colab_type": "code",
        "colab": {
          "base_uri": "https://localhost:8080/",
          "height": 224
        },
        "outputId": "a67aa0c6-bb2a-4123-b9b0-9f0059e70ea0"
      },
      "source": [
        "dados_PR = dados.query(\"estado_residencia == 'PR'\")\n",
        "dados_PR.head()"
      ],
      "execution_count": 87,
      "outputs": [
        {
          "output_type": "execute_result",
          "data": {
            "text/html": [
              "<div>\n",
              "<style scoped>\n",
              "    .dataframe tbody tr th:only-of-type {\n",
              "        vertical-align: middle;\n",
              "    }\n",
              "\n",
              "    .dataframe tbody tr th {\n",
              "        vertical-align: top;\n",
              "    }\n",
              "\n",
              "    .dataframe thead th {\n",
              "        text-align: right;\n",
              "    }\n",
              "</style>\n",
              "<table border=\"1\" class=\"dataframe\">\n",
              "  <thead>\n",
              "    <tr style=\"text-align: right;\">\n",
              "      <th></th>\n",
              "      <th>RowNumber</th>\n",
              "      <th>id</th>\n",
              "      <th>sobrenome</th>\n",
              "      <th>pontuacao_credito</th>\n",
              "      <th>estado_residencia</th>\n",
              "      <th>genero</th>\n",
              "      <th>idade</th>\n",
              "      <th>nivel_estabilidade</th>\n",
              "      <th>saldo_conta</th>\n",
              "      <th>numero_produtos</th>\n",
              "      <th>possui_cartao_de_credito</th>\n",
              "      <th>membro_ativo</th>\n",
              "    </tr>\n",
              "  </thead>\n",
              "  <tbody>\n",
              "    <tr>\n",
              "      <th>7</th>\n",
              "      <td>8</td>\n",
              "      <td>6704b822c203e2dda9f225dfc4f1bed2ae9044e6</td>\n",
              "      <td>336b42483e6a17f48eb040a251b5d6e64d1351a9</td>\n",
              "      <td>376</td>\n",
              "      <td>PR</td>\n",
              "      <td>F</td>\n",
              "      <td>29</td>\n",
              "      <td>4</td>\n",
              "      <td>115046.74</td>\n",
              "      <td>4</td>\n",
              "      <td>1</td>\n",
              "      <td>0</td>\n",
              "    </tr>\n",
              "    <tr>\n",
              "      <th>15</th>\n",
              "      <td>16</td>\n",
              "      <td>04a488f5afe23bc8e0bc2dab36b7ef31a2175465</td>\n",
              "      <td>ae50d67a10a428f042478724f8696faad69c16e7</td>\n",
              "      <td>616</td>\n",
              "      <td>PR</td>\n",
              "      <td>M</td>\n",
              "      <td>45</td>\n",
              "      <td>3</td>\n",
              "      <td>143129.41</td>\n",
              "      <td>2</td>\n",
              "      <td>0</td>\n",
              "      <td>1</td>\n",
              "    </tr>\n",
              "    <tr>\n",
              "      <th>16</th>\n",
              "      <td>17</td>\n",
              "      <td>5970b1f277e0c09c2fbdf5c0b2961e286d1eee8a</td>\n",
              "      <td>b7e8d8eaaffa2e0990b222ca486b9c2426c2cd7e</td>\n",
              "      <td>653</td>\n",
              "      <td>PR</td>\n",
              "      <td>M</td>\n",
              "      <td>58</td>\n",
              "      <td>1</td>\n",
              "      <td>132602.88</td>\n",
              "      <td>1</td>\n",
              "      <td>1</td>\n",
              "      <td>0</td>\n",
              "    </tr>\n",
              "    <tr>\n",
              "      <th>26</th>\n",
              "      <td>27</td>\n",
              "      <td>93f9d14870d4e1f4b406e822aeda2522034e36a7</td>\n",
              "      <td>190ad954707e053c18af1de13a140cb70a6ff58c</td>\n",
              "      <td>756</td>\n",
              "      <td>PR</td>\n",
              "      <td>M</td>\n",
              "      <td>36</td>\n",
              "      <td>2</td>\n",
              "      <td>136815.64</td>\n",
              "      <td>1</td>\n",
              "      <td>1</td>\n",
              "      <td>1</td>\n",
              "    </tr>\n",
              "    <tr>\n",
              "      <th>28</th>\n",
              "      <td>29</td>\n",
              "      <td>29696d097f5af397971553e03af3d72544a2de43</td>\n",
              "      <td>bb0562f482fc937e49bca1fbce8619797d02a123</td>\n",
              "      <td>574</td>\n",
              "      <td>PR</td>\n",
              "      <td>F</td>\n",
              "      <td>43</td>\n",
              "      <td>3</td>\n",
              "      <td>141349.43</td>\n",
              "      <td>1</td>\n",
              "      <td>1</td>\n",
              "      <td>1</td>\n",
              "    </tr>\n",
              "  </tbody>\n",
              "</table>\n",
              "</div>"
            ],
            "text/plain": [
              "    RowNumber  ... membro_ativo\n",
              "7           8  ...            0\n",
              "15         16  ...            1\n",
              "16         17  ...            0\n",
              "26         27  ...            1\n",
              "28         29  ...            1\n",
              "\n",
              "[5 rows x 12 columns]"
            ]
          },
          "metadata": {
            "tags": []
          },
          "execution_count": 87
        }
      ]
    },
    {
      "cell_type": "code",
      "metadata": {
        "id": "KDgUHDgXVmdv",
        "colab_type": "code",
        "colab": {
          "base_uri": "https://localhost:8080/",
          "height": 34
        },
        "outputId": "aea773e0-7ddc-4358-99fa-054b25a66788"
      },
      "source": [
        "#média\n",
        "media_PR = dados_PR.pontuacao_credito.mean()\n",
        "media_PR"
      ],
      "execution_count": 88,
      "outputs": [
        {
          "output_type": "execute_result",
          "data": {
            "text/plain": [
              "648.9612940496822"
            ]
          },
          "metadata": {
            "tags": []
          },
          "execution_count": 88
        }
      ]
    },
    {
      "cell_type": "code",
      "metadata": {
        "id": "8YFfYzm3Vml5",
        "colab_type": "code",
        "colab": {
          "base_uri": "https://localhost:8080/",
          "height": 34
        },
        "outputId": "76b3aab8-3fb1-49b3-d9ec-e19573037f64"
      },
      "source": [
        "#mediana\n",
        "mediana_PR = dados_PR.pontuacao_credito.median()\n",
        "mediana_PR"
      ],
      "execution_count": 89,
      "outputs": [
        {
          "output_type": "execute_result",
          "data": {
            "text/plain": [
              "650.0"
            ]
          },
          "metadata": {
            "tags": []
          },
          "execution_count": 89
        }
      ]
    },
    {
      "cell_type": "code",
      "metadata": {
        "id": "kaFp23txVmut",
        "colab_type": "code",
        "colab": {
          "base_uri": "https://localhost:8080/",
          "height": 51
        },
        "outputId": "7a3d6a4f-15c9-4e02-b32d-82cf2fc4a6b5"
      },
      "source": [
        "#moda\n",
        "moda_PR = dados_PR.pontuacao_credito.mode()\n",
        "moda_PR"
      ],
      "execution_count": 90,
      "outputs": [
        {
          "output_type": "execute_result",
          "data": {
            "text/plain": [
              "0    850\n",
              "dtype: int64"
            ]
          },
          "metadata": {
            "tags": []
          },
          "execution_count": 90
        }
      ]
    },
    {
      "cell_type": "code",
      "metadata": {
        "id": "FjfLHaOAVm4e",
        "colab_type": "code",
        "colab": {
          "base_uri": "https://localhost:8080/",
          "height": 34
        },
        "outputId": "8780c3b3-3e7d-48ad-f2fb-88ed430ef6f8"
      },
      "source": [
        "#desvio_padrão\n",
        "desvio_padrao_PR = dados_PR.pontuacao_credito.std()\n",
        "desvio_padrao_PR\n"
      ],
      "execution_count": 91,
      "outputs": [
        {
          "output_type": "execute_result",
          "data": {
            "text/plain": [
              "98.60718591309772"
            ]
          },
          "metadata": {
            "tags": []
          },
          "execution_count": 91
        }
      ]
    },
    {
      "cell_type": "markdown",
      "metadata": {
        "id": "MkZkI-YGVnwe",
        "colab_type": "text"
      },
      "source": [
        "## SANTA CATARINA"
      ]
    },
    {
      "cell_type": "code",
      "metadata": {
        "id": "ZHqiZhOYVWnx",
        "colab_type": "code",
        "colab": {
          "base_uri": "https://localhost:8080/",
          "height": 224
        },
        "outputId": "33259944-8cfd-4d06-cd83-40c9e564ee51"
      },
      "source": [
        "dados_SC = dados.query(\"estado_residencia == 'SC'\")\n",
        "dados_SC.head()"
      ],
      "execution_count": 92,
      "outputs": [
        {
          "output_type": "execute_result",
          "data": {
            "text/html": [
              "<div>\n",
              "<style scoped>\n",
              "    .dataframe tbody tr th:only-of-type {\n",
              "        vertical-align: middle;\n",
              "    }\n",
              "\n",
              "    .dataframe tbody tr th {\n",
              "        vertical-align: top;\n",
              "    }\n",
              "\n",
              "    .dataframe thead th {\n",
              "        text-align: right;\n",
              "    }\n",
              "</style>\n",
              "<table border=\"1\" class=\"dataframe\">\n",
              "  <thead>\n",
              "    <tr style=\"text-align: right;\">\n",
              "      <th></th>\n",
              "      <th>RowNumber</th>\n",
              "      <th>id</th>\n",
              "      <th>sobrenome</th>\n",
              "      <th>pontuacao_credito</th>\n",
              "      <th>estado_residencia</th>\n",
              "      <th>genero</th>\n",
              "      <th>idade</th>\n",
              "      <th>nivel_estabilidade</th>\n",
              "      <th>saldo_conta</th>\n",
              "      <th>numero_produtos</th>\n",
              "      <th>possui_cartao_de_credito</th>\n",
              "      <th>membro_ativo</th>\n",
              "    </tr>\n",
              "  </thead>\n",
              "  <tbody>\n",
              "    <tr>\n",
              "      <th>0</th>\n",
              "      <td>1</td>\n",
              "      <td>e7f44fcbd380d4cef7e6c232cc7e37895c3fd197</td>\n",
              "      <td>6d6e0aa1b9b413e442e2fb68df14b4fc3f91de50</td>\n",
              "      <td>619</td>\n",
              "      <td>SC</td>\n",
              "      <td>F</td>\n",
              "      <td>42</td>\n",
              "      <td>2</td>\n",
              "      <td>0.00</td>\n",
              "      <td>1</td>\n",
              "      <td>1</td>\n",
              "      <td>1</td>\n",
              "    </tr>\n",
              "    <tr>\n",
              "      <th>2</th>\n",
              "      <td>3</td>\n",
              "      <td>774bc378f787438c9c7594e536787d07a097a54b</td>\n",
              "      <td>f2b29d5d934de615812b697132e767dea0f1e9e2</td>\n",
              "      <td>502</td>\n",
              "      <td>SC</td>\n",
              "      <td>F</td>\n",
              "      <td>42</td>\n",
              "      <td>8</td>\n",
              "      <td>159660.80</td>\n",
              "      <td>3</td>\n",
              "      <td>1</td>\n",
              "      <td>0</td>\n",
              "    </tr>\n",
              "    <tr>\n",
              "      <th>3</th>\n",
              "      <td>4</td>\n",
              "      <td>043a71326f7096de155e7f0c559dc62b5e4b7239</td>\n",
              "      <td>85d5c9da7cddd8109ad32a6c348fe2bb10bf99f2</td>\n",
              "      <td>699</td>\n",
              "      <td>SC</td>\n",
              "      <td>F</td>\n",
              "      <td>39</td>\n",
              "      <td>1</td>\n",
              "      <td>0.00</td>\n",
              "      <td>2</td>\n",
              "      <td>0</td>\n",
              "      <td>0</td>\n",
              "    </tr>\n",
              "    <tr>\n",
              "      <th>6</th>\n",
              "      <td>7</td>\n",
              "      <td>8f3cc64a0a84bab38fefb030f09757d0cbf03bb2</td>\n",
              "      <td>abec3e525ab40e45975c91d4fa2bc7b318d93de4</td>\n",
              "      <td>822</td>\n",
              "      <td>SC</td>\n",
              "      <td>M</td>\n",
              "      <td>50</td>\n",
              "      <td>7</td>\n",
              "      <td>0.00</td>\n",
              "      <td>2</td>\n",
              "      <td>1</td>\n",
              "      <td>1</td>\n",
              "    </tr>\n",
              "    <tr>\n",
              "      <th>8</th>\n",
              "      <td>9</td>\n",
              "      <td>35f41954a87f722a3960e5fa8ce898a09398a564</td>\n",
              "      <td>53a417796c777851003b3f2431e8eef5625ec15b</td>\n",
              "      <td>501</td>\n",
              "      <td>SC</td>\n",
              "      <td>M</td>\n",
              "      <td>44</td>\n",
              "      <td>4</td>\n",
              "      <td>142051.07</td>\n",
              "      <td>2</td>\n",
              "      <td>0</td>\n",
              "      <td>1</td>\n",
              "    </tr>\n",
              "  </tbody>\n",
              "</table>\n",
              "</div>"
            ],
            "text/plain": [
              "   RowNumber  ... membro_ativo\n",
              "0          1  ...            1\n",
              "2          3  ...            0\n",
              "3          4  ...            0\n",
              "6          7  ...            1\n",
              "8          9  ...            1\n",
              "\n",
              "[5 rows x 12 columns]"
            ]
          },
          "metadata": {
            "tags": []
          },
          "execution_count": 92
        }
      ]
    },
    {
      "cell_type": "code",
      "metadata": {
        "id": "PV3hJrgFVqsG",
        "colab_type": "code",
        "colab": {
          "base_uri": "https://localhost:8080/",
          "height": 34
        },
        "outputId": "73ac9c1c-7960-4caa-fa6e-4a868ea6f371"
      },
      "source": [
        "#média\n",
        "media_SC = dados_SC.pontuacao_credito.mean()\n",
        "media_SC"
      ],
      "execution_count": 93,
      "outputs": [
        {
          "output_type": "execute_result",
          "data": {
            "text/plain": [
              "649.5376527422563"
            ]
          },
          "metadata": {
            "tags": []
          },
          "execution_count": 93
        }
      ]
    },
    {
      "cell_type": "code",
      "metadata": {
        "id": "DtCVjySxVq02",
        "colab_type": "code",
        "colab": {
          "base_uri": "https://localhost:8080/",
          "height": 34
        },
        "outputId": "5a0cc794-0681-4139-918a-7e17300906a8"
      },
      "source": [
        "#mediana\n",
        "mediana_SC = dados_SC.pontuacao_credito.median()\n",
        "mediana_SC"
      ],
      "execution_count": 94,
      "outputs": [
        {
          "output_type": "execute_result",
          "data": {
            "text/plain": [
              "653.0"
            ]
          },
          "metadata": {
            "tags": []
          },
          "execution_count": 94
        }
      ]
    },
    {
      "cell_type": "code",
      "metadata": {
        "id": "2qVJxCOnVq9F",
        "colab_type": "code",
        "colab": {
          "base_uri": "https://localhost:8080/",
          "height": 51
        },
        "outputId": "0bba7bfb-6552-4a15-e910-68cb3bc82207"
      },
      "source": [
        "#moda\n",
        "moda_SC = dados_SC.pontuacao_credito.mode()\n",
        "moda_SC"
      ],
      "execution_count": 95,
      "outputs": [
        {
          "output_type": "execute_result",
          "data": {
            "text/plain": [
              "0    850\n",
              "dtype: int64"
            ]
          },
          "metadata": {
            "tags": []
          },
          "execution_count": 95
        }
      ]
    },
    {
      "cell_type": "code",
      "metadata": {
        "id": "Sq6a9DAbVrF2",
        "colab_type": "code",
        "colab": {
          "base_uri": "https://localhost:8080/",
          "height": 34
        },
        "outputId": "c1ca3a90-06fb-4574-cf10-270019696ed6"
      },
      "source": [
        "#desvio_padrão\n",
        "desvio_padrao_SC = dados_SC.pontuacao_credito.std()\n",
        "desvio_padrao_SC"
      ],
      "execution_count": 96,
      "outputs": [
        {
          "output_type": "execute_result",
          "data": {
            "text/plain": [
              "97.23349279343306"
            ]
          },
          "metadata": {
            "tags": []
          },
          "execution_count": 96
        }
      ]
    },
    {
      "cell_type": "markdown",
      "metadata": {
        "id": "lmcLEec3VsUk",
        "colab_type": "text"
      },
      "source": [
        "## RIO GRANDE DO SUL"
      ]
    },
    {
      "cell_type": "code",
      "metadata": {
        "id": "u9Lna5gTVaFw",
        "colab_type": "code",
        "colab": {
          "base_uri": "https://localhost:8080/",
          "height": 224
        },
        "outputId": "5d690107-96be-4967-c4b0-e2eecf97e0a1"
      },
      "source": [
        "dados_RS = dados.query(\"estado_residencia == 'RS'\")\n",
        "dados_RS.head()"
      ],
      "execution_count": 97,
      "outputs": [
        {
          "output_type": "execute_result",
          "data": {
            "text/html": [
              "<div>\n",
              "<style scoped>\n",
              "    .dataframe tbody tr th:only-of-type {\n",
              "        vertical-align: middle;\n",
              "    }\n",
              "\n",
              "    .dataframe tbody tr th {\n",
              "        vertical-align: top;\n",
              "    }\n",
              "\n",
              "    .dataframe thead th {\n",
              "        text-align: right;\n",
              "    }\n",
              "</style>\n",
              "<table border=\"1\" class=\"dataframe\">\n",
              "  <thead>\n",
              "    <tr style=\"text-align: right;\">\n",
              "      <th></th>\n",
              "      <th>RowNumber</th>\n",
              "      <th>id</th>\n",
              "      <th>sobrenome</th>\n",
              "      <th>pontuacao_credito</th>\n",
              "      <th>estado_residencia</th>\n",
              "      <th>genero</th>\n",
              "      <th>idade</th>\n",
              "      <th>nivel_estabilidade</th>\n",
              "      <th>saldo_conta</th>\n",
              "      <th>numero_produtos</th>\n",
              "      <th>possui_cartao_de_credito</th>\n",
              "      <th>membro_ativo</th>\n",
              "    </tr>\n",
              "  </thead>\n",
              "  <tbody>\n",
              "    <tr>\n",
              "      <th>1</th>\n",
              "      <td>2</td>\n",
              "      <td>28dcb083ad90512da16b9430085c2cddb8ca5e12</td>\n",
              "      <td>48e1ad846796fa314f1b4a6702b83343eb5482c5</td>\n",
              "      <td>608</td>\n",
              "      <td>RS</td>\n",
              "      <td>F</td>\n",
              "      <td>41</td>\n",
              "      <td>1</td>\n",
              "      <td>83807.86</td>\n",
              "      <td>1</td>\n",
              "      <td>0</td>\n",
              "      <td>1</td>\n",
              "    </tr>\n",
              "    <tr>\n",
              "      <th>4</th>\n",
              "      <td>5</td>\n",
              "      <td>37b3bb8ca243955fb3605ec7e1c2a4607cdb3b22</td>\n",
              "      <td>ddc89c837a6933639de75f28171057060bd322df</td>\n",
              "      <td>850</td>\n",
              "      <td>RS</td>\n",
              "      <td>F</td>\n",
              "      <td>43</td>\n",
              "      <td>2</td>\n",
              "      <td>125510.82</td>\n",
              "      <td>1</td>\n",
              "      <td>1</td>\n",
              "      <td>1</td>\n",
              "    </tr>\n",
              "    <tr>\n",
              "      <th>5</th>\n",
              "      <td>6</td>\n",
              "      <td>db5cf32c3fbc7c5d8f8313afca1d099de6dc055f</td>\n",
              "      <td>a596384ca70664af4c5fac9f935cff186b8e8bc0</td>\n",
              "      <td>645</td>\n",
              "      <td>RS</td>\n",
              "      <td>M</td>\n",
              "      <td>44</td>\n",
              "      <td>8</td>\n",
              "      <td>113755.78</td>\n",
              "      <td>2</td>\n",
              "      <td>1</td>\n",
              "      <td>0</td>\n",
              "    </tr>\n",
              "    <tr>\n",
              "      <th>11</th>\n",
              "      <td>12</td>\n",
              "      <td>727d2911ca645148ecb222005c5f4f8ccf72b4d6</td>\n",
              "      <td>a1009913e51c3c11ef2e88eda344ec5befa13fd4</td>\n",
              "      <td>497</td>\n",
              "      <td>RS</td>\n",
              "      <td>M</td>\n",
              "      <td>24</td>\n",
              "      <td>3</td>\n",
              "      <td>0.00</td>\n",
              "      <td>2</td>\n",
              "      <td>1</td>\n",
              "      <td>0</td>\n",
              "    </tr>\n",
              "    <tr>\n",
              "      <th>14</th>\n",
              "      <td>15</td>\n",
              "      <td>4f883154a84d3fda402e17686bfe212558f7f15e</td>\n",
              "      <td>2ad0c93dcf651c0afe5e5aa7a8778f7c3ec5769e</td>\n",
              "      <td>635</td>\n",
              "      <td>RS</td>\n",
              "      <td>F</td>\n",
              "      <td>35</td>\n",
              "      <td>7</td>\n",
              "      <td>0.00</td>\n",
              "      <td>2</td>\n",
              "      <td>1</td>\n",
              "      <td>1</td>\n",
              "    </tr>\n",
              "  </tbody>\n",
              "</table>\n",
              "</div>"
            ],
            "text/plain": [
              "    RowNumber  ... membro_ativo\n",
              "1           2  ...            1\n",
              "4           5  ...            1\n",
              "5           6  ...            0\n",
              "11         12  ...            0\n",
              "14         15  ...            1\n",
              "\n",
              "[5 rows x 12 columns]"
            ]
          },
          "metadata": {
            "tags": []
          },
          "execution_count": 97
        }
      ]
    },
    {
      "cell_type": "code",
      "metadata": {
        "id": "OXuz93ZoVdP4",
        "colab_type": "code",
        "colab": {
          "base_uri": "https://localhost:8080/",
          "height": 34
        },
        "outputId": "8f941161-0b89-417c-cf3c-4b9d2372a997"
      },
      "source": [
        "#média\n",
        "media_RS = dados_RS.pontuacao_credito.mean()\n",
        "media_RS"
      ],
      "execution_count": 98,
      "outputs": [
        {
          "output_type": "execute_result",
          "data": {
            "text/plain": [
              "651.1051428571428"
            ]
          },
          "metadata": {
            "tags": []
          },
          "execution_count": 98
        }
      ]
    },
    {
      "cell_type": "code",
      "metadata": {
        "id": "ls-gt5wxVweG",
        "colab_type": "code",
        "colab": {
          "base_uri": "https://localhost:8080/",
          "height": 34
        },
        "outputId": "73633844-d034-4ca2-e45b-38063eb69e1d"
      },
      "source": [
        "#mediana\n",
        "mediana_RS = dados_RS.pontuacao_credito.median()\n",
        "mediana_RS"
      ],
      "execution_count": 99,
      "outputs": [
        {
          "output_type": "execute_result",
          "data": {
            "text/plain": [
              "650.0"
            ]
          },
          "metadata": {
            "tags": []
          },
          "execution_count": 99
        }
      ]
    },
    {
      "cell_type": "code",
      "metadata": {
        "id": "nchvJTvIVwl_",
        "colab_type": "code",
        "colab": {
          "base_uri": "https://localhost:8080/",
          "height": 51
        },
        "outputId": "d8f534b5-1b5f-4593-cebd-f24ff01ebf45"
      },
      "source": [
        "#moda\n",
        "moda_RS = dados_RS.pontuacao_credito.mode()\n",
        "moda_RS"
      ],
      "execution_count": 100,
      "outputs": [
        {
          "output_type": "execute_result",
          "data": {
            "text/plain": [
              "0    850\n",
              "dtype: int64"
            ]
          },
          "metadata": {
            "tags": []
          },
          "execution_count": 100
        }
      ]
    },
    {
      "cell_type": "code",
      "metadata": {
        "id": "Hqm9oKCZVwq3",
        "colab_type": "code",
        "colab": {
          "base_uri": "https://localhost:8080/",
          "height": 34
        },
        "outputId": "0434d95b-a427-47ef-d00f-8695090dec99"
      },
      "source": [
        "#desvio_padrão\n",
        "desvio_padrao_RS = dados_RS.pontuacao_credito.std()\n",
        "desvio_padrao_RS"
      ],
      "execution_count": 101,
      "outputs": [
        {
          "output_type": "execute_result",
          "data": {
            "text/plain": [
              "95.1365984138357"
            ]
          },
          "metadata": {
            "tags": []
          },
          "execution_count": 101
        }
      ]
    },
    {
      "cell_type": "markdown",
      "metadata": {
        "id": "lFKOGZwBUjt0",
        "colab_type": "text"
      },
      "source": [
        "# CRIANDO UM NOVO DATAFRAME E SUA RESPECTIVA SAÍDA JSON"
      ]
    },
    {
      "cell_type": "markdown",
      "metadata": {
        "id": "A3GP_a_29dhI",
        "colab_type": "text"
      },
      "source": [
        "## COMO O PASSAR O INDEX COMO LISTA INTERFERE NA CRIAÇÃO DO JSON:\n",
        "\n",
        " # $[['a', 'b', 'c']]$"
      ]
    },
    {
      "cell_type": "code",
      "metadata": {
        "id": "rTzxR8Z7XOPG",
        "colab_type": "code",
        "colab": {
          "base_uri": "https://localhost:8080/",
          "height": 173
        },
        "outputId": "8e79d384-db9a-4205-8348-4403c0e3a5a4"
      },
      "source": [
        "#fazendo um DF \"manualmente\"\n",
        "#aqui inclui o index como uma lista (usando \"[[]]\" ao invés do array \"[]\", e isto influenciou na criação do JSON)\n",
        "PR = [media_PR, mediana_PR, moda_PR[0], desvio_padrao_PR]\n",
        "SC = [media_SC, mediana_SC, moda_SC[0], desvio_padrao_SC]\n",
        "RS = [media_RS, mediana_RS, moda_RS[0], desvio_padrao_RS]\n",
        "\n",
        "df_final = pd.DataFrame({ 'PR': PR, 'SC': SC, 'RS':RS}, index = [['media', 'mediana', 'moda', 'desvio_padrao']]) #a diferença está nessa linha\n",
        "df_final\n"
      ],
      "execution_count": 102,
      "outputs": [
        {
          "output_type": "execute_result",
          "data": {
            "text/html": [
              "<div>\n",
              "<style scoped>\n",
              "    .dataframe tbody tr th:only-of-type {\n",
              "        vertical-align: middle;\n",
              "    }\n",
              "\n",
              "    .dataframe tbody tr th {\n",
              "        vertical-align: top;\n",
              "    }\n",
              "\n",
              "    .dataframe thead th {\n",
              "        text-align: right;\n",
              "    }\n",
              "</style>\n",
              "<table border=\"1\" class=\"dataframe\">\n",
              "  <thead>\n",
              "    <tr style=\"text-align: right;\">\n",
              "      <th></th>\n",
              "      <th>PR</th>\n",
              "      <th>SC</th>\n",
              "      <th>RS</th>\n",
              "    </tr>\n",
              "  </thead>\n",
              "  <tbody>\n",
              "    <tr>\n",
              "      <th>media</th>\n",
              "      <td>648.961294</td>\n",
              "      <td>649.537653</td>\n",
              "      <td>651.105143</td>\n",
              "    </tr>\n",
              "    <tr>\n",
              "      <th>mediana</th>\n",
              "      <td>650.000000</td>\n",
              "      <td>653.000000</td>\n",
              "      <td>650.000000</td>\n",
              "    </tr>\n",
              "    <tr>\n",
              "      <th>moda</th>\n",
              "      <td>850.000000</td>\n",
              "      <td>850.000000</td>\n",
              "      <td>850.000000</td>\n",
              "    </tr>\n",
              "    <tr>\n",
              "      <th>desvio_padrao</th>\n",
              "      <td>98.607186</td>\n",
              "      <td>97.233493</td>\n",
              "      <td>95.136598</td>\n",
              "    </tr>\n",
              "  </tbody>\n",
              "</table>\n",
              "</div>"
            ],
            "text/plain": [
              "                       PR          SC          RS\n",
              "media          648.961294  649.537653  651.105143\n",
              "mediana        650.000000  653.000000  650.000000\n",
              "moda           850.000000  850.000000  850.000000\n",
              "desvio_padrao   98.607186   97.233493   95.136598"
            ]
          },
          "metadata": {
            "tags": []
          },
          "execution_count": 102
        }
      ]
    },
    {
      "cell_type": "markdown",
      "metadata": {
        "id": "bRHvg8M29-Fb",
        "colab_type": "text"
      },
      "source": [
        "####  SAÍDA JSON \"INCORRETA\""
      ]
    },
    {
      "cell_type": "code",
      "metadata": {
        "id": "JRXE7KhqodKA",
        "colab_type": "code",
        "colab": {
          "base_uri": "https://localhost:8080/",
          "height": 54
        },
        "outputId": "9327437f-9a29-4ae5-918f-23dbbc606fdf"
      },
      "source": [
        "#especificando para criar por colunas\n",
        "df_final.to_json(orient='columns')"
      ],
      "execution_count": 103,
      "outputs": [
        {
          "output_type": "execute_result",
          "data": {
            "text/plain": [
              "'{\"PR\":{\"(\\'media\\',)\":648.9612940497,\"(\\'mediana\\',)\":650.0,\"(\\'moda\\',)\":850.0,\"(\\'desvio_padrao\\',)\":98.6071859131},\"SC\":{\"(\\'media\\',)\":649.5376527423,\"(\\'mediana\\',)\":653.0,\"(\\'moda\\',)\":850.0,\"(\\'desvio_padrao\\',)\":97.2334927934},\"RS\":{\"(\\'media\\',)\":651.1051428571,\"(\\'mediana\\',)\":650.0,\"(\\'moda\\',)\":850.0,\"(\\'desvio_padrao\\',)\":95.1365984138}}'"
            ]
          },
          "metadata": {
            "tags": []
          },
          "execution_count": 103
        }
      ]
    },
    {
      "cell_type": "code",
      "metadata": {
        "id": "B7Vp2OHu4ueS",
        "colab_type": "code",
        "colab": {
          "base_uri": "https://localhost:8080/",
          "height": 54
        },
        "outputId": "1de8fe0f-b53d-4052-811a-2de8d0075ca5"
      },
      "source": [
        "#usando o default\n",
        "df_final.to_json()"
      ],
      "execution_count": 104,
      "outputs": [
        {
          "output_type": "execute_result",
          "data": {
            "text/plain": [
              "'{\"PR\":{\"(\\'media\\',)\":648.9612940497,\"(\\'mediana\\',)\":650.0,\"(\\'moda\\',)\":850.0,\"(\\'desvio_padrao\\',)\":98.6071859131},\"SC\":{\"(\\'media\\',)\":649.5376527423,\"(\\'mediana\\',)\":653.0,\"(\\'moda\\',)\":850.0,\"(\\'desvio_padrao\\',)\":97.2334927934},\"RS\":{\"(\\'media\\',)\":651.1051428571,\"(\\'mediana\\',)\":650.0,\"(\\'moda\\',)\":850.0,\"(\\'desvio_padrao\\',)\":95.1365984138}}'"
            ]
          },
          "metadata": {
            "tags": []
          },
          "execution_count": 104
        }
      ]
    },
    {
      "cell_type": "markdown",
      "metadata": {
        "id": "R81-vXdkTopl",
        "colab_type": "text"
      },
      "source": [
        "##COMO O PASSAR O INDEX COMO ARRAY INTERFERE NA CRIAÇÃO DO JSON:\n",
        "\n",
        " # $['a', 'b', 'c']$"
      ]
    },
    {
      "cell_type": "code",
      "metadata": {
        "id": "oi3DlrQL6z5c",
        "colab_type": "code",
        "colab": {
          "base_uri": "https://localhost:8080/",
          "height": 173
        },
        "outputId": "b0ab0461-d7d5-48e7-e8ad-1e4a8f52f84c"
      },
      "source": [
        "#RECRIANDO O DF\n",
        "#fazendo um DF \"manualmente\"\n",
        "#aqui inclui o index como um array \"[]\"\n",
        "PR = [media_PR, mediana_PR, moda_PR[0], desvio_padrao_PR]\n",
        "SC = [media_SC, mediana_SC, moda_SC[0], desvio_padrao_SC]\n",
        "RS = [media_RS, mediana_RS, moda_RS[0], desvio_padrao_RS]\n",
        "\n",
        "df_corrigido = pd.DataFrame({ 'PR': PR, 'SC': SC, 'RS':RS}, index = ['media', 'mediana', 'moda', 'desvio_padrao']) #a diferença está nessa linha\n",
        "df_corrigido\n"
      ],
      "execution_count": 105,
      "outputs": [
        {
          "output_type": "execute_result",
          "data": {
            "text/html": [
              "<div>\n",
              "<style scoped>\n",
              "    .dataframe tbody tr th:only-of-type {\n",
              "        vertical-align: middle;\n",
              "    }\n",
              "\n",
              "    .dataframe tbody tr th {\n",
              "        vertical-align: top;\n",
              "    }\n",
              "\n",
              "    .dataframe thead th {\n",
              "        text-align: right;\n",
              "    }\n",
              "</style>\n",
              "<table border=\"1\" class=\"dataframe\">\n",
              "  <thead>\n",
              "    <tr style=\"text-align: right;\">\n",
              "      <th></th>\n",
              "      <th>PR</th>\n",
              "      <th>SC</th>\n",
              "      <th>RS</th>\n",
              "    </tr>\n",
              "  </thead>\n",
              "  <tbody>\n",
              "    <tr>\n",
              "      <th>media</th>\n",
              "      <td>648.961294</td>\n",
              "      <td>649.537653</td>\n",
              "      <td>651.105143</td>\n",
              "    </tr>\n",
              "    <tr>\n",
              "      <th>mediana</th>\n",
              "      <td>650.000000</td>\n",
              "      <td>653.000000</td>\n",
              "      <td>650.000000</td>\n",
              "    </tr>\n",
              "    <tr>\n",
              "      <th>moda</th>\n",
              "      <td>850.000000</td>\n",
              "      <td>850.000000</td>\n",
              "      <td>850.000000</td>\n",
              "    </tr>\n",
              "    <tr>\n",
              "      <th>desvio_padrao</th>\n",
              "      <td>98.607186</td>\n",
              "      <td>97.233493</td>\n",
              "      <td>95.136598</td>\n",
              "    </tr>\n",
              "  </tbody>\n",
              "</table>\n",
              "</div>"
            ],
            "text/plain": [
              "                       PR          SC          RS\n",
              "media          648.961294  649.537653  651.105143\n",
              "mediana        650.000000  653.000000  650.000000\n",
              "moda           850.000000  850.000000  850.000000\n",
              "desvio_padrao   98.607186   97.233493   95.136598"
            ]
          },
          "metadata": {
            "tags": []
          },
          "execution_count": 105
        }
      ]
    },
    {
      "cell_type": "markdown",
      "metadata": {
        "id": "Sevl3s0HUF82",
        "colab_type": "text"
      },
      "source": [
        "SAÍDA JSON \"CORRIGIDA\""
      ]
    },
    {
      "cell_type": "code",
      "metadata": {
        "id": "x98m1cpQTwTk",
        "colab_type": "code",
        "colab": {
          "base_uri": "https://localhost:8080/",
          "height": 54
        },
        "outputId": "bba04465-d069-4303-fbf4-6333b3893afd"
      },
      "source": [
        "#Como nos demais, usei o método to_json do Pandas\n",
        "df_corrigido.to_json()"
      ],
      "execution_count": 107,
      "outputs": [
        {
          "output_type": "execute_result",
          "data": {
            "text/plain": [
              "'{\"PR\":{\"media\":648.9612940497,\"mediana\":650.0,\"moda\":850.0,\"desvio_padrao\":98.6071859131},\"SC\":{\"media\":649.5376527423,\"mediana\":653.0,\"moda\":850.0,\"desvio_padrao\":97.2334927934},\"RS\":{\"media\":651.1051428571,\"mediana\":650.0,\"moda\":850.0,\"desvio_padrao\":95.1365984138}}'"
            ]
          },
          "metadata": {
            "tags": []
          },
          "execution_count": 107
        }
      ]
    }
  ]
}