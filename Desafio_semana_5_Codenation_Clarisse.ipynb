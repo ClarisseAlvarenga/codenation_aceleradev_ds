{
  "nbformat": 4,
  "nbformat_minor": 0,
  "metadata": {
    "kernelspec": {
      "display_name": "Python 3",
      "language": "python",
      "name": "python3"
    },
    "language_info": {
      "codemirror_mode": {
        "name": "ipython",
        "version": 3
      },
      "file_extension": ".py",
      "mimetype": "text/x-python",
      "name": "python",
      "nbconvert_exporter": "python",
      "pygments_lexer": "ipython3",
      "version": "3.7.3"
    },
    "colab": {
      "name": "Desafio_semana_5_Codenation_Clarisse.ipynb",
      "provenance": [],
      "toc_visible": true,
      "include_colab_link": true
    }
  },
  "cells": [
    {
      "cell_type": "markdown",
      "metadata": {
        "id": "view-in-github",
        "colab_type": "text"
      },
      "source": [
        "<a href=\"https://colab.research.google.com/github/ClarisseAlvarenga/codenation_aceleradev_ds/blob/master/Desafio_semana_5_Codenation_Clarisse.ipynb\" target=\"_parent\"><img src=\"https://colab.research.google.com/assets/colab-badge.svg\" alt=\"Open In Colab\"/></a>"
      ]
    },
    {
      "cell_type": "markdown",
      "metadata": {
        "id": "3YZB-OrbGxNK",
        "colab_type": "text"
      },
      "source": [
        "# Desafio 4\n",
        "\n",
        "Neste desafio, vamos praticar um pouco sobre testes de hipóteses. Utilizaremos o _data set_ [2016 Olympics in Rio de Janeiro](https://www.kaggle.com/rio2016/olympic-games/), que contém dados sobre os atletas das Olimpíadas de 2016 no Rio de Janeiro.\n",
        "\n",
        "Esse _data set_ conta com informações gerais sobre 11538 atletas como nome, nacionalidade, altura, peso e esporte praticado. Estaremos especialmente interessados nas variáveis numéricas altura (`height`) e peso (`weight`). As análises feitas aqui são parte de uma Análise Exploratória de Dados (EDA).\n",
        "\n",
        "> Obs.: Por favor, não modifique o nome das funções de resposta."
      ]
    },
    {
      "cell_type": "markdown",
      "metadata": {
        "id": "djYqBFFlGxNL",
        "colab_type": "text"
      },
      "source": [
        "## _Setup_ geral"
      ]
    },
    {
      "cell_type": "code",
      "metadata": {
        "id": "IDUL6AEgGxNM",
        "colab_type": "code",
        "colab": {}
      },
      "source": [
        "import pandas as pd\n",
        "import matplotlib.pyplot as plt\n",
        "import numpy as np\n",
        "import scipy.stats as sct\n",
        "import seaborn as sns"
      ],
      "execution_count": 135,
      "outputs": []
    },
    {
      "cell_type": "code",
      "metadata": {
        "id": "8AXid50YGxNP",
        "colab_type": "code",
        "colab": {}
      },
      "source": [
        "#%matplotlib inline\n",
        "\n",
        "#from IPython.core.pylabtools import figsize\n",
        "\n",
        "\n",
        "#figsize(12, 8)\n",
        "\n",
        "#sns.set()"
      ],
      "execution_count": 136,
      "outputs": []
    },
    {
      "cell_type": "code",
      "metadata": {
        "id": "_W6NzwKYGxNS",
        "colab_type": "code",
        "colab": {}
      },
      "source": [
        "athletes = pd.read_csv(\"athletes.csv\")"
      ],
      "execution_count": 137,
      "outputs": []
    },
    {
      "cell_type": "code",
      "metadata": {
        "id": "y2C3iCHOGxNV",
        "colab_type": "code",
        "colab": {}
      },
      "source": [
        "def get_sample(df, col_name, n=100, seed=42):\n",
        "    \"\"\"Get a sample from a column of a dataframe.\n",
        "    \n",
        "    It drops any numpy.nan entries before sampling. The sampling\n",
        "    is performed without replacement.\n",
        "    \n",
        "    Example of numpydoc for those who haven't seen yet.\n",
        "    \n",
        "    Parameters\n",
        "    ----------\n",
        "    df : pandas.DataFrame\n",
        "        Source dataframe.\n",
        "    col_name : str\n",
        "        Name of the column to be sampled.\n",
        "    n : int\n",
        "        Sample size. Default is 100.\n",
        "    seed : int\n",
        "        Random seed. Default is 42.\n",
        "    \n",
        "    Returns\n",
        "    -------\n",
        "    pandas.Series\n",
        "        Sample of size n from dataframe's column.\n",
        "    \"\"\"\n",
        "    np.random.seed(seed)\n",
        "    \n",
        "    random_idx = np.random.choice(df[col_name].dropna().index, size=n, replace=False)\n",
        "    \n",
        "    return df.loc[random_idx, col_name]"
      ],
      "execution_count": 138,
      "outputs": []
    },
    {
      "cell_type": "markdown",
      "metadata": {
        "id": "itkyBOGAGxNY",
        "colab_type": "text"
      },
      "source": [
        "## Inicia sua análise a partir daqui"
      ]
    },
    {
      "cell_type": "code",
      "metadata": {
        "id": "7e_t49X6GxNY",
        "colab_type": "code",
        "colab": {
          "base_uri": "https://localhost:8080/",
          "height": 204
        },
        "outputId": "5fecec59-7827-4410-db74-88b1fee57238"
      },
      "source": [
        "# Sua análise começa aqui.\n",
        "athletes.head()"
      ],
      "execution_count": 139,
      "outputs": [
        {
          "output_type": "execute_result",
          "data": {
            "text/html": [
              "<div>\n",
              "<style scoped>\n",
              "    .dataframe tbody tr th:only-of-type {\n",
              "        vertical-align: middle;\n",
              "    }\n",
              "\n",
              "    .dataframe tbody tr th {\n",
              "        vertical-align: top;\n",
              "    }\n",
              "\n",
              "    .dataframe thead th {\n",
              "        text-align: right;\n",
              "    }\n",
              "</style>\n",
              "<table border=\"1\" class=\"dataframe\">\n",
              "  <thead>\n",
              "    <tr style=\"text-align: right;\">\n",
              "      <th></th>\n",
              "      <th>id</th>\n",
              "      <th>name</th>\n",
              "      <th>nationality</th>\n",
              "      <th>sex</th>\n",
              "      <th>dob</th>\n",
              "      <th>height</th>\n",
              "      <th>weight</th>\n",
              "      <th>sport</th>\n",
              "      <th>gold</th>\n",
              "      <th>silver</th>\n",
              "      <th>bronze</th>\n",
              "    </tr>\n",
              "  </thead>\n",
              "  <tbody>\n",
              "    <tr>\n",
              "      <th>0</th>\n",
              "      <td>736041664</td>\n",
              "      <td>A Jesus Garcia</td>\n",
              "      <td>ESP</td>\n",
              "      <td>male</td>\n",
              "      <td>10/17/69</td>\n",
              "      <td>1.72</td>\n",
              "      <td>64.0</td>\n",
              "      <td>athletics</td>\n",
              "      <td>0</td>\n",
              "      <td>0</td>\n",
              "      <td>0</td>\n",
              "    </tr>\n",
              "    <tr>\n",
              "      <th>1</th>\n",
              "      <td>532037425</td>\n",
              "      <td>A Lam Shin</td>\n",
              "      <td>KOR</td>\n",
              "      <td>female</td>\n",
              "      <td>9/23/86</td>\n",
              "      <td>1.68</td>\n",
              "      <td>56.0</td>\n",
              "      <td>fencing</td>\n",
              "      <td>0</td>\n",
              "      <td>0</td>\n",
              "      <td>0</td>\n",
              "    </tr>\n",
              "    <tr>\n",
              "      <th>2</th>\n",
              "      <td>435962603</td>\n",
              "      <td>Aaron Brown</td>\n",
              "      <td>CAN</td>\n",
              "      <td>male</td>\n",
              "      <td>5/27/92</td>\n",
              "      <td>1.98</td>\n",
              "      <td>79.0</td>\n",
              "      <td>athletics</td>\n",
              "      <td>0</td>\n",
              "      <td>0</td>\n",
              "      <td>1</td>\n",
              "    </tr>\n",
              "    <tr>\n",
              "      <th>3</th>\n",
              "      <td>521041435</td>\n",
              "      <td>Aaron Cook</td>\n",
              "      <td>MDA</td>\n",
              "      <td>male</td>\n",
              "      <td>1/2/91</td>\n",
              "      <td>1.83</td>\n",
              "      <td>80.0</td>\n",
              "      <td>taekwondo</td>\n",
              "      <td>0</td>\n",
              "      <td>0</td>\n",
              "      <td>0</td>\n",
              "    </tr>\n",
              "    <tr>\n",
              "      <th>4</th>\n",
              "      <td>33922579</td>\n",
              "      <td>Aaron Gate</td>\n",
              "      <td>NZL</td>\n",
              "      <td>male</td>\n",
              "      <td>11/26/90</td>\n",
              "      <td>1.81</td>\n",
              "      <td>71.0</td>\n",
              "      <td>cycling</td>\n",
              "      <td>0</td>\n",
              "      <td>0</td>\n",
              "      <td>0</td>\n",
              "    </tr>\n",
              "  </tbody>\n",
              "</table>\n",
              "</div>"
            ],
            "text/plain": [
              "          id            name nationality  ... gold silver  bronze\n",
              "0  736041664  A Jesus Garcia         ESP  ...    0      0       0\n",
              "1  532037425      A Lam Shin         KOR  ...    0      0       0\n",
              "2  435962603     Aaron Brown         CAN  ...    0      0       1\n",
              "3  521041435      Aaron Cook         MDA  ...    0      0       0\n",
              "4   33922579      Aaron Gate         NZL  ...    0      0       0\n",
              "\n",
              "[5 rows x 11 columns]"
            ]
          },
          "metadata": {
            "tags": []
          },
          "execution_count": 139
        }
      ]
    },
    {
      "cell_type": "code",
      "metadata": {
        "id": "WdQTGNT_Hb8u",
        "colab_type": "code",
        "colab": {
          "base_uri": "https://localhost:8080/",
          "height": 34
        },
        "outputId": "363cc3b7-c8e4-4087-85c0-c366cab5fe8c"
      },
      "source": [
        "athletes.shape"
      ],
      "execution_count": 140,
      "outputs": [
        {
          "output_type": "execute_result",
          "data": {
            "text/plain": [
              "(11538, 11)"
            ]
          },
          "metadata": {
            "tags": []
          },
          "execution_count": 140
        }
      ]
    },
    {
      "cell_type": "code",
      "metadata": {
        "id": "T-eX4seuHcJ1",
        "colab_type": "code",
        "colab": {
          "base_uri": "https://localhost:8080/",
          "height": 297
        },
        "outputId": "05df382e-a031-4b95-cd5b-16f79ad1464a"
      },
      "source": [
        "athletes.describe()[['height', 'weight', 'gold', 'silver', 'bronze']]"
      ],
      "execution_count": 141,
      "outputs": [
        {
          "output_type": "execute_result",
          "data": {
            "text/html": [
              "<div>\n",
              "<style scoped>\n",
              "    .dataframe tbody tr th:only-of-type {\n",
              "        vertical-align: middle;\n",
              "    }\n",
              "\n",
              "    .dataframe tbody tr th {\n",
              "        vertical-align: top;\n",
              "    }\n",
              "\n",
              "    .dataframe thead th {\n",
              "        text-align: right;\n",
              "    }\n",
              "</style>\n",
              "<table border=\"1\" class=\"dataframe\">\n",
              "  <thead>\n",
              "    <tr style=\"text-align: right;\">\n",
              "      <th></th>\n",
              "      <th>height</th>\n",
              "      <th>weight</th>\n",
              "      <th>gold</th>\n",
              "      <th>silver</th>\n",
              "      <th>bronze</th>\n",
              "    </tr>\n",
              "  </thead>\n",
              "  <tbody>\n",
              "    <tr>\n",
              "      <th>count</th>\n",
              "      <td>11208.000000</td>\n",
              "      <td>10879.000000</td>\n",
              "      <td>11538.000000</td>\n",
              "      <td>11538.000000</td>\n",
              "      <td>11538.000000</td>\n",
              "    </tr>\n",
              "    <tr>\n",
              "      <th>mean</th>\n",
              "      <td>1.766282</td>\n",
              "      <td>72.068205</td>\n",
              "      <td>0.057722</td>\n",
              "      <td>0.056769</td>\n",
              "      <td>0.061016</td>\n",
              "    </tr>\n",
              "    <tr>\n",
              "      <th>std</th>\n",
              "      <td>0.112719</td>\n",
              "      <td>16.177334</td>\n",
              "      <td>0.255910</td>\n",
              "      <td>0.239147</td>\n",
              "      <td>0.243320</td>\n",
              "    </tr>\n",
              "    <tr>\n",
              "      <th>min</th>\n",
              "      <td>1.210000</td>\n",
              "      <td>31.000000</td>\n",
              "      <td>0.000000</td>\n",
              "      <td>0.000000</td>\n",
              "      <td>0.000000</td>\n",
              "    </tr>\n",
              "    <tr>\n",
              "      <th>25%</th>\n",
              "      <td>1.690000</td>\n",
              "      <td>60.000000</td>\n",
              "      <td>0.000000</td>\n",
              "      <td>0.000000</td>\n",
              "      <td>0.000000</td>\n",
              "    </tr>\n",
              "    <tr>\n",
              "      <th>50%</th>\n",
              "      <td>1.760000</td>\n",
              "      <td>70.000000</td>\n",
              "      <td>0.000000</td>\n",
              "      <td>0.000000</td>\n",
              "      <td>0.000000</td>\n",
              "    </tr>\n",
              "    <tr>\n",
              "      <th>75%</th>\n",
              "      <td>1.840000</td>\n",
              "      <td>81.000000</td>\n",
              "      <td>0.000000</td>\n",
              "      <td>0.000000</td>\n",
              "      <td>0.000000</td>\n",
              "    </tr>\n",
              "    <tr>\n",
              "      <th>max</th>\n",
              "      <td>2.210000</td>\n",
              "      <td>170.000000</td>\n",
              "      <td>5.000000</td>\n",
              "      <td>2.000000</td>\n",
              "      <td>2.000000</td>\n",
              "    </tr>\n",
              "  </tbody>\n",
              "</table>\n",
              "</div>"
            ],
            "text/plain": [
              "             height        weight          gold        silver        bronze\n",
              "count  11208.000000  10879.000000  11538.000000  11538.000000  11538.000000\n",
              "mean       1.766282     72.068205      0.057722      0.056769      0.061016\n",
              "std        0.112719     16.177334      0.255910      0.239147      0.243320\n",
              "min        1.210000     31.000000      0.000000      0.000000      0.000000\n",
              "25%        1.690000     60.000000      0.000000      0.000000      0.000000\n",
              "50%        1.760000     70.000000      0.000000      0.000000      0.000000\n",
              "75%        1.840000     81.000000      0.000000      0.000000      0.000000\n",
              "max        2.210000    170.000000      5.000000      2.000000      2.000000"
            ]
          },
          "metadata": {
            "tags": []
          },
          "execution_count": 141
        }
      ]
    },
    {
      "cell_type": "markdown",
      "metadata": {
        "id": "6bGxPBm_GxNb",
        "colab_type": "text"
      },
      "source": [
        "## Questão 1\n",
        "\n",
        "Considerando uma amostra de tamanho 3000 da coluna `height` obtida com a função `get_sample()`, execute o teste de normalidade de Shapiro-Wilk com a função `scipy.stats.shapiro()`. Podemos afirmar que as alturas são normalmente distribuídas com base nesse teste (ao nível de significância de 5%)? Responda com um boolean (`True` ou `False`)."
      ]
    },
    {
      "cell_type": "code",
      "metadata": {
        "id": "9QQ4AIqbItLD",
        "colab_type": "code",
        "colab": {}
      },
      "source": [
        "amostra_altura = get_sample(athletes, 'height', n=3000, seed=42)"
      ],
      "execution_count": 142,
      "outputs": []
    },
    {
      "cell_type": "code",
      "metadata": {
        "id": "pF3jGnJCItSt",
        "colab_type": "code",
        "colab": {
          "base_uri": "https://localhost:8080/",
          "height": 119
        },
        "outputId": "bbc5cc4e-fe2f-482e-9ba3-78ac03944766"
      },
      "source": [
        "amostra_altura.head()"
      ],
      "execution_count": 143,
      "outputs": [
        {
          "output_type": "execute_result",
          "data": {
            "text/plain": [
              "1811     1.79\n",
              "7962     1.81\n",
              "10280    1.83\n",
              "317      1.68\n",
              "6989     2.01\n",
              "Name: height, dtype: float64"
            ]
          },
          "metadata": {
            "tags": []
          },
          "execution_count": 143
        }
      ]
    },
    {
      "cell_type": "code",
      "metadata": {
        "id": "qRWnC8HJItbU",
        "colab_type": "code",
        "colab": {
          "base_uri": "https://localhost:8080/",
          "height": 51
        },
        "outputId": "1ab711c8-cc73-49f5-f9ac-81a6e2d8dceb"
      },
      "source": [
        "#aplicando o teste Shapiro na amostra \n",
        "estatistica, p_valor = sct.shapiro(amostra_altura)\n",
        "print(estatistica)\n",
        "print(p_valor)"
      ],
      "execution_count": 144,
      "outputs": [
        {
          "output_type": "stream",
          "text": [
            "0.9961519837379456\n",
            "5.681722541339695e-07\n"
          ],
          "name": "stdout"
        }
      ]
    },
    {
      "cell_type": "code",
      "metadata": {
        "id": "EUKSbsTwJ-AC",
        "colab_type": "code",
        "colab": {}
      },
      "source": [
        "#criando a significância\n",
        "significancia = 0.05"
      ],
      "execution_count": 145,
      "outputs": []
    },
    {
      "cell_type": "code",
      "metadata": {
        "id": "dzyxW9LPJvdz",
        "colab_type": "code",
        "colab": {
          "base_uri": "https://localhost:8080/",
          "height": 34
        },
        "outputId": "9039af5b-2613-402b-d2a4-71efb6f12d3c"
      },
      "source": [
        "#O teste retorna a hipótese nula de que os dados derivam de uma distribuição normal. Caso o p_valor seja menor que a significância, devemos rejeitar a hipótese nula\n",
        "\n",
        "p_valor <= significancia"
      ],
      "execution_count": 146,
      "outputs": [
        {
          "output_type": "execute_result",
          "data": {
            "text/plain": [
              "True"
            ]
          },
          "metadata": {
            "tags": []
          },
          "execution_count": 146
        }
      ]
    },
    {
      "cell_type": "code",
      "metadata": {
        "id": "_3BJ62PRGxNc",
        "colab_type": "code",
        "colab": {}
      },
      "source": [
        "#aqui usamos a fórmula para aceitar a hipótese nula, portanto usamos o contrário da fórmula de rejeição.\n",
        "def q1():\n",
        "  return bool(p_valor > significancia)"
      ],
      "execution_count": 198,
      "outputs": []
    },
    {
      "cell_type": "code",
      "metadata": {
        "id": "BjFv32nMb-bG",
        "colab_type": "code",
        "colab": {
          "base_uri": "https://localhost:8080/",
          "height": 34
        },
        "outputId": "f961caf7-bced-4ff3-9b03-75dbb3f1877c"
      },
      "source": [
        "q1()"
      ],
      "execution_count": 199,
      "outputs": [
        {
          "output_type": "execute_result",
          "data": {
            "text/plain": [
              "False"
            ]
          },
          "metadata": {
            "tags": []
          },
          "execution_count": 199
        }
      ]
    },
    {
      "cell_type": "markdown",
      "metadata": {
        "id": "qyb3RNn9GxNf",
        "colab_type": "text"
      },
      "source": [
        "__Para refletir__:\n",
        "\n",
        "* Plote o histograma dessa variável (com, por exemplo, `bins=25`). A forma do gráfico e o resultado do teste são condizentes? Por que?\n",
        "* Plote o qq-plot para essa variável e a analise.\n",
        "* Existe algum nível de significância razoável que nos dê outro resultado no teste? (Não faça isso na prática. Isso é chamado _p-value hacking_, e não é legal)."
      ]
    },
    {
      "cell_type": "code",
      "metadata": {
        "id": "8D28mibFLi63",
        "colab_type": "code",
        "colab": {
          "base_uri": "https://localhost:8080/",
          "height": 282
        },
        "outputId": "9a35e82c-1625-437b-e334-3c3889500200"
      },
      "source": [
        "#vendo o histograma, apesar há uma diferença entre as caudas, e não há uma média clara.\n",
        "amostra_altura.plot(kind='hist', bins=25)"
      ],
      "execution_count": 148,
      "outputs": [
        {
          "output_type": "execute_result",
          "data": {
            "text/plain": [
              "<matplotlib.axes._subplots.AxesSubplot at 0x7f6c88825080>"
            ]
          },
          "metadata": {
            "tags": []
          },
          "execution_count": 148
        },
        {
          "output_type": "display_data",
          "data": {
            "image/png": "[encoded data removed]",
            "text/plain": [
              "<Figure size 432x288 with 1 Axes>"
            ]
          },
          "metadata": {
            "tags": [],
            "needs_background": "light"
          }
        }
      ]
    },
    {
      "cell_type": "code",
      "metadata": {
        "id": "2pJgBbe7L9qc",
        "colab_type": "code",
        "colab": {
          "base_uri": "https://localhost:8080/",
          "height": 295
        },
        "outputId": "6bc0a24e-eabb-48b1-80b4-6645485e9a95"
      },
      "source": [
        "#Visualizando o QQPlot percebemos que apesar de se assemelhar a uma normal, ele não segue a linha da distribuição\n",
        "sct.probplot(amostra_altura,plot=plt)\n",
        "plt.show()"
      ],
      "execution_count": 149,
      "outputs": [
        {
          "output_type": "display_data",
          "data": {
            "image/png": "[encoded data removed]",
            "text/plain": [
              "<Figure size 432x288 with 1 Axes>"
            ]
          },
          "metadata": {
            "tags": [],
            "needs_background": "light"
          }
        }
      ]
    },
    {
      "cell_type": "code",
      "metadata": {
        "id": "itG9wl6eMqaX",
        "colab_type": "code",
        "colab": {
          "base_uri": "https://localhost:8080/",
          "height": 296
        },
        "outputId": "2b988a0d-5da4-47e1-8514-aa5f68e1ee07"
      },
      "source": [
        "#visualizando o BoxPlot\n",
        "sns.boxplot(amostra_altura)"
      ],
      "execution_count": 150,
      "outputs": [
        {
          "output_type": "execute_result",
          "data": {
            "text/plain": [
              "<matplotlib.axes._subplots.AxesSubplot at 0x7f6c87307828>"
            ]
          },
          "metadata": {
            "tags": []
          },
          "execution_count": 150
        },
        {
          "output_type": "display_data",
          "data": {
            "image/png": "[encoded data removed]",
            "text/plain": [
              "<Figure size 432x288 with 1 Axes>"
            ]
          },
          "metadata": {
            "tags": [],
            "needs_background": "light"
          }
        }
      ]
    },
    {
      "cell_type": "code",
      "metadata": {
        "id": "j0q85FPEM0ae",
        "colab_type": "code",
        "colab": {
          "base_uri": "https://localhost:8080/",
          "height": 34
        },
        "outputId": "5c77ab07-7a92-4215-b87f-8fbf610e16b1"
      },
      "source": [
        "#verificando Média, Mediana e Moda para confirmar para que lado pende a curva, que graficamente mostra uma leve assimetria à esquerda\n",
        "amostra_altura.mean()"
      ],
      "execution_count": 151,
      "outputs": [
        {
          "output_type": "execute_result",
          "data": {
            "text/plain": [
              "1.766779999999997"
            ]
          },
          "metadata": {
            "tags": []
          },
          "execution_count": 151
        }
      ]
    },
    {
      "cell_type": "code",
      "metadata": {
        "id": "Yzsb4XjZNY62",
        "colab_type": "code",
        "colab": {
          "base_uri": "https://localhost:8080/",
          "height": 34
        },
        "outputId": "2f971cc3-6c97-4f48-adcb-ee5254db80d0"
      },
      "source": [
        "amostra_altura.median()"
      ],
      "execution_count": 152,
      "outputs": [
        {
          "output_type": "execute_result",
          "data": {
            "text/plain": [
              "1.76"
            ]
          },
          "metadata": {
            "tags": []
          },
          "execution_count": 152
        }
      ]
    },
    {
      "cell_type": "code",
      "metadata": {
        "id": "pPepLlb5NbWl",
        "colab_type": "code",
        "colab": {
          "base_uri": "https://localhost:8080/",
          "height": 51
        },
        "outputId": "381ee678-23ca-4f01-c4e9-5ce6acaa7009"
      },
      "source": [
        "amostra_altura.mode()"
      ],
      "execution_count": 153,
      "outputs": [
        {
          "output_type": "execute_result",
          "data": {
            "text/plain": [
              "0    1.8\n",
              "dtype: float64"
            ]
          },
          "metadata": {
            "tags": []
          },
          "execution_count": 153
        }
      ]
    },
    {
      "cell_type": "markdown",
      "metadata": {
        "id": "nsmqYWOtGxNg",
        "colab_type": "text"
      },
      "source": [
        "## Questão 2\n",
        "\n",
        "Repita o mesmo procedimento acima, mas agora utilizando o teste de normalidade de Jarque-Bera através da função `scipy.stats.jarque_bera()`. Agora podemos afirmar que as alturas são normalmente distribuídas (ao nível de significância de 5%)? Responda com um boolean (`True` ou `False`)."
      ]
    },
    {
      "cell_type": "code",
      "metadata": {
        "id": "HLoqwa5aOxRl",
        "colab_type": "code",
        "colab": {
          "base_uri": "https://localhost:8080/",
          "height": 51
        },
        "outputId": "ae9ce285-8138-4098-fc78-5443ad3f1b0a"
      },
      "source": [
        "estatistica_JB, p_valor_JB = sct.jarque_bera(amostra_altura)\n",
        "print(estatistica_JB)\n",
        "print(p_valor_JB)"
      ],
      "execution_count": 154,
      "outputs": [
        {
          "output_type": "stream",
          "text": [
            "13.03363513594265\n",
            "0.001478366424594868\n"
          ],
          "name": "stdout"
        }
      ]
    },
    {
      "cell_type": "code",
      "metadata": {
        "id": "AB0_ReZsOxab",
        "colab_type": "code",
        "colab": {
          "base_uri": "https://localhost:8080/",
          "height": 34
        },
        "outputId": "b89792a9-7ed1-4240-f2d4-d113d6601c5d"
      },
      "source": [
        "#verificando a hipótese nula - The Jarque-Bera test tests whether the sample data has the skewness and kurtosis matching a normal distribution.\n",
        "#faz o teste considerando o Skew e a Kurtose (o terceiro e o quarto momentos), com o de uma distribuição normal\n",
        "#aqui usamos a fórmula para rejeitar a hipótese nula, portanto na questão vamos colocar o valor contrário\n",
        "p_valor_JB <= significancia"
      ],
      "execution_count": 155,
      "outputs": [
        {
          "output_type": "execute_result",
          "data": {
            "text/plain": [
              "True"
            ]
          },
          "metadata": {
            "tags": []
          },
          "execution_count": 155
        }
      ]
    },
    {
      "cell_type": "code",
      "metadata": {
        "id": "gC0QC5f7GxNg",
        "colab_type": "code",
        "colab": {}
      },
      "source": [
        "def q2():\n",
        "    # Retorne aqui o resultado da questão 2.\n",
        "    return bool(p_valor_JB > significancia)"
      ],
      "execution_count": 200,
      "outputs": []
    },
    {
      "cell_type": "code",
      "metadata": {
        "id": "bXjNdDRWcIOM",
        "colab_type": "code",
        "colab": {
          "base_uri": "https://localhost:8080/",
          "height": 34
        },
        "outputId": "3910450d-7c99-4c8e-a5aa-1de977a4837b"
      },
      "source": [
        "q2()"
      ],
      "execution_count": 201,
      "outputs": [
        {
          "output_type": "execute_result",
          "data": {
            "text/plain": [
              "False"
            ]
          },
          "metadata": {
            "tags": []
          },
          "execution_count": 201
        }
      ]
    },
    {
      "cell_type": "markdown",
      "metadata": {
        "id": "X_WpyrEHGxNj",
        "colab_type": "text"
      },
      "source": [
        "__Para refletir__:\n",
        "\n",
        "* Esse resultado faz sentido?"
      ]
    },
    {
      "cell_type": "markdown",
      "metadata": {
        "id": "dD8veY7GGxNj",
        "colab_type": "text"
      },
      "source": [
        "## Questão 3\n",
        "\n",
        "Considerando agora uma amostra de tamanho 3000 da coluna `weight` obtida com a função `get_sample()`. Faça o teste de normalidade de D'Agostino-Pearson utilizando a função `scipy.stats.normaltest()`. Podemos afirmar que os pesos vêm de uma distribuição normal ao nível de significância de 5%? Responda com um boolean (`True` ou `False`)."
      ]
    },
    {
      "cell_type": "code",
      "metadata": {
        "id": "2BdrHKXzOvf3",
        "colab_type": "code",
        "colab": {}
      },
      "source": [
        "#criando a amostra de peso\n",
        "amostra_peso = get_sample(athletes, 'weight', n=3000, seed=42)"
      ],
      "execution_count": 157,
      "outputs": []
    },
    {
      "cell_type": "code",
      "metadata": {
        "id": "_Rm9JOptQPEo",
        "colab_type": "code",
        "colab": {
          "base_uri": "https://localhost:8080/",
          "height": 296
        },
        "outputId": "aa5173ba-4aac-42d6-c169-85583db98db3"
      },
      "source": [
        "#visualizando graficamente\n",
        "sns.distplot(amostra_peso, bins=25)"
      ],
      "execution_count": 158,
      "outputs": [
        {
          "output_type": "execute_result",
          "data": {
            "text/plain": [
              "<matplotlib.axes._subplots.AxesSubplot at 0x7f6c872782e8>"
            ]
          },
          "metadata": {
            "tags": []
          },
          "execution_count": 158
        },
        {
          "output_type": "display_data",
          "data": {
            "image/png": "[encoded data removed]",
            "text/plain": [
              "<Figure size 432x288 with 1 Axes>"
            ]
          },
          "metadata": {
            "tags": [],
            "needs_background": "light"
          }
        }
      ]
    },
    {
      "cell_type": "code",
      "metadata": {
        "id": "bDOceSRbQPIc",
        "colab_type": "code",
        "colab": {
          "base_uri": "https://localhost:8080/",
          "height": 363
        },
        "outputId": "51dda46d-54e9-422c-ac96-4bd20200dfb1"
      },
      "source": [
        "sct.probplot(amostra_peso, plot=plt)"
      ],
      "execution_count": 159,
      "outputs": [
        {
          "output_type": "execute_result",
          "data": {
            "text/plain": [
              "((array([-3.50184707, -3.25811987, -3.12333914, ...,  3.12333914,\n",
              "          3.25811987,  3.50184707]),\n",
              "  array([ 37.,  39.,  39., ..., 159., 160., 160.])),\n",
              " (15.945260855959946, 72.12266666666666, 0.9733842945053901))"
            ]
          },
          "metadata": {
            "tags": []
          },
          "execution_count": 159
        },
        {
          "output_type": "display_data",
          "data": {
            "image/png": "[encoded data removed]",
            "text/plain": [
              "<Figure size 432x288 with 1 Axes>"
            ]
          },
          "metadata": {
            "tags": [],
            "needs_background": "light"
          }
        }
      ]
    },
    {
      "cell_type": "code",
      "metadata": {
        "id": "NiMnQSTBOv6U",
        "colab_type": "code",
        "colab": {
          "base_uri": "https://localhost:8080/",
          "height": 296
        },
        "outputId": "ff6e5546-ba8f-47ec-d5fc-d840b8a4075e"
      },
      "source": [
        "sns.boxplot(amostra_peso)"
      ],
      "execution_count": 160,
      "outputs": [
        {
          "output_type": "execute_result",
          "data": {
            "text/plain": [
              "<matplotlib.axes._subplots.AxesSubplot at 0x7f6c871e6f60>"
            ]
          },
          "metadata": {
            "tags": []
          },
          "execution_count": 160
        },
        {
          "output_type": "display_data",
          "data": {
            "image/png": "[encoded data removed]",
            "text/plain": [
              "<Figure size 432x288 with 1 Axes>"
            ]
          },
          "metadata": {
            "tags": [],
            "needs_background": "light"
          }
        }
      ]
    },
    {
      "cell_type": "code",
      "metadata": {
        "id": "Dswx0tHsQ3aT",
        "colab_type": "code",
        "colab": {
          "base_uri": "https://localhost:8080/",
          "height": 51
        },
        "outputId": "691344e6-d897-4a6c-a0f6-7400c8b5fc8c"
      },
      "source": [
        "#fazendo o teste de normalidade\n",
        "estatistica_pearson, p_valor_pearson = sct.normaltest(amostra_peso)\n",
        "print(estatistica_pearson)\n",
        "print(p_valor_pearson)"
      ],
      "execution_count": 161,
      "outputs": [
        {
          "output_type": "stream",
          "text": [
            "510.24655809881176\n",
            "1.5898922918029537e-111\n"
          ],
          "name": "stdout"
        }
      ]
    },
    {
      "cell_type": "code",
      "metadata": {
        "id": "so97ACrPRL7O",
        "colab_type": "code",
        "colab": {
          "base_uri": "https://localhost:8080/",
          "height": 34
        },
        "outputId": "bed6a8bc-b8c8-418a-dc55-ab6af51e9e65"
      },
      "source": [
        "#chamando a significancia\n",
        "significancia"
      ],
      "execution_count": 162,
      "outputs": [
        {
          "output_type": "execute_result",
          "data": {
            "text/plain": [
              "0.05"
            ]
          },
          "metadata": {
            "tags": []
          },
          "execution_count": 162
        }
      ]
    },
    {
      "cell_type": "code",
      "metadata": {
        "id": "ig6TYQ0JRW2v",
        "colab_type": "code",
        "colab": {
          "base_uri": "https://localhost:8080/",
          "height": 34
        },
        "outputId": "e32f3a88-a67e-45d6-c738-680c62231da1"
      },
      "source": [
        "#fazendo o teste da hipótese nula - This function tests the null hypothesis that a sample comes from a normal distribution\n",
        "#aqui usamos a fórmula para rejeitar a hipótese nula, portanto na questão vamos colocar o valor contrário\n",
        "p_valor_pearson <= significancia"
      ],
      "execution_count": 163,
      "outputs": [
        {
          "output_type": "execute_result",
          "data": {
            "text/plain": [
              "True"
            ]
          },
          "metadata": {
            "tags": []
          },
          "execution_count": 163
        }
      ]
    },
    {
      "cell_type": "code",
      "metadata": {
        "id": "AUXM95p2GxNk",
        "colab_type": "code",
        "colab": {}
      },
      "source": [
        "def q3():\n",
        "    # Retorne aqui o resultado da questão 3.\n",
        "    return bool(p_valor_pearson > significancia)"
      ],
      "execution_count": 202,
      "outputs": []
    },
    {
      "cell_type": "code",
      "metadata": {
        "id": "fzk3wprOcQu6",
        "colab_type": "code",
        "colab": {
          "base_uri": "https://localhost:8080/",
          "height": 34
        },
        "outputId": "d42f431e-e29c-47b9-a3cf-8659e505a18b"
      },
      "source": [
        "q3()"
      ],
      "execution_count": 203,
      "outputs": [
        {
          "output_type": "execute_result",
          "data": {
            "text/plain": [
              "False"
            ]
          },
          "metadata": {
            "tags": []
          },
          "execution_count": 203
        }
      ]
    },
    {
      "cell_type": "markdown",
      "metadata": {
        "id": "SAimOVX4GxNm",
        "colab_type": "text"
      },
      "source": [
        "__Para refletir__:\n",
        "\n",
        "* Plote o histograma dessa variável (com, por exemplo, `bins=25`). A forma do gráfico e o resultado do teste são condizentes? Por que?\n",
        "* Um _box plot_ também poderia ajudar a entender a resposta."
      ]
    },
    {
      "cell_type": "markdown",
      "metadata": {
        "id": "1UUJh-yOGxNn",
        "colab_type": "text"
      },
      "source": [
        "## Questão 4\n",
        "\n",
        "Realize uma transformação logarítmica em na amostra de `weight` da questão 3 e repita o mesmo procedimento. Podemos afirmar a normalidade da variável transformada ao nível de significância de 5%? Responda com um boolean (`True` ou `False`)."
      ]
    },
    {
      "cell_type": "code",
      "metadata": {
        "id": "yf2egZZOSygp",
        "colab_type": "code",
        "colab": {
          "base_uri": "https://localhost:8080/",
          "height": 221
        },
        "outputId": "49458228-a6a1-4255-f940-49a5b2fe5eaf"
      },
      "source": [
        "#transformando o array usando o numpy\n",
        "amostra_peso_log = np.log(amostra_peso)\n",
        "print(amostra_peso.head())\n",
        "print(amostra_peso_log.head())"
      ],
      "execution_count": 165,
      "outputs": [
        {
          "output_type": "stream",
          "text": [
            "2162    80.0\n",
            "3450    70.0\n",
            "6886    69.0\n",
            "3871    66.0\n",
            "6383    82.0\n",
            "Name: weight, dtype: float64\n",
            "2162    4.382027\n",
            "3450    4.248495\n",
            "6886    4.234107\n",
            "3871    4.189655\n",
            "6383    4.406719\n",
            "Name: weight, dtype: float64\n"
          ],
          "name": "stdout"
        }
      ]
    },
    {
      "cell_type": "code",
      "metadata": {
        "id": "Vq3yltVmTbLU",
        "colab_type": "code",
        "colab": {
          "base_uri": "https://localhost:8080/",
          "height": 296
        },
        "outputId": "9b042810-ce46-4a78-8a00-22ebc7e7da9a"
      },
      "source": [
        "#visualizando graficamente\n",
        "sns.distplot(amostra_peso_log, bins=25)"
      ],
      "execution_count": 166,
      "outputs": [
        {
          "output_type": "execute_result",
          "data": {
            "text/plain": [
              "<matplotlib.axes._subplots.AxesSubplot at 0x7f6c8884ab00>"
            ]
          },
          "metadata": {
            "tags": []
          },
          "execution_count": 166
        },
        {
          "output_type": "display_data",
          "data": {
            "image/png": "[encoded data removed]",
            "text/plain": [
              "<Figure size 432x288 with 1 Axes>"
            ]
          },
          "metadata": {
            "tags": [],
            "needs_background": "light"
          }
        }
      ]
    },
    {
      "cell_type": "code",
      "metadata": {
        "id": "YlbnuM2nTboO",
        "colab_type": "code",
        "colab": {
          "base_uri": "https://localhost:8080/",
          "height": 296
        },
        "outputId": "16f4e36f-8edb-4708-e4b8-585c839c32c5"
      },
      "source": [
        "sns.boxplot(amostra_peso_log)"
      ],
      "execution_count": 167,
      "outputs": [
        {
          "output_type": "execute_result",
          "data": {
            "text/plain": [
              "<matplotlib.axes._subplots.AxesSubplot at 0x7f6c88bc2908>"
            ]
          },
          "metadata": {
            "tags": []
          },
          "execution_count": 167
        },
        {
          "output_type": "display_data",
          "data": {
            "image/png": "[encoded data removed]",
            "text/plain": [
              "<Figure size 432x288 with 1 Axes>"
            ]
          },
          "metadata": {
            "tags": [],
            "needs_background": "light"
          }
        }
      ]
    },
    {
      "cell_type": "code",
      "metadata": {
        "id": "jZchjfDvUPqD",
        "colab_type": "code",
        "colab": {
          "base_uri": "https://localhost:8080/",
          "height": 295
        },
        "outputId": "94becde3-863b-4805-ff83-57469b3e61b5"
      },
      "source": [
        "sct.probplot(amostra_peso_log, plot=plt)\n",
        "plt.show()"
      ],
      "execution_count": 168,
      "outputs": [
        {
          "output_type": "display_data",
          "data": {
            "image/png": "[encoded data removed]",
            "text/plain": [
              "<Figure size 432x288 with 1 Axes>"
            ]
          },
          "metadata": {
            "tags": [],
            "needs_background": "light"
          }
        }
      ]
    },
    {
      "cell_type": "code",
      "metadata": {
        "id": "yvXO3aU4UXvX",
        "colab_type": "code",
        "colab": {
          "base_uri": "https://localhost:8080/",
          "height": 51
        },
        "outputId": "c7716222-9d9a-4fc3-af28-2b5fabcda8c7"
      },
      "source": [
        "#aplicando o teste de normalidade\n",
        "stats_pearson_log, p_valor_pearson_log = sct.normaltest(amostra_peso_log)\n",
        "print(stats_pearson_log)\n",
        "print(p_valor_pearson_log)"
      ],
      "execution_count": 169,
      "outputs": [
        {
          "output_type": "stream",
          "text": [
            "45.91534331977353\n",
            "1.0705572101256944e-10\n"
          ],
          "name": "stdout"
        }
      ]
    },
    {
      "cell_type": "code",
      "metadata": {
        "id": "uoP03mFUUX8M",
        "colab_type": "code",
        "colab": {
          "base_uri": "https://localhost:8080/",
          "height": 34
        },
        "outputId": "9992a469-8110-451d-b90f-9ff7beb549c8"
      },
      "source": [
        "#fazendo o teste da hipótese nula - This function tests the null hypothesis that a sample comes from a normal distribution\n",
        "#aqui usamos a fórmula para rejeitar a hipótese nula, portanto na questão vamos colocar o valor contrário\n",
        "p_valor_pearson_log <= significancia"
      ],
      "execution_count": 170,
      "outputs": [
        {
          "output_type": "execute_result",
          "data": {
            "text/plain": [
              "True"
            ]
          },
          "metadata": {
            "tags": []
          },
          "execution_count": 170
        }
      ]
    },
    {
      "cell_type": "code",
      "metadata": {
        "id": "pBwnbp8QGxNn",
        "colab_type": "code",
        "colab": {}
      },
      "source": [
        "def q4():\n",
        "    # Retorne aqui o resultado da questão 4.\n",
        "    return bool(p_valor_pearson_log > significancia)"
      ],
      "execution_count": 204,
      "outputs": []
    },
    {
      "cell_type": "code",
      "metadata": {
        "id": "tTAoUgIScWt2",
        "colab_type": "code",
        "colab": {
          "base_uri": "https://localhost:8080/",
          "height": 34
        },
        "outputId": "ab9c4315-85b1-4b81-8017-6d002402ddca"
      },
      "source": [
        "q4()"
      ],
      "execution_count": 205,
      "outputs": [
        {
          "output_type": "execute_result",
          "data": {
            "text/plain": [
              "False"
            ]
          },
          "metadata": {
            "tags": []
          },
          "execution_count": 205
        }
      ]
    },
    {
      "cell_type": "markdown",
      "metadata": {
        "id": "KzNgFhWsGxNq",
        "colab_type": "text"
      },
      "source": [
        "__Para refletir__:\n",
        "\n",
        "* Plote o histograma dessa variável (com, por exemplo, `bins=25`). A forma do gráfico e o resultado do teste são condizentes? Por que?\n",
        "* Você esperava um resultado diferente agora?"
      ]
    },
    {
      "cell_type": "markdown",
      "metadata": {
        "id": "Pz7BFD0pGxNr",
        "colab_type": "text"
      },
      "source": [
        "> __Para as questão 5 6 e 7 a seguir considere todos testes efetuados ao nível de significância de 5%__."
      ]
    },
    {
      "cell_type": "markdown",
      "metadata": {
        "id": "rrJUuTtdGxNs",
        "colab_type": "text"
      },
      "source": [
        "## Questão 5\n",
        "\n",
        "Obtenha todos atletas brasileiros, norte-americanos e canadenses em `DataFrame`s chamados `bra`, `usa` e `can`,respectivamente. Realize um teste de hipóteses para comparação das médias das alturas (`height`) para amostras independentes e variâncias diferentes com a função `scipy.stats.ttest_ind()` entre `bra` e `usa`. Podemos afirmar que as médias são estatisticamente iguais? Responda com um boolean (`True` ou `False`)."
      ]
    },
    {
      "cell_type": "code",
      "metadata": {
        "id": "DGf2Bg_7PEgt",
        "colab_type": "code",
        "colab": {
          "base_uri": "https://localhost:8080/",
          "height": 204
        },
        "outputId": "02e7cca7-0e6b-4cb2-ec4a-97498397e796"
      },
      "source": [
        "#criando os DFs\n",
        "bra, usa, can = athletes.query('nationality ==\"BRA\"'), athletes.query('nationality ==\"USA\"'), athletes.query('nationality ==\"CAN\"')\n",
        "bra.head()"
      ],
      "execution_count": 172,
      "outputs": [
        {
          "output_type": "execute_result",
          "data": {
            "text/html": [
              "<div>\n",
              "<style scoped>\n",
              "    .dataframe tbody tr th:only-of-type {\n",
              "        vertical-align: middle;\n",
              "    }\n",
              "\n",
              "    .dataframe tbody tr th {\n",
              "        vertical-align: top;\n",
              "    }\n",
              "\n",
              "    .dataframe thead th {\n",
              "        text-align: right;\n",
              "    }\n",
              "</style>\n",
              "<table border=\"1\" class=\"dataframe\">\n",
              "  <thead>\n",
              "    <tr style=\"text-align: right;\">\n",
              "      <th></th>\n",
              "      <th>id</th>\n",
              "      <th>name</th>\n",
              "      <th>nationality</th>\n",
              "      <th>sex</th>\n",
              "      <th>dob</th>\n",
              "      <th>height</th>\n",
              "      <th>weight</th>\n",
              "      <th>sport</th>\n",
              "      <th>gold</th>\n",
              "      <th>silver</th>\n",
              "      <th>bronze</th>\n",
              "    </tr>\n",
              "  </thead>\n",
              "  <tbody>\n",
              "    <tr>\n",
              "      <th>79</th>\n",
              "      <td>236523132</td>\n",
              "      <td>Adam Imer</td>\n",
              "      <td>BRA</td>\n",
              "      <td>male</td>\n",
              "      <td>8/18/89</td>\n",
              "      <td>1.82</td>\n",
              "      <td>88.0</td>\n",
              "      <td>hockey</td>\n",
              "      <td>0</td>\n",
              "      <td>0</td>\n",
              "      <td>0</td>\n",
              "    </tr>\n",
              "    <tr>\n",
              "      <th>106</th>\n",
              "      <td>993710181</td>\n",
              "      <td>Adenizia da Silva</td>\n",
              "      <td>BRA</td>\n",
              "      <td>female</td>\n",
              "      <td>12/18/86</td>\n",
              "      <td>1.87</td>\n",
              "      <td>65.0</td>\n",
              "      <td>volleyball</td>\n",
              "      <td>0</td>\n",
              "      <td>0</td>\n",
              "      <td>0</td>\n",
              "    </tr>\n",
              "    <tr>\n",
              "      <th>109</th>\n",
              "      <td>930618704</td>\n",
              "      <td>Adilson da Silva</td>\n",
              "      <td>BRA</td>\n",
              "      <td>male</td>\n",
              "      <td>1/24/72</td>\n",
              "      <td>1.70</td>\n",
              "      <td>79.0</td>\n",
              "      <td>golf</td>\n",
              "      <td>0</td>\n",
              "      <td>0</td>\n",
              "      <td>0</td>\n",
              "    </tr>\n",
              "    <tr>\n",
              "      <th>114</th>\n",
              "      <td>787208883</td>\n",
              "      <td>Adrian Baches</td>\n",
              "      <td>BRA</td>\n",
              "      <td>male</td>\n",
              "      <td>4/7/90</td>\n",
              "      <td>1.84</td>\n",
              "      <td>83.0</td>\n",
              "      <td>aquatics</td>\n",
              "      <td>0</td>\n",
              "      <td>0</td>\n",
              "      <td>0</td>\n",
              "    </tr>\n",
              "    <tr>\n",
              "      <th>128</th>\n",
              "      <td>80367651</td>\n",
              "      <td>Adriana Aparecida da Silva</td>\n",
              "      <td>BRA</td>\n",
              "      <td>female</td>\n",
              "      <td>7/22/81</td>\n",
              "      <td>1.66</td>\n",
              "      <td>52.0</td>\n",
              "      <td>athletics</td>\n",
              "      <td>0</td>\n",
              "      <td>0</td>\n",
              "      <td>0</td>\n",
              "    </tr>\n",
              "  </tbody>\n",
              "</table>\n",
              "</div>"
            ],
            "text/plain": [
              "            id                        name nationality  ... gold silver  bronze\n",
              "79   236523132                   Adam Imer         BRA  ...    0      0       0\n",
              "106  993710181           Adenizia da Silva         BRA  ...    0      0       0\n",
              "109  930618704            Adilson da Silva         BRA  ...    0      0       0\n",
              "114  787208883               Adrian Baches         BRA  ...    0      0       0\n",
              "128   80367651  Adriana Aparecida da Silva         BRA  ...    0      0       0\n",
              "\n",
              "[5 rows x 11 columns]"
            ]
          },
          "metadata": {
            "tags": []
          },
          "execution_count": 172
        }
      ]
    },
    {
      "cell_type": "code",
      "metadata": {
        "id": "Xmrdo3koPElP",
        "colab_type": "code",
        "colab": {
          "base_uri": "https://localhost:8080/",
          "height": 204
        },
        "outputId": "fb9c2266-05f2-473c-e99f-61a8431b4634"
      },
      "source": [
        "#visualizando usa\n",
        "usa.head()"
      ],
      "execution_count": 173,
      "outputs": [
        {
          "output_type": "execute_result",
          "data": {
            "text/html": [
              "<div>\n",
              "<style scoped>\n",
              "    .dataframe tbody tr th:only-of-type {\n",
              "        vertical-align: middle;\n",
              "    }\n",
              "\n",
              "    .dataframe tbody tr th {\n",
              "        vertical-align: top;\n",
              "    }\n",
              "\n",
              "    .dataframe thead th {\n",
              "        text-align: right;\n",
              "    }\n",
              "</style>\n",
              "<table border=\"1\" class=\"dataframe\">\n",
              "  <thead>\n",
              "    <tr style=\"text-align: right;\">\n",
              "      <th></th>\n",
              "      <th>id</th>\n",
              "      <th>name</th>\n",
              "      <th>nationality</th>\n",
              "      <th>sex</th>\n",
              "      <th>dob</th>\n",
              "      <th>height</th>\n",
              "      <th>weight</th>\n",
              "      <th>sport</th>\n",
              "      <th>gold</th>\n",
              "      <th>silver</th>\n",
              "      <th>bronze</th>\n",
              "    </tr>\n",
              "  </thead>\n",
              "  <tbody>\n",
              "    <tr>\n",
              "      <th>6</th>\n",
              "      <td>266237702</td>\n",
              "      <td>Aaron Russell</td>\n",
              "      <td>USA</td>\n",
              "      <td>male</td>\n",
              "      <td>6/4/93</td>\n",
              "      <td>2.05</td>\n",
              "      <td>98.0</td>\n",
              "      <td>volleyball</td>\n",
              "      <td>0</td>\n",
              "      <td>0</td>\n",
              "      <td>1</td>\n",
              "    </tr>\n",
              "    <tr>\n",
              "      <th>13</th>\n",
              "      <td>376068084</td>\n",
              "      <td>Abbey D'Agostino</td>\n",
              "      <td>USA</td>\n",
              "      <td>female</td>\n",
              "      <td>5/25/92</td>\n",
              "      <td>1.61</td>\n",
              "      <td>49.0</td>\n",
              "      <td>athletics</td>\n",
              "      <td>0</td>\n",
              "      <td>0</td>\n",
              "      <td>0</td>\n",
              "    </tr>\n",
              "    <tr>\n",
              "      <th>14</th>\n",
              "      <td>162792594</td>\n",
              "      <td>Abbey Weitzeil</td>\n",
              "      <td>USA</td>\n",
              "      <td>female</td>\n",
              "      <td>12/3/96</td>\n",
              "      <td>1.78</td>\n",
              "      <td>68.0</td>\n",
              "      <td>aquatics</td>\n",
              "      <td>1</td>\n",
              "      <td>1</td>\n",
              "      <td>0</td>\n",
              "    </tr>\n",
              "    <tr>\n",
              "      <th>64</th>\n",
              "      <td>884912136</td>\n",
              "      <td>Abigail Johnston</td>\n",
              "      <td>USA</td>\n",
              "      <td>female</td>\n",
              "      <td>11/16/89</td>\n",
              "      <td>1.66</td>\n",
              "      <td>61.0</td>\n",
              "      <td>aquatics</td>\n",
              "      <td>0</td>\n",
              "      <td>0</td>\n",
              "      <td>0</td>\n",
              "    </tr>\n",
              "    <tr>\n",
              "      <th>104</th>\n",
              "      <td>259002430</td>\n",
              "      <td>Adeline Maria Gray</td>\n",
              "      <td>USA</td>\n",
              "      <td>female</td>\n",
              "      <td>1/15/91</td>\n",
              "      <td>1.73</td>\n",
              "      <td>77.0</td>\n",
              "      <td>wrestling</td>\n",
              "      <td>0</td>\n",
              "      <td>0</td>\n",
              "      <td>0</td>\n",
              "    </tr>\n",
              "  </tbody>\n",
              "</table>\n",
              "</div>"
            ],
            "text/plain": [
              "            id                name nationality  ... gold silver  bronze\n",
              "6    266237702       Aaron Russell         USA  ...    0      0       1\n",
              "13   376068084    Abbey D'Agostino         USA  ...    0      0       0\n",
              "14   162792594      Abbey Weitzeil         USA  ...    1      1       0\n",
              "64   884912136    Abigail Johnston         USA  ...    0      0       0\n",
              "104  259002430  Adeline Maria Gray         USA  ...    0      0       0\n",
              "\n",
              "[5 rows x 11 columns]"
            ]
          },
          "metadata": {
            "tags": []
          },
          "execution_count": 173
        }
      ]
    },
    {
      "cell_type": "code",
      "metadata": {
        "id": "l_ERFFgnPEpf",
        "colab_type": "code",
        "colab": {
          "base_uri": "https://localhost:8080/",
          "height": 204
        },
        "outputId": "cb4e1def-45c1-4b39-ddec-84e6d95ee363"
      },
      "source": [
        "#visualizando Canadá\n",
        "can.head()"
      ],
      "execution_count": 174,
      "outputs": [
        {
          "output_type": "execute_result",
          "data": {
            "text/html": [
              "<div>\n",
              "<style scoped>\n",
              "    .dataframe tbody tr th:only-of-type {\n",
              "        vertical-align: middle;\n",
              "    }\n",
              "\n",
              "    .dataframe tbody tr th {\n",
              "        vertical-align: top;\n",
              "    }\n",
              "\n",
              "    .dataframe thead th {\n",
              "        text-align: right;\n",
              "    }\n",
              "</style>\n",
              "<table border=\"1\" class=\"dataframe\">\n",
              "  <thead>\n",
              "    <tr style=\"text-align: right;\">\n",
              "      <th></th>\n",
              "      <th>id</th>\n",
              "      <th>name</th>\n",
              "      <th>nationality</th>\n",
              "      <th>sex</th>\n",
              "      <th>dob</th>\n",
              "      <th>height</th>\n",
              "      <th>weight</th>\n",
              "      <th>sport</th>\n",
              "      <th>gold</th>\n",
              "      <th>silver</th>\n",
              "      <th>bronze</th>\n",
              "    </tr>\n",
              "  </thead>\n",
              "  <tbody>\n",
              "    <tr>\n",
              "      <th>2</th>\n",
              "      <td>435962603</td>\n",
              "      <td>Aaron Brown</td>\n",
              "      <td>CAN</td>\n",
              "      <td>male</td>\n",
              "      <td>5/27/92</td>\n",
              "      <td>1.98</td>\n",
              "      <td>79.0</td>\n",
              "      <td>athletics</td>\n",
              "      <td>0</td>\n",
              "      <td>0</td>\n",
              "      <td>1</td>\n",
              "    </tr>\n",
              "    <tr>\n",
              "      <th>77</th>\n",
              "      <td>136977152</td>\n",
              "      <td>Adam Froese</td>\n",
              "      <td>CAN</td>\n",
              "      <td>male</td>\n",
              "      <td>8/13/91</td>\n",
              "      <td>1.82</td>\n",
              "      <td>81.0</td>\n",
              "      <td>hockey</td>\n",
              "      <td>0</td>\n",
              "      <td>0</td>\n",
              "      <td>0</td>\n",
              "    </tr>\n",
              "    <tr>\n",
              "      <th>92</th>\n",
              "      <td>983411298</td>\n",
              "      <td>Adam van Koeverden</td>\n",
              "      <td>CAN</td>\n",
              "      <td>male</td>\n",
              "      <td>1/29/82</td>\n",
              "      <td>1.82</td>\n",
              "      <td>85.0</td>\n",
              "      <td>canoe</td>\n",
              "      <td>0</td>\n",
              "      <td>0</td>\n",
              "      <td>0</td>\n",
              "    </tr>\n",
              "    <tr>\n",
              "      <th>238</th>\n",
              "      <td>769580282</td>\n",
              "      <td>Akeem Haynes</td>\n",
              "      <td>CAN</td>\n",
              "      <td>male</td>\n",
              "      <td>3/11/92</td>\n",
              "      <td>1.68</td>\n",
              "      <td>71.0</td>\n",
              "      <td>athletics</td>\n",
              "      <td>0</td>\n",
              "      <td>0</td>\n",
              "      <td>1</td>\n",
              "    </tr>\n",
              "    <tr>\n",
              "      <th>332</th>\n",
              "      <td>84230211</td>\n",
              "      <td>Alena Sharp</td>\n",
              "      <td>CAN</td>\n",
              "      <td>female</td>\n",
              "      <td>3/7/81</td>\n",
              "      <td>1.68</td>\n",
              "      <td>69.0</td>\n",
              "      <td>golf</td>\n",
              "      <td>0</td>\n",
              "      <td>0</td>\n",
              "      <td>0</td>\n",
              "    </tr>\n",
              "  </tbody>\n",
              "</table>\n",
              "</div>"
            ],
            "text/plain": [
              "            id                name nationality  ... gold silver  bronze\n",
              "2    435962603         Aaron Brown         CAN  ...    0      0       1\n",
              "77   136977152         Adam Froese         CAN  ...    0      0       0\n",
              "92   983411298  Adam van Koeverden         CAN  ...    0      0       0\n",
              "238  769580282        Akeem Haynes         CAN  ...    0      0       1\n",
              "332   84230211         Alena Sharp         CAN  ...    0      0       0\n",
              "\n",
              "[5 rows x 11 columns]"
            ]
          },
          "metadata": {
            "tags": []
          },
          "execution_count": 174
        }
      ]
    },
    {
      "cell_type": "code",
      "metadata": {
        "id": "zH0RswLsPEtL",
        "colab_type": "code",
        "colab": {
          "base_uri": "https://localhost:8080/",
          "height": 68
        },
        "outputId": "c45b1853-1ac9-4bd7-eac1-c3c1b0b968d8"
      },
      "source": [
        "#verificando o tamanho das amostras\n",
        "print(f'A amostra de atletas brasileiros é: {bra.shape[0]}')\n",
        "print(f'A amostra de atletas estadunidenses é: {usa.shape[0]}')\n",
        "print(f'A amostra de atletas canadenses é: {can.shape[0]}')"
      ],
      "execution_count": 175,
      "outputs": [
        {
          "output_type": "stream",
          "text": [
            "A amostra de atletas brasileiros é: 485\n",
            "A amostra de atletas estadunidenses é: 567\n",
            "A amostra de atletas canadenses é: 321\n"
          ],
          "name": "stdout"
        }
      ]
    },
    {
      "cell_type": "code",
      "metadata": {
        "id": "JE9PCs20PExM",
        "colab_type": "code",
        "colab": {
          "base_uri": "https://localhost:8080/",
          "height": 34
        },
        "outputId": "24850b1c-00db-481c-90a0-ef8650538bc2"
      },
      "source": [
        "bra.height.mean()"
      ],
      "execution_count": 176,
      "outputs": [
        {
          "output_type": "execute_result",
          "data": {
            "text/plain": [
              "1.764033613445379"
            ]
          },
          "metadata": {
            "tags": []
          },
          "execution_count": 176
        }
      ]
    },
    {
      "cell_type": "code",
      "metadata": {
        "id": "qEAaawEUPE1A",
        "colab_type": "code",
        "colab": {
          "base_uri": "https://localhost:8080/",
          "height": 34
        },
        "outputId": "046971ff-4ad7-4070-959b-fec9ec940f3b"
      },
      "source": [
        "usa.height.mean()"
      ],
      "execution_count": 177,
      "outputs": [
        {
          "output_type": "execute_result",
          "data": {
            "text/plain": [
              "1.7877678571428557"
            ]
          },
          "metadata": {
            "tags": []
          },
          "execution_count": 177
        }
      ]
    },
    {
      "cell_type": "code",
      "metadata": {
        "id": "iP1DMhb7PE7E",
        "colab_type": "code",
        "colab": {
          "base_uri": "https://localhost:8080/",
          "height": 187
        },
        "outputId": "0ba1a3a7-5301-45e1-f7cc-b9e8f3e0ac14"
      },
      "source": [
        "amostra_bra = np.array(get_sample(bra, 'height'))\n",
        "amostra_bra"
      ],
      "execution_count": 178,
      "outputs": [
        {
          "output_type": "execute_result",
          "data": {
            "text/plain": [
              "array([1.86, 1.85, 1.83, 1.59, 1.88, 1.7 , 1.53, 1.7 , 1.67, 1.92, 1.8 ,\n",
              "       1.58, 2.09, 1.76, 1.59, 1.96, 1.63, 1.63, 1.85, 1.94, 1.83, 1.65,\n",
              "       1.8 , 1.56, 1.82, 1.67, 1.73, 1.91, 1.88, 1.83, 1.71, 1.76, 1.96,\n",
              "       1.81, 1.73, 1.7 , 1.74, 1.8 , 1.33, 1.66, 1.68, 1.54, 1.67, 1.93,\n",
              "       1.88, 1.75, 1.71, 2.08, 1.82, 1.77, 1.72, 1.93, 1.69, 1.94, 1.79,\n",
              "       1.69, 1.72, 1.65, 1.6 , 1.9 , 1.85, 1.8 , 1.81, 1.75, 1.56, 1.73,\n",
              "       1.82, 1.65, 1.73, 1.86, 1.63, 1.78, 1.85, 1.99, 1.61, 1.62, 1.62,\n",
              "       1.76, 1.81, 1.76, 1.74, 1.88, 1.63, 1.64, 1.73, 1.75, 1.68, 1.61,\n",
              "       1.58, 1.75, 1.85, 1.64, 1.83, 1.91, 1.68, 1.82, 1.7 , 1.58, 1.9 ,\n",
              "       1.6 ])"
            ]
          },
          "metadata": {
            "tags": []
          },
          "execution_count": 178
        }
      ]
    },
    {
      "cell_type": "code",
      "metadata": {
        "id": "TACOvM9FTbUb",
        "colab_type": "code",
        "colab": {
          "base_uri": "https://localhost:8080/",
          "height": 34
        },
        "outputId": "77f1871e-3128-4a5c-94d6-5305d8993b85"
      },
      "source": [
        "#conferindo a média\n",
        "amostra_bra.mean()"
      ],
      "execution_count": 179,
      "outputs": [
        {
          "output_type": "execute_result",
          "data": {
            "text/plain": [
              "1.7519000000000002"
            ]
          },
          "metadata": {
            "tags": []
          },
          "execution_count": 179
        }
      ]
    },
    {
      "cell_type": "code",
      "metadata": {
        "id": "q1Uv6qx-ThGj",
        "colab_type": "code",
        "colab": {
          "base_uri": "https://localhost:8080/",
          "height": 34
        },
        "outputId": "7388fd5d-ddd5-4aeb-bc7f-b4dcf5262c7d"
      },
      "source": [
        "#conferindo a variancia\n",
        "amostra_bra.var()"
      ],
      "execution_count": 180,
      "outputs": [
        {
          "output_type": "execute_result",
          "data": {
            "text/plain": [
              "0.01618339"
            ]
          },
          "metadata": {
            "tags": []
          },
          "execution_count": 180
        }
      ]
    },
    {
      "cell_type": "code",
      "metadata": {
        "id": "hDIQrVIMPE-w",
        "colab_type": "code",
        "colab": {
          "base_uri": "https://localhost:8080/",
          "height": 187
        },
        "outputId": "bdaaabba-330c-4bf5-fb2a-131dcce491ae"
      },
      "source": [
        "amostra_usa = np.array(get_sample(usa, 'height'))\n",
        "amostra_usa"
      ],
      "execution_count": 181,
      "outputs": [
        {
          "output_type": "execute_result",
          "data": {
            "text/plain": [
              "array([1.8 , 1.68, 1.63, 1.91, 1.81, 1.73, 1.88, 1.83, 1.76, 1.75, 1.83,\n",
              "       1.81, 1.73, 1.73, 1.7 , 1.86, 1.71, 1.82, 1.83, 1.83, 2.06, 1.96,\n",
              "       1.76, 1.45, 1.73, 1.68, 1.73, 1.73, 1.89, 1.86, 1.86, 1.73, 1.83,\n",
              "       1.73, 1.87, 2.01, 1.91, 1.73, 1.91, 1.76, 1.81, 1.88, 1.66, 1.73,\n",
              "       1.78, 1.73, 1.83, 1.81, 1.99, 1.91, 1.83, 1.78, 1.61, 1.73, 1.68,\n",
              "       1.78, 1.86, 1.71, 1.63, 1.96, 1.83, 1.73, 1.81, 1.93, 1.78, 1.73,\n",
              "       1.65, 2.03, 1.75, 1.81, 1.78, 1.83, 1.71, 1.78, 1.66, 1.76, 1.63,\n",
              "       1.68, 1.73, 1.91, 1.88, 1.81, 1.7 , 1.91, 1.55, 1.94, 1.88, 1.66,\n",
              "       1.94, 1.76, 1.83, 1.73, 1.78, 1.88, 1.83, 1.71, 1.73, 1.76, 1.94,\n",
              "       1.88])"
            ]
          },
          "metadata": {
            "tags": []
          },
          "execution_count": 181
        }
      ]
    },
    {
      "cell_type": "code",
      "metadata": {
        "id": "mrsZql-HTeg_",
        "colab_type": "code",
        "colab": {
          "base_uri": "https://localhost:8080/",
          "height": 34
        },
        "outputId": "fc13e945-00db-4d4e-bc12-a3acae381e08"
      },
      "source": [
        "#conferindo a média\n",
        "amostra_usa.mean()"
      ],
      "execution_count": 182,
      "outputs": [
        {
          "output_type": "execute_result",
          "data": {
            "text/plain": [
              "1.7913999999999999"
            ]
          },
          "metadata": {
            "tags": []
          },
          "execution_count": 182
        }
      ]
    },
    {
      "cell_type": "code",
      "metadata": {
        "id": "BAtAgL6XTj22",
        "colab_type": "code",
        "colab": {
          "base_uri": "https://localhost:8080/",
          "height": 34
        },
        "outputId": "656387a9-da06-4dd1-b5f7-daae0ad685c8"
      },
      "source": [
        "#conferindo a variância\n",
        "amostra_usa.var()"
      ],
      "execution_count": 183,
      "outputs": [
        {
          "output_type": "execute_result",
          "data": {
            "text/plain": [
              "0.010694039999999998"
            ]
          },
          "metadata": {
            "tags": []
          },
          "execution_count": 183
        }
      ]
    },
    {
      "cell_type": "code",
      "metadata": {
        "id": "8h313NGSPFCe",
        "colab_type": "code",
        "colab": {
          "base_uri": "https://localhost:8080/",
          "height": 51
        },
        "outputId": "fa62dac6-951e-48d9-c88e-faa90abcb4b4"
      },
      "source": [
        "#este teste testa a seguinte hipótese nula: This is a two-sided test for the null hypothesis that 2 independent samples have identical average (expected) values. \n",
        "#This test assumes that the populations have identical variances by default. - Como ele presume que a variância é idêntica, vamos passar o equal_var False para mudar o tipo de teste\n",
        "stats_bra_usa, p_valor_bra_usa = sct.ttest_ind(amostra_bra, amostra_usa, equal_var=False)\n",
        "print(stats_bra_usa)\n",
        "print(p_valor_bra_usa)"
      ],
      "execution_count": 184,
      "outputs": [
        {
          "output_type": "stream",
          "text": [
            "-2.397291376770201\n",
            "0.01748528165217272\n"
          ],
          "name": "stdout"
        }
      ]
    },
    {
      "cell_type": "code",
      "metadata": {
        "id": "9cpaNlKCPE4D",
        "colab_type": "code",
        "colab": {
          "base_uri": "https://localhost:8080/",
          "height": 34
        },
        "outputId": "fce4eb35-13a6-495f-99a3-03c784d78081"
      },
      "source": [
        "#conferindo o teste de rejeição da hipótese nula\n",
        "#como a pergunta pede para confirmar a hipótese nula, vamos usar o contrário na resposta\n",
        "p_valor_bra_usa <= significancia"
      ],
      "execution_count": 185,
      "outputs": [
        {
          "output_type": "execute_result",
          "data": {
            "text/plain": [
              "True"
            ]
          },
          "metadata": {
            "tags": []
          },
          "execution_count": 185
        }
      ]
    },
    {
      "cell_type": "code",
      "metadata": {
        "id": "_YEagkhDGxNs",
        "colab_type": "code",
        "colab": {}
      },
      "source": [
        "def q5():\n",
        "    # Retorne aqui o resultado da questão 5.\n",
        "    return bool(p_valor_bra_usa > significancia)"
      ],
      "execution_count": 206,
      "outputs": []
    },
    {
      "cell_type": "code",
      "metadata": {
        "id": "igbWh7Iacqc1",
        "colab_type": "code",
        "colab": {
          "base_uri": "https://localhost:8080/",
          "height": 34
        },
        "outputId": "8a5953d8-c97c-4038-d2f2-1f4a23dfdac3"
      },
      "source": [
        "q5()"
      ],
      "execution_count": 218,
      "outputs": [
        {
          "output_type": "execute_result",
          "data": {
            "text/plain": [
              "False"
            ]
          },
          "metadata": {
            "tags": []
          },
          "execution_count": 218
        }
      ]
    },
    {
      "cell_type": "markdown",
      "metadata": {
        "id": "vmeZVqm-GxNv",
        "colab_type": "text"
      },
      "source": [
        "## Questão 6\n",
        "\n",
        "Repita o procedimento da questão 5, mas agora entre as alturas de `bra` e `can`. Podemos afimar agora que as médias são estatisticamente iguais? Reponda com um boolean (`True` ou `False`)."
      ]
    },
    {
      "cell_type": "code",
      "metadata": {
        "id": "wafwLsNhTKRS",
        "colab_type": "code",
        "colab": {
          "base_uri": "https://localhost:8080/",
          "height": 187
        },
        "outputId": "4c913b9c-ec3a-4cd6-ed1c-26abe3c034bb"
      },
      "source": [
        "#vamos criar uma amostra para o Canadá. Para este teste vou aproveitar a amostra criada para o Brasil\n",
        "amostra_can = np.array(get_sample(can, 'height'))\n",
        "amostra_can\n"
      ],
      "execution_count": 207,
      "outputs": [
        {
          "output_type": "execute_result",
          "data": {
            "text/plain": [
              "array([1.66, 1.75, 1.74, 2.05, 1.55, 1.76, 1.67, 1.58, 1.74, 1.8 , 1.72,\n",
              "       1.96, 1.6 , 1.9 , 1.73, 1.71, 1.66, 1.6 , 1.8 , 1.8 , 1.7 , 1.85,\n",
              "       1.57, 1.94, 1.65, 1.8 , 1.93, 1.8 , 1.75, 1.83, 1.63, 1.65, 1.69,\n",
              "       1.72, 1.68, 1.65, 1.85, 1.96, 1.73, 1.72, 1.6 , 1.65, 1.71, 1.95,\n",
              "       1.63, 1.68, 1.65, 1.78, 1.72, 1.79, 1.82, 1.7 , 1.87, 1.65, 1.75,\n",
              "       1.55, 1.73, 1.88, 1.75, 1.78, 1.85, 1.9 , 2.03, 1.9 , 1.72, 1.95,\n",
              "       1.7 , 1.72, 1.72, 1.83, 1.74, 1.7 , 1.68, 1.72, 1.8 , 2.  , 1.8 ,\n",
              "       1.85, 1.65, 1.85, 1.75, 1.65, 1.62, 2.05, 1.69, 1.83, 1.6 , 1.9 ,\n",
              "       1.95, 1.88, 1.62, 1.73, 1.74, 1.57, 1.64, 1.64, 1.78, 1.55, 2.01,\n",
              "       1.67])"
            ]
          },
          "metadata": {
            "tags": []
          },
          "execution_count": 207
        }
      ]
    },
    {
      "cell_type": "code",
      "metadata": {
        "id": "8CKapkcJTKWu",
        "colab_type": "code",
        "colab": {
          "base_uri": "https://localhost:8080/",
          "height": 34
        },
        "outputId": "b3c114b4-eaea-4637-91c0-142630efed8d"
      },
      "source": [
        "#conferindo a média\n",
        "amostra_can.mean()"
      ],
      "execution_count": 208,
      "outputs": [
        {
          "output_type": "execute_result",
          "data": {
            "text/plain": [
              "1.755"
            ]
          },
          "metadata": {
            "tags": []
          },
          "execution_count": 208
        }
      ]
    },
    {
      "cell_type": "code",
      "metadata": {
        "id": "kvGicChVTKcv",
        "colab_type": "code",
        "colab": {
          "base_uri": "https://localhost:8080/",
          "height": 34
        },
        "outputId": "f38db7e1-4c85-48e1-8358-59fffd2cd447"
      },
      "source": [
        "#conferindo a variância\n",
        "amostra_can.var()"
      ],
      "execution_count": 209,
      "outputs": [
        {
          "output_type": "execute_result",
          "data": {
            "text/plain": [
              "0.014406999999999996"
            ]
          },
          "metadata": {
            "tags": []
          },
          "execution_count": 209
        }
      ]
    },
    {
      "cell_type": "code",
      "metadata": {
        "id": "2sfyQHjgUHeV",
        "colab_type": "code",
        "colab": {
          "base_uri": "https://localhost:8080/",
          "height": 51
        },
        "outputId": "a2705369-ef30-4629-945e-e6340e0f6594"
      },
      "source": [
        "#aplicando o teste\n",
        "#este teste testa a seguinte hipótese nula: This is a two-sided test for the null hypothesis that 2 independent samples have identical average (expected) values. \n",
        "#This test assumes that the populations have identical variances by default. - Como ele presume que a variância é idêntica, vamos passar o equal_var False para mudar o tipo de teste\n",
        "stats_bra_can, p_valor_bra_can = sct.ttest_ind(amostra_bra, amostra_can, equal_var=False)\n",
        "print(stats_bra_can)\n",
        "print(p_valor_bra_can)"
      ],
      "execution_count": 210,
      "outputs": [
        {
          "output_type": "stream",
          "text": [
            "-0.1763545967450964\n",
            "0.8601962262079699\n"
          ],
          "name": "stdout"
        }
      ]
    },
    {
      "cell_type": "code",
      "metadata": {
        "id": "_7kOJp9HUfng",
        "colab_type": "code",
        "colab": {
          "base_uri": "https://localhost:8080/",
          "height": 34
        },
        "outputId": "3ee2fffc-66d5-418e-e3cf-2e8b12998e00"
      },
      "source": [
        "#recuperando a significância:\n",
        "significancia"
      ],
      "execution_count": 211,
      "outputs": [
        {
          "output_type": "execute_result",
          "data": {
            "text/plain": [
              "0.05"
            ]
          },
          "metadata": {
            "tags": []
          },
          "execution_count": 211
        }
      ]
    },
    {
      "cell_type": "code",
      "metadata": {
        "id": "z1U0dhO8UUfs",
        "colab_type": "code",
        "colab": {
          "base_uri": "https://localhost:8080/",
          "height": 34
        },
        "outputId": "97577f62-1961-490f-ede2-28b855e49e77"
      },
      "source": [
        "#Como nas questões anteriores vamos colocar o teste de rejeição aqui e o teste contrário na resposta\n",
        "p_valor_bra_can <= significancia"
      ],
      "execution_count": 212,
      "outputs": [
        {
          "output_type": "execute_result",
          "data": {
            "text/plain": [
              "False"
            ]
          },
          "metadata": {
            "tags": []
          },
          "execution_count": 212
        }
      ]
    },
    {
      "cell_type": "code",
      "metadata": {
        "id": "9ehdUQ7DGxNw",
        "colab_type": "code",
        "colab": {}
      },
      "source": [
        "def q6():\n",
        "    # Retorne aqui o resultado da questão 6.\n",
        "    return bool(p_valor_bra_can > significancia)\n"
      ],
      "execution_count": 221,
      "outputs": []
    },
    {
      "cell_type": "code",
      "metadata": {
        "id": "s9r_b7hXcvO5",
        "colab_type": "code",
        "colab": {
          "base_uri": "https://localhost:8080/",
          "height": 34
        },
        "outputId": "acc5c53b-cbab-439f-d0fc-b6eb94c410fb"
      },
      "source": [
        "q6()"
      ],
      "execution_count": 222,
      "outputs": [
        {
          "output_type": "execute_result",
          "data": {
            "text/plain": [
              "True"
            ]
          },
          "metadata": {
            "tags": []
          },
          "execution_count": 222
        }
      ]
    },
    {
      "cell_type": "markdown",
      "metadata": {
        "id": "ZKbYI9-6GxNy",
        "colab_type": "text"
      },
      "source": [
        "## Questão 7\n",
        "\n",
        "Repita o procedimento da questão 6, mas agora entre as alturas de `usa` e `can`. Qual o valor do p-valor retornado? Responda como um único escalar arredondado para oito casas decimais."
      ]
    },
    {
      "cell_type": "code",
      "metadata": {
        "id": "vpHsSRrfUuhG",
        "colab_type": "code",
        "colab": {}
      },
      "source": [
        "_, p_valor_usa_can = sct.ttest_ind(usa.height, can.height, equal_var=False, nan_policy='omit')\n"
      ],
      "execution_count": 263,
      "outputs": []
    },
    {
      "cell_type": "code",
      "metadata": {
        "id": "89GFheAzU9tl",
        "colab_type": "code",
        "colab": {
          "base_uri": "https://localhost:8080/",
          "height": 34
        },
        "outputId": "330b8b81-e17a-4735-8551-43f9a01886d9"
      },
      "source": [
        "p_valor_usa_can.round(8)"
      ],
      "execution_count": 264,
      "outputs": [
        {
          "output_type": "execute_result",
          "data": {
            "text/plain": [
              "0.00046601"
            ]
          },
          "metadata": {
            "tags": []
          },
          "execution_count": 264
        }
      ]
    },
    {
      "cell_type": "code",
      "metadata": {
        "id": "JQcjIibEGxNz",
        "colab_type": "code",
        "colab": {}
      },
      "source": [
        "def q7():\n",
        "  # Retorne aqui o resultado da questão 7.\n",
        "    return float(p_valor_usa_can.round(8))\n"
      ],
      "execution_count": 266,
      "outputs": []
    },
    {
      "cell_type": "code",
      "metadata": {
        "id": "trnlCujfktbw",
        "colab_type": "code",
        "colab": {
          "base_uri": "https://localhost:8080/",
          "height": 34
        },
        "outputId": "a9cabfb5-dd4d-4e25-86d8-c0d282195c98"
      },
      "source": [
        "q7()"
      ],
      "execution_count": 267,
      "outputs": [
        {
          "output_type": "execute_result",
          "data": {
            "text/plain": [
              "0.00046601"
            ]
          },
          "metadata": {
            "tags": []
          },
          "execution_count": 267
        }
      ]
    },
    {
      "cell_type": "markdown",
      "metadata": {
        "id": "4quEOTOmGxN1",
        "colab_type": "text"
      },
      "source": [
        "__Para refletir__:\n",
        "\n",
        "* O resultado faz sentido?\n",
        "* Você consegue interpretar esse p-valor?\n",
        "* Você consegue chegar a esse valor de p-valor a partir da variável de estatística?"
      ]
    },
    {
      "cell_type": "code",
      "metadata": {
        "id": "7t3YEuROccpA",
        "colab_type": "code",
        "colab": {}
      },
      "source": [
        ""
      ],
      "execution_count": 216,
      "outputs": []
    }
  ]
}